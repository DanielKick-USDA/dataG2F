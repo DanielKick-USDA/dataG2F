{
 "cells": [
  {
   "cell_type": "code",
   "execution_count": null,
   "id": "702cb102",
   "metadata": {},
   "outputs": [],
   "source": [
    "# Note this notebook depends on a csv produced in R, gps_grid.csv"
   ]
  },
  {
   "cell_type": "code",
   "execution_count": null,
   "id": "25b3139b",
   "metadata": {},
   "outputs": [],
   "source": [
    "import os, json, requests # for downloading power data with `dl_power_data()`\n",
    "\n",
    "import pandas as pd\n",
    "\n",
    "import folium\n",
    "from folium.plugins import MarkerCluster\n",
    "\n",
    "from tqdm import tqdm\n",
    "import time # for sleep\n",
    "\n",
    "from dataG2F.qol import *"
   ]
  },
  {
   "cell_type": "code",
   "execution_count": null,
   "id": "6c1b2b3a",
   "metadata": {},
   "outputs": [],
   "source": [
    "cache_path = '../nbs_artifacts/06_gps_grid_nasa_power/'\n",
    "ensure_dir_path_exists(dir_path = cache_path)"
   ]
  },
  {
   "cell_type": "code",
   "execution_count": null,
   "id": "572f8c7a",
   "metadata": {},
   "outputs": [],
   "source": [
    "# TODO change gps_grid import to a location in data_ext; Do this after moving the R project into data_ext\n",
    "gps_grid = pd.read_csv('../data_ext/'+'gps_grid.csv').drop(columns = ['Unnamed: 0'])"
   ]
  },
  {
   "cell_type": "code",
   "execution_count": null,
   "id": "0dea9343",
   "metadata": {},
   "outputs": [],
   "source": [
    "if True == False:\n",
    "    #Create the map\n",
    "    my_map = folium.Map(location = [38.928745, -92.352163], # LatLon\n",
    "                        zoom_start = 4)\n",
    "\n",
    "    for i in gps_grid.index:\n",
    "        e = list(gps_grid.loc[i, [\n",
    "            'state', \n",
    "            'lat', \n",
    "            'lon']])\n",
    "\n",
    "        # check for nas\n",
    "        if 0 in [1 if ee == ee else 0 for ee in e]:\n",
    "            print(e[0]+' contains missing values!')\n",
    "        else:\n",
    "            folium.Marker((e[1], e[2]), \n",
    "                          popup = e[0], \n",
    "                         ).add_to(my_map)\n",
    "\n",
    "    my_map"
   ]
  },
  {
   "cell_type": "code",
   "execution_count": null,
   "id": "425180c3",
   "metadata": {},
   "outputs": [],
   "source": [
    "# Copied from 01.02_g2fc_imputation.ipynb\n",
    "def dl_power_data(\n",
    "    latitude = 32.929, \n",
    "    longitude = -95.770,\n",
    "    start_YYYYMMDD = 20150101,\n",
    "    end_YYYYMMDD = 20150305\n",
    "):\n",
    "    # Modified by \n",
    "    # https://power.larc.nasa.gov/docs/tutorials/service-data-request/api/\n",
    "    '''\n",
    "    *Version: 2.0 Published: 2021/03/09* Source: [NASA POWER](https://power.larc.nasa.gov/)\n",
    "    POWER API Multi-Point Download\n",
    "    This is an overview of the process to request data from multiple data points from the POWER API.\n",
    "    '''\n",
    "\n",
    "    base_url = r\"https://power.larc.nasa.gov/api/temporal/daily/point?parameters=QV2M,T2MDEW,PS,RH2M,WS2M,GWETTOP,ALLSKY_SFC_SW_DWN,ALLSKY_SFC_PAR_TOT,T2M_MAX,T2M_MIN,T2MWET,GWETROOT,T2M,GWETPROF,ALLSKY_SFC_SW_DNI,PRECTOTCORR&community=RE&longitude={longitude}&latitude={latitude}&start={start_YYYYMMDD}&end={end_YYYYMMDD}&format=JSON\"\n",
    "\n",
    "    api_request_url = base_url.format(\n",
    "        longitude=longitude, \n",
    "        latitude=latitude,\n",
    "        start_YYYYMMDD=start_YYYYMMDD, \n",
    "        end_YYYYMMDD=end_YYYYMMDD)\n",
    "\n",
    "    response = requests.get(url=api_request_url, verify=True, timeout=30.00)\n",
    "\n",
    "    content = json.loads(response.content.decode('utf-8'))\n",
    "\n",
    "    # Repackage content as data frame\n",
    "    df_list = [\n",
    "        pd.DataFrame(content['properties']['parameter'][e], index = [0]).melt(\n",
    "        ).rename(columns = {'variable':'Date', 'value':e})\n",
    "        for e in list(content['properties']['parameter'].keys())\n",
    "    ]\n",
    "\n",
    "    for i in range(len(df_list)):\n",
    "        if i == 0:\n",
    "            out = df_list[i]\n",
    "        else:\n",
    "            out = out.merge(df_list[i])\n",
    "\n",
    "    out['Latitude'] = latitude\n",
    "    out['Longitude'] = longitude\n",
    "    first_cols = ['Latitude', 'Longitude', 'Date']\n",
    "    out = out.loc[:, first_cols+[e for e in list(out) if e not in first_cols]]\n",
    "    return(out)"
   ]
  },
  {
   "cell_type": "code",
   "execution_count": null,
   "id": "23bbc3a1",
   "metadata": {},
   "outputs": [
    {
     "data": {
      "text/html": [
       "<div>\n",
       "<style scoped>\n",
       "    .dataframe tbody tr th:only-of-type {\n",
       "        vertical-align: middle;\n",
       "    }\n",
       "\n",
       "    .dataframe tbody tr th {\n",
       "        vertical-align: top;\n",
       "    }\n",
       "\n",
       "    .dataframe thead th {\n",
       "        text-align: right;\n",
       "    }\n",
       "</style>\n",
       "<table border=\"1\" class=\"dataframe\">\n",
       "  <thead>\n",
       "    <tr style=\"text-align: right;\">\n",
       "      <th></th>\n",
       "      <th>lon</th>\n",
       "      <th>lat</th>\n",
       "      <th>state</th>\n",
       "    </tr>\n",
       "  </thead>\n",
       "  <tbody>\n",
       "    <tr>\n",
       "      <th>0</th>\n",
       "      <td>-80.408115</td>\n",
       "      <td>25.418081</td>\n",
       "      <td>Florida</td>\n",
       "    </tr>\n",
       "    <tr>\n",
       "      <th>1</th>\n",
       "      <td>-80.905151</td>\n",
       "      <td>25.418081</td>\n",
       "      <td>Florida</td>\n",
       "    </tr>\n",
       "    <tr>\n",
       "      <th>2</th>\n",
       "      <td>-80.465913</td>\n",
       "      <td>25.869427</td>\n",
       "      <td>Florida</td>\n",
       "    </tr>\n",
       "    <tr>\n",
       "      <th>3</th>\n",
       "      <td>-80.964813</td>\n",
       "      <td>25.869427</td>\n",
       "      <td>Florida</td>\n",
       "    </tr>\n",
       "    <tr>\n",
       "      <th>4</th>\n",
       "      <td>-81.463714</td>\n",
       "      <td>25.869427</td>\n",
       "      <td>Florida</td>\n",
       "    </tr>\n",
       "    <tr>\n",
       "      <th>...</th>\n",
       "      <td>...</td>\n",
       "      <td>...</td>\n",
       "      <td>...</td>\n",
       "    </tr>\n",
       "    <tr>\n",
       "      <th>3117</th>\n",
       "      <td>-119.494095</td>\n",
       "      <td>48.844786</td>\n",
       "      <td>Washington</td>\n",
       "    </tr>\n",
       "    <tr>\n",
       "      <th>3118</th>\n",
       "      <td>-120.175271</td>\n",
       "      <td>48.844786</td>\n",
       "      <td>Washington</td>\n",
       "    </tr>\n",
       "    <tr>\n",
       "      <th>3119</th>\n",
       "      <td>-120.856447</td>\n",
       "      <td>48.844786</td>\n",
       "      <td>Washington</td>\n",
       "    </tr>\n",
       "    <tr>\n",
       "      <th>3120</th>\n",
       "      <td>-121.537623</td>\n",
       "      <td>48.844786</td>\n",
       "      <td>Washington</td>\n",
       "    </tr>\n",
       "    <tr>\n",
       "      <th>3121</th>\n",
       "      <td>-122.218800</td>\n",
       "      <td>48.844786</td>\n",
       "      <td>Washington</td>\n",
       "    </tr>\n",
       "  </tbody>\n",
       "</table>\n",
       "<p>3122 rows × 3 columns</p>\n",
       "</div>"
      ],
      "text/plain": [
       "             lon        lat       state\n",
       "0     -80.408115  25.418081     Florida\n",
       "1     -80.905151  25.418081     Florida\n",
       "2     -80.465913  25.869427     Florida\n",
       "3     -80.964813  25.869427     Florida\n",
       "4     -81.463714  25.869427     Florida\n",
       "...          ...        ...         ...\n",
       "3117 -119.494095  48.844786  Washington\n",
       "3118 -120.175271  48.844786  Washington\n",
       "3119 -120.856447  48.844786  Washington\n",
       "3120 -121.537623  48.844786  Washington\n",
       "3121 -122.218800  48.844786  Washington\n",
       "\n",
       "[3122 rows x 3 columns]"
      ]
     },
     "execution_count": null,
     "metadata": {},
     "output_type": "execute_result"
    }
   ],
   "source": [
    "gps_grid"
   ]
  },
  {
   "cell_type": "code",
   "execution_count": null,
   "id": "c0b31c00",
   "metadata": {},
   "outputs": [
    {
     "name": "stderr",
     "output_type": "stream",
     "text": [
      "100%|██████████| 3122/3122 [00:00<00:00, 5462.17it/s]\n"
     ]
    }
   ],
   "source": [
    "# Download data and cache it.\n",
    "sleep_for = 1\n",
    "\n",
    "ensure_dir_path_exists(dir_path = cache_path+'power_data/')\n",
    "cached_files = os.listdir(cache_path+'power_data/')\n",
    "for i in tqdm(gps_grid.index):\n",
    "    lon, lat = gps_grid.loc[i, ['lon', 'lat']]\n",
    "    start_date = 19810101\n",
    "    end_date = 20221231\n",
    "    save_name = str(lon)+'_'+str(lat)+'_'+str(start_date)+'_'+str(end_date)+'.pkl'\n",
    "    \n",
    "    if save_name in cached_files:\n",
    "        pass\n",
    "    else:\n",
    "        if i != 0:\n",
    "            time.sleep(sleep_for)   \n",
    "            \n",
    "        res = dl_power_data(\n",
    "            latitude = lat, \n",
    "            longitude = lon,\n",
    "            start_YYYYMMDD = start_date,\n",
    "            end_YYYYMMDD = end_date\n",
    "        )\n",
    "\n",
    "        put_cached_result(cache_path+'power_data/'+save_name, res)    "
   ]
  },
  {
   "cell_type": "code",
   "execution_count": null,
   "id": "320f0ea8",
   "metadata": {},
   "outputs": [
    {
     "data": {
      "text/plain": [
       "['-106.692895889282_43.8968753814697_19810101_20221231.pkl',\n",
       " '-70.6439685821533_44.3468856811523_19810101_20221231.pkl',\n",
       " '-111.489644050598_34.8897933959961_19810101_20221231.pkl',\n",
       " '-104.400300979614_40.2957248687744_19810101_20221231.pkl',\n",
       " '-80.8516311645508_37.5933933258057_19810101_20221231.pkl',\n",
       " '-77.9374122619629_40.2957248687744_19810101_20221231.pkl',\n",
       " '-109.246292114258_35.7911491394043_19810101_20221231.pkl',\n",
       " '-111.143846511841_37.1428489685059_19810101_20221231.pkl',\n",
       " '-121.814107894897_42.0966339111328_19810101_20221231.pkl',\n",
       " '-98.8756561279297_29.0279769897461_19810101_20221231.pkl']"
      ]
     },
     "execution_count": null,
     "metadata": {},
     "output_type": "execute_result"
    }
   ],
   "source": [
    "# load cached files and save into database\n",
    "cached_files = os.listdir(cache_path+'power_data/')\n",
    "cached_files[0:10]"
   ]
  },
  {
   "cell_type": "code",
   "execution_count": null,
   "id": "5fec05ee",
   "metadata": {},
   "outputs": [],
   "source": [
    "# res = get_cached_result(cache_path+'power_data/'+'-80.9051513671875_25.4180812835693_19810101_20221231.pkl')"
   ]
  },
  {
   "cell_type": "code",
   "execution_count": null,
   "id": "0296e1c2",
   "metadata": {},
   "outputs": [],
   "source": [
    "# import sqlite3"
   ]
  },
  {
   "cell_type": "code",
   "execution_count": null,
   "id": "55564916",
   "metadata": {},
   "outputs": [],
   "source": [
    "# with sqlite3.connect(cache_path+\"/power_gps_grid.sqlite\") as con:\n",
    "#     res.to_sql('data', con, if_exists='replace')"
   ]
  },
  {
   "cell_type": "code",
   "execution_count": null,
   "id": "b710d16f",
   "metadata": {},
   "outputs": [],
   "source": [
    "# with sqlite3.connect(cache_path+\"/g2f_comp.sqlite\") as con:\n",
    "#     phno.to_sql('phno', con, if_exists='replace')\n",
    "#     meta.to_sql('meta', con, if_exists='replace')\n",
    "#     soil.to_sql('soil', con, if_exists='replace')\n",
    "#     wthr.to_sql('wthr', con, if_exists='replace')\n",
    "#     cgmv.to_sql('cgmv', con, if_exists='replace')\n",
    "#     cmnt.to_sql('cmnt', con, if_exists='replace')"
   ]
  }
 ],
 "metadata": {
  "kernelspec": {
   "display_name": "python3",
   "language": "python",
   "name": "python3"
  }
 },
 "nbformat": 4,
 "nbformat_minor": 5
}
