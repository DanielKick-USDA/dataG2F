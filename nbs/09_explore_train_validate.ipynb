{
 "cells": [
  {
   "cell_type": "markdown",
   "id": "7aadccc0",
   "metadata": {},
   "source": [
    "# Explore train/test/validate schemes and the number of observations left with each\n",
    "\n",
    "> This notebook is now deprecated. 01.06 implements cv00 selection of test/train and validation sets."
   ]
  },
  {
   "cell_type": "code",
   "execution_count": null,
   "id": "61fd634e",
   "metadata": {},
   "outputs": [],
   "source": [
    "import os\n",
    "\n",
    "import numpy as np\n",
    "import pandas as pd\n",
    "\n",
    "import plotly.express as px\n",
    "import plotly.graph_objects as go\n",
    "\n",
    "from tqdm import tqdm\n",
    "\n",
    "from dataG2F.qol import ensure_dir_path_exists"
   ]
  },
  {
   "cell_type": "code",
   "execution_count": null,
   "id": "bb4600ed",
   "metadata": {},
   "outputs": [],
   "source": [
    "cache_path = '../nbs_artifacts/09_explore_train_validate_test_options/'\n",
    "ensure_dir_path_exists(dir_path = cache_path)"
   ]
  },
  {
   "cell_type": "markdown",
   "id": "d714db86",
   "metadata": {},
   "source": [
    "## Load phenotypic data to match"
   ]
  },
  {
   "cell_type": "code",
   "execution_count": null,
   "id": "88896122",
   "metadata": {},
   "outputs": [
    {
     "data": {
      "text/html": [
       "<div>\n",
       "<style scoped>\n",
       "    .dataframe tbody tr th:only-of-type {\n",
       "        vertical-align: middle;\n",
       "    }\n",
       "\n",
       "    .dataframe tbody tr th {\n",
       "        vertical-align: top;\n",
       "    }\n",
       "\n",
       "    .dataframe thead th {\n",
       "        text-align: right;\n",
       "    }\n",
       "</style>\n",
       "<table border=\"1\" class=\"dataframe\">\n",
       "  <thead>\n",
       "    <tr style=\"text-align: right;\">\n",
       "      <th></th>\n",
       "      <th>Env</th>\n",
       "      <th>Year</th>\n",
       "      <th>Hybrid</th>\n",
       "      <th>Replicate</th>\n",
       "      <th>Block</th>\n",
       "      <th>Plot</th>\n",
       "      <th>Phno_Idx</th>\n",
       "      <th>Env_Idx</th>\n",
       "      <th>Geno_Idx</th>\n",
       "      <th>Yield_Mg_ha</th>\n",
       "      <th>Stand_Count_plants</th>\n",
       "      <th>Pollen_DAP_days</th>\n",
       "      <th>Silk_DAP_days</th>\n",
       "      <th>Plant_Height_cm</th>\n",
       "      <th>Ear_Height_cm</th>\n",
       "      <th>Root_Lodging_plants</th>\n",
       "      <th>Stalk_Lodging_plants</th>\n",
       "      <th>Grain_Moisture</th>\n",
       "      <th>Twt_kg_m3</th>\n",
       "    </tr>\n",
       "  </thead>\n",
       "  <tbody>\n",
       "    <tr>\n",
       "      <th>0</th>\n",
       "      <td>DEH1_2014</td>\n",
       "      <td>2014</td>\n",
       "      <td>M0088/LH185</td>\n",
       "      <td>1.0</td>\n",
       "      <td>1.0</td>\n",
       "      <td>1.0</td>\n",
       "      <td>0</td>\n",
       "      <td>0</td>\n",
       "      <td>0</td>\n",
       "      <td>5.721725</td>\n",
       "      <td>56.0</td>\n",
       "      <td>63.0</td>\n",
       "      <td>67.0</td>\n",
       "      <td>213.0</td>\n",
       "      <td>79.0</td>\n",
       "      <td>0.0</td>\n",
       "      <td>0.0</td>\n",
       "      <td>20.8</td>\n",
       "      <td>706.664693</td>\n",
       "    </tr>\n",
       "    <tr>\n",
       "      <th>1</th>\n",
       "      <td>DEH1_2014</td>\n",
       "      <td>2014</td>\n",
       "      <td>M0143/LH185</td>\n",
       "      <td>1.0</td>\n",
       "      <td>1.0</td>\n",
       "      <td>2.0</td>\n",
       "      <td>1</td>\n",
       "      <td>0</td>\n",
       "      <td>1</td>\n",
       "      <td>11.338246</td>\n",
       "      <td>54.0</td>\n",
       "      <td>61.0</td>\n",
       "      <td>63.0</td>\n",
       "      <td>286.0</td>\n",
       "      <td>172.0</td>\n",
       "      <td>0.0</td>\n",
       "      <td>0.0</td>\n",
       "      <td>25.8</td>\n",
       "      <td>693.792841</td>\n",
       "    </tr>\n",
       "    <tr>\n",
       "      <th>2</th>\n",
       "      <td>DEH1_2014</td>\n",
       "      <td>2014</td>\n",
       "      <td>M0003/LH185</td>\n",
       "      <td>1.0</td>\n",
       "      <td>1.0</td>\n",
       "      <td>3.0</td>\n",
       "      <td>2</td>\n",
       "      <td>0</td>\n",
       "      <td>2</td>\n",
       "      <td>6.540810</td>\n",
       "      <td>60.0</td>\n",
       "      <td>63.0</td>\n",
       "      <td>65.0</td>\n",
       "      <td>239.0</td>\n",
       "      <td>92.0</td>\n",
       "      <td>0.0</td>\n",
       "      <td>4.0</td>\n",
       "      <td>20.8</td>\n",
       "      <td>698.941582</td>\n",
       "    </tr>\n",
       "    <tr>\n",
       "      <th>3</th>\n",
       "      <td>DEH1_2014</td>\n",
       "      <td>2014</td>\n",
       "      <td>M0035/LH185</td>\n",
       "      <td>1.0</td>\n",
       "      <td>1.0</td>\n",
       "      <td>4.0</td>\n",
       "      <td>3</td>\n",
       "      <td>0</td>\n",
       "      <td>3</td>\n",
       "      <td>10.366857</td>\n",
       "      <td>59.0</td>\n",
       "      <td>61.0</td>\n",
       "      <td>63.0</td>\n",
       "      <td>242.0</td>\n",
       "      <td>118.0</td>\n",
       "      <td>0.0</td>\n",
       "      <td>0.0</td>\n",
       "      <td>23.7</td>\n",
       "      <td>711.813434</td>\n",
       "    </tr>\n",
       "    <tr>\n",
       "      <th>4</th>\n",
       "      <td>DEH1_2014</td>\n",
       "      <td>2014</td>\n",
       "      <td>M0052/LH185</td>\n",
       "      <td>1.0</td>\n",
       "      <td>1.0</td>\n",
       "      <td>5.0</td>\n",
       "      <td>4</td>\n",
       "      <td>0</td>\n",
       "      <td>4</td>\n",
       "      <td>10.908814</td>\n",
       "      <td>58.0</td>\n",
       "      <td>63.0</td>\n",
       "      <td>65.0</td>\n",
       "      <td>211.0</td>\n",
       "      <td>92.0</td>\n",
       "      <td>0.0</td>\n",
       "      <td>0.0</td>\n",
       "      <td>19.4</td>\n",
       "      <td>743.993065</td>\n",
       "    </tr>\n",
       "    <tr>\n",
       "      <th>...</th>\n",
       "      <td>...</td>\n",
       "      <td>...</td>\n",
       "      <td>...</td>\n",
       "      <td>...</td>\n",
       "      <td>...</td>\n",
       "      <td>...</td>\n",
       "      <td>...</td>\n",
       "      <td>...</td>\n",
       "      <td>...</td>\n",
       "      <td>...</td>\n",
       "      <td>...</td>\n",
       "      <td>...</td>\n",
       "      <td>...</td>\n",
       "      <td>...</td>\n",
       "      <td>...</td>\n",
       "      <td>...</td>\n",
       "      <td>...</td>\n",
       "      <td>...</td>\n",
       "      <td>...</td>\n",
       "    </tr>\n",
       "    <tr>\n",
       "      <th>133052</th>\n",
       "      <td>WIH3_2022</td>\n",
       "      <td>2022</td>\n",
       "      <td>W10010_0337/LH244</td>\n",
       "      <td>-999.0</td>\n",
       "      <td>-999.0</td>\n",
       "      <td>-999.0</td>\n",
       "      <td>133052</td>\n",
       "      <td>235</td>\n",
       "      <td>4871</td>\n",
       "      <td>11.975018</td>\n",
       "      <td>NaN</td>\n",
       "      <td>NaN</td>\n",
       "      <td>NaN</td>\n",
       "      <td>NaN</td>\n",
       "      <td>NaN</td>\n",
       "      <td>NaN</td>\n",
       "      <td>NaN</td>\n",
       "      <td>NaN</td>\n",
       "      <td>NaN</td>\n",
       "    </tr>\n",
       "    <tr>\n",
       "      <th>133053</th>\n",
       "      <td>WIH3_2022</td>\n",
       "      <td>2022</td>\n",
       "      <td>W10010_0346/LH244</td>\n",
       "      <td>-999.0</td>\n",
       "      <td>-999.0</td>\n",
       "      <td>-999.0</td>\n",
       "      <td>133053</td>\n",
       "      <td>235</td>\n",
       "      <td>4872</td>\n",
       "      <td>12.971193</td>\n",
       "      <td>NaN</td>\n",
       "      <td>NaN</td>\n",
       "      <td>NaN</td>\n",
       "      <td>NaN</td>\n",
       "      <td>NaN</td>\n",
       "      <td>NaN</td>\n",
       "      <td>NaN</td>\n",
       "      <td>NaN</td>\n",
       "      <td>NaN</td>\n",
       "    </tr>\n",
       "    <tr>\n",
       "      <th>133054</th>\n",
       "      <td>WIH3_2022</td>\n",
       "      <td>2022</td>\n",
       "      <td>W10010_0358/LH244</td>\n",
       "      <td>-999.0</td>\n",
       "      <td>-999.0</td>\n",
       "      <td>-999.0</td>\n",
       "      <td>133054</td>\n",
       "      <td>235</td>\n",
       "      <td>4873</td>\n",
       "      <td>13.499769</td>\n",
       "      <td>NaN</td>\n",
       "      <td>NaN</td>\n",
       "      <td>NaN</td>\n",
       "      <td>NaN</td>\n",
       "      <td>NaN</td>\n",
       "      <td>NaN</td>\n",
       "      <td>NaN</td>\n",
       "      <td>NaN</td>\n",
       "      <td>NaN</td>\n",
       "    </tr>\n",
       "    <tr>\n",
       "      <th>133055</th>\n",
       "      <td>WIH3_2022</td>\n",
       "      <td>2022</td>\n",
       "      <td>W10010_0381/LH244</td>\n",
       "      <td>-999.0</td>\n",
       "      <td>-999.0</td>\n",
       "      <td>-999.0</td>\n",
       "      <td>133055</td>\n",
       "      <td>235</td>\n",
       "      <td>4875</td>\n",
       "      <td>10.831640</td>\n",
       "      <td>NaN</td>\n",
       "      <td>NaN</td>\n",
       "      <td>NaN</td>\n",
       "      <td>NaN</td>\n",
       "      <td>NaN</td>\n",
       "      <td>NaN</td>\n",
       "      <td>NaN</td>\n",
       "      <td>NaN</td>\n",
       "      <td>NaN</td>\n",
       "    </tr>\n",
       "    <tr>\n",
       "      <th>133056</th>\n",
       "      <td>WIH3_2022</td>\n",
       "      <td>2022</td>\n",
       "      <td>W10010_0452/LH244</td>\n",
       "      <td>-999.0</td>\n",
       "      <td>-999.0</td>\n",
       "      <td>-999.0</td>\n",
       "      <td>133056</td>\n",
       "      <td>235</td>\n",
       "      <td>4897</td>\n",
       "      <td>9.526524</td>\n",
       "      <td>NaN</td>\n",
       "      <td>NaN</td>\n",
       "      <td>NaN</td>\n",
       "      <td>NaN</td>\n",
       "      <td>NaN</td>\n",
       "      <td>NaN</td>\n",
       "      <td>NaN</td>\n",
       "      <td>NaN</td>\n",
       "      <td>NaN</td>\n",
       "    </tr>\n",
       "  </tbody>\n",
       "</table>\n",
       "<p>133057 rows × 19 columns</p>\n",
       "</div>"
      ],
      "text/plain": [
       "              Env  Year             Hybrid  Replicate  Block   Plot  Phno_Idx  \\\n",
       "0       DEH1_2014  2014        M0088/LH185        1.0    1.0    1.0         0   \n",
       "1       DEH1_2014  2014        M0143/LH185        1.0    1.0    2.0         1   \n",
       "2       DEH1_2014  2014        M0003/LH185        1.0    1.0    3.0         2   \n",
       "3       DEH1_2014  2014        M0035/LH185        1.0    1.0    4.0         3   \n",
       "4       DEH1_2014  2014        M0052/LH185        1.0    1.0    5.0         4   \n",
       "...           ...   ...                ...        ...    ...    ...       ...   \n",
       "133052  WIH3_2022  2022  W10010_0337/LH244     -999.0 -999.0 -999.0    133052   \n",
       "133053  WIH3_2022  2022  W10010_0346/LH244     -999.0 -999.0 -999.0    133053   \n",
       "133054  WIH3_2022  2022  W10010_0358/LH244     -999.0 -999.0 -999.0    133054   \n",
       "133055  WIH3_2022  2022  W10010_0381/LH244     -999.0 -999.0 -999.0    133055   \n",
       "133056  WIH3_2022  2022  W10010_0452/LH244     -999.0 -999.0 -999.0    133056   \n",
       "\n",
       "        Env_Idx  Geno_Idx  Yield_Mg_ha  Stand_Count_plants  Pollen_DAP_days  \\\n",
       "0             0         0     5.721725                56.0             63.0   \n",
       "1             0         1    11.338246                54.0             61.0   \n",
       "2             0         2     6.540810                60.0             63.0   \n",
       "3             0         3    10.366857                59.0             61.0   \n",
       "4             0         4    10.908814                58.0             63.0   \n",
       "...         ...       ...          ...                 ...              ...   \n",
       "133052      235      4871    11.975018                 NaN              NaN   \n",
       "133053      235      4872    12.971193                 NaN              NaN   \n",
       "133054      235      4873    13.499769                 NaN              NaN   \n",
       "133055      235      4875    10.831640                 NaN              NaN   \n",
       "133056      235      4897     9.526524                 NaN              NaN   \n",
       "\n",
       "        Silk_DAP_days  Plant_Height_cm  Ear_Height_cm  Root_Lodging_plants  \\\n",
       "0                67.0            213.0           79.0                  0.0   \n",
       "1                63.0            286.0          172.0                  0.0   \n",
       "2                65.0            239.0           92.0                  0.0   \n",
       "3                63.0            242.0          118.0                  0.0   \n",
       "4                65.0            211.0           92.0                  0.0   \n",
       "...               ...              ...            ...                  ...   \n",
       "133052            NaN              NaN            NaN                  NaN   \n",
       "133053            NaN              NaN            NaN                  NaN   \n",
       "133054            NaN              NaN            NaN                  NaN   \n",
       "133055            NaN              NaN            NaN                  NaN   \n",
       "133056            NaN              NaN            NaN                  NaN   \n",
       "\n",
       "        Stalk_Lodging_plants  Grain_Moisture   Twt_kg_m3  \n",
       "0                        0.0            20.8  706.664693  \n",
       "1                        0.0            25.8  693.792841  \n",
       "2                        4.0            20.8  698.941582  \n",
       "3                        0.0            23.7  711.813434  \n",
       "4                        0.0            19.4  743.993065  \n",
       "...                      ...             ...         ...  \n",
       "133052                   NaN             NaN         NaN  \n",
       "133053                   NaN             NaN         NaN  \n",
       "133054                   NaN             NaN         NaN  \n",
       "133055                   NaN             NaN         NaN  \n",
       "133056                   NaN             NaN         NaN  \n",
       "\n",
       "[133057 rows x 19 columns]"
      ]
     },
     "execution_count": null,
     "metadata": {},
     "output_type": "execute_result"
    }
   ],
   "source": [
    "load_from = '../nbs_artifacts/05_prep_matrices/'\n",
    "phno = pd.read_csv(load_from+'phno_geno.csv')\n",
    "phno"
   ]
  },
  {
   "cell_type": "markdown",
   "id": "e223250e",
   "metadata": {},
   "source": [
    "Possible testing schemes:\n",
    "    \n"
   ]
  },
  {
   "cell_type": "code",
   "execution_count": null,
   "id": "c4a46e3f",
   "metadata": {},
   "outputs": [
    {
     "data": {
      "text/html": [
       "<div>\n",
       "<style scoped>\n",
       "    .dataframe tbody tr th:only-of-type {\n",
       "        vertical-align: middle;\n",
       "    }\n",
       "\n",
       "    .dataframe tbody tr th {\n",
       "        vertical-align: top;\n",
       "    }\n",
       "\n",
       "    .dataframe thead th {\n",
       "        text-align: right;\n",
       "    }\n",
       "</style>\n",
       "<table border=\"1\" class=\"dataframe\">\n",
       "  <thead>\n",
       "    <tr style=\"text-align: right;\">\n",
       "      <th></th>\n",
       "      <th>Year</th>\n",
       "      <th>Geno_Idx</th>\n",
       "      <th>n</th>\n",
       "    </tr>\n",
       "  </thead>\n",
       "  <tbody>\n",
       "    <tr>\n",
       "      <th>0</th>\n",
       "      <td>2014</td>\n",
       "      <td>0</td>\n",
       "      <td>15</td>\n",
       "    </tr>\n",
       "    <tr>\n",
       "      <th>1</th>\n",
       "      <td>2014</td>\n",
       "      <td>1</td>\n",
       "      <td>17</td>\n",
       "    </tr>\n",
       "    <tr>\n",
       "      <th>2</th>\n",
       "      <td>2014</td>\n",
       "      <td>2</td>\n",
       "      <td>18</td>\n",
       "    </tr>\n",
       "    <tr>\n",
       "      <th>3</th>\n",
       "      <td>2014</td>\n",
       "      <td>3</td>\n",
       "      <td>16</td>\n",
       "    </tr>\n",
       "    <tr>\n",
       "      <th>4</th>\n",
       "      <td>2014</td>\n",
       "      <td>4</td>\n",
       "      <td>18</td>\n",
       "    </tr>\n",
       "    <tr>\n",
       "      <th>...</th>\n",
       "      <td>...</td>\n",
       "      <td>...</td>\n",
       "      <td>...</td>\n",
       "    </tr>\n",
       "    <tr>\n",
       "      <th>8111</th>\n",
       "      <td>2022</td>\n",
       "      <td>4921</td>\n",
       "      <td>3</td>\n",
       "    </tr>\n",
       "    <tr>\n",
       "      <th>8112</th>\n",
       "      <td>2022</td>\n",
       "      <td>4922</td>\n",
       "      <td>5</td>\n",
       "    </tr>\n",
       "    <tr>\n",
       "      <th>8113</th>\n",
       "      <td>2022</td>\n",
       "      <td>4923</td>\n",
       "      <td>2</td>\n",
       "    </tr>\n",
       "    <tr>\n",
       "      <th>8114</th>\n",
       "      <td>2022</td>\n",
       "      <td>4924</td>\n",
       "      <td>1</td>\n",
       "    </tr>\n",
       "    <tr>\n",
       "      <th>8115</th>\n",
       "      <td>2022</td>\n",
       "      <td>4925</td>\n",
       "      <td>1</td>\n",
       "    </tr>\n",
       "  </tbody>\n",
       "</table>\n",
       "<p>8116 rows × 3 columns</p>\n",
       "</div>"
      ],
      "text/plain": [
       "      Year  Geno_Idx   n\n",
       "0     2014         0  15\n",
       "1     2014         1  17\n",
       "2     2014         2  18\n",
       "3     2014         3  16\n",
       "4     2014         4  18\n",
       "...    ...       ...  ..\n",
       "8111  2022      4921   3\n",
       "8112  2022      4922   5\n",
       "8113  2022      4923   2\n",
       "8114  2022      4924   1\n",
       "8115  2022      4925   1\n",
       "\n",
       "[8116 rows x 3 columns]"
      ]
     },
     "execution_count": null,
     "metadata": {},
     "output_type": "execute_result"
    }
   ],
   "source": [
    "tally_df = phno.groupby(['Year', 'Geno_Idx']).count().reset_index().loc[:, ['Year', 'Geno_Idx', 'Hybrid']].rename(columns = {'Hybrid': 'n'})\n",
    "tally_df"
   ]
  },
  {
   "cell_type": "code",
   "execution_count": null,
   "id": "f73a7b44",
   "metadata": {},
   "outputs": [],
   "source": [
    "def sim_cv(\n",
    "    tally_df = tally_df,\n",
    "    draw_years = 1,\n",
    "    draw_genos = 1,\n",
    "    seed_val = 786342786,\n",
    "    cv_type = 'cv1'\n",
    "):\n",
    "    possible_geno = list(set(tally_df.Geno_Idx))\n",
    "    possible_years = list(set(tally_df.Year))\n",
    "\n",
    "    test_geno = []\n",
    "    test_years = []\n",
    "\n",
    "    np.random.seed(seed_val)\n",
    "    for i in range(draw_years):\n",
    "        test_years += [np.random.choice(possible_years)] \n",
    "        possible_years = [e for e in possible_years if e not in test_years]\n",
    "\n",
    "    for i in range(draw_genos):\n",
    "        test_geno += [np.random.choice(possible_geno)]  \n",
    "        possible_geno = [e for e in possible_geno if e not in test_geno]\n",
    "\n",
    "    mask_test_geno = (tally_df.Geno_Idx.isin(test_geno))\n",
    "    mask_test_year  = (tally_df.Year.isin(test_years))\n",
    "\n",
    "    mask_train_geno = (tally_df.Geno_Idx.isin(possible_geno))\n",
    "    mask_train_year  = (tally_df.Year.isin(possible_years))\n",
    "\n",
    "    out = {'draw_years': draw_years,\n",
    "           'draw_genos': draw_genos, \n",
    "           'seed_val': seed_val}\n",
    "\n",
    "    if cv_type == 'cv1':\n",
    "        # CV1 Lines don't overlap\n",
    "        out['cv1_test']  = np.sum(tally_df.loc[mask_test_geno, 'n'])\n",
    "        out['cv1_train'] = np.sum(tally_df.loc[mask_train_geno, 'n'])\n",
    "    if cv_type == 'cv0':\n",
    "        # CV0 years don't overlap\n",
    "        out['cv0_test']  = np.sum(tally_df.loc[mask_test_year, 'n'])\n",
    "        out['cv0_train'] = np.sum(tally_df.loc[mask_train_year, 'n'])\n",
    "    if cv_type == 'cv00':\n",
    "        # CV00 years and Lines don't overlap\n",
    "        out['cv00_test']  = np.sum(tally_df.loc[(mask_test_geno & mask_test_year), 'n'])\n",
    "        out['cv00_train'] = np.sum(tally_df.loc[(mask_train_geno & mask_train_year), 'n'])\n",
    "    return(out)"
   ]
  },
  {
   "cell_type": "code",
   "execution_count": null,
   "id": "174ce1c8",
   "metadata": {},
   "outputs": [
    {
     "data": {
      "text/html": [
       "<div>\n",
       "<style scoped>\n",
       "    .dataframe tbody tr th:only-of-type {\n",
       "        vertical-align: middle;\n",
       "    }\n",
       "\n",
       "    .dataframe tbody tr th {\n",
       "        vertical-align: top;\n",
       "    }\n",
       "\n",
       "    .dataframe thead th {\n",
       "        text-align: right;\n",
       "    }\n",
       "</style>\n",
       "<table border=\"1\" class=\"dataframe\">\n",
       "  <thead>\n",
       "    <tr style=\"text-align: right;\">\n",
       "      <th></th>\n",
       "      <th>n_year</th>\n",
       "      <th>n_geno</th>\n",
       "      <th>n_rep</th>\n",
       "    </tr>\n",
       "  </thead>\n",
       "  <tbody>\n",
       "    <tr>\n",
       "      <th>0</th>\n",
       "      <td>1</td>\n",
       "      <td>100</td>\n",
       "      <td>5091</td>\n",
       "    </tr>\n",
       "    <tr>\n",
       "      <th>1</th>\n",
       "      <td>1</td>\n",
       "      <td>400</td>\n",
       "      <td>66458</td>\n",
       "    </tr>\n",
       "    <tr>\n",
       "      <th>2</th>\n",
       "      <td>1</td>\n",
       "      <td>700</td>\n",
       "      <td>89302</td>\n",
       "    </tr>\n",
       "    <tr>\n",
       "      <th>3</th>\n",
       "      <td>1</td>\n",
       "      <td>1000</td>\n",
       "      <td>33713</td>\n",
       "    </tr>\n",
       "    <tr>\n",
       "      <th>4</th>\n",
       "      <td>2</td>\n",
       "      <td>100</td>\n",
       "      <td>9218</td>\n",
       "    </tr>\n",
       "    <tr>\n",
       "      <th>5</th>\n",
       "      <td>2</td>\n",
       "      <td>400</td>\n",
       "      <td>66698</td>\n",
       "    </tr>\n",
       "    <tr>\n",
       "      <th>6</th>\n",
       "      <td>2</td>\n",
       "      <td>700</td>\n",
       "      <td>30990</td>\n",
       "    </tr>\n",
       "    <tr>\n",
       "      <th>7</th>\n",
       "      <td>2</td>\n",
       "      <td>1000</td>\n",
       "      <td>880</td>\n",
       "    </tr>\n",
       "    <tr>\n",
       "      <th>8</th>\n",
       "      <td>3</td>\n",
       "      <td>100</td>\n",
       "      <td>16542</td>\n",
       "    </tr>\n",
       "    <tr>\n",
       "      <th>9</th>\n",
       "      <td>3</td>\n",
       "      <td>400</td>\n",
       "      <td>34724</td>\n",
       "    </tr>\n",
       "    <tr>\n",
       "      <th>10</th>\n",
       "      <td>3</td>\n",
       "      <td>700</td>\n",
       "      <td>61997</td>\n",
       "    </tr>\n",
       "    <tr>\n",
       "      <th>11</th>\n",
       "      <td>3</td>\n",
       "      <td>1000</td>\n",
       "      <td>43465</td>\n",
       "    </tr>\n",
       "    <tr>\n",
       "      <th>12</th>\n",
       "      <td>4</td>\n",
       "      <td>100</td>\n",
       "      <td>24633</td>\n",
       "    </tr>\n",
       "    <tr>\n",
       "      <th>13</th>\n",
       "      <td>4</td>\n",
       "      <td>400</td>\n",
       "      <td>35677</td>\n",
       "    </tr>\n",
       "    <tr>\n",
       "      <th>14</th>\n",
       "      <td>4</td>\n",
       "      <td>700</td>\n",
       "      <td>62345</td>\n",
       "    </tr>\n",
       "    <tr>\n",
       "      <th>15</th>\n",
       "      <td>4</td>\n",
       "      <td>1000</td>\n",
       "      <td>54853</td>\n",
       "    </tr>\n",
       "  </tbody>\n",
       "</table>\n",
       "</div>"
      ],
      "text/plain": [
       "    n_year  n_geno  n_rep\n",
       "0        1     100   5091\n",
       "1        1     400  66458\n",
       "2        1     700  89302\n",
       "3        1    1000  33713\n",
       "4        2     100   9218\n",
       "5        2     400  66698\n",
       "6        2     700  30990\n",
       "7        2    1000    880\n",
       "8        3     100  16542\n",
       "9        3     400  34724\n",
       "10       3     700  61997\n",
       "11       3    1000  43465\n",
       "12       4     100  24633\n",
       "13       4     400  35677\n",
       "14       4     700  62345\n",
       "15       4    1000  54853"
      ]
     },
     "execution_count": null,
     "metadata": {},
     "output_type": "execute_result"
    }
   ],
   "source": [
    "seed_val = 786342786\n",
    "np.random.seed(seed_val)\n",
    "\n",
    "# in lieu of expand.grid :\n",
    "settings_df = pd.DataFrame(\n",
    "    {'join_on':'c', \"n_year\":list(np.linspace(1, 4, 4).astype(int))\n",
    "    }).merge(pd.DataFrame(\n",
    "    {'join_on':'c', \"n_geno\":list(np.linspace(100, 1000, 4).astype(int))\n",
    "    })).drop(columns = ['join_on'])\n",
    "\n",
    "settings_df[\"n_rep\"] = [np.random.randint(0, 1e5) for i in range(settings_df.shape[0])]\n",
    "settings_df"
   ]
  },
  {
   "cell_type": "markdown",
   "id": "96544041",
   "metadata": {},
   "source": [
    "### CV1 (filter genotypes)"
   ]
  },
  {
   "cell_type": "code",
   "execution_count": null,
   "id": "33c78a03",
   "metadata": {},
   "outputs": [],
   "source": [
    "# temp_settings = settings_df.copy()\n",
    "# # filter down to the first unique entries for the selected columns\n",
    "# temp_idx = temp_settings.loc[:, ['n_geno']].drop_duplicates().index\n",
    "# temp_settings = temp_settings.loc[temp_idx, ]"
   ]
  },
  {
   "cell_type": "code",
   "execution_count": null,
   "id": "471bd9f1",
   "metadata": {},
   "outputs": [],
   "source": [
    "# df = []\n",
    "# for i in tqdm(temp_idx):\n",
    "#     df += [pd.DataFrame(\n",
    "#             sim_cv(\n",
    "#                 draw_years = temp_settings.loc[i, 'n_year'],\n",
    "#                 draw_genos = temp_settings.loc[i, 'n_geno'],\n",
    "#                 seed_val =   temp_settings.loc[i, 'n_rep'],\n",
    "#                 cv_type = 'cv1'\n",
    "#             ), index = [0]\n",
    "#         )]\n",
    "    \n",
    "# df = pd.concat(df)\n",
    "# df.head()"
   ]
  },
  {
   "cell_type": "code",
   "execution_count": null,
   "id": "32434c7a",
   "metadata": {},
   "outputs": [],
   "source": [
    "# df_summary = df.groupby(['draw_genos']).agg(\n",
    "#     cv1_test = ('cv1_test', np.mean),\n",
    "#     cv1_train = ('cv1_train', np.mean)).reset_index()\n",
    "# df_summary['pr_test'] = df_summary['cv1_test']/(df_summary['cv1_test']+df_summary['cv1_train'])\n",
    "# df_summary"
   ]
  },
  {
   "cell_type": "code",
   "execution_count": null,
   "id": "647b7b5a",
   "metadata": {},
   "outputs": [],
   "source": [
    "# fig = go.Figure()\n",
    "# fig.add_trace(go.Scatter(x = df['draw_genos'], y = df['cv1_train'], marker_color = 'blue', mode='markers'))\n",
    "# fig.add_trace(go.Scatter(x = df['draw_genos'], y = df['cv1_test'],  marker_color = 'red', mode='markers'))\n",
    "# fig.show()"
   ]
  },
  {
   "cell_type": "markdown",
   "id": "d1c7b352",
   "metadata": {},
   "source": [
    "### CV0 (filter years)"
   ]
  },
  {
   "cell_type": "code",
   "execution_count": null,
   "id": "e4cb07f3",
   "metadata": {},
   "outputs": [],
   "source": [
    "# temp_settings = settings_df.copy()\n",
    "# # filter down to the first unique entries for the selected columns\n",
    "# temp_idx = temp_settings.loc[:, ['n_year']].drop_duplicates().index\n",
    "# temp_settings = temp_settings.loc[temp_idx, ]"
   ]
  },
  {
   "cell_type": "code",
   "execution_count": null,
   "id": "4b9d4d52",
   "metadata": {},
   "outputs": [],
   "source": [
    "# df = []\n",
    "# for i in tqdm(temp_idx):\n",
    "#     df += [pd.DataFrame(\n",
    "#             sim_cv(\n",
    "#                 draw_years = temp_settings.loc[i, 'n_year'],\n",
    "#                 draw_genos = temp_settings.loc[i, 'n_geno'],\n",
    "#                 seed_val =   temp_settings.loc[i, 'n_rep'],\n",
    "#                 cv_type = 'cv0'\n",
    "#             ), index = [0]\n",
    "#         )]\n",
    "    \n",
    "# df = pd.concat(df)\n",
    "# df.head()"
   ]
  },
  {
   "cell_type": "code",
   "execution_count": null,
   "id": "9d6f662a",
   "metadata": {},
   "outputs": [],
   "source": [
    "# df_summary = df.groupby(['draw_years']).agg(\n",
    "#     cv0_test = ('cv0_test', np.mean),\n",
    "#     cv0_train = ('cv0_train', np.mean)).reset_index()\n",
    "# df_summary['pr_test'] = df_summary['cv0_test']/(df_summary['cv0_test']+df_summary['cv0_train'])\n",
    "# df_summary"
   ]
  },
  {
   "cell_type": "code",
   "execution_count": null,
   "id": "cb712c01",
   "metadata": {},
   "outputs": [],
   "source": [
    "# fig = go.Figure()\n",
    "# fig.add_trace(go.Scatter(x = df['draw_years'], y = df['cv0_train'], marker_color = 'blue', mode='markers'))\n",
    "# fig.add_trace(go.Scatter(x = df['draw_years'], y = df['cv0_test'],  marker_color = 'red', mode='markers'))\n",
    "# fig.show()"
   ]
  },
  {
   "cell_type": "markdown",
   "id": "5796e3e1",
   "metadata": {},
   "source": [
    "### CV00 (filter genotypes, years)"
   ]
  },
  {
   "cell_type": "code",
   "execution_count": null,
   "id": "17dd2ac1",
   "metadata": {},
   "outputs": [],
   "source": [
    "temp_settings = settings_df.copy()\n",
    "# filter down to the first unique entries for the selected columns\n",
    "temp_idx = temp_settings.loc[:, ['n_geno', 'n_year']].drop_duplicates().index\n",
    "temp_settings = temp_settings.loc[temp_idx, ]"
   ]
  },
  {
   "cell_type": "code",
   "execution_count": null,
   "id": "f19ca52e",
   "metadata": {},
   "outputs": [
    {
     "data": {
      "text/html": [
       "<div>\n",
       "<style scoped>\n",
       "    .dataframe tbody tr th:only-of-type {\n",
       "        vertical-align: middle;\n",
       "    }\n",
       "\n",
       "    .dataframe tbody tr th {\n",
       "        vertical-align: top;\n",
       "    }\n",
       "\n",
       "    .dataframe thead th {\n",
       "        text-align: right;\n",
       "    }\n",
       "</style>\n",
       "<table border=\"1\" class=\"dataframe\">\n",
       "  <thead>\n",
       "    <tr style=\"text-align: right;\">\n",
       "      <th></th>\n",
       "      <th>Unnamed: 0</th>\n",
       "      <th>draw_years</th>\n",
       "      <th>draw_genos</th>\n",
       "      <th>seed_val</th>\n",
       "      <th>cv00_test</th>\n",
       "      <th>cv00_train</th>\n",
       "    </tr>\n",
       "  </thead>\n",
       "  <tbody>\n",
       "    <tr>\n",
       "      <th>0</th>\n",
       "      <td>0</td>\n",
       "      <td>1</td>\n",
       "      <td>100</td>\n",
       "      <td>5091</td>\n",
       "      <td>334</td>\n",
       "      <td>111837</td>\n",
       "    </tr>\n",
       "    <tr>\n",
       "      <th>1</th>\n",
       "      <td>0</td>\n",
       "      <td>1</td>\n",
       "      <td>400</td>\n",
       "      <td>66458</td>\n",
       "      <td>1156</td>\n",
       "      <td>111533</td>\n",
       "    </tr>\n",
       "    <tr>\n",
       "      <th>2</th>\n",
       "      <td>0</td>\n",
       "      <td>1</td>\n",
       "      <td>700</td>\n",
       "      <td>89302</td>\n",
       "      <td>1870</td>\n",
       "      <td>102682</td>\n",
       "    </tr>\n",
       "    <tr>\n",
       "      <th>3</th>\n",
       "      <td>0</td>\n",
       "      <td>1</td>\n",
       "      <td>1000</td>\n",
       "      <td>33713</td>\n",
       "      <td>4178</td>\n",
       "      <td>89137</td>\n",
       "    </tr>\n",
       "    <tr>\n",
       "      <th>4</th>\n",
       "      <td>0</td>\n",
       "      <td>2</td>\n",
       "      <td>100</td>\n",
       "      <td>9218</td>\n",
       "      <td>600</td>\n",
       "      <td>106063</td>\n",
       "    </tr>\n",
       "  </tbody>\n",
       "</table>\n",
       "</div>"
      ],
      "text/plain": [
       "   Unnamed: 0  draw_years  draw_genos  seed_val  cv00_test  cv00_train\n",
       "0           0           1         100      5091        334      111837\n",
       "1           0           1         400     66458       1156      111533\n",
       "2           0           1         700     89302       1870      102682\n",
       "3           0           1        1000     33713       4178       89137\n",
       "4           0           2         100      9218        600      106063"
      ]
     },
     "execution_count": null,
     "metadata": {},
     "output_type": "execute_result"
    }
   ],
   "source": [
    "if 'sim_res.csv' in os.listdir(cache_path):\n",
    "    df = pd.read_csv(cache_path+'sim_res.csv')\n",
    "else:\n",
    "    df = []\n",
    "    for i in tqdm(temp_idx):\n",
    "        df += [pd.DataFrame(\n",
    "                sim_cv(\n",
    "                    draw_years = temp_settings.loc[i, 'n_year'],\n",
    "                    draw_genos = temp_settings.loc[i, 'n_geno'],\n",
    "                    seed_val =   temp_settings.loc[i, 'n_rep'],\n",
    "                    cv_type = 'cv00'\n",
    "                ), index = [0]\n",
    "            )]\n",
    "    df = pd.concat(df)\n",
    "    df.to_csv(cache_path+'sim_res.csv')\n",
    "\n",
    "df.head()"
   ]
  },
  {
   "cell_type": "code",
   "execution_count": null,
   "id": "d2e04934",
   "metadata": {},
   "outputs": [
    {
     "name": "stderr",
     "output_type": "stream",
     "text": [
      "/tmp/ipykernel_400965/2987161400.py:1: FutureWarning:\n",
      "\n",
      "The provided callable <function mean> is currently using SeriesGroupBy.mean. In a future version of pandas, the provided callable will be used directly. To keep current behavior pass the string \"mean\" instead.\n",
      "\n"
     ]
    },
    {
     "data": {
      "text/html": [
       "<div>\n",
       "<style scoped>\n",
       "    .dataframe tbody tr th:only-of-type {\n",
       "        vertical-align: middle;\n",
       "    }\n",
       "\n",
       "    .dataframe tbody tr th {\n",
       "        vertical-align: top;\n",
       "    }\n",
       "\n",
       "    .dataframe thead th {\n",
       "        text-align: right;\n",
       "    }\n",
       "</style>\n",
       "<table border=\"1\" class=\"dataframe\">\n",
       "  <thead>\n",
       "    <tr style=\"text-align: right;\">\n",
       "      <th></th>\n",
       "      <th>draw_years</th>\n",
       "      <th>draw_genos</th>\n",
       "      <th>cv00_test</th>\n",
       "      <th>cv00_train</th>\n",
       "      <th>pr_test</th>\n",
       "    </tr>\n",
       "  </thead>\n",
       "  <tbody>\n",
       "    <tr>\n",
       "      <th>11</th>\n",
       "      <td>3</td>\n",
       "      <td>1000</td>\n",
       "      <td>8204.0</td>\n",
       "      <td>72910.0</td>\n",
       "      <td>0.101142</td>\n",
       "    </tr>\n",
       "    <tr>\n",
       "      <th>13</th>\n",
       "      <td>4</td>\n",
       "      <td>400</td>\n",
       "      <td>5721.0</td>\n",
       "      <td>58565.0</td>\n",
       "      <td>0.088993</td>\n",
       "    </tr>\n",
       "    <tr>\n",
       "      <th>14</th>\n",
       "      <td>4</td>\n",
       "      <td>700</td>\n",
       "      <td>8676.0</td>\n",
       "      <td>63867.0</td>\n",
       "      <td>0.119598</td>\n",
       "    </tr>\n",
       "  </tbody>\n",
       "</table>\n",
       "</div>"
      ],
      "text/plain": [
       "    draw_years  draw_genos  cv00_test  cv00_train   pr_test\n",
       "11           3        1000     8204.0     72910.0  0.101142\n",
       "13           4         400     5721.0     58565.0  0.088993\n",
       "14           4         700     8676.0     63867.0  0.119598"
      ]
     },
     "execution_count": null,
     "metadata": {},
     "output_type": "execute_result"
    }
   ],
   "source": [
    "df_summary = df.groupby(['draw_years', 'draw_genos']).agg(\n",
    "    cv00_test = ('cv00_test', np.mean),\n",
    "    cv00_train = ('cv00_train', np.mean)).reset_index()\n",
    "df_summary['pr_test'] = df_summary['cv00_test']/(df_summary['cv00_test']+df_summary['cv00_train'])\n",
    "df_summary.loc[((df_summary.pr_test > 0.08)&(df_summary.pr_test < 0.12)), ]"
   ]
  },
  {
   "cell_type": "code",
   "execution_count": null,
   "id": "323f582b",
   "metadata": {},
   "outputs": [],
   "source": []
  },
  {
   "cell_type": "code",
   "execution_count": null,
   "id": "ac8aa931",
   "metadata": {},
   "outputs": [
    {
     "data": {
      "application/vnd.plotly.v1+json": {
       "config": {
        "plotlyServerURL": "https://plot.ly"
       },
       "data": [
        {
         "marker": {
          "color": "blue"
         },
         "mode": "markers",
         "type": "scatter",
         "x": [
          1,
          1,
          1,
          1,
          2,
          2,
          2,
          2,
          3,
          3,
          3,
          3,
          4,
          4,
          4,
          4
         ],
         "y": [
          111837,
          111533,
          102682,
          89137,
          106063,
          97094,
          89190,
          78801,
          83868,
          82271,
          79367,
          72910,
          68067,
          58565,
          63867,
          61825
         ]
        },
        {
         "marker": {
          "color": "red"
         },
         "mode": "markers",
         "type": "scatter",
         "x": [
          1,
          1,
          1,
          1,
          2,
          2,
          2,
          2,
          3,
          3,
          3,
          3,
          4,
          4,
          4,
          4
         ],
         "y": [
          334,
          1156,
          1870,
          4178,
          600,
          2246,
          4345,
          6738,
          1170,
          3478,
          5017,
          8204,
          1565,
          5721,
          8676,
          11412
         ]
        }
       ],
       "layout": {
        "template": {
         "data": {
          "bar": [
           {
            "error_x": {
             "color": "#2a3f5f"
            },
            "error_y": {
             "color": "#2a3f5f"
            },
            "marker": {
             "line": {
              "color": "#E5ECF6",
              "width": 0.5
             },
             "pattern": {
              "fillmode": "overlay",
              "size": 10,
              "solidity": 0.2
             }
            },
            "type": "bar"
           }
          ],
          "barpolar": [
           {
            "marker": {
             "line": {
              "color": "#E5ECF6",
              "width": 0.5
             },
             "pattern": {
              "fillmode": "overlay",
              "size": 10,
              "solidity": 0.2
             }
            },
            "type": "barpolar"
           }
          ],
          "carpet": [
           {
            "aaxis": {
             "endlinecolor": "#2a3f5f",
             "gridcolor": "white",
             "linecolor": "white",
             "minorgridcolor": "white",
             "startlinecolor": "#2a3f5f"
            },
            "baxis": {
             "endlinecolor": "#2a3f5f",
             "gridcolor": "white",
             "linecolor": "white",
             "minorgridcolor": "white",
             "startlinecolor": "#2a3f5f"
            },
            "type": "carpet"
           }
          ],
          "choropleth": [
           {
            "colorbar": {
             "outlinewidth": 0,
             "ticks": ""
            },
            "type": "choropleth"
           }
          ],
          "contour": [
           {
            "colorbar": {
             "outlinewidth": 0,
             "ticks": ""
            },
            "colorscale": [
             [
              0,
              "#0d0887"
             ],
             [
              0.1111111111111111,
              "#46039f"
             ],
             [
              0.2222222222222222,
              "#7201a8"
             ],
             [
              0.3333333333333333,
              "#9c179e"
             ],
             [
              0.4444444444444444,
              "#bd3786"
             ],
             [
              0.5555555555555556,
              "#d8576b"
             ],
             [
              0.6666666666666666,
              "#ed7953"
             ],
             [
              0.7777777777777778,
              "#fb9f3a"
             ],
             [
              0.8888888888888888,
              "#fdca26"
             ],
             [
              1,
              "#f0f921"
             ]
            ],
            "type": "contour"
           }
          ],
          "contourcarpet": [
           {
            "colorbar": {
             "outlinewidth": 0,
             "ticks": ""
            },
            "type": "contourcarpet"
           }
          ],
          "heatmap": [
           {
            "colorbar": {
             "outlinewidth": 0,
             "ticks": ""
            },
            "colorscale": [
             [
              0,
              "#0d0887"
             ],
             [
              0.1111111111111111,
              "#46039f"
             ],
             [
              0.2222222222222222,
              "#7201a8"
             ],
             [
              0.3333333333333333,
              "#9c179e"
             ],
             [
              0.4444444444444444,
              "#bd3786"
             ],
             [
              0.5555555555555556,
              "#d8576b"
             ],
             [
              0.6666666666666666,
              "#ed7953"
             ],
             [
              0.7777777777777778,
              "#fb9f3a"
             ],
             [
              0.8888888888888888,
              "#fdca26"
             ],
             [
              1,
              "#f0f921"
             ]
            ],
            "type": "heatmap"
           }
          ],
          "heatmapgl": [
           {
            "colorbar": {
             "outlinewidth": 0,
             "ticks": ""
            },
            "colorscale": [
             [
              0,
              "#0d0887"
             ],
             [
              0.1111111111111111,
              "#46039f"
             ],
             [
              0.2222222222222222,
              "#7201a8"
             ],
             [
              0.3333333333333333,
              "#9c179e"
             ],
             [
              0.4444444444444444,
              "#bd3786"
             ],
             [
              0.5555555555555556,
              "#d8576b"
             ],
             [
              0.6666666666666666,
              "#ed7953"
             ],
             [
              0.7777777777777778,
              "#fb9f3a"
             ],
             [
              0.8888888888888888,
              "#fdca26"
             ],
             [
              1,
              "#f0f921"
             ]
            ],
            "type": "heatmapgl"
           }
          ],
          "histogram": [
           {
            "marker": {
             "pattern": {
              "fillmode": "overlay",
              "size": 10,
              "solidity": 0.2
             }
            },
            "type": "histogram"
           }
          ],
          "histogram2d": [
           {
            "colorbar": {
             "outlinewidth": 0,
             "ticks": ""
            },
            "colorscale": [
             [
              0,
              "#0d0887"
             ],
             [
              0.1111111111111111,
              "#46039f"
             ],
             [
              0.2222222222222222,
              "#7201a8"
             ],
             [
              0.3333333333333333,
              "#9c179e"
             ],
             [
              0.4444444444444444,
              "#bd3786"
             ],
             [
              0.5555555555555556,
              "#d8576b"
             ],
             [
              0.6666666666666666,
              "#ed7953"
             ],
             [
              0.7777777777777778,
              "#fb9f3a"
             ],
             [
              0.8888888888888888,
              "#fdca26"
             ],
             [
              1,
              "#f0f921"
             ]
            ],
            "type": "histogram2d"
           }
          ],
          "histogram2dcontour": [
           {
            "colorbar": {
             "outlinewidth": 0,
             "ticks": ""
            },
            "colorscale": [
             [
              0,
              "#0d0887"
             ],
             [
              0.1111111111111111,
              "#46039f"
             ],
             [
              0.2222222222222222,
              "#7201a8"
             ],
             [
              0.3333333333333333,
              "#9c179e"
             ],
             [
              0.4444444444444444,
              "#bd3786"
             ],
             [
              0.5555555555555556,
              "#d8576b"
             ],
             [
              0.6666666666666666,
              "#ed7953"
             ],
             [
              0.7777777777777778,
              "#fb9f3a"
             ],
             [
              0.8888888888888888,
              "#fdca26"
             ],
             [
              1,
              "#f0f921"
             ]
            ],
            "type": "histogram2dcontour"
           }
          ],
          "mesh3d": [
           {
            "colorbar": {
             "outlinewidth": 0,
             "ticks": ""
            },
            "type": "mesh3d"
           }
          ],
          "parcoords": [
           {
            "line": {
             "colorbar": {
              "outlinewidth": 0,
              "ticks": ""
             }
            },
            "type": "parcoords"
           }
          ],
          "pie": [
           {
            "automargin": true,
            "type": "pie"
           }
          ],
          "scatter": [
           {
            "fillpattern": {
             "fillmode": "overlay",
             "size": 10,
             "solidity": 0.2
            },
            "type": "scatter"
           }
          ],
          "scatter3d": [
           {
            "line": {
             "colorbar": {
              "outlinewidth": 0,
              "ticks": ""
             }
            },
            "marker": {
             "colorbar": {
              "outlinewidth": 0,
              "ticks": ""
             }
            },
            "type": "scatter3d"
           }
          ],
          "scattercarpet": [
           {
            "marker": {
             "colorbar": {
              "outlinewidth": 0,
              "ticks": ""
             }
            },
            "type": "scattercarpet"
           }
          ],
          "scattergeo": [
           {
            "marker": {
             "colorbar": {
              "outlinewidth": 0,
              "ticks": ""
             }
            },
            "type": "scattergeo"
           }
          ],
          "scattergl": [
           {
            "marker": {
             "colorbar": {
              "outlinewidth": 0,
              "ticks": ""
             }
            },
            "type": "scattergl"
           }
          ],
          "scattermapbox": [
           {
            "marker": {
             "colorbar": {
              "outlinewidth": 0,
              "ticks": ""
             }
            },
            "type": "scattermapbox"
           }
          ],
          "scatterpolar": [
           {
            "marker": {
             "colorbar": {
              "outlinewidth": 0,
              "ticks": ""
             }
            },
            "type": "scatterpolar"
           }
          ],
          "scatterpolargl": [
           {
            "marker": {
             "colorbar": {
              "outlinewidth": 0,
              "ticks": ""
             }
            },
            "type": "scatterpolargl"
           }
          ],
          "scatterternary": [
           {
            "marker": {
             "colorbar": {
              "outlinewidth": 0,
              "ticks": ""
             }
            },
            "type": "scatterternary"
           }
          ],
          "surface": [
           {
            "colorbar": {
             "outlinewidth": 0,
             "ticks": ""
            },
            "colorscale": [
             [
              0,
              "#0d0887"
             ],
             [
              0.1111111111111111,
              "#46039f"
             ],
             [
              0.2222222222222222,
              "#7201a8"
             ],
             [
              0.3333333333333333,
              "#9c179e"
             ],
             [
              0.4444444444444444,
              "#bd3786"
             ],
             [
              0.5555555555555556,
              "#d8576b"
             ],
             [
              0.6666666666666666,
              "#ed7953"
             ],
             [
              0.7777777777777778,
              "#fb9f3a"
             ],
             [
              0.8888888888888888,
              "#fdca26"
             ],
             [
              1,
              "#f0f921"
             ]
            ],
            "type": "surface"
           }
          ],
          "table": [
           {
            "cells": {
             "fill": {
              "color": "#EBF0F8"
             },
             "line": {
              "color": "white"
             }
            },
            "header": {
             "fill": {
              "color": "#C8D4E3"
             },
             "line": {
              "color": "white"
             }
            },
            "type": "table"
           }
          ]
         },
         "layout": {
          "annotationdefaults": {
           "arrowcolor": "#2a3f5f",
           "arrowhead": 0,
           "arrowwidth": 1
          },
          "autotypenumbers": "strict",
          "coloraxis": {
           "colorbar": {
            "outlinewidth": 0,
            "ticks": ""
           }
          },
          "colorscale": {
           "diverging": [
            [
             0,
             "#8e0152"
            ],
            [
             0.1,
             "#c51b7d"
            ],
            [
             0.2,
             "#de77ae"
            ],
            [
             0.3,
             "#f1b6da"
            ],
            [
             0.4,
             "#fde0ef"
            ],
            [
             0.5,
             "#f7f7f7"
            ],
            [
             0.6,
             "#e6f5d0"
            ],
            [
             0.7,
             "#b8e186"
            ],
            [
             0.8,
             "#7fbc41"
            ],
            [
             0.9,
             "#4d9221"
            ],
            [
             1,
             "#276419"
            ]
           ],
           "sequential": [
            [
             0,
             "#0d0887"
            ],
            [
             0.1111111111111111,
             "#46039f"
            ],
            [
             0.2222222222222222,
             "#7201a8"
            ],
            [
             0.3333333333333333,
             "#9c179e"
            ],
            [
             0.4444444444444444,
             "#bd3786"
            ],
            [
             0.5555555555555556,
             "#d8576b"
            ],
            [
             0.6666666666666666,
             "#ed7953"
            ],
            [
             0.7777777777777778,
             "#fb9f3a"
            ],
            [
             0.8888888888888888,
             "#fdca26"
            ],
            [
             1,
             "#f0f921"
            ]
           ],
           "sequentialminus": [
            [
             0,
             "#0d0887"
            ],
            [
             0.1111111111111111,
             "#46039f"
            ],
            [
             0.2222222222222222,
             "#7201a8"
            ],
            [
             0.3333333333333333,
             "#9c179e"
            ],
            [
             0.4444444444444444,
             "#bd3786"
            ],
            [
             0.5555555555555556,
             "#d8576b"
            ],
            [
             0.6666666666666666,
             "#ed7953"
            ],
            [
             0.7777777777777778,
             "#fb9f3a"
            ],
            [
             0.8888888888888888,
             "#fdca26"
            ],
            [
             1,
             "#f0f921"
            ]
           ]
          },
          "colorway": [
           "#636efa",
           "#EF553B",
           "#00cc96",
           "#ab63fa",
           "#FFA15A",
           "#19d3f3",
           "#FF6692",
           "#B6E880",
           "#FF97FF",
           "#FECB52"
          ],
          "font": {
           "color": "#2a3f5f"
          },
          "geo": {
           "bgcolor": "white",
           "lakecolor": "white",
           "landcolor": "#E5ECF6",
           "showlakes": true,
           "showland": true,
           "subunitcolor": "white"
          },
          "hoverlabel": {
           "align": "left"
          },
          "hovermode": "closest",
          "mapbox": {
           "style": "light"
          },
          "paper_bgcolor": "white",
          "plot_bgcolor": "#E5ECF6",
          "polar": {
           "angularaxis": {
            "gridcolor": "white",
            "linecolor": "white",
            "ticks": ""
           },
           "bgcolor": "#E5ECF6",
           "radialaxis": {
            "gridcolor": "white",
            "linecolor": "white",
            "ticks": ""
           }
          },
          "scene": {
           "xaxis": {
            "backgroundcolor": "#E5ECF6",
            "gridcolor": "white",
            "gridwidth": 2,
            "linecolor": "white",
            "showbackground": true,
            "ticks": "",
            "zerolinecolor": "white"
           },
           "yaxis": {
            "backgroundcolor": "#E5ECF6",
            "gridcolor": "white",
            "gridwidth": 2,
            "linecolor": "white",
            "showbackground": true,
            "ticks": "",
            "zerolinecolor": "white"
           },
           "zaxis": {
            "backgroundcolor": "#E5ECF6",
            "gridcolor": "white",
            "gridwidth": 2,
            "linecolor": "white",
            "showbackground": true,
            "ticks": "",
            "zerolinecolor": "white"
           }
          },
          "shapedefaults": {
           "line": {
            "color": "#2a3f5f"
           }
          },
          "ternary": {
           "aaxis": {
            "gridcolor": "white",
            "linecolor": "white",
            "ticks": ""
           },
           "baxis": {
            "gridcolor": "white",
            "linecolor": "white",
            "ticks": ""
           },
           "bgcolor": "#E5ECF6",
           "caxis": {
            "gridcolor": "white",
            "linecolor": "white",
            "ticks": ""
           }
          },
          "title": {
           "x": 0.05
          },
          "xaxis": {
           "automargin": true,
           "gridcolor": "white",
           "linecolor": "white",
           "ticks": "",
           "title": {
            "standoff": 15
           },
           "zerolinecolor": "white",
           "zerolinewidth": 2
          },
          "yaxis": {
           "automargin": true,
           "gridcolor": "white",
           "linecolor": "white",
           "ticks": "",
           "title": {
            "standoff": 15
           },
           "zerolinecolor": "white",
           "zerolinewidth": 2
          }
         }
        }
       }
      },
      "text/html": [
       "<div>                            <div id=\"d41a9939-6bab-4e23-ae7c-569c71d677f2\" class=\"plotly-graph-div\" style=\"height:525px; width:100%;\"></div>            <script type=\"text/javascript\">                require([\"plotly\"], function(Plotly) {                    window.PLOTLYENV=window.PLOTLYENV || {};                                    if (document.getElementById(\"d41a9939-6bab-4e23-ae7c-569c71d677f2\")) {                    Plotly.newPlot(                        \"d41a9939-6bab-4e23-ae7c-569c71d677f2\",                        [{\"marker\":{\"color\":\"blue\"},\"mode\":\"markers\",\"x\":[1,1,1,1,2,2,2,2,3,3,3,3,4,4,4,4],\"y\":[111837,111533,102682,89137,106063,97094,89190,78801,83868,82271,79367,72910,68067,58565,63867,61825],\"type\":\"scatter\"},{\"marker\":{\"color\":\"red\"},\"mode\":\"markers\",\"x\":[1,1,1,1,2,2,2,2,3,3,3,3,4,4,4,4],\"y\":[334,1156,1870,4178,600,2246,4345,6738,1170,3478,5017,8204,1565,5721,8676,11412],\"type\":\"scatter\"}],                        {\"template\":{\"data\":{\"histogram2dcontour\":[{\"type\":\"histogram2dcontour\",\"colorbar\":{\"outlinewidth\":0,\"ticks\":\"\"},\"colorscale\":[[0.0,\"#0d0887\"],[0.1111111111111111,\"#46039f\"],[0.2222222222222222,\"#7201a8\"],[0.3333333333333333,\"#9c179e\"],[0.4444444444444444,\"#bd3786\"],[0.5555555555555556,\"#d8576b\"],[0.6666666666666666,\"#ed7953\"],[0.7777777777777778,\"#fb9f3a\"],[0.8888888888888888,\"#fdca26\"],[1.0,\"#f0f921\"]]}],\"choropleth\":[{\"type\":\"choropleth\",\"colorbar\":{\"outlinewidth\":0,\"ticks\":\"\"}}],\"histogram2d\":[{\"type\":\"histogram2d\",\"colorbar\":{\"outlinewidth\":0,\"ticks\":\"\"},\"colorscale\":[[0.0,\"#0d0887\"],[0.1111111111111111,\"#46039f\"],[0.2222222222222222,\"#7201a8\"],[0.3333333333333333,\"#9c179e\"],[0.4444444444444444,\"#bd3786\"],[0.5555555555555556,\"#d8576b\"],[0.6666666666666666,\"#ed7953\"],[0.7777777777777778,\"#fb9f3a\"],[0.8888888888888888,\"#fdca26\"],[1.0,\"#f0f921\"]]}],\"heatmap\":[{\"type\":\"heatmap\",\"colorbar\":{\"outlinewidth\":0,\"ticks\":\"\"},\"colorscale\":[[0.0,\"#0d0887\"],[0.1111111111111111,\"#46039f\"],[0.2222222222222222,\"#7201a8\"],[0.3333333333333333,\"#9c179e\"],[0.4444444444444444,\"#bd3786\"],[0.5555555555555556,\"#d8576b\"],[0.6666666666666666,\"#ed7953\"],[0.7777777777777778,\"#fb9f3a\"],[0.8888888888888888,\"#fdca26\"],[1.0,\"#f0f921\"]]}],\"heatmapgl\":[{\"type\":\"heatmapgl\",\"colorbar\":{\"outlinewidth\":0,\"ticks\":\"\"},\"colorscale\":[[0.0,\"#0d0887\"],[0.1111111111111111,\"#46039f\"],[0.2222222222222222,\"#7201a8\"],[0.3333333333333333,\"#9c179e\"],[0.4444444444444444,\"#bd3786\"],[0.5555555555555556,\"#d8576b\"],[0.6666666666666666,\"#ed7953\"],[0.7777777777777778,\"#fb9f3a\"],[0.8888888888888888,\"#fdca26\"],[1.0,\"#f0f921\"]]}],\"contourcarpet\":[{\"type\":\"contourcarpet\",\"colorbar\":{\"outlinewidth\":0,\"ticks\":\"\"}}],\"contour\":[{\"type\":\"contour\",\"colorbar\":{\"outlinewidth\":0,\"ticks\":\"\"},\"colorscale\":[[0.0,\"#0d0887\"],[0.1111111111111111,\"#46039f\"],[0.2222222222222222,\"#7201a8\"],[0.3333333333333333,\"#9c179e\"],[0.4444444444444444,\"#bd3786\"],[0.5555555555555556,\"#d8576b\"],[0.6666666666666666,\"#ed7953\"],[0.7777777777777778,\"#fb9f3a\"],[0.8888888888888888,\"#fdca26\"],[1.0,\"#f0f921\"]]}],\"surface\":[{\"type\":\"surface\",\"colorbar\":{\"outlinewidth\":0,\"ticks\":\"\"},\"colorscale\":[[0.0,\"#0d0887\"],[0.1111111111111111,\"#46039f\"],[0.2222222222222222,\"#7201a8\"],[0.3333333333333333,\"#9c179e\"],[0.4444444444444444,\"#bd3786\"],[0.5555555555555556,\"#d8576b\"],[0.6666666666666666,\"#ed7953\"],[0.7777777777777778,\"#fb9f3a\"],[0.8888888888888888,\"#fdca26\"],[1.0,\"#f0f921\"]]}],\"mesh3d\":[{\"type\":\"mesh3d\",\"colorbar\":{\"outlinewidth\":0,\"ticks\":\"\"}}],\"scatter\":[{\"fillpattern\":{\"fillmode\":\"overlay\",\"size\":10,\"solidity\":0.2},\"type\":\"scatter\"}],\"parcoords\":[{\"type\":\"parcoords\",\"line\":{\"colorbar\":{\"outlinewidth\":0,\"ticks\":\"\"}}}],\"scatterpolargl\":[{\"type\":\"scatterpolargl\",\"marker\":{\"colorbar\":{\"outlinewidth\":0,\"ticks\":\"\"}}}],\"bar\":[{\"error_x\":{\"color\":\"#2a3f5f\"},\"error_y\":{\"color\":\"#2a3f5f\"},\"marker\":{\"line\":{\"color\":\"#E5ECF6\",\"width\":0.5},\"pattern\":{\"fillmode\":\"overlay\",\"size\":10,\"solidity\":0.2}},\"type\":\"bar\"}],\"scattergeo\":[{\"type\":\"scattergeo\",\"marker\":{\"colorbar\":{\"outlinewidth\":0,\"ticks\":\"\"}}}],\"scatterpolar\":[{\"type\":\"scatterpolar\",\"marker\":{\"colorbar\":{\"outlinewidth\":0,\"ticks\":\"\"}}}],\"histogram\":[{\"marker\":{\"pattern\":{\"fillmode\":\"overlay\",\"size\":10,\"solidity\":0.2}},\"type\":\"histogram\"}],\"scattergl\":[{\"type\":\"scattergl\",\"marker\":{\"colorbar\":{\"outlinewidth\":0,\"ticks\":\"\"}}}],\"scatter3d\":[{\"type\":\"scatter3d\",\"line\":{\"colorbar\":{\"outlinewidth\":0,\"ticks\":\"\"}},\"marker\":{\"colorbar\":{\"outlinewidth\":0,\"ticks\":\"\"}}}],\"scattermapbox\":[{\"type\":\"scattermapbox\",\"marker\":{\"colorbar\":{\"outlinewidth\":0,\"ticks\":\"\"}}}],\"scatterternary\":[{\"type\":\"scatterternary\",\"marker\":{\"colorbar\":{\"outlinewidth\":0,\"ticks\":\"\"}}}],\"scattercarpet\":[{\"type\":\"scattercarpet\",\"marker\":{\"colorbar\":{\"outlinewidth\":0,\"ticks\":\"\"}}}],\"carpet\":[{\"aaxis\":{\"endlinecolor\":\"#2a3f5f\",\"gridcolor\":\"white\",\"linecolor\":\"white\",\"minorgridcolor\":\"white\",\"startlinecolor\":\"#2a3f5f\"},\"baxis\":{\"endlinecolor\":\"#2a3f5f\",\"gridcolor\":\"white\",\"linecolor\":\"white\",\"minorgridcolor\":\"white\",\"startlinecolor\":\"#2a3f5f\"},\"type\":\"carpet\"}],\"table\":[{\"cells\":{\"fill\":{\"color\":\"#EBF0F8\"},\"line\":{\"color\":\"white\"}},\"header\":{\"fill\":{\"color\":\"#C8D4E3\"},\"line\":{\"color\":\"white\"}},\"type\":\"table\"}],\"barpolar\":[{\"marker\":{\"line\":{\"color\":\"#E5ECF6\",\"width\":0.5},\"pattern\":{\"fillmode\":\"overlay\",\"size\":10,\"solidity\":0.2}},\"type\":\"barpolar\"}],\"pie\":[{\"automargin\":true,\"type\":\"pie\"}]},\"layout\":{\"autotypenumbers\":\"strict\",\"colorway\":[\"#636efa\",\"#EF553B\",\"#00cc96\",\"#ab63fa\",\"#FFA15A\",\"#19d3f3\",\"#FF6692\",\"#B6E880\",\"#FF97FF\",\"#FECB52\"],\"font\":{\"color\":\"#2a3f5f\"},\"hovermode\":\"closest\",\"hoverlabel\":{\"align\":\"left\"},\"paper_bgcolor\":\"white\",\"plot_bgcolor\":\"#E5ECF6\",\"polar\":{\"bgcolor\":\"#E5ECF6\",\"angularaxis\":{\"gridcolor\":\"white\",\"linecolor\":\"white\",\"ticks\":\"\"},\"radialaxis\":{\"gridcolor\":\"white\",\"linecolor\":\"white\",\"ticks\":\"\"}},\"ternary\":{\"bgcolor\":\"#E5ECF6\",\"aaxis\":{\"gridcolor\":\"white\",\"linecolor\":\"white\",\"ticks\":\"\"},\"baxis\":{\"gridcolor\":\"white\",\"linecolor\":\"white\",\"ticks\":\"\"},\"caxis\":{\"gridcolor\":\"white\",\"linecolor\":\"white\",\"ticks\":\"\"}},\"coloraxis\":{\"colorbar\":{\"outlinewidth\":0,\"ticks\":\"\"}},\"colorscale\":{\"sequential\":[[0.0,\"#0d0887\"],[0.1111111111111111,\"#46039f\"],[0.2222222222222222,\"#7201a8\"],[0.3333333333333333,\"#9c179e\"],[0.4444444444444444,\"#bd3786\"],[0.5555555555555556,\"#d8576b\"],[0.6666666666666666,\"#ed7953\"],[0.7777777777777778,\"#fb9f3a\"],[0.8888888888888888,\"#fdca26\"],[1.0,\"#f0f921\"]],\"sequentialminus\":[[0.0,\"#0d0887\"],[0.1111111111111111,\"#46039f\"],[0.2222222222222222,\"#7201a8\"],[0.3333333333333333,\"#9c179e\"],[0.4444444444444444,\"#bd3786\"],[0.5555555555555556,\"#d8576b\"],[0.6666666666666666,\"#ed7953\"],[0.7777777777777778,\"#fb9f3a\"],[0.8888888888888888,\"#fdca26\"],[1.0,\"#f0f921\"]],\"diverging\":[[0,\"#8e0152\"],[0.1,\"#c51b7d\"],[0.2,\"#de77ae\"],[0.3,\"#f1b6da\"],[0.4,\"#fde0ef\"],[0.5,\"#f7f7f7\"],[0.6,\"#e6f5d0\"],[0.7,\"#b8e186\"],[0.8,\"#7fbc41\"],[0.9,\"#4d9221\"],[1,\"#276419\"]]},\"xaxis\":{\"gridcolor\":\"white\",\"linecolor\":\"white\",\"ticks\":\"\",\"title\":{\"standoff\":15},\"zerolinecolor\":\"white\",\"automargin\":true,\"zerolinewidth\":2},\"yaxis\":{\"gridcolor\":\"white\",\"linecolor\":\"white\",\"ticks\":\"\",\"title\":{\"standoff\":15},\"zerolinecolor\":\"white\",\"automargin\":true,\"zerolinewidth\":2},\"scene\":{\"xaxis\":{\"backgroundcolor\":\"#E5ECF6\",\"gridcolor\":\"white\",\"linecolor\":\"white\",\"showbackground\":true,\"ticks\":\"\",\"zerolinecolor\":\"white\",\"gridwidth\":2},\"yaxis\":{\"backgroundcolor\":\"#E5ECF6\",\"gridcolor\":\"white\",\"linecolor\":\"white\",\"showbackground\":true,\"ticks\":\"\",\"zerolinecolor\":\"white\",\"gridwidth\":2},\"zaxis\":{\"backgroundcolor\":\"#E5ECF6\",\"gridcolor\":\"white\",\"linecolor\":\"white\",\"showbackground\":true,\"ticks\":\"\",\"zerolinecolor\":\"white\",\"gridwidth\":2}},\"shapedefaults\":{\"line\":{\"color\":\"#2a3f5f\"}},\"annotationdefaults\":{\"arrowcolor\":\"#2a3f5f\",\"arrowhead\":0,\"arrowwidth\":1},\"geo\":{\"bgcolor\":\"white\",\"landcolor\":\"#E5ECF6\",\"subunitcolor\":\"white\",\"showland\":true,\"showlakes\":true,\"lakecolor\":\"white\"},\"title\":{\"x\":0.05},\"mapbox\":{\"style\":\"light\"}}}},                        {\"responsive\": true}                    ).then(function(){\n",
       "                            \n",
       "var gd = document.getElementById('d41a9939-6bab-4e23-ae7c-569c71d677f2');\n",
       "var x = new MutationObserver(function (mutations, observer) {{\n",
       "        var display = window.getComputedStyle(gd).display;\n",
       "        if (!display || display === 'none') {{\n",
       "            console.log([gd, 'removed!']);\n",
       "            Plotly.purge(gd);\n",
       "            observer.disconnect();\n",
       "        }}\n",
       "}});\n",
       "\n",
       "// Listen for the removal of the full notebook cells\n",
       "var notebookContainer = gd.closest('#notebook-container');\n",
       "if (notebookContainer) {{\n",
       "    x.observe(notebookContainer, {childList: true});\n",
       "}}\n",
       "\n",
       "// Listen for the clearing of the current output cell\n",
       "var outputEl = gd.closest('.output');\n",
       "if (outputEl) {{\n",
       "    x.observe(outputEl, {childList: true});\n",
       "}}\n",
       "\n",
       "                        })                };                });            </script>        </div>"
      ]
     },
     "metadata": {},
     "output_type": "display_data"
    }
   ],
   "source": [
    "fig = go.Figure()\n",
    "fig.add_trace(go.Scatter(x = df['draw_years'], y = df['cv00_train'], marker_color = 'blue', mode='markers'))\n",
    "fig.add_trace(go.Scatter(x = df['draw_years'], y = df['cv00_test'],  marker_color = 'red', mode='markers'))\n",
    "fig.show()"
   ]
  },
  {
   "cell_type": "code",
   "execution_count": null,
   "id": "d8113940",
   "metadata": {},
   "outputs": [],
   "source": [
    "# remove, looking at testers"
   ]
  },
  {
   "cell_type": "code",
   "execution_count": null,
   "id": "96393de9",
   "metadata": {},
   "outputs": [
    {
     "data": {
      "text/html": [
       "<div>\n",
       "<style scoped>\n",
       "    .dataframe tbody tr th:only-of-type {\n",
       "        vertical-align: middle;\n",
       "    }\n",
       "\n",
       "    .dataframe tbody tr th {\n",
       "        vertical-align: top;\n",
       "    }\n",
       "\n",
       "    .dataframe thead th {\n",
       "        text-align: right;\n",
       "    }\n",
       "</style>\n",
       "<table border=\"1\" class=\"dataframe\">\n",
       "  <thead>\n",
       "    <tr style=\"text-align: right;\">\n",
       "      <th></th>\n",
       "      <th>Env</th>\n",
       "      <th>Year</th>\n",
       "      <th>Hybrid</th>\n",
       "      <th>Replicate</th>\n",
       "      <th>Block</th>\n",
       "      <th>Plot</th>\n",
       "      <th>Phno_Idx</th>\n",
       "      <th>Env_Idx</th>\n",
       "      <th>Geno_Idx</th>\n",
       "      <th>Yield_Mg_ha</th>\n",
       "      <th>Stand_Count_plants</th>\n",
       "      <th>Pollen_DAP_days</th>\n",
       "      <th>Silk_DAP_days</th>\n",
       "      <th>Plant_Height_cm</th>\n",
       "      <th>Ear_Height_cm</th>\n",
       "      <th>Root_Lodging_plants</th>\n",
       "      <th>Stalk_Lodging_plants</th>\n",
       "      <th>Grain_Moisture</th>\n",
       "      <th>Twt_kg_m3</th>\n",
       "    </tr>\n",
       "  </thead>\n",
       "  <tbody>\n",
       "    <tr>\n",
       "      <th>0</th>\n",
       "      <td>DEH1_2014</td>\n",
       "      <td>2014</td>\n",
       "      <td>M0088/LH185</td>\n",
       "      <td>1.0</td>\n",
       "      <td>1.0</td>\n",
       "      <td>1.0</td>\n",
       "      <td>0</td>\n",
       "      <td>0</td>\n",
       "      <td>0</td>\n",
       "      <td>5.721725</td>\n",
       "      <td>56.0</td>\n",
       "      <td>63.0</td>\n",
       "      <td>67.0</td>\n",
       "      <td>213.0</td>\n",
       "      <td>79.0</td>\n",
       "      <td>0.0</td>\n",
       "      <td>0.0</td>\n",
       "      <td>20.8</td>\n",
       "      <td>706.664693</td>\n",
       "    </tr>\n",
       "    <tr>\n",
       "      <th>1</th>\n",
       "      <td>DEH1_2014</td>\n",
       "      <td>2014</td>\n",
       "      <td>M0143/LH185</td>\n",
       "      <td>1.0</td>\n",
       "      <td>1.0</td>\n",
       "      <td>2.0</td>\n",
       "      <td>1</td>\n",
       "      <td>0</td>\n",
       "      <td>1</td>\n",
       "      <td>11.338246</td>\n",
       "      <td>54.0</td>\n",
       "      <td>61.0</td>\n",
       "      <td>63.0</td>\n",
       "      <td>286.0</td>\n",
       "      <td>172.0</td>\n",
       "      <td>0.0</td>\n",
       "      <td>0.0</td>\n",
       "      <td>25.8</td>\n",
       "      <td>693.792841</td>\n",
       "    </tr>\n",
       "    <tr>\n",
       "      <th>2</th>\n",
       "      <td>DEH1_2014</td>\n",
       "      <td>2014</td>\n",
       "      <td>M0003/LH185</td>\n",
       "      <td>1.0</td>\n",
       "      <td>1.0</td>\n",
       "      <td>3.0</td>\n",
       "      <td>2</td>\n",
       "      <td>0</td>\n",
       "      <td>2</td>\n",
       "      <td>6.540810</td>\n",
       "      <td>60.0</td>\n",
       "      <td>63.0</td>\n",
       "      <td>65.0</td>\n",
       "      <td>239.0</td>\n",
       "      <td>92.0</td>\n",
       "      <td>0.0</td>\n",
       "      <td>4.0</td>\n",
       "      <td>20.8</td>\n",
       "      <td>698.941582</td>\n",
       "    </tr>\n",
       "    <tr>\n",
       "      <th>3</th>\n",
       "      <td>DEH1_2014</td>\n",
       "      <td>2014</td>\n",
       "      <td>M0035/LH185</td>\n",
       "      <td>1.0</td>\n",
       "      <td>1.0</td>\n",
       "      <td>4.0</td>\n",
       "      <td>3</td>\n",
       "      <td>0</td>\n",
       "      <td>3</td>\n",
       "      <td>10.366857</td>\n",
       "      <td>59.0</td>\n",
       "      <td>61.0</td>\n",
       "      <td>63.0</td>\n",
       "      <td>242.0</td>\n",
       "      <td>118.0</td>\n",
       "      <td>0.0</td>\n",
       "      <td>0.0</td>\n",
       "      <td>23.7</td>\n",
       "      <td>711.813434</td>\n",
       "    </tr>\n",
       "    <tr>\n",
       "      <th>4</th>\n",
       "      <td>DEH1_2014</td>\n",
       "      <td>2014</td>\n",
       "      <td>M0052/LH185</td>\n",
       "      <td>1.0</td>\n",
       "      <td>1.0</td>\n",
       "      <td>5.0</td>\n",
       "      <td>4</td>\n",
       "      <td>0</td>\n",
       "      <td>4</td>\n",
       "      <td>10.908814</td>\n",
       "      <td>58.0</td>\n",
       "      <td>63.0</td>\n",
       "      <td>65.0</td>\n",
       "      <td>211.0</td>\n",
       "      <td>92.0</td>\n",
       "      <td>0.0</td>\n",
       "      <td>0.0</td>\n",
       "      <td>19.4</td>\n",
       "      <td>743.993065</td>\n",
       "    </tr>\n",
       "    <tr>\n",
       "      <th>...</th>\n",
       "      <td>...</td>\n",
       "      <td>...</td>\n",
       "      <td>...</td>\n",
       "      <td>...</td>\n",
       "      <td>...</td>\n",
       "      <td>...</td>\n",
       "      <td>...</td>\n",
       "      <td>...</td>\n",
       "      <td>...</td>\n",
       "      <td>...</td>\n",
       "      <td>...</td>\n",
       "      <td>...</td>\n",
       "      <td>...</td>\n",
       "      <td>...</td>\n",
       "      <td>...</td>\n",
       "      <td>...</td>\n",
       "      <td>...</td>\n",
       "      <td>...</td>\n",
       "      <td>...</td>\n",
       "    </tr>\n",
       "    <tr>\n",
       "      <th>133052</th>\n",
       "      <td>WIH3_2022</td>\n",
       "      <td>2022</td>\n",
       "      <td>W10010_0337/LH244</td>\n",
       "      <td>-999.0</td>\n",
       "      <td>-999.0</td>\n",
       "      <td>-999.0</td>\n",
       "      <td>133052</td>\n",
       "      <td>235</td>\n",
       "      <td>4871</td>\n",
       "      <td>11.975018</td>\n",
       "      <td>NaN</td>\n",
       "      <td>NaN</td>\n",
       "      <td>NaN</td>\n",
       "      <td>NaN</td>\n",
       "      <td>NaN</td>\n",
       "      <td>NaN</td>\n",
       "      <td>NaN</td>\n",
       "      <td>NaN</td>\n",
       "      <td>NaN</td>\n",
       "    </tr>\n",
       "    <tr>\n",
       "      <th>133053</th>\n",
       "      <td>WIH3_2022</td>\n",
       "      <td>2022</td>\n",
       "      <td>W10010_0346/LH244</td>\n",
       "      <td>-999.0</td>\n",
       "      <td>-999.0</td>\n",
       "      <td>-999.0</td>\n",
       "      <td>133053</td>\n",
       "      <td>235</td>\n",
       "      <td>4872</td>\n",
       "      <td>12.971193</td>\n",
       "      <td>NaN</td>\n",
       "      <td>NaN</td>\n",
       "      <td>NaN</td>\n",
       "      <td>NaN</td>\n",
       "      <td>NaN</td>\n",
       "      <td>NaN</td>\n",
       "      <td>NaN</td>\n",
       "      <td>NaN</td>\n",
       "      <td>NaN</td>\n",
       "    </tr>\n",
       "    <tr>\n",
       "      <th>133054</th>\n",
       "      <td>WIH3_2022</td>\n",
       "      <td>2022</td>\n",
       "      <td>W10010_0358/LH244</td>\n",
       "      <td>-999.0</td>\n",
       "      <td>-999.0</td>\n",
       "      <td>-999.0</td>\n",
       "      <td>133054</td>\n",
       "      <td>235</td>\n",
       "      <td>4873</td>\n",
       "      <td>13.499769</td>\n",
       "      <td>NaN</td>\n",
       "      <td>NaN</td>\n",
       "      <td>NaN</td>\n",
       "      <td>NaN</td>\n",
       "      <td>NaN</td>\n",
       "      <td>NaN</td>\n",
       "      <td>NaN</td>\n",
       "      <td>NaN</td>\n",
       "      <td>NaN</td>\n",
       "    </tr>\n",
       "    <tr>\n",
       "      <th>133055</th>\n",
       "      <td>WIH3_2022</td>\n",
       "      <td>2022</td>\n",
       "      <td>W10010_0381/LH244</td>\n",
       "      <td>-999.0</td>\n",
       "      <td>-999.0</td>\n",
       "      <td>-999.0</td>\n",
       "      <td>133055</td>\n",
       "      <td>235</td>\n",
       "      <td>4875</td>\n",
       "      <td>10.831640</td>\n",
       "      <td>NaN</td>\n",
       "      <td>NaN</td>\n",
       "      <td>NaN</td>\n",
       "      <td>NaN</td>\n",
       "      <td>NaN</td>\n",
       "      <td>NaN</td>\n",
       "      <td>NaN</td>\n",
       "      <td>NaN</td>\n",
       "      <td>NaN</td>\n",
       "    </tr>\n",
       "    <tr>\n",
       "      <th>133056</th>\n",
       "      <td>WIH3_2022</td>\n",
       "      <td>2022</td>\n",
       "      <td>W10010_0452/LH244</td>\n",
       "      <td>-999.0</td>\n",
       "      <td>-999.0</td>\n",
       "      <td>-999.0</td>\n",
       "      <td>133056</td>\n",
       "      <td>235</td>\n",
       "      <td>4897</td>\n",
       "      <td>9.526524</td>\n",
       "      <td>NaN</td>\n",
       "      <td>NaN</td>\n",
       "      <td>NaN</td>\n",
       "      <td>NaN</td>\n",
       "      <td>NaN</td>\n",
       "      <td>NaN</td>\n",
       "      <td>NaN</td>\n",
       "      <td>NaN</td>\n",
       "      <td>NaN</td>\n",
       "    </tr>\n",
       "  </tbody>\n",
       "</table>\n",
       "<p>133057 rows × 19 columns</p>\n",
       "</div>"
      ],
      "text/plain": [
       "              Env  Year             Hybrid  Replicate  Block   Plot  Phno_Idx  \\\n",
       "0       DEH1_2014  2014        M0088/LH185        1.0    1.0    1.0         0   \n",
       "1       DEH1_2014  2014        M0143/LH185        1.0    1.0    2.0         1   \n",
       "2       DEH1_2014  2014        M0003/LH185        1.0    1.0    3.0         2   \n",
       "3       DEH1_2014  2014        M0035/LH185        1.0    1.0    4.0         3   \n",
       "4       DEH1_2014  2014        M0052/LH185        1.0    1.0    5.0         4   \n",
       "...           ...   ...                ...        ...    ...    ...       ...   \n",
       "133052  WIH3_2022  2022  W10010_0337/LH244     -999.0 -999.0 -999.0    133052   \n",
       "133053  WIH3_2022  2022  W10010_0346/LH244     -999.0 -999.0 -999.0    133053   \n",
       "133054  WIH3_2022  2022  W10010_0358/LH244     -999.0 -999.0 -999.0    133054   \n",
       "133055  WIH3_2022  2022  W10010_0381/LH244     -999.0 -999.0 -999.0    133055   \n",
       "133056  WIH3_2022  2022  W10010_0452/LH244     -999.0 -999.0 -999.0    133056   \n",
       "\n",
       "        Env_Idx  Geno_Idx  Yield_Mg_ha  Stand_Count_plants  Pollen_DAP_days  \\\n",
       "0             0         0     5.721725                56.0             63.0   \n",
       "1             0         1    11.338246                54.0             61.0   \n",
       "2             0         2     6.540810                60.0             63.0   \n",
       "3             0         3    10.366857                59.0             61.0   \n",
       "4             0         4    10.908814                58.0             63.0   \n",
       "...         ...       ...          ...                 ...              ...   \n",
       "133052      235      4871    11.975018                 NaN              NaN   \n",
       "133053      235      4872    12.971193                 NaN              NaN   \n",
       "133054      235      4873    13.499769                 NaN              NaN   \n",
       "133055      235      4875    10.831640                 NaN              NaN   \n",
       "133056      235      4897     9.526524                 NaN              NaN   \n",
       "\n",
       "        Silk_DAP_days  Plant_Height_cm  Ear_Height_cm  Root_Lodging_plants  \\\n",
       "0                67.0            213.0           79.0                  0.0   \n",
       "1                63.0            286.0          172.0                  0.0   \n",
       "2                65.0            239.0           92.0                  0.0   \n",
       "3                63.0            242.0          118.0                  0.0   \n",
       "4                65.0            211.0           92.0                  0.0   \n",
       "...               ...              ...            ...                  ...   \n",
       "133052            NaN              NaN            NaN                  NaN   \n",
       "133053            NaN              NaN            NaN                  NaN   \n",
       "133054            NaN              NaN            NaN                  NaN   \n",
       "133055            NaN              NaN            NaN                  NaN   \n",
       "133056            NaN              NaN            NaN                  NaN   \n",
       "\n",
       "        Stalk_Lodging_plants  Grain_Moisture   Twt_kg_m3  \n",
       "0                        0.0            20.8  706.664693  \n",
       "1                        0.0            25.8  693.792841  \n",
       "2                        4.0            20.8  698.941582  \n",
       "3                        0.0            23.7  711.813434  \n",
       "4                        0.0            19.4  743.993065  \n",
       "...                      ...             ...         ...  \n",
       "133052                   NaN             NaN         NaN  \n",
       "133053                   NaN             NaN         NaN  \n",
       "133054                   NaN             NaN         NaN  \n",
       "133055                   NaN             NaN         NaN  \n",
       "133056                   NaN             NaN         NaN  \n",
       "\n",
       "[133057 rows x 19 columns]"
      ]
     },
     "execution_count": null,
     "metadata": {},
     "output_type": "execute_result"
    }
   ],
   "source": [
    "load_from = '../nbs_artifacts/05_prep_matrices/'\n",
    "phno = pd.read_csv(load_from+'phno_geno.csv')\n",
    "phno"
   ]
  },
  {
   "cell_type": "code",
   "execution_count": null,
   "id": "0524ebaa",
   "metadata": {},
   "outputs": [],
   "source": [
    "# phno = phno.loc[(phno.Year > 2015), ]\n",
    "# phno = phno.loc[(phno.Year <= 2017), ]"
   ]
  },
  {
   "cell_type": "code",
   "execution_count": null,
   "id": "1b10c7c9",
   "metadata": {},
   "outputs": [
    {
     "data": {
      "text/html": [
       "<div>\n",
       "<style scoped>\n",
       "    .dataframe tbody tr th:only-of-type {\n",
       "        vertical-align: middle;\n",
       "    }\n",
       "\n",
       "    .dataframe tbody tr th {\n",
       "        vertical-align: top;\n",
       "    }\n",
       "\n",
       "    .dataframe thead th {\n",
       "        text-align: right;\n",
       "    }\n",
       "</style>\n",
       "<table border=\"1\" class=\"dataframe\">\n",
       "  <thead>\n",
       "    <tr style=\"text-align: right;\">\n",
       "      <th></th>\n",
       "      <th>Env</th>\n",
       "      <th>Year</th>\n",
       "      <th>Hybrid</th>\n",
       "    </tr>\n",
       "  </thead>\n",
       "  <tbody>\n",
       "    <tr>\n",
       "      <th>0</th>\n",
       "      <td>DEH1_2014</td>\n",
       "      <td>2014</td>\n",
       "      <td>M0088/LH185</td>\n",
       "    </tr>\n",
       "    <tr>\n",
       "      <th>1</th>\n",
       "      <td>DEH1_2014</td>\n",
       "      <td>2014</td>\n",
       "      <td>M0143/LH185</td>\n",
       "    </tr>\n",
       "    <tr>\n",
       "      <th>2</th>\n",
       "      <td>DEH1_2014</td>\n",
       "      <td>2014</td>\n",
       "      <td>M0003/LH185</td>\n",
       "    </tr>\n",
       "    <tr>\n",
       "      <th>3</th>\n",
       "      <td>DEH1_2014</td>\n",
       "      <td>2014</td>\n",
       "      <td>M0035/LH185</td>\n",
       "    </tr>\n",
       "    <tr>\n",
       "      <th>4</th>\n",
       "      <td>DEH1_2014</td>\n",
       "      <td>2014</td>\n",
       "      <td>M0052/LH185</td>\n",
       "    </tr>\n",
       "    <tr>\n",
       "      <th>...</th>\n",
       "      <td>...</td>\n",
       "      <td>...</td>\n",
       "      <td>...</td>\n",
       "    </tr>\n",
       "    <tr>\n",
       "      <th>133052</th>\n",
       "      <td>WIH3_2022</td>\n",
       "      <td>2022</td>\n",
       "      <td>W10010_0337/LH244</td>\n",
       "    </tr>\n",
       "    <tr>\n",
       "      <th>133053</th>\n",
       "      <td>WIH3_2022</td>\n",
       "      <td>2022</td>\n",
       "      <td>W10010_0346/LH244</td>\n",
       "    </tr>\n",
       "    <tr>\n",
       "      <th>133054</th>\n",
       "      <td>WIH3_2022</td>\n",
       "      <td>2022</td>\n",
       "      <td>W10010_0358/LH244</td>\n",
       "    </tr>\n",
       "    <tr>\n",
       "      <th>133055</th>\n",
       "      <td>WIH3_2022</td>\n",
       "      <td>2022</td>\n",
       "      <td>W10010_0381/LH244</td>\n",
       "    </tr>\n",
       "    <tr>\n",
       "      <th>133056</th>\n",
       "      <td>WIH3_2022</td>\n",
       "      <td>2022</td>\n",
       "      <td>W10010_0452/LH244</td>\n",
       "    </tr>\n",
       "  </tbody>\n",
       "</table>\n",
       "<p>133057 rows × 3 columns</p>\n",
       "</div>"
      ],
      "text/plain": [
       "              Env  Year             Hybrid\n",
       "0       DEH1_2014  2014        M0088/LH185\n",
       "1       DEH1_2014  2014        M0143/LH185\n",
       "2       DEH1_2014  2014        M0003/LH185\n",
       "3       DEH1_2014  2014        M0035/LH185\n",
       "4       DEH1_2014  2014        M0052/LH185\n",
       "...           ...   ...                ...\n",
       "133052  WIH3_2022  2022  W10010_0337/LH244\n",
       "133053  WIH3_2022  2022  W10010_0346/LH244\n",
       "133054  WIH3_2022  2022  W10010_0358/LH244\n",
       "133055  WIH3_2022  2022  W10010_0381/LH244\n",
       "133056  WIH3_2022  2022  W10010_0452/LH244\n",
       "\n",
       "[133057 rows x 3 columns]"
      ]
     },
     "execution_count": null,
     "metadata": {},
     "output_type": "execute_result"
    }
   ],
   "source": [
    "phno.loc[:, ['Env', 'Year', 'Hybrid']]"
   ]
  },
  {
   "cell_type": "code",
   "execution_count": null,
   "id": "d10055db",
   "metadata": {},
   "outputs": [],
   "source": [
    "import re\n",
    "parents = list(set(sum([e.split('/') for e in list(set(phno.Hybrid))], [])))\n"
   ]
  },
  {
   "cell_type": "code",
   "execution_count": null,
   "id": "aed5970e",
   "metadata": {},
   "outputs": [
    {
     "data": {
      "text/plain": [
       "667"
      ]
     },
     "execution_count": null,
     "metadata": {},
     "output_type": "execute_result"
    }
   ],
   "source": [
    "# len(parents) 2203\n",
    "\n",
    "len([e for e in list(set(phno.Hybrid)) if re.findall('PHZ51', e)])"
   ]
  },
  {
   "cell_type": "code",
   "execution_count": null,
   "id": "3e776b17",
   "metadata": {},
   "outputs": [],
   "source": [
    "pcount = pd.DataFrame(zip(\n",
    "    parents, \n",
    "    # [len([e for e in list(set(phno.Hybrid)) if re.findall(ee.encode('unicode_escape'), e)]) for ee in parents]\n",
    "    [len([e for e in list(set(phno.Hybrid)) if ee in e.split('/')]) for ee in parents]\n",
    "    ))\n",
    "\n",
    "pcount = pcount.rename({0:'parent', 1:'count'}, axis=1)"
   ]
  },
  {
   "cell_type": "code",
   "execution_count": null,
   "id": "f98ff82f",
   "metadata": {},
   "outputs": [],
   "source": [
    "pcount = pd.DataFrame({\n",
    "    'parent': parents,\n",
    "    'count_2014': [len([e for e in list(set(phno.loc[phno.Year == 2014, 'Hybrid'])) if ee in e.split('/')]) for ee in parents],\n",
    "    'count_2015': [len([e for e in list(set(phno.loc[phno.Year == 2015, 'Hybrid'])) if ee in e.split('/')]) for ee in parents],\n",
    "    'count_2016': [len([e for e in list(set(phno.loc[phno.Year == 2016, 'Hybrid'])) if ee in e.split('/')]) for ee in parents],\n",
    "    'count_2017': [len([e for e in list(set(phno.loc[phno.Year == 2017, 'Hybrid'])) if ee in e.split('/')]) for ee in parents],\n",
    "    'count_2018': [len([e for e in list(set(phno.loc[phno.Year == 2018, 'Hybrid'])) if ee in e.split('/')]) for ee in parents],\n",
    "    'count_2019': [len([e for e in list(set(phno.loc[phno.Year == 2019, 'Hybrid'])) if ee in e.split('/')]) for ee in parents],\n",
    "    'count_2020': [len([e for e in list(set(phno.loc[phno.Year == 2020, 'Hybrid'])) if ee in e.split('/')]) for ee in parents],\n",
    "    'count_2021': [len([e for e in list(set(phno.loc[phno.Year == 2021, 'Hybrid'])) if ee in e.split('/')]) for ee in parents]\n",
    "    })"
   ]
  },
  {
   "cell_type": "code",
   "execution_count": null,
   "id": "54d3fea6",
   "metadata": {},
   "outputs": [
    {
     "data": {
      "text/html": [
       "<div>\n",
       "<style scoped>\n",
       "    .dataframe tbody tr th:only-of-type {\n",
       "        vertical-align: middle;\n",
       "    }\n",
       "\n",
       "    .dataframe tbody tr th {\n",
       "        vertical-align: top;\n",
       "    }\n",
       "\n",
       "    .dataframe thead th {\n",
       "        text-align: right;\n",
       "    }\n",
       "</style>\n",
       "<table border=\"1\" class=\"dataframe\">\n",
       "  <thead>\n",
       "    <tr style=\"text-align: right;\">\n",
       "      <th></th>\n",
       "      <th>parent</th>\n",
       "      <th>variable</th>\n",
       "      <th>value</th>\n",
       "      <th>Year</th>\n",
       "    </tr>\n",
       "  </thead>\n",
       "  <tbody>\n",
       "    <tr>\n",
       "      <th>0</th>\n",
       "      <td>MP718</td>\n",
       "      <td>count_2014</td>\n",
       "      <td>0</td>\n",
       "      <td>2014</td>\n",
       "    </tr>\n",
       "    <tr>\n",
       "      <th>1</th>\n",
       "      <td>MBNIL_B049</td>\n",
       "      <td>count_2014</td>\n",
       "      <td>0</td>\n",
       "      <td>2014</td>\n",
       "    </tr>\n",
       "    <tr>\n",
       "      <th>2</th>\n",
       "      <td>PHN46</td>\n",
       "      <td>count_2014</td>\n",
       "      <td>0</td>\n",
       "      <td>2014</td>\n",
       "    </tr>\n",
       "    <tr>\n",
       "      <th>3</th>\n",
       "      <td>ICI_441</td>\n",
       "      <td>count_2014</td>\n",
       "      <td>0</td>\n",
       "      <td>2014</td>\n",
       "    </tr>\n",
       "    <tr>\n",
       "      <th>4</th>\n",
       "      <td>GEMN-0097_LH212HT_0085</td>\n",
       "      <td>count_2014</td>\n",
       "      <td>0</td>\n",
       "      <td>2014</td>\n",
       "    </tr>\n",
       "    <tr>\n",
       "      <th>...</th>\n",
       "      <td>...</td>\n",
       "      <td>...</td>\n",
       "      <td>...</td>\n",
       "      <td>...</td>\n",
       "    </tr>\n",
       "    <tr>\n",
       "      <th>17619</th>\n",
       "      <td>GEMN-0192_PHK76_0007</td>\n",
       "      <td>count_2021</td>\n",
       "      <td>0</td>\n",
       "      <td>2021</td>\n",
       "    </tr>\n",
       "    <tr>\n",
       "      <th>17620</th>\n",
       "      <td>GEMN-0097_PHJ89_0005</td>\n",
       "      <td>count_2021</td>\n",
       "      <td>0</td>\n",
       "      <td>2021</td>\n",
       "    </tr>\n",
       "    <tr>\n",
       "      <th>17621</th>\n",
       "      <td>B73_PHG39-25</td>\n",
       "      <td>count_2021</td>\n",
       "      <td>0</td>\n",
       "      <td>2021</td>\n",
       "    </tr>\n",
       "    <tr>\n",
       "      <th>17622</th>\n",
       "      <td>GEMN-0097_PHP02_0005</td>\n",
       "      <td>count_2021</td>\n",
       "      <td>0</td>\n",
       "      <td>2021</td>\n",
       "    </tr>\n",
       "    <tr>\n",
       "      <th>17623</th>\n",
       "      <td>W10004_0168</td>\n",
       "      <td>count_2021</td>\n",
       "      <td>3</td>\n",
       "      <td>2021</td>\n",
       "    </tr>\n",
       "  </tbody>\n",
       "</table>\n",
       "<p>17624 rows × 4 columns</p>\n",
       "</div>"
      ],
      "text/plain": [
       "                       parent    variable  value  Year\n",
       "0                       MP718  count_2014      0  2014\n",
       "1                  MBNIL_B049  count_2014      0  2014\n",
       "2                       PHN46  count_2014      0  2014\n",
       "3                     ICI_441  count_2014      0  2014\n",
       "4      GEMN-0097_LH212HT_0085  count_2014      0  2014\n",
       "...                       ...         ...    ...   ...\n",
       "17619    GEMN-0192_PHK76_0007  count_2021      0  2021\n",
       "17620    GEMN-0097_PHJ89_0005  count_2021      0  2021\n",
       "17621            B73_PHG39-25  count_2021      0  2021\n",
       "17622    GEMN-0097_PHP02_0005  count_2021      0  2021\n",
       "17623             W10004_0168  count_2021      3  2021\n",
       "\n",
       "[17624 rows x 4 columns]"
      ]
     },
     "execution_count": null,
     "metadata": {},
     "output_type": "execute_result"
    }
   ],
   "source": [
    "xx = pcount.melt('parent', ['count_2014',\t'count_2015',\t'count_2016',\t'count_2017',\t'count_2018',\t'count_2019',\t'count_2020',\t'count_2021'])\n",
    "xx['Year'] = xx.variable.str.strip('count_').astype(int)\n",
    "xx"
   ]
  },
  {
   "cell_type": "code",
   "execution_count": null,
   "id": "2cd3e3c6",
   "metadata": {},
   "outputs": [
    {
     "data": {
      "text/html": [
       "<div>\n",
       "<style scoped>\n",
       "    .dataframe tbody tr th:only-of-type {\n",
       "        vertical-align: middle;\n",
       "    }\n",
       "\n",
       "    .dataframe tbody tr th {\n",
       "        vertical-align: top;\n",
       "    }\n",
       "\n",
       "    .dataframe thead th {\n",
       "        text-align: right;\n",
       "    }\n",
       "</style>\n",
       "<table border=\"1\" class=\"dataframe\">\n",
       "  <thead>\n",
       "    <tr style=\"text-align: right;\">\n",
       "      <th></th>\n",
       "      <th>parent</th>\n",
       "      <th>variable</th>\n",
       "      <th>value</th>\n",
       "      <th>Year</th>\n",
       "      <th>sumval</th>\n",
       "    </tr>\n",
       "  </thead>\n",
       "  <tbody>\n",
       "    <tr>\n",
       "      <th>239</th>\n",
       "      <td>PB80</td>\n",
       "      <td>count_2014</td>\n",
       "      <td>162</td>\n",
       "      <td>2014</td>\n",
       "      <td>162</td>\n",
       "    </tr>\n",
       "    <tr>\n",
       "      <th>414</th>\n",
       "      <td>TX205</td>\n",
       "      <td>count_2014</td>\n",
       "      <td>7</td>\n",
       "      <td>2014</td>\n",
       "      <td>7</td>\n",
       "    </tr>\n",
       "    <tr>\n",
       "      <th>586</th>\n",
       "      <td>CG108</td>\n",
       "      <td>count_2014</td>\n",
       "      <td>10</td>\n",
       "      <td>2014</td>\n",
       "      <td>10</td>\n",
       "    </tr>\n",
       "    <tr>\n",
       "      <th>895</th>\n",
       "      <td>LH195</td>\n",
       "      <td>count_2014</td>\n",
       "      <td>108</td>\n",
       "      <td>2014</td>\n",
       "      <td>108</td>\n",
       "    </tr>\n",
       "    <tr>\n",
       "      <th>1210</th>\n",
       "      <td>LH198</td>\n",
       "      <td>count_2014</td>\n",
       "      <td>185</td>\n",
       "      <td>2014</td>\n",
       "      <td>185</td>\n",
       "    </tr>\n",
       "    <tr>\n",
       "      <th>...</th>\n",
       "      <td>...</td>\n",
       "      <td>...</td>\n",
       "      <td>...</td>\n",
       "      <td>...</td>\n",
       "      <td>...</td>\n",
       "    </tr>\n",
       "    <tr>\n",
       "      <th>16865</th>\n",
       "      <td>B73</td>\n",
       "      <td>count_2021</td>\n",
       "      <td>6</td>\n",
       "      <td>2021</td>\n",
       "      <td>6</td>\n",
       "    </tr>\n",
       "    <tr>\n",
       "      <th>17188</th>\n",
       "      <td>PHK76</td>\n",
       "      <td>count_2021</td>\n",
       "      <td>379</td>\n",
       "      <td>2021</td>\n",
       "      <td>379</td>\n",
       "    </tr>\n",
       "    <tr>\n",
       "      <th>17560</th>\n",
       "      <td>MO17</td>\n",
       "      <td>count_2021</td>\n",
       "      <td>7</td>\n",
       "      <td>2021</td>\n",
       "      <td>7</td>\n",
       "    </tr>\n",
       "    <tr>\n",
       "      <th>17609</th>\n",
       "      <td>TX779</td>\n",
       "      <td>count_2021</td>\n",
       "      <td>7</td>\n",
       "      <td>2021</td>\n",
       "      <td>7</td>\n",
       "    </tr>\n",
       "    <tr>\n",
       "      <th>17618</th>\n",
       "      <td>PHN82</td>\n",
       "      <td>count_2021</td>\n",
       "      <td>7</td>\n",
       "      <td>2021</td>\n",
       "      <td>7</td>\n",
       "    </tr>\n",
       "  </tbody>\n",
       "</table>\n",
       "<p>149 rows × 5 columns</p>\n",
       "</div>"
      ],
      "text/plain": [
       "      parent    variable  value  Year  sumval\n",
       "239     PB80  count_2014    162  2014     162\n",
       "414    TX205  count_2014      7  2014       7\n",
       "586    CG108  count_2014     10  2014      10\n",
       "895    LH195  count_2014    108  2014     108\n",
       "1210   LH198  count_2014    185  2014     185\n",
       "...      ...         ...    ...   ...     ...\n",
       "16865    B73  count_2021      6  2021       6\n",
       "17188  PHK76  count_2021    379  2021     379\n",
       "17560   MO17  count_2021      7  2021       7\n",
       "17609  TX779  count_2021      7  2021       7\n",
       "17618  PHN82  count_2021      7  2021       7\n",
       "\n",
       "[149 rows x 5 columns]"
      ]
     },
     "execution_count": null,
     "metadata": {},
     "output_type": "execute_result"
    }
   ],
   "source": [
    "xx = xx.merge(xx.groupby(['parent', 'Year']).agg(sumval= ('value', 'sum')).reset_index())\n",
    "xx = xx.loc[xx.sumval > 5, ]\n",
    "xx"
   ]
  },
  {
   "cell_type": "code",
   "execution_count": null,
   "id": "7f397ed7",
   "metadata": {},
   "outputs": [],
   "source": [
    "from difflib import SequenceMatcher\n",
    "\n",
    "def similar(a, b):\n",
    "    return SequenceMatcher(None, a, b).ratio()"
   ]
  },
  {
   "cell_type": "code",
   "execution_count": null,
   "id": "fc350929",
   "metadata": {},
   "outputs": [
    {
     "data": {
      "application/vnd.plotly.v1+json": {
       "config": {
        "plotlyServerURL": "https://plot.ly"
       },
       "data": [
        {
         "mode": "lines+markers",
         "name": "PB80",
         "type": "scatter",
         "x": [
          "2014",
          "2015"
         ],
         "y": [
          162,
          39
         ]
        },
        {
         "mode": "lines+markers",
         "name": "TX205",
         "type": "scatter",
         "x": [
          "2014",
          "2015"
         ],
         "y": [
          7,
          6
         ]
        },
        {
         "mode": "lines+markers",
         "name": "CG108",
         "type": "scatter",
         "x": [
          "2014",
          "2015"
         ],
         "y": [
          10,
          12
         ]
        },
        {
         "mode": "lines+markers",
         "name": "LH195",
         "type": "scatter",
         "x": [
          "2014",
          "2015",
          "2016",
          "2017"
         ],
         "y": [
          108,
          129,
          88,
          55
         ]
        },
        {
         "mode": "lines+markers",
         "name": "LH198",
         "type": "scatter",
         "x": [
          "2014",
          "2015",
          "2016",
          "2017"
         ],
         "y": [
          185,
          74,
          16,
          15
         ]
        },
        {
         "mode": "lines+markers",
         "name": "CG102",
         "type": "scatter",
         "x": [
          "2014",
          "2015"
         ],
         "y": [
          150,
          15
         ]
        },
        {
         "mode": "lines+markers",
         "name": "CGR03",
         "type": "scatter",
         "x": [
          "2014"
         ],
         "y": [
          7
         ]
        },
        {
         "mode": "lines+markers",
         "name": "CGR01",
         "type": "scatter",
         "x": [
          "2014",
          "2015"
         ],
         "y": [
          6,
          6
         ]
        },
        {
         "mode": "lines+markers",
         "name": "CG60",
         "type": "scatter",
         "x": [
          "2014",
          "2015"
         ],
         "y": [
          6,
          6
         ]
        },
        {
         "mode": "lines+markers",
         "name": "CG44",
         "type": "scatter",
         "x": [
          "2014",
          "2015"
         ],
         "y": [
          7,
          6
         ]
        },
        {
         "mode": "lines+markers",
         "name": "LH82",
         "type": "scatter",
         "x": [
          "2014",
          "2015",
          "2016",
          "2017"
         ],
         "y": [
          9,
          201,
          13,
          12
         ]
        },
        {
         "mode": "lines+markers",
         "name": "LH185",
         "type": "scatter",
         "x": [
          "2014",
          "2015",
          "2016",
          "2017"
         ],
         "y": [
          190,
          132,
          23,
          24
         ]
        },
        {
         "mode": "lines+markers",
         "name": "PB80",
         "type": "scatter",
         "x": [
          "2014",
          "2015"
         ],
         "y": [
          162,
          39
         ]
        },
        {
         "mode": "lines+markers",
         "name": "PHZ51",
         "type": "scatter",
         "x": [
          "2015",
          "2016",
          "2017"
         ],
         "y": [
          246,
          60,
          54
         ]
        },
        {
         "mode": "lines+markers",
         "name": "TX205",
         "type": "scatter",
         "x": [
          "2014",
          "2015"
         ],
         "y": [
          7,
          6
         ]
        },
        {
         "mode": "lines+markers",
         "name": "CG108",
         "type": "scatter",
         "x": [
          "2014",
          "2015"
         ],
         "y": [
          10,
          12
         ]
        },
        {
         "mode": "lines+markers",
         "name": "CG119",
         "type": "scatter",
         "x": [
          "2015"
         ],
         "y": [
          6
         ]
        },
        {
         "mode": "lines+markers",
         "name": "LH195",
         "type": "scatter",
         "x": [
          "2014",
          "2015",
          "2016",
          "2017"
         ],
         "y": [
          108,
          129,
          88,
          55
         ]
        },
        {
         "mode": "lines+markers",
         "name": "OH43",
         "type": "scatter",
         "x": [
          "2015"
         ],
         "y": [
          7
         ]
        },
        {
         "mode": "lines+markers",
         "name": "CG65",
         "type": "scatter",
         "x": [
          "2015"
         ],
         "y": [
          6
         ]
        },
        {
         "mode": "lines+markers",
         "name": "Z022E0036",
         "type": "scatter",
         "x": [
          "2015"
         ],
         "y": [
          6
         ]
        },
        {
         "mode": "lines+markers",
         "name": "PHP02",
         "type": "scatter",
         "x": [
          "2015",
          "2017"
         ],
         "y": [
          6,
          6
         ]
        },
        {
         "mode": "lines+markers",
         "name": "LH198",
         "type": "scatter",
         "x": [
          "2014",
          "2015",
          "2016",
          "2017"
         ],
         "y": [
          185,
          74,
          16,
          15
         ]
        },
        {
         "mode": "lines+markers",
         "name": "PHB47",
         "type": "scatter",
         "x": [
          "2015",
          "2016",
          "2017"
         ],
         "y": [
          274,
          31,
          30
         ]
        },
        {
         "mode": "lines+markers",
         "name": "B73",
         "type": "scatter",
         "x": [
          "2015",
          "2016",
          "2017"
         ],
         "y": [
          8,
          9,
          11
         ]
        },
        {
         "mode": "lines+markers",
         "name": "PHM49",
         "type": "scatter",
         "x": [
          "2015",
          "2016",
          "2017"
         ],
         "y": [
          7,
          6,
          7
         ]
        },
        {
         "mode": "lines+markers",
         "name": "CG102",
         "type": "scatter",
         "x": [
          "2014",
          "2015"
         ],
         "y": [
          150,
          15
         ]
        },
        {
         "mode": "lines+markers",
         "name": "WF9",
         "type": "scatter",
         "x": [
          "2015"
         ],
         "y": [
          6
         ]
        },
        {
         "mode": "lines+markers",
         "name": "Z022E0121",
         "type": "scatter",
         "x": [
          "2015"
         ],
         "y": [
          6
         ]
        },
        {
         "mode": "lines+markers",
         "name": "CGR01",
         "type": "scatter",
         "x": [
          "2014",
          "2015"
         ],
         "y": [
          6,
          6
         ]
        },
        {
         "mode": "lines+markers",
         "name": "CG60",
         "type": "scatter",
         "x": [
          "2014",
          "2015"
         ],
         "y": [
          6,
          6
         ]
        },
        {
         "mode": "lines+markers",
         "name": "CG44",
         "type": "scatter",
         "x": [
          "2014",
          "2015"
         ],
         "y": [
          7,
          6
         ]
        },
        {
         "mode": "lines+markers",
         "name": "LH82",
         "type": "scatter",
         "x": [
          "2014",
          "2015",
          "2016",
          "2017"
         ],
         "y": [
          9,
          201,
          13,
          12
         ]
        },
        {
         "mode": "lines+markers",
         "name": "PHG39",
         "type": "scatter",
         "x": [
          "2015"
         ],
         "y": [
          6
         ]
        },
        {
         "mode": "lines+markers",
         "name": "LH185",
         "type": "scatter",
         "x": [
          "2014",
          "2015",
          "2016",
          "2017"
         ],
         "y": [
          190,
          132,
          23,
          24
         ]
        },
        {
         "mode": "lines+markers",
         "name": "CG118",
         "type": "scatter",
         "x": [
          "2015"
         ],
         "y": [
          6
         ]
        },
        {
         "mode": "lines+markers",
         "name": "MO17",
         "type": "scatter",
         "x": [
          "2015",
          "2016",
          "2017"
         ],
         "y": [
          8,
          6,
          6
         ]
        },
        {
         "mode": "lines+markers",
         "name": "PHN82",
         "type": "scatter",
         "x": [
          "2015",
          "2016",
          "2017"
         ],
         "y": [
          7,
          16,
          17
         ]
        },
        {
         "mode": "lines+markers",
         "name": "ICI_441",
         "type": "scatter",
         "x": [
          "2016",
          "2017"
         ],
         "y": [
          14,
          13
         ]
        },
        {
         "mode": "lines+markers",
         "name": "PHHB9",
         "type": "scatter",
         "x": [
          "2016",
          "2017"
         ],
         "y": [
          16,
          16
         ]
        },
        {
         "mode": "lines+markers",
         "name": "LH145",
         "type": "scatter",
         "x": [
          "2016",
          "2017"
         ],
         "y": [
          14,
          15
         ]
        },
        {
         "mode": "lines+markers",
         "name": "LH51",
         "type": "scatter",
         "x": [
          "2016",
          "2017"
         ],
         "y": [
          6,
          7
         ]
        },
        {
         "mode": "lines+markers",
         "name": "PHG83",
         "type": "scatter",
         "x": [
          "2016",
          "2017"
         ],
         "y": [
          6,
          6
         ]
        },
        {
         "mode": "lines+markers",
         "name": "PHZ51",
         "type": "scatter",
         "x": [
          "2015",
          "2016",
          "2017"
         ],
         "y": [
          246,
          60,
          54
         ]
        },
        {
         "mode": "lines+markers",
         "name": "PHN66",
         "type": "scatter",
         "x": [
          "2016",
          "2017"
         ],
         "y": [
          14,
          13
         ]
        },
        {
         "mode": "lines+markers",
         "name": "S8324",
         "type": "scatter",
         "x": [
          "2016",
          "2017"
         ],
         "y": [
          16,
          16
         ]
        },
        {
         "mode": "lines+markers",
         "name": "PHR55",
         "type": "scatter",
         "x": [
          "2016",
          "2017"
         ],
         "y": [
          9,
          9
         ]
        },
        {
         "mode": "lines+markers",
         "name": "DK3IIH6",
         "type": "scatter",
         "x": [
          "2016",
          "2017"
         ],
         "y": [
          139,
          123
         ]
        },
        {
         "mode": "lines+markers",
         "name": "LH195",
         "type": "scatter",
         "x": [
          "2014",
          "2015",
          "2016",
          "2017"
         ],
         "y": [
          108,
          129,
          88,
          55
         ]
        },
        {
         "mode": "lines+markers",
         "name": "PHP38",
         "type": "scatter",
         "x": [
          "2016",
          "2017"
         ],
         "y": [
          13,
          14
         ]
        },
        {
         "mode": "lines+markers",
         "name": "PHR25",
         "type": "scatter",
         "x": [
          "2016",
          "2017"
         ],
         "y": [
          6,
          6
         ]
        },
        {
         "mode": "lines+markers",
         "name": "LH38",
         "type": "scatter",
         "x": [
          "2016",
          "2017"
         ],
         "y": [
          6,
          6
         ]
        },
        {
         "mode": "lines+markers",
         "name": "CG120",
         "type": "scatter",
         "x": [
          "2016",
          "2017"
         ],
         "y": [
          12,
          13
         ]
        },
        {
         "mode": "lines+markers",
         "name": "LH162",
         "type": "scatter",
         "x": [
          "2016",
          "2017"
         ],
         "y": [
          24,
          6
         ]
        },
        {
         "mode": "lines+markers",
         "name": "PHW52",
         "type": "scatter",
         "x": [
          "2016",
          "2017"
         ],
         "y": [
          24,
          23
         ]
        },
        {
         "mode": "lines+markers",
         "name": "LH198",
         "type": "scatter",
         "x": [
          "2014",
          "2015",
          "2016",
          "2017"
         ],
         "y": [
          185,
          74,
          16,
          15
         ]
        },
        {
         "mode": "lines+markers",
         "name": "PHV63",
         "type": "scatter",
         "x": [
          "2016",
          "2017"
         ],
         "y": [
          16,
          13
         ]
        },
        {
         "mode": "lines+markers",
         "name": "PHG29",
         "type": "scatter",
         "x": [
          "2016",
          "2017"
         ],
         "y": [
          12,
          12
         ]
        },
        {
         "mode": "lines+markers",
         "name": "S8326",
         "type": "scatter",
         "x": [
          "2016",
          "2017"
         ],
         "y": [
          6,
          6
         ]
        },
        {
         "mode": "lines+markers",
         "name": "PHB47",
         "type": "scatter",
         "x": [
          "2015",
          "2016",
          "2017"
         ],
         "y": [
          274,
          31,
          30
         ]
        },
        {
         "mode": "lines+markers",
         "name": "B73",
         "type": "scatter",
         "x": [
          "2015",
          "2016",
          "2017"
         ],
         "y": [
          8,
          9,
          11
         ]
        },
        {
         "mode": "lines+markers",
         "name": "PHM49",
         "type": "scatter",
         "x": [
          "2015",
          "2016",
          "2017"
         ],
         "y": [
          7,
          6,
          7
         ]
        },
        {
         "mode": "lines+markers",
         "name": "PHG47",
         "type": "scatter",
         "x": [
          "2016",
          "2017"
         ],
         "y": [
          12,
          13
         ]
        },
        {
         "mode": "lines+markers",
         "name": "PHW30",
         "type": "scatter",
         "x": [
          "2016",
          "2017"
         ],
         "y": [
          9,
          9
         ]
        },
        {
         "mode": "lines+markers",
         "name": "PHK56",
         "type": "scatter",
         "x": [
          "2016",
          "2017"
         ],
         "y": [
          9,
          9
         ]
        },
        {
         "mode": "lines+markers",
         "name": "PHK76",
         "type": "scatter",
         "x": [
          "2016"
         ],
         "y": [
          6
         ]
        },
        {
         "mode": "lines+markers",
         "name": "PHRE1",
         "type": "scatter",
         "x": [
          "2016",
          "2017"
         ],
         "y": [
          13,
          12
         ]
        },
        {
         "mode": "lines+markers",
         "name": "Q381",
         "type": "scatter",
         "x": [
          "2016",
          "2017"
         ],
         "y": [
          9,
          9
         ]
        },
        {
         "mode": "lines+markers",
         "name": "LH82",
         "type": "scatter",
         "x": [
          "2014",
          "2015",
          "2016",
          "2017"
         ],
         "y": [
          9,
          201,
          13,
          12
         ]
        },
        {
         "mode": "lines+markers",
         "name": "LH185",
         "type": "scatter",
         "x": [
          "2014",
          "2015",
          "2016",
          "2017"
         ],
         "y": [
          190,
          132,
          23,
          24
         ]
        },
        {
         "mode": "lines+markers",
         "name": "MO17",
         "type": "scatter",
         "x": [
          "2015",
          "2016",
          "2017"
         ],
         "y": [
          8,
          6,
          6
         ]
        },
        {
         "mode": "lines+markers",
         "name": "PHHV4",
         "type": "scatter",
         "x": [
          "2016",
          "2017"
         ],
         "y": [
          15,
          15
         ]
        },
        {
         "mode": "lines+markers",
         "name": "PHN82",
         "type": "scatter",
         "x": [
          "2015",
          "2016",
          "2017"
         ],
         "y": [
          7,
          16,
          17
         ]
        },
        {
         "mode": "lines+markers",
         "name": "ICI_441",
         "type": "scatter",
         "x": [
          "2016",
          "2017"
         ],
         "y": [
          14,
          13
         ]
        },
        {
         "mode": "lines+markers",
         "name": "PHHB9",
         "type": "scatter",
         "x": [
          "2016",
          "2017"
         ],
         "y": [
          16,
          16
         ]
        },
        {
         "mode": "lines+markers",
         "name": "LH145",
         "type": "scatter",
         "x": [
          "2016",
          "2017"
         ],
         "y": [
          14,
          15
         ]
        },
        {
         "mode": "lines+markers",
         "name": "LH51",
         "type": "scatter",
         "x": [
          "2016",
          "2017"
         ],
         "y": [
          6,
          7
         ]
        },
        {
         "mode": "lines+markers",
         "name": "PHG83",
         "type": "scatter",
         "x": [
          "2016",
          "2017"
         ],
         "y": [
          6,
          6
         ]
        },
        {
         "mode": "lines+markers",
         "name": "PHZ51",
         "type": "scatter",
         "x": [
          "2015",
          "2016",
          "2017"
         ],
         "y": [
          246,
          60,
          54
         ]
        },
        {
         "mode": "lines+markers",
         "name": "PHN66",
         "type": "scatter",
         "x": [
          "2016",
          "2017"
         ],
         "y": [
          14,
          13
         ]
        },
        {
         "mode": "lines+markers",
         "name": "S8324",
         "type": "scatter",
         "x": [
          "2016",
          "2017"
         ],
         "y": [
          16,
          16
         ]
        },
        {
         "mode": "lines+markers",
         "name": "PHR55",
         "type": "scatter",
         "x": [
          "2016",
          "2017"
         ],
         "y": [
          9,
          9
         ]
        },
        {
         "mode": "lines+markers",
         "name": "DK3IIH6",
         "type": "scatter",
         "x": [
          "2016",
          "2017"
         ],
         "y": [
          139,
          123
         ]
        },
        {
         "mode": "lines+markers",
         "name": "LH195",
         "type": "scatter",
         "x": [
          "2014",
          "2015",
          "2016",
          "2017"
         ],
         "y": [
          108,
          129,
          88,
          55
         ]
        },
        {
         "mode": "lines+markers",
         "name": "PHP38",
         "type": "scatter",
         "x": [
          "2016",
          "2017"
         ],
         "y": [
          13,
          14
         ]
        },
        {
         "mode": "lines+markers",
         "name": "PHR25",
         "type": "scatter",
         "x": [
          "2016",
          "2017"
         ],
         "y": [
          6,
          6
         ]
        },
        {
         "mode": "lines+markers",
         "name": "LH38",
         "type": "scatter",
         "x": [
          "2016",
          "2017"
         ],
         "y": [
          6,
          6
         ]
        },
        {
         "mode": "lines+markers",
         "name": "CG120",
         "type": "scatter",
         "x": [
          "2016",
          "2017"
         ],
         "y": [
          12,
          13
         ]
        },
        {
         "mode": "lines+markers",
         "name": "LH162",
         "type": "scatter",
         "x": [
          "2016",
          "2017"
         ],
         "y": [
          24,
          6
         ]
        },
        {
         "mode": "lines+markers",
         "name": "PHW52",
         "type": "scatter",
         "x": [
          "2016",
          "2017"
         ],
         "y": [
          24,
          23
         ]
        },
        {
         "mode": "lines+markers",
         "name": "PHP02",
         "type": "scatter",
         "x": [
          "2015",
          "2017"
         ],
         "y": [
          6,
          6
         ]
        },
        {
         "mode": "lines+markers",
         "name": "LH198",
         "type": "scatter",
         "x": [
          "2014",
          "2015",
          "2016",
          "2017"
         ],
         "y": [
          185,
          74,
          16,
          15
         ]
        },
        {
         "mode": "lines+markers",
         "name": "PHV63",
         "type": "scatter",
         "x": [
          "2016",
          "2017"
         ],
         "y": [
          16,
          13
         ]
        },
        {
         "mode": "lines+markers",
         "name": "PHG29",
         "type": "scatter",
         "x": [
          "2016",
          "2017"
         ],
         "y": [
          12,
          12
         ]
        },
        {
         "mode": "lines+markers",
         "name": "PHK05",
         "type": "scatter",
         "x": [
          "2017"
         ],
         "y": [
          6
         ]
        },
        {
         "mode": "lines+markers",
         "name": "S8326",
         "type": "scatter",
         "x": [
          "2016",
          "2017"
         ],
         "y": [
          6,
          6
         ]
        },
        {
         "mode": "lines+markers",
         "name": "PHB47",
         "type": "scatter",
         "x": [
          "2015",
          "2016",
          "2017"
         ],
         "y": [
          274,
          31,
          30
         ]
        },
        {
         "mode": "lines+markers",
         "name": "B73",
         "type": "scatter",
         "x": [
          "2015",
          "2016",
          "2017"
         ],
         "y": [
          8,
          9,
          11
         ]
        },
        {
         "mode": "lines+markers",
         "name": "PHM49",
         "type": "scatter",
         "x": [
          "2015",
          "2016",
          "2017"
         ],
         "y": [
          7,
          6,
          7
         ]
        },
        {
         "mode": "lines+markers",
         "name": "PHG47",
         "type": "scatter",
         "x": [
          "2016",
          "2017"
         ],
         "y": [
          12,
          13
         ]
        },
        {
         "mode": "lines+markers",
         "name": "PHW30",
         "type": "scatter",
         "x": [
          "2016",
          "2017"
         ],
         "y": [
          9,
          9
         ]
        },
        {
         "mode": "lines+markers",
         "name": "PHK56",
         "type": "scatter",
         "x": [
          "2016",
          "2017"
         ],
         "y": [
          9,
          9
         ]
        },
        {
         "mode": "lines+markers",
         "name": "PHRE1",
         "type": "scatter",
         "x": [
          "2016",
          "2017"
         ],
         "y": [
          13,
          12
         ]
        },
        {
         "mode": "lines+markers",
         "name": "Q381",
         "type": "scatter",
         "x": [
          "2016",
          "2017"
         ],
         "y": [
          9,
          9
         ]
        },
        {
         "mode": "lines+markers",
         "name": "CG123",
         "type": "scatter",
         "x": [
          "2017"
         ],
         "y": [
          6
         ]
        },
        {
         "mode": "lines+markers",
         "name": "LH82",
         "type": "scatter",
         "x": [
          "2014",
          "2015",
          "2016",
          "2017"
         ],
         "y": [
          9,
          201,
          13,
          12
         ]
        },
        {
         "mode": "lines+markers",
         "name": "LH185",
         "type": "scatter",
         "x": [
          "2014",
          "2015",
          "2016",
          "2017"
         ],
         "y": [
          190,
          132,
          23,
          24
         ]
        },
        {
         "mode": "lines+markers",
         "name": "MO17",
         "type": "scatter",
         "x": [
          "2015",
          "2016",
          "2017"
         ],
         "y": [
          8,
          6,
          6
         ]
        },
        {
         "mode": "lines+markers",
         "name": "PHHV4",
         "type": "scatter",
         "x": [
          "2016",
          "2017"
         ],
         "y": [
          15,
          15
         ]
        },
        {
         "mode": "lines+markers",
         "name": "PHN82",
         "type": "scatter",
         "x": [
          "2015",
          "2016",
          "2017"
         ],
         "y": [
          7,
          16,
          17
         ]
        }
       ],
       "layout": {
        "template": {
         "data": {
          "bar": [
           {
            "error_x": {
             "color": "#2a3f5f"
            },
            "error_y": {
             "color": "#2a3f5f"
            },
            "marker": {
             "line": {
              "color": "#E5ECF6",
              "width": 0.5
             },
             "pattern": {
              "fillmode": "overlay",
              "size": 10,
              "solidity": 0.2
             }
            },
            "type": "bar"
           }
          ],
          "barpolar": [
           {
            "marker": {
             "line": {
              "color": "#E5ECF6",
              "width": 0.5
             },
             "pattern": {
              "fillmode": "overlay",
              "size": 10,
              "solidity": 0.2
             }
            },
            "type": "barpolar"
           }
          ],
          "carpet": [
           {
            "aaxis": {
             "endlinecolor": "#2a3f5f",
             "gridcolor": "white",
             "linecolor": "white",
             "minorgridcolor": "white",
             "startlinecolor": "#2a3f5f"
            },
            "baxis": {
             "endlinecolor": "#2a3f5f",
             "gridcolor": "white",
             "linecolor": "white",
             "minorgridcolor": "white",
             "startlinecolor": "#2a3f5f"
            },
            "type": "carpet"
           }
          ],
          "choropleth": [
           {
            "colorbar": {
             "outlinewidth": 0,
             "ticks": ""
            },
            "type": "choropleth"
           }
          ],
          "contour": [
           {
            "colorbar": {
             "outlinewidth": 0,
             "ticks": ""
            },
            "colorscale": [
             [
              0,
              "#0d0887"
             ],
             [
              0.1111111111111111,
              "#46039f"
             ],
             [
              0.2222222222222222,
              "#7201a8"
             ],
             [
              0.3333333333333333,
              "#9c179e"
             ],
             [
              0.4444444444444444,
              "#bd3786"
             ],
             [
              0.5555555555555556,
              "#d8576b"
             ],
             [
              0.6666666666666666,
              "#ed7953"
             ],
             [
              0.7777777777777778,
              "#fb9f3a"
             ],
             [
              0.8888888888888888,
              "#fdca26"
             ],
             [
              1,
              "#f0f921"
             ]
            ],
            "type": "contour"
           }
          ],
          "contourcarpet": [
           {
            "colorbar": {
             "outlinewidth": 0,
             "ticks": ""
            },
            "type": "contourcarpet"
           }
          ],
          "heatmap": [
           {
            "colorbar": {
             "outlinewidth": 0,
             "ticks": ""
            },
            "colorscale": [
             [
              0,
              "#0d0887"
             ],
             [
              0.1111111111111111,
              "#46039f"
             ],
             [
              0.2222222222222222,
              "#7201a8"
             ],
             [
              0.3333333333333333,
              "#9c179e"
             ],
             [
              0.4444444444444444,
              "#bd3786"
             ],
             [
              0.5555555555555556,
              "#d8576b"
             ],
             [
              0.6666666666666666,
              "#ed7953"
             ],
             [
              0.7777777777777778,
              "#fb9f3a"
             ],
             [
              0.8888888888888888,
              "#fdca26"
             ],
             [
              1,
              "#f0f921"
             ]
            ],
            "type": "heatmap"
           }
          ],
          "heatmapgl": [
           {
            "colorbar": {
             "outlinewidth": 0,
             "ticks": ""
            },
            "colorscale": [
             [
              0,
              "#0d0887"
             ],
             [
              0.1111111111111111,
              "#46039f"
             ],
             [
              0.2222222222222222,
              "#7201a8"
             ],
             [
              0.3333333333333333,
              "#9c179e"
             ],
             [
              0.4444444444444444,
              "#bd3786"
             ],
             [
              0.5555555555555556,
              "#d8576b"
             ],
             [
              0.6666666666666666,
              "#ed7953"
             ],
             [
              0.7777777777777778,
              "#fb9f3a"
             ],
             [
              0.8888888888888888,
              "#fdca26"
             ],
             [
              1,
              "#f0f921"
             ]
            ],
            "type": "heatmapgl"
           }
          ],
          "histogram": [
           {
            "marker": {
             "pattern": {
              "fillmode": "overlay",
              "size": 10,
              "solidity": 0.2
             }
            },
            "type": "histogram"
           }
          ],
          "histogram2d": [
           {
            "colorbar": {
             "outlinewidth": 0,
             "ticks": ""
            },
            "colorscale": [
             [
              0,
              "#0d0887"
             ],
             [
              0.1111111111111111,
              "#46039f"
             ],
             [
              0.2222222222222222,
              "#7201a8"
             ],
             [
              0.3333333333333333,
              "#9c179e"
             ],
             [
              0.4444444444444444,
              "#bd3786"
             ],
             [
              0.5555555555555556,
              "#d8576b"
             ],
             [
              0.6666666666666666,
              "#ed7953"
             ],
             [
              0.7777777777777778,
              "#fb9f3a"
             ],
             [
              0.8888888888888888,
              "#fdca26"
             ],
             [
              1,
              "#f0f921"
             ]
            ],
            "type": "histogram2d"
           }
          ],
          "histogram2dcontour": [
           {
            "colorbar": {
             "outlinewidth": 0,
             "ticks": ""
            },
            "colorscale": [
             [
              0,
              "#0d0887"
             ],
             [
              0.1111111111111111,
              "#46039f"
             ],
             [
              0.2222222222222222,
              "#7201a8"
             ],
             [
              0.3333333333333333,
              "#9c179e"
             ],
             [
              0.4444444444444444,
              "#bd3786"
             ],
             [
              0.5555555555555556,
              "#d8576b"
             ],
             [
              0.6666666666666666,
              "#ed7953"
             ],
             [
              0.7777777777777778,
              "#fb9f3a"
             ],
             [
              0.8888888888888888,
              "#fdca26"
             ],
             [
              1,
              "#f0f921"
             ]
            ],
            "type": "histogram2dcontour"
           }
          ],
          "mesh3d": [
           {
            "colorbar": {
             "outlinewidth": 0,
             "ticks": ""
            },
            "type": "mesh3d"
           }
          ],
          "parcoords": [
           {
            "line": {
             "colorbar": {
              "outlinewidth": 0,
              "ticks": ""
             }
            },
            "type": "parcoords"
           }
          ],
          "pie": [
           {
            "automargin": true,
            "type": "pie"
           }
          ],
          "scatter": [
           {
            "fillpattern": {
             "fillmode": "overlay",
             "size": 10,
             "solidity": 0.2
            },
            "type": "scatter"
           }
          ],
          "scatter3d": [
           {
            "line": {
             "colorbar": {
              "outlinewidth": 0,
              "ticks": ""
             }
            },
            "marker": {
             "colorbar": {
              "outlinewidth": 0,
              "ticks": ""
             }
            },
            "type": "scatter3d"
           }
          ],
          "scattercarpet": [
           {
            "marker": {
             "colorbar": {
              "outlinewidth": 0,
              "ticks": ""
             }
            },
            "type": "scattercarpet"
           }
          ],
          "scattergeo": [
           {
            "marker": {
             "colorbar": {
              "outlinewidth": 0,
              "ticks": ""
             }
            },
            "type": "scattergeo"
           }
          ],
          "scattergl": [
           {
            "marker": {
             "colorbar": {
              "outlinewidth": 0,
              "ticks": ""
             }
            },
            "type": "scattergl"
           }
          ],
          "scattermapbox": [
           {
            "marker": {
             "colorbar": {
              "outlinewidth": 0,
              "ticks": ""
             }
            },
            "type": "scattermapbox"
           }
          ],
          "scatterpolar": [
           {
            "marker": {
             "colorbar": {
              "outlinewidth": 0,
              "ticks": ""
             }
            },
            "type": "scatterpolar"
           }
          ],
          "scatterpolargl": [
           {
            "marker": {
             "colorbar": {
              "outlinewidth": 0,
              "ticks": ""
             }
            },
            "type": "scatterpolargl"
           }
          ],
          "scatterternary": [
           {
            "marker": {
             "colorbar": {
              "outlinewidth": 0,
              "ticks": ""
             }
            },
            "type": "scatterternary"
           }
          ],
          "surface": [
           {
            "colorbar": {
             "outlinewidth": 0,
             "ticks": ""
            },
            "colorscale": [
             [
              0,
              "#0d0887"
             ],
             [
              0.1111111111111111,
              "#46039f"
             ],
             [
              0.2222222222222222,
              "#7201a8"
             ],
             [
              0.3333333333333333,
              "#9c179e"
             ],
             [
              0.4444444444444444,
              "#bd3786"
             ],
             [
              0.5555555555555556,
              "#d8576b"
             ],
             [
              0.6666666666666666,
              "#ed7953"
             ],
             [
              0.7777777777777778,
              "#fb9f3a"
             ],
             [
              0.8888888888888888,
              "#fdca26"
             ],
             [
              1,
              "#f0f921"
             ]
            ],
            "type": "surface"
           }
          ],
          "table": [
           {
            "cells": {
             "fill": {
              "color": "#EBF0F8"
             },
             "line": {
              "color": "white"
             }
            },
            "header": {
             "fill": {
              "color": "#C8D4E3"
             },
             "line": {
              "color": "white"
             }
            },
            "type": "table"
           }
          ]
         },
         "layout": {
          "annotationdefaults": {
           "arrowcolor": "#2a3f5f",
           "arrowhead": 0,
           "arrowwidth": 1
          },
          "autotypenumbers": "strict",
          "coloraxis": {
           "colorbar": {
            "outlinewidth": 0,
            "ticks": ""
           }
          },
          "colorscale": {
           "diverging": [
            [
             0,
             "#8e0152"
            ],
            [
             0.1,
             "#c51b7d"
            ],
            [
             0.2,
             "#de77ae"
            ],
            [
             0.3,
             "#f1b6da"
            ],
            [
             0.4,
             "#fde0ef"
            ],
            [
             0.5,
             "#f7f7f7"
            ],
            [
             0.6,
             "#e6f5d0"
            ],
            [
             0.7,
             "#b8e186"
            ],
            [
             0.8,
             "#7fbc41"
            ],
            [
             0.9,
             "#4d9221"
            ],
            [
             1,
             "#276419"
            ]
           ],
           "sequential": [
            [
             0,
             "#0d0887"
            ],
            [
             0.1111111111111111,
             "#46039f"
            ],
            [
             0.2222222222222222,
             "#7201a8"
            ],
            [
             0.3333333333333333,
             "#9c179e"
            ],
            [
             0.4444444444444444,
             "#bd3786"
            ],
            [
             0.5555555555555556,
             "#d8576b"
            ],
            [
             0.6666666666666666,
             "#ed7953"
            ],
            [
             0.7777777777777778,
             "#fb9f3a"
            ],
            [
             0.8888888888888888,
             "#fdca26"
            ],
            [
             1,
             "#f0f921"
            ]
           ],
           "sequentialminus": [
            [
             0,
             "#0d0887"
            ],
            [
             0.1111111111111111,
             "#46039f"
            ],
            [
             0.2222222222222222,
             "#7201a8"
            ],
            [
             0.3333333333333333,
             "#9c179e"
            ],
            [
             0.4444444444444444,
             "#bd3786"
            ],
            [
             0.5555555555555556,
             "#d8576b"
            ],
            [
             0.6666666666666666,
             "#ed7953"
            ],
            [
             0.7777777777777778,
             "#fb9f3a"
            ],
            [
             0.8888888888888888,
             "#fdca26"
            ],
            [
             1,
             "#f0f921"
            ]
           ]
          },
          "colorway": [
           "#636efa",
           "#EF553B",
           "#00cc96",
           "#ab63fa",
           "#FFA15A",
           "#19d3f3",
           "#FF6692",
           "#B6E880",
           "#FF97FF",
           "#FECB52"
          ],
          "font": {
           "color": "#2a3f5f"
          },
          "geo": {
           "bgcolor": "white",
           "lakecolor": "white",
           "landcolor": "#E5ECF6",
           "showlakes": true,
           "showland": true,
           "subunitcolor": "white"
          },
          "hoverlabel": {
           "align": "left"
          },
          "hovermode": "closest",
          "mapbox": {
           "style": "light"
          },
          "paper_bgcolor": "white",
          "plot_bgcolor": "#E5ECF6",
          "polar": {
           "angularaxis": {
            "gridcolor": "white",
            "linecolor": "white",
            "ticks": ""
           },
           "bgcolor": "#E5ECF6",
           "radialaxis": {
            "gridcolor": "white",
            "linecolor": "white",
            "ticks": ""
           }
          },
          "scene": {
           "xaxis": {
            "backgroundcolor": "#E5ECF6",
            "gridcolor": "white",
            "gridwidth": 2,
            "linecolor": "white",
            "showbackground": true,
            "ticks": "",
            "zerolinecolor": "white"
           },
           "yaxis": {
            "backgroundcolor": "#E5ECF6",
            "gridcolor": "white",
            "gridwidth": 2,
            "linecolor": "white",
            "showbackground": true,
            "ticks": "",
            "zerolinecolor": "white"
           },
           "zaxis": {
            "backgroundcolor": "#E5ECF6",
            "gridcolor": "white",
            "gridwidth": 2,
            "linecolor": "white",
            "showbackground": true,
            "ticks": "",
            "zerolinecolor": "white"
           }
          },
          "shapedefaults": {
           "line": {
            "color": "#2a3f5f"
           }
          },
          "ternary": {
           "aaxis": {
            "gridcolor": "white",
            "linecolor": "white",
            "ticks": ""
           },
           "baxis": {
            "gridcolor": "white",
            "linecolor": "white",
            "ticks": ""
           },
           "bgcolor": "#E5ECF6",
           "caxis": {
            "gridcolor": "white",
            "linecolor": "white",
            "ticks": ""
           }
          },
          "title": {
           "x": 0.05
          },
          "xaxis": {
           "automargin": true,
           "gridcolor": "white",
           "linecolor": "white",
           "ticks": "",
           "title": {
            "standoff": 15
           },
           "zerolinecolor": "white",
           "zerolinewidth": 2
          },
          "yaxis": {
           "automargin": true,
           "gridcolor": "white",
           "linecolor": "white",
           "ticks": "",
           "title": {
            "standoff": 15
           },
           "zerolinecolor": "white",
           "zerolinewidth": 2
          }
         }
        }
       }
      },
      "text/html": [
       "<div>                            <div id=\"5c6a4805-e6c1-4503-93f2-7882a231f78e\" class=\"plotly-graph-div\" style=\"height:525px; width:100%;\"></div>            <script type=\"text/javascript\">                require([\"plotly\"], function(Plotly) {                    window.PLOTLYENV=window.PLOTLYENV || {};                                    if (document.getElementById(\"5c6a4805-e6c1-4503-93f2-7882a231f78e\")) {                    Plotly.newPlot(                        \"5c6a4805-e6c1-4503-93f2-7882a231f78e\",                        [{\"mode\":\"lines+markers\",\"name\":\"PB80\",\"x\":[\"2014\",\"2015\"],\"y\":[162,39],\"type\":\"scatter\"},{\"mode\":\"lines+markers\",\"name\":\"TX205\",\"x\":[\"2014\",\"2015\"],\"y\":[7,6],\"type\":\"scatter\"},{\"mode\":\"lines+markers\",\"name\":\"CG108\",\"x\":[\"2014\",\"2015\"],\"y\":[10,12],\"type\":\"scatter\"},{\"mode\":\"lines+markers\",\"name\":\"LH195\",\"x\":[\"2014\",\"2015\",\"2016\",\"2017\"],\"y\":[108,129,88,55],\"type\":\"scatter\"},{\"mode\":\"lines+markers\",\"name\":\"LH198\",\"x\":[\"2014\",\"2015\",\"2016\",\"2017\"],\"y\":[185,74,16,15],\"type\":\"scatter\"},{\"mode\":\"lines+markers\",\"name\":\"CG102\",\"x\":[\"2014\",\"2015\"],\"y\":[150,15],\"type\":\"scatter\"},{\"mode\":\"lines+markers\",\"name\":\"CGR03\",\"x\":[\"2014\"],\"y\":[7],\"type\":\"scatter\"},{\"mode\":\"lines+markers\",\"name\":\"CGR01\",\"x\":[\"2014\",\"2015\"],\"y\":[6,6],\"type\":\"scatter\"},{\"mode\":\"lines+markers\",\"name\":\"CG60\",\"x\":[\"2014\",\"2015\"],\"y\":[6,6],\"type\":\"scatter\"},{\"mode\":\"lines+markers\",\"name\":\"CG44\",\"x\":[\"2014\",\"2015\"],\"y\":[7,6],\"type\":\"scatter\"},{\"mode\":\"lines+markers\",\"name\":\"LH82\",\"x\":[\"2014\",\"2015\",\"2016\",\"2017\"],\"y\":[9,201,13,12],\"type\":\"scatter\"},{\"mode\":\"lines+markers\",\"name\":\"LH185\",\"x\":[\"2014\",\"2015\",\"2016\",\"2017\"],\"y\":[190,132,23,24],\"type\":\"scatter\"},{\"mode\":\"lines+markers\",\"name\":\"PB80\",\"x\":[\"2014\",\"2015\"],\"y\":[162,39],\"type\":\"scatter\"},{\"mode\":\"lines+markers\",\"name\":\"PHZ51\",\"x\":[\"2015\",\"2016\",\"2017\"],\"y\":[246,60,54],\"type\":\"scatter\"},{\"mode\":\"lines+markers\",\"name\":\"TX205\",\"x\":[\"2014\",\"2015\"],\"y\":[7,6],\"type\":\"scatter\"},{\"mode\":\"lines+markers\",\"name\":\"CG108\",\"x\":[\"2014\",\"2015\"],\"y\":[10,12],\"type\":\"scatter\"},{\"mode\":\"lines+markers\",\"name\":\"CG119\",\"x\":[\"2015\"],\"y\":[6],\"type\":\"scatter\"},{\"mode\":\"lines+markers\",\"name\":\"LH195\",\"x\":[\"2014\",\"2015\",\"2016\",\"2017\"],\"y\":[108,129,88,55],\"type\":\"scatter\"},{\"mode\":\"lines+markers\",\"name\":\"OH43\",\"x\":[\"2015\"],\"y\":[7],\"type\":\"scatter\"},{\"mode\":\"lines+markers\",\"name\":\"CG65\",\"x\":[\"2015\"],\"y\":[6],\"type\":\"scatter\"},{\"mode\":\"lines+markers\",\"name\":\"Z022E0036\",\"x\":[\"2015\"],\"y\":[6],\"type\":\"scatter\"},{\"mode\":\"lines+markers\",\"name\":\"PHP02\",\"x\":[\"2015\",\"2017\"],\"y\":[6,6],\"type\":\"scatter\"},{\"mode\":\"lines+markers\",\"name\":\"LH198\",\"x\":[\"2014\",\"2015\",\"2016\",\"2017\"],\"y\":[185,74,16,15],\"type\":\"scatter\"},{\"mode\":\"lines+markers\",\"name\":\"PHB47\",\"x\":[\"2015\",\"2016\",\"2017\"],\"y\":[274,31,30],\"type\":\"scatter\"},{\"mode\":\"lines+markers\",\"name\":\"B73\",\"x\":[\"2015\",\"2016\",\"2017\"],\"y\":[8,9,11],\"type\":\"scatter\"},{\"mode\":\"lines+markers\",\"name\":\"PHM49\",\"x\":[\"2015\",\"2016\",\"2017\"],\"y\":[7,6,7],\"type\":\"scatter\"},{\"mode\":\"lines+markers\",\"name\":\"CG102\",\"x\":[\"2014\",\"2015\"],\"y\":[150,15],\"type\":\"scatter\"},{\"mode\":\"lines+markers\",\"name\":\"WF9\",\"x\":[\"2015\"],\"y\":[6],\"type\":\"scatter\"},{\"mode\":\"lines+markers\",\"name\":\"Z022E0121\",\"x\":[\"2015\"],\"y\":[6],\"type\":\"scatter\"},{\"mode\":\"lines+markers\",\"name\":\"CGR01\",\"x\":[\"2014\",\"2015\"],\"y\":[6,6],\"type\":\"scatter\"},{\"mode\":\"lines+markers\",\"name\":\"CG60\",\"x\":[\"2014\",\"2015\"],\"y\":[6,6],\"type\":\"scatter\"},{\"mode\":\"lines+markers\",\"name\":\"CG44\",\"x\":[\"2014\",\"2015\"],\"y\":[7,6],\"type\":\"scatter\"},{\"mode\":\"lines+markers\",\"name\":\"LH82\",\"x\":[\"2014\",\"2015\",\"2016\",\"2017\"],\"y\":[9,201,13,12],\"type\":\"scatter\"},{\"mode\":\"lines+markers\",\"name\":\"PHG39\",\"x\":[\"2015\"],\"y\":[6],\"type\":\"scatter\"},{\"mode\":\"lines+markers\",\"name\":\"LH185\",\"x\":[\"2014\",\"2015\",\"2016\",\"2017\"],\"y\":[190,132,23,24],\"type\":\"scatter\"},{\"mode\":\"lines+markers\",\"name\":\"CG118\",\"x\":[\"2015\"],\"y\":[6],\"type\":\"scatter\"},{\"mode\":\"lines+markers\",\"name\":\"MO17\",\"x\":[\"2015\",\"2016\",\"2017\"],\"y\":[8,6,6],\"type\":\"scatter\"},{\"mode\":\"lines+markers\",\"name\":\"PHN82\",\"x\":[\"2015\",\"2016\",\"2017\"],\"y\":[7,16,17],\"type\":\"scatter\"},{\"mode\":\"lines+markers\",\"name\":\"ICI_441\",\"x\":[\"2016\",\"2017\"],\"y\":[14,13],\"type\":\"scatter\"},{\"mode\":\"lines+markers\",\"name\":\"PHHB9\",\"x\":[\"2016\",\"2017\"],\"y\":[16,16],\"type\":\"scatter\"},{\"mode\":\"lines+markers\",\"name\":\"LH145\",\"x\":[\"2016\",\"2017\"],\"y\":[14,15],\"type\":\"scatter\"},{\"mode\":\"lines+markers\",\"name\":\"LH51\",\"x\":[\"2016\",\"2017\"],\"y\":[6,7],\"type\":\"scatter\"},{\"mode\":\"lines+markers\",\"name\":\"PHG83\",\"x\":[\"2016\",\"2017\"],\"y\":[6,6],\"type\":\"scatter\"},{\"mode\":\"lines+markers\",\"name\":\"PHZ51\",\"x\":[\"2015\",\"2016\",\"2017\"],\"y\":[246,60,54],\"type\":\"scatter\"},{\"mode\":\"lines+markers\",\"name\":\"PHN66\",\"x\":[\"2016\",\"2017\"],\"y\":[14,13],\"type\":\"scatter\"},{\"mode\":\"lines+markers\",\"name\":\"S8324\",\"x\":[\"2016\",\"2017\"],\"y\":[16,16],\"type\":\"scatter\"},{\"mode\":\"lines+markers\",\"name\":\"PHR55\",\"x\":[\"2016\",\"2017\"],\"y\":[9,9],\"type\":\"scatter\"},{\"mode\":\"lines+markers\",\"name\":\"DK3IIH6\",\"x\":[\"2016\",\"2017\"],\"y\":[139,123],\"type\":\"scatter\"},{\"mode\":\"lines+markers\",\"name\":\"LH195\",\"x\":[\"2014\",\"2015\",\"2016\",\"2017\"],\"y\":[108,129,88,55],\"type\":\"scatter\"},{\"mode\":\"lines+markers\",\"name\":\"PHP38\",\"x\":[\"2016\",\"2017\"],\"y\":[13,14],\"type\":\"scatter\"},{\"mode\":\"lines+markers\",\"name\":\"PHR25\",\"x\":[\"2016\",\"2017\"],\"y\":[6,6],\"type\":\"scatter\"},{\"mode\":\"lines+markers\",\"name\":\"LH38\",\"x\":[\"2016\",\"2017\"],\"y\":[6,6],\"type\":\"scatter\"},{\"mode\":\"lines+markers\",\"name\":\"CG120\",\"x\":[\"2016\",\"2017\"],\"y\":[12,13],\"type\":\"scatter\"},{\"mode\":\"lines+markers\",\"name\":\"LH162\",\"x\":[\"2016\",\"2017\"],\"y\":[24,6],\"type\":\"scatter\"},{\"mode\":\"lines+markers\",\"name\":\"PHW52\",\"x\":[\"2016\",\"2017\"],\"y\":[24,23],\"type\":\"scatter\"},{\"mode\":\"lines+markers\",\"name\":\"LH198\",\"x\":[\"2014\",\"2015\",\"2016\",\"2017\"],\"y\":[185,74,16,15],\"type\":\"scatter\"},{\"mode\":\"lines+markers\",\"name\":\"PHV63\",\"x\":[\"2016\",\"2017\"],\"y\":[16,13],\"type\":\"scatter\"},{\"mode\":\"lines+markers\",\"name\":\"PHG29\",\"x\":[\"2016\",\"2017\"],\"y\":[12,12],\"type\":\"scatter\"},{\"mode\":\"lines+markers\",\"name\":\"S8326\",\"x\":[\"2016\",\"2017\"],\"y\":[6,6],\"type\":\"scatter\"},{\"mode\":\"lines+markers\",\"name\":\"PHB47\",\"x\":[\"2015\",\"2016\",\"2017\"],\"y\":[274,31,30],\"type\":\"scatter\"},{\"mode\":\"lines+markers\",\"name\":\"B73\",\"x\":[\"2015\",\"2016\",\"2017\"],\"y\":[8,9,11],\"type\":\"scatter\"},{\"mode\":\"lines+markers\",\"name\":\"PHM49\",\"x\":[\"2015\",\"2016\",\"2017\"],\"y\":[7,6,7],\"type\":\"scatter\"},{\"mode\":\"lines+markers\",\"name\":\"PHG47\",\"x\":[\"2016\",\"2017\"],\"y\":[12,13],\"type\":\"scatter\"},{\"mode\":\"lines+markers\",\"name\":\"PHW30\",\"x\":[\"2016\",\"2017\"],\"y\":[9,9],\"type\":\"scatter\"},{\"mode\":\"lines+markers\",\"name\":\"PHK56\",\"x\":[\"2016\",\"2017\"],\"y\":[9,9],\"type\":\"scatter\"},{\"mode\":\"lines+markers\",\"name\":\"PHK76\",\"x\":[\"2016\"],\"y\":[6],\"type\":\"scatter\"},{\"mode\":\"lines+markers\",\"name\":\"PHRE1\",\"x\":[\"2016\",\"2017\"],\"y\":[13,12],\"type\":\"scatter\"},{\"mode\":\"lines+markers\",\"name\":\"Q381\",\"x\":[\"2016\",\"2017\"],\"y\":[9,9],\"type\":\"scatter\"},{\"mode\":\"lines+markers\",\"name\":\"LH82\",\"x\":[\"2014\",\"2015\",\"2016\",\"2017\"],\"y\":[9,201,13,12],\"type\":\"scatter\"},{\"mode\":\"lines+markers\",\"name\":\"LH185\",\"x\":[\"2014\",\"2015\",\"2016\",\"2017\"],\"y\":[190,132,23,24],\"type\":\"scatter\"},{\"mode\":\"lines+markers\",\"name\":\"MO17\",\"x\":[\"2015\",\"2016\",\"2017\"],\"y\":[8,6,6],\"type\":\"scatter\"},{\"mode\":\"lines+markers\",\"name\":\"PHHV4\",\"x\":[\"2016\",\"2017\"],\"y\":[15,15],\"type\":\"scatter\"},{\"mode\":\"lines+markers\",\"name\":\"PHN82\",\"x\":[\"2015\",\"2016\",\"2017\"],\"y\":[7,16,17],\"type\":\"scatter\"},{\"mode\":\"lines+markers\",\"name\":\"ICI_441\",\"x\":[\"2016\",\"2017\"],\"y\":[14,13],\"type\":\"scatter\"},{\"mode\":\"lines+markers\",\"name\":\"PHHB9\",\"x\":[\"2016\",\"2017\"],\"y\":[16,16],\"type\":\"scatter\"},{\"mode\":\"lines+markers\",\"name\":\"LH145\",\"x\":[\"2016\",\"2017\"],\"y\":[14,15],\"type\":\"scatter\"},{\"mode\":\"lines+markers\",\"name\":\"LH51\",\"x\":[\"2016\",\"2017\"],\"y\":[6,7],\"type\":\"scatter\"},{\"mode\":\"lines+markers\",\"name\":\"PHG83\",\"x\":[\"2016\",\"2017\"],\"y\":[6,6],\"type\":\"scatter\"},{\"mode\":\"lines+markers\",\"name\":\"PHZ51\",\"x\":[\"2015\",\"2016\",\"2017\"],\"y\":[246,60,54],\"type\":\"scatter\"},{\"mode\":\"lines+markers\",\"name\":\"PHN66\",\"x\":[\"2016\",\"2017\"],\"y\":[14,13],\"type\":\"scatter\"},{\"mode\":\"lines+markers\",\"name\":\"S8324\",\"x\":[\"2016\",\"2017\"],\"y\":[16,16],\"type\":\"scatter\"},{\"mode\":\"lines+markers\",\"name\":\"PHR55\",\"x\":[\"2016\",\"2017\"],\"y\":[9,9],\"type\":\"scatter\"},{\"mode\":\"lines+markers\",\"name\":\"DK3IIH6\",\"x\":[\"2016\",\"2017\"],\"y\":[139,123],\"type\":\"scatter\"},{\"mode\":\"lines+markers\",\"name\":\"LH195\",\"x\":[\"2014\",\"2015\",\"2016\",\"2017\"],\"y\":[108,129,88,55],\"type\":\"scatter\"},{\"mode\":\"lines+markers\",\"name\":\"PHP38\",\"x\":[\"2016\",\"2017\"],\"y\":[13,14],\"type\":\"scatter\"},{\"mode\":\"lines+markers\",\"name\":\"PHR25\",\"x\":[\"2016\",\"2017\"],\"y\":[6,6],\"type\":\"scatter\"},{\"mode\":\"lines+markers\",\"name\":\"LH38\",\"x\":[\"2016\",\"2017\"],\"y\":[6,6],\"type\":\"scatter\"},{\"mode\":\"lines+markers\",\"name\":\"CG120\",\"x\":[\"2016\",\"2017\"],\"y\":[12,13],\"type\":\"scatter\"},{\"mode\":\"lines+markers\",\"name\":\"LH162\",\"x\":[\"2016\",\"2017\"],\"y\":[24,6],\"type\":\"scatter\"},{\"mode\":\"lines+markers\",\"name\":\"PHW52\",\"x\":[\"2016\",\"2017\"],\"y\":[24,23],\"type\":\"scatter\"},{\"mode\":\"lines+markers\",\"name\":\"PHP02\",\"x\":[\"2015\",\"2017\"],\"y\":[6,6],\"type\":\"scatter\"},{\"mode\":\"lines+markers\",\"name\":\"LH198\",\"x\":[\"2014\",\"2015\",\"2016\",\"2017\"],\"y\":[185,74,16,15],\"type\":\"scatter\"},{\"mode\":\"lines+markers\",\"name\":\"PHV63\",\"x\":[\"2016\",\"2017\"],\"y\":[16,13],\"type\":\"scatter\"},{\"mode\":\"lines+markers\",\"name\":\"PHG29\",\"x\":[\"2016\",\"2017\"],\"y\":[12,12],\"type\":\"scatter\"},{\"mode\":\"lines+markers\",\"name\":\"PHK05\",\"x\":[\"2017\"],\"y\":[6],\"type\":\"scatter\"},{\"mode\":\"lines+markers\",\"name\":\"S8326\",\"x\":[\"2016\",\"2017\"],\"y\":[6,6],\"type\":\"scatter\"},{\"mode\":\"lines+markers\",\"name\":\"PHB47\",\"x\":[\"2015\",\"2016\",\"2017\"],\"y\":[274,31,30],\"type\":\"scatter\"},{\"mode\":\"lines+markers\",\"name\":\"B73\",\"x\":[\"2015\",\"2016\",\"2017\"],\"y\":[8,9,11],\"type\":\"scatter\"},{\"mode\":\"lines+markers\",\"name\":\"PHM49\",\"x\":[\"2015\",\"2016\",\"2017\"],\"y\":[7,6,7],\"type\":\"scatter\"},{\"mode\":\"lines+markers\",\"name\":\"PHG47\",\"x\":[\"2016\",\"2017\"],\"y\":[12,13],\"type\":\"scatter\"},{\"mode\":\"lines+markers\",\"name\":\"PHW30\",\"x\":[\"2016\",\"2017\"],\"y\":[9,9],\"type\":\"scatter\"},{\"mode\":\"lines+markers\",\"name\":\"PHK56\",\"x\":[\"2016\",\"2017\"],\"y\":[9,9],\"type\":\"scatter\"},{\"mode\":\"lines+markers\",\"name\":\"PHRE1\",\"x\":[\"2016\",\"2017\"],\"y\":[13,12],\"type\":\"scatter\"},{\"mode\":\"lines+markers\",\"name\":\"Q381\",\"x\":[\"2016\",\"2017\"],\"y\":[9,9],\"type\":\"scatter\"},{\"mode\":\"lines+markers\",\"name\":\"CG123\",\"x\":[\"2017\"],\"y\":[6],\"type\":\"scatter\"},{\"mode\":\"lines+markers\",\"name\":\"LH82\",\"x\":[\"2014\",\"2015\",\"2016\",\"2017\"],\"y\":[9,201,13,12],\"type\":\"scatter\"},{\"mode\":\"lines+markers\",\"name\":\"LH185\",\"x\":[\"2014\",\"2015\",\"2016\",\"2017\"],\"y\":[190,132,23,24],\"type\":\"scatter\"},{\"mode\":\"lines+markers\",\"name\":\"MO17\",\"x\":[\"2015\",\"2016\",\"2017\"],\"y\":[8,6,6],\"type\":\"scatter\"},{\"mode\":\"lines+markers\",\"name\":\"PHHV4\",\"x\":[\"2016\",\"2017\"],\"y\":[15,15],\"type\":\"scatter\"},{\"mode\":\"lines+markers\",\"name\":\"PHN82\",\"x\":[\"2015\",\"2016\",\"2017\"],\"y\":[7,16,17],\"type\":\"scatter\"}],                        {\"template\":{\"data\":{\"histogram2dcontour\":[{\"type\":\"histogram2dcontour\",\"colorbar\":{\"outlinewidth\":0,\"ticks\":\"\"},\"colorscale\":[[0.0,\"#0d0887\"],[0.1111111111111111,\"#46039f\"],[0.2222222222222222,\"#7201a8\"],[0.3333333333333333,\"#9c179e\"],[0.4444444444444444,\"#bd3786\"],[0.5555555555555556,\"#d8576b\"],[0.6666666666666666,\"#ed7953\"],[0.7777777777777778,\"#fb9f3a\"],[0.8888888888888888,\"#fdca26\"],[1.0,\"#f0f921\"]]}],\"choropleth\":[{\"type\":\"choropleth\",\"colorbar\":{\"outlinewidth\":0,\"ticks\":\"\"}}],\"histogram2d\":[{\"type\":\"histogram2d\",\"colorbar\":{\"outlinewidth\":0,\"ticks\":\"\"},\"colorscale\":[[0.0,\"#0d0887\"],[0.1111111111111111,\"#46039f\"],[0.2222222222222222,\"#7201a8\"],[0.3333333333333333,\"#9c179e\"],[0.4444444444444444,\"#bd3786\"],[0.5555555555555556,\"#d8576b\"],[0.6666666666666666,\"#ed7953\"],[0.7777777777777778,\"#fb9f3a\"],[0.8888888888888888,\"#fdca26\"],[1.0,\"#f0f921\"]]}],\"heatmap\":[{\"type\":\"heatmap\",\"colorbar\":{\"outlinewidth\":0,\"ticks\":\"\"},\"colorscale\":[[0.0,\"#0d0887\"],[0.1111111111111111,\"#46039f\"],[0.2222222222222222,\"#7201a8\"],[0.3333333333333333,\"#9c179e\"],[0.4444444444444444,\"#bd3786\"],[0.5555555555555556,\"#d8576b\"],[0.6666666666666666,\"#ed7953\"],[0.7777777777777778,\"#fb9f3a\"],[0.8888888888888888,\"#fdca26\"],[1.0,\"#f0f921\"]]}],\"heatmapgl\":[{\"type\":\"heatmapgl\",\"colorbar\":{\"outlinewidth\":0,\"ticks\":\"\"},\"colorscale\":[[0.0,\"#0d0887\"],[0.1111111111111111,\"#46039f\"],[0.2222222222222222,\"#7201a8\"],[0.3333333333333333,\"#9c179e\"],[0.4444444444444444,\"#bd3786\"],[0.5555555555555556,\"#d8576b\"],[0.6666666666666666,\"#ed7953\"],[0.7777777777777778,\"#fb9f3a\"],[0.8888888888888888,\"#fdca26\"],[1.0,\"#f0f921\"]]}],\"contourcarpet\":[{\"type\":\"contourcarpet\",\"colorbar\":{\"outlinewidth\":0,\"ticks\":\"\"}}],\"contour\":[{\"type\":\"contour\",\"colorbar\":{\"outlinewidth\":0,\"ticks\":\"\"},\"colorscale\":[[0.0,\"#0d0887\"],[0.1111111111111111,\"#46039f\"],[0.2222222222222222,\"#7201a8\"],[0.3333333333333333,\"#9c179e\"],[0.4444444444444444,\"#bd3786\"],[0.5555555555555556,\"#d8576b\"],[0.6666666666666666,\"#ed7953\"],[0.7777777777777778,\"#fb9f3a\"],[0.8888888888888888,\"#fdca26\"],[1.0,\"#f0f921\"]]}],\"surface\":[{\"type\":\"surface\",\"colorbar\":{\"outlinewidth\":0,\"ticks\":\"\"},\"colorscale\":[[0.0,\"#0d0887\"],[0.1111111111111111,\"#46039f\"],[0.2222222222222222,\"#7201a8\"],[0.3333333333333333,\"#9c179e\"],[0.4444444444444444,\"#bd3786\"],[0.5555555555555556,\"#d8576b\"],[0.6666666666666666,\"#ed7953\"],[0.7777777777777778,\"#fb9f3a\"],[0.8888888888888888,\"#fdca26\"],[1.0,\"#f0f921\"]]}],\"mesh3d\":[{\"type\":\"mesh3d\",\"colorbar\":{\"outlinewidth\":0,\"ticks\":\"\"}}],\"scatter\":[{\"fillpattern\":{\"fillmode\":\"overlay\",\"size\":10,\"solidity\":0.2},\"type\":\"scatter\"}],\"parcoords\":[{\"type\":\"parcoords\",\"line\":{\"colorbar\":{\"outlinewidth\":0,\"ticks\":\"\"}}}],\"scatterpolargl\":[{\"type\":\"scatterpolargl\",\"marker\":{\"colorbar\":{\"outlinewidth\":0,\"ticks\":\"\"}}}],\"bar\":[{\"error_x\":{\"color\":\"#2a3f5f\"},\"error_y\":{\"color\":\"#2a3f5f\"},\"marker\":{\"line\":{\"color\":\"#E5ECF6\",\"width\":0.5},\"pattern\":{\"fillmode\":\"overlay\",\"size\":10,\"solidity\":0.2}},\"type\":\"bar\"}],\"scattergeo\":[{\"type\":\"scattergeo\",\"marker\":{\"colorbar\":{\"outlinewidth\":0,\"ticks\":\"\"}}}],\"scatterpolar\":[{\"type\":\"scatterpolar\",\"marker\":{\"colorbar\":{\"outlinewidth\":0,\"ticks\":\"\"}}}],\"histogram\":[{\"marker\":{\"pattern\":{\"fillmode\":\"overlay\",\"size\":10,\"solidity\":0.2}},\"type\":\"histogram\"}],\"scattergl\":[{\"type\":\"scattergl\",\"marker\":{\"colorbar\":{\"outlinewidth\":0,\"ticks\":\"\"}}}],\"scatter3d\":[{\"type\":\"scatter3d\",\"line\":{\"colorbar\":{\"outlinewidth\":0,\"ticks\":\"\"}},\"marker\":{\"colorbar\":{\"outlinewidth\":0,\"ticks\":\"\"}}}],\"scattermapbox\":[{\"type\":\"scattermapbox\",\"marker\":{\"colorbar\":{\"outlinewidth\":0,\"ticks\":\"\"}}}],\"scatterternary\":[{\"type\":\"scatterternary\",\"marker\":{\"colorbar\":{\"outlinewidth\":0,\"ticks\":\"\"}}}],\"scattercarpet\":[{\"type\":\"scattercarpet\",\"marker\":{\"colorbar\":{\"outlinewidth\":0,\"ticks\":\"\"}}}],\"carpet\":[{\"aaxis\":{\"endlinecolor\":\"#2a3f5f\",\"gridcolor\":\"white\",\"linecolor\":\"white\",\"minorgridcolor\":\"white\",\"startlinecolor\":\"#2a3f5f\"},\"baxis\":{\"endlinecolor\":\"#2a3f5f\",\"gridcolor\":\"white\",\"linecolor\":\"white\",\"minorgridcolor\":\"white\",\"startlinecolor\":\"#2a3f5f\"},\"type\":\"carpet\"}],\"table\":[{\"cells\":{\"fill\":{\"color\":\"#EBF0F8\"},\"line\":{\"color\":\"white\"}},\"header\":{\"fill\":{\"color\":\"#C8D4E3\"},\"line\":{\"color\":\"white\"}},\"type\":\"table\"}],\"barpolar\":[{\"marker\":{\"line\":{\"color\":\"#E5ECF6\",\"width\":0.5},\"pattern\":{\"fillmode\":\"overlay\",\"size\":10,\"solidity\":0.2}},\"type\":\"barpolar\"}],\"pie\":[{\"automargin\":true,\"type\":\"pie\"}]},\"layout\":{\"autotypenumbers\":\"strict\",\"colorway\":[\"#636efa\",\"#EF553B\",\"#00cc96\",\"#ab63fa\",\"#FFA15A\",\"#19d3f3\",\"#FF6692\",\"#B6E880\",\"#FF97FF\",\"#FECB52\"],\"font\":{\"color\":\"#2a3f5f\"},\"hovermode\":\"closest\",\"hoverlabel\":{\"align\":\"left\"},\"paper_bgcolor\":\"white\",\"plot_bgcolor\":\"#E5ECF6\",\"polar\":{\"bgcolor\":\"#E5ECF6\",\"angularaxis\":{\"gridcolor\":\"white\",\"linecolor\":\"white\",\"ticks\":\"\"},\"radialaxis\":{\"gridcolor\":\"white\",\"linecolor\":\"white\",\"ticks\":\"\"}},\"ternary\":{\"bgcolor\":\"#E5ECF6\",\"aaxis\":{\"gridcolor\":\"white\",\"linecolor\":\"white\",\"ticks\":\"\"},\"baxis\":{\"gridcolor\":\"white\",\"linecolor\":\"white\",\"ticks\":\"\"},\"caxis\":{\"gridcolor\":\"white\",\"linecolor\":\"white\",\"ticks\":\"\"}},\"coloraxis\":{\"colorbar\":{\"outlinewidth\":0,\"ticks\":\"\"}},\"colorscale\":{\"sequential\":[[0.0,\"#0d0887\"],[0.1111111111111111,\"#46039f\"],[0.2222222222222222,\"#7201a8\"],[0.3333333333333333,\"#9c179e\"],[0.4444444444444444,\"#bd3786\"],[0.5555555555555556,\"#d8576b\"],[0.6666666666666666,\"#ed7953\"],[0.7777777777777778,\"#fb9f3a\"],[0.8888888888888888,\"#fdca26\"],[1.0,\"#f0f921\"]],\"sequentialminus\":[[0.0,\"#0d0887\"],[0.1111111111111111,\"#46039f\"],[0.2222222222222222,\"#7201a8\"],[0.3333333333333333,\"#9c179e\"],[0.4444444444444444,\"#bd3786\"],[0.5555555555555556,\"#d8576b\"],[0.6666666666666666,\"#ed7953\"],[0.7777777777777778,\"#fb9f3a\"],[0.8888888888888888,\"#fdca26\"],[1.0,\"#f0f921\"]],\"diverging\":[[0,\"#8e0152\"],[0.1,\"#c51b7d\"],[0.2,\"#de77ae\"],[0.3,\"#f1b6da\"],[0.4,\"#fde0ef\"],[0.5,\"#f7f7f7\"],[0.6,\"#e6f5d0\"],[0.7,\"#b8e186\"],[0.8,\"#7fbc41\"],[0.9,\"#4d9221\"],[1,\"#276419\"]]},\"xaxis\":{\"gridcolor\":\"white\",\"linecolor\":\"white\",\"ticks\":\"\",\"title\":{\"standoff\":15},\"zerolinecolor\":\"white\",\"automargin\":true,\"zerolinewidth\":2},\"yaxis\":{\"gridcolor\":\"white\",\"linecolor\":\"white\",\"ticks\":\"\",\"title\":{\"standoff\":15},\"zerolinecolor\":\"white\",\"automargin\":true,\"zerolinewidth\":2},\"scene\":{\"xaxis\":{\"backgroundcolor\":\"#E5ECF6\",\"gridcolor\":\"white\",\"linecolor\":\"white\",\"showbackground\":true,\"ticks\":\"\",\"zerolinecolor\":\"white\",\"gridwidth\":2},\"yaxis\":{\"backgroundcolor\":\"#E5ECF6\",\"gridcolor\":\"white\",\"linecolor\":\"white\",\"showbackground\":true,\"ticks\":\"\",\"zerolinecolor\":\"white\",\"gridwidth\":2},\"zaxis\":{\"backgroundcolor\":\"#E5ECF6\",\"gridcolor\":\"white\",\"linecolor\":\"white\",\"showbackground\":true,\"ticks\":\"\",\"zerolinecolor\":\"white\",\"gridwidth\":2}},\"shapedefaults\":{\"line\":{\"color\":\"#2a3f5f\"}},\"annotationdefaults\":{\"arrowcolor\":\"#2a3f5f\",\"arrowhead\":0,\"arrowwidth\":1},\"geo\":{\"bgcolor\":\"white\",\"landcolor\":\"#E5ECF6\",\"subunitcolor\":\"white\",\"showland\":true,\"showlakes\":true,\"lakecolor\":\"white\"},\"title\":{\"x\":0.05},\"mapbox\":{\"style\":\"light\"}}}},                        {\"responsive\": true}                    ).then(function(){\n",
       "                            \n",
       "var gd = document.getElementById('5c6a4805-e6c1-4503-93f2-7882a231f78e');\n",
       "var x = new MutationObserver(function (mutations, observer) {{\n",
       "        var display = window.getComputedStyle(gd).display;\n",
       "        if (!display || display === 'none') {{\n",
       "            console.log([gd, 'removed!']);\n",
       "            Plotly.purge(gd);\n",
       "            observer.disconnect();\n",
       "        }}\n",
       "}});\n",
       "\n",
       "// Listen for the removal of the full notebook cells\n",
       "var notebookContainer = gd.closest('#notebook-container');\n",
       "if (notebookContainer) {{\n",
       "    x.observe(notebookContainer, {childList: true});\n",
       "}}\n",
       "\n",
       "// Listen for the clearing of the current output cell\n",
       "var outputEl = gd.closest('.output');\n",
       "if (outputEl) {{\n",
       "    x.observe(outputEl, {childList: true});\n",
       "}}\n",
       "\n",
       "                        })                };                });            </script>        </div>"
      ]
     },
     "metadata": {},
     "output_type": "display_data"
    }
   ],
   "source": [
    "import plotly.graph_objects as go\n",
    "\n",
    "xxplt = xx.loc[(xx.sumval > 5) & (xx.Year < 2018), ]\n",
    "\n",
    "fig = go.Figure()\n",
    "\n",
    "for e in list(xxplt.parent):\n",
    "    mask = (xxplt.parent == e)\n",
    "\n",
    "    fig.add_trace(go.Scatter(\n",
    "        x=[str(e) for e in xxplt.loc[mask, 'Year']], \n",
    "        y=xxplt.loc[mask, 'value'],\n",
    "        mode='lines+markers',\n",
    "        name=e))\n",
    "\n",
    "fig.show()    "
   ]
  },
  {
   "cell_type": "code",
   "execution_count": null,
   "id": "3dc1b3ce",
   "metadata": {},
   "outputs": [
    {
     "data": {
      "text/html": [
       "<div>\n",
       "<style scoped>\n",
       "    .dataframe tbody tr th:only-of-type {\n",
       "        vertical-align: middle;\n",
       "    }\n",
       "\n",
       "    .dataframe tbody tr th {\n",
       "        vertical-align: top;\n",
       "    }\n",
       "\n",
       "    .dataframe thead th {\n",
       "        text-align: right;\n",
       "    }\n",
       "</style>\n",
       "<table border=\"1\" class=\"dataframe\">\n",
       "  <thead>\n",
       "    <tr style=\"text-align: right;\">\n",
       "      <th></th>\n",
       "      <th>Env</th>\n",
       "      <th>Year</th>\n",
       "      <th>Hybrid</th>\n",
       "      <th>Replicate</th>\n",
       "      <th>Block</th>\n",
       "      <th>Plot</th>\n",
       "      <th>Phno_Idx</th>\n",
       "      <th>Env_Idx</th>\n",
       "      <th>Geno_Idx</th>\n",
       "      <th>Yield_Mg_ha</th>\n",
       "      <th>Stand_Count_plants</th>\n",
       "      <th>Pollen_DAP_days</th>\n",
       "      <th>Silk_DAP_days</th>\n",
       "      <th>Plant_Height_cm</th>\n",
       "      <th>Ear_Height_cm</th>\n",
       "      <th>Root_Lodging_plants</th>\n",
       "      <th>Stalk_Lodging_plants</th>\n",
       "      <th>Grain_Moisture</th>\n",
       "      <th>Twt_kg_m3</th>\n",
       "    </tr>\n",
       "  </thead>\n",
       "  <tbody>\n",
       "    <tr>\n",
       "      <th>0</th>\n",
       "      <td>DEH1_2014</td>\n",
       "      <td>2014</td>\n",
       "      <td>M0088/LH185</td>\n",
       "      <td>1.0</td>\n",
       "      <td>1.0</td>\n",
       "      <td>1.0</td>\n",
       "      <td>0</td>\n",
       "      <td>0</td>\n",
       "      <td>0</td>\n",
       "      <td>5.721725</td>\n",
       "      <td>56.0</td>\n",
       "      <td>63.0</td>\n",
       "      <td>67.0</td>\n",
       "      <td>213.0</td>\n",
       "      <td>79.0</td>\n",
       "      <td>0.0</td>\n",
       "      <td>0.0</td>\n",
       "      <td>20.8</td>\n",
       "      <td>706.664693</td>\n",
       "    </tr>\n",
       "    <tr>\n",
       "      <th>1</th>\n",
       "      <td>DEH1_2014</td>\n",
       "      <td>2014</td>\n",
       "      <td>M0143/LH185</td>\n",
       "      <td>1.0</td>\n",
       "      <td>1.0</td>\n",
       "      <td>2.0</td>\n",
       "      <td>1</td>\n",
       "      <td>0</td>\n",
       "      <td>1</td>\n",
       "      <td>11.338246</td>\n",
       "      <td>54.0</td>\n",
       "      <td>61.0</td>\n",
       "      <td>63.0</td>\n",
       "      <td>286.0</td>\n",
       "      <td>172.0</td>\n",
       "      <td>0.0</td>\n",
       "      <td>0.0</td>\n",
       "      <td>25.8</td>\n",
       "      <td>693.792841</td>\n",
       "    </tr>\n",
       "    <tr>\n",
       "      <th>2</th>\n",
       "      <td>DEH1_2014</td>\n",
       "      <td>2014</td>\n",
       "      <td>M0003/LH185</td>\n",
       "      <td>1.0</td>\n",
       "      <td>1.0</td>\n",
       "      <td>3.0</td>\n",
       "      <td>2</td>\n",
       "      <td>0</td>\n",
       "      <td>2</td>\n",
       "      <td>6.540810</td>\n",
       "      <td>60.0</td>\n",
       "      <td>63.0</td>\n",
       "      <td>65.0</td>\n",
       "      <td>239.0</td>\n",
       "      <td>92.0</td>\n",
       "      <td>0.0</td>\n",
       "      <td>4.0</td>\n",
       "      <td>20.8</td>\n",
       "      <td>698.941582</td>\n",
       "    </tr>\n",
       "    <tr>\n",
       "      <th>3</th>\n",
       "      <td>DEH1_2014</td>\n",
       "      <td>2014</td>\n",
       "      <td>M0035/LH185</td>\n",
       "      <td>1.0</td>\n",
       "      <td>1.0</td>\n",
       "      <td>4.0</td>\n",
       "      <td>3</td>\n",
       "      <td>0</td>\n",
       "      <td>3</td>\n",
       "      <td>10.366857</td>\n",
       "      <td>59.0</td>\n",
       "      <td>61.0</td>\n",
       "      <td>63.0</td>\n",
       "      <td>242.0</td>\n",
       "      <td>118.0</td>\n",
       "      <td>0.0</td>\n",
       "      <td>0.0</td>\n",
       "      <td>23.7</td>\n",
       "      <td>711.813434</td>\n",
       "    </tr>\n",
       "    <tr>\n",
       "      <th>4</th>\n",
       "      <td>DEH1_2014</td>\n",
       "      <td>2014</td>\n",
       "      <td>M0052/LH185</td>\n",
       "      <td>1.0</td>\n",
       "      <td>1.0</td>\n",
       "      <td>5.0</td>\n",
       "      <td>4</td>\n",
       "      <td>0</td>\n",
       "      <td>4</td>\n",
       "      <td>10.908814</td>\n",
       "      <td>58.0</td>\n",
       "      <td>63.0</td>\n",
       "      <td>65.0</td>\n",
       "      <td>211.0</td>\n",
       "      <td>92.0</td>\n",
       "      <td>0.0</td>\n",
       "      <td>0.0</td>\n",
       "      <td>19.4</td>\n",
       "      <td>743.993065</td>\n",
       "    </tr>\n",
       "    <tr>\n",
       "      <th>...</th>\n",
       "      <td>...</td>\n",
       "      <td>...</td>\n",
       "      <td>...</td>\n",
       "      <td>...</td>\n",
       "      <td>...</td>\n",
       "      <td>...</td>\n",
       "      <td>...</td>\n",
       "      <td>...</td>\n",
       "      <td>...</td>\n",
       "      <td>...</td>\n",
       "      <td>...</td>\n",
       "      <td>...</td>\n",
       "      <td>...</td>\n",
       "      <td>...</td>\n",
       "      <td>...</td>\n",
       "      <td>...</td>\n",
       "      <td>...</td>\n",
       "      <td>...</td>\n",
       "      <td>...</td>\n",
       "    </tr>\n",
       "    <tr>\n",
       "      <th>133052</th>\n",
       "      <td>WIH3_2022</td>\n",
       "      <td>2022</td>\n",
       "      <td>W10010_0337/LH244</td>\n",
       "      <td>-999.0</td>\n",
       "      <td>-999.0</td>\n",
       "      <td>-999.0</td>\n",
       "      <td>133052</td>\n",
       "      <td>235</td>\n",
       "      <td>4871</td>\n",
       "      <td>11.975018</td>\n",
       "      <td>NaN</td>\n",
       "      <td>NaN</td>\n",
       "      <td>NaN</td>\n",
       "      <td>NaN</td>\n",
       "      <td>NaN</td>\n",
       "      <td>NaN</td>\n",
       "      <td>NaN</td>\n",
       "      <td>NaN</td>\n",
       "      <td>NaN</td>\n",
       "    </tr>\n",
       "    <tr>\n",
       "      <th>133053</th>\n",
       "      <td>WIH3_2022</td>\n",
       "      <td>2022</td>\n",
       "      <td>W10010_0346/LH244</td>\n",
       "      <td>-999.0</td>\n",
       "      <td>-999.0</td>\n",
       "      <td>-999.0</td>\n",
       "      <td>133053</td>\n",
       "      <td>235</td>\n",
       "      <td>4872</td>\n",
       "      <td>12.971193</td>\n",
       "      <td>NaN</td>\n",
       "      <td>NaN</td>\n",
       "      <td>NaN</td>\n",
       "      <td>NaN</td>\n",
       "      <td>NaN</td>\n",
       "      <td>NaN</td>\n",
       "      <td>NaN</td>\n",
       "      <td>NaN</td>\n",
       "      <td>NaN</td>\n",
       "    </tr>\n",
       "    <tr>\n",
       "      <th>133054</th>\n",
       "      <td>WIH3_2022</td>\n",
       "      <td>2022</td>\n",
       "      <td>W10010_0358/LH244</td>\n",
       "      <td>-999.0</td>\n",
       "      <td>-999.0</td>\n",
       "      <td>-999.0</td>\n",
       "      <td>133054</td>\n",
       "      <td>235</td>\n",
       "      <td>4873</td>\n",
       "      <td>13.499769</td>\n",
       "      <td>NaN</td>\n",
       "      <td>NaN</td>\n",
       "      <td>NaN</td>\n",
       "      <td>NaN</td>\n",
       "      <td>NaN</td>\n",
       "      <td>NaN</td>\n",
       "      <td>NaN</td>\n",
       "      <td>NaN</td>\n",
       "      <td>NaN</td>\n",
       "    </tr>\n",
       "    <tr>\n",
       "      <th>133055</th>\n",
       "      <td>WIH3_2022</td>\n",
       "      <td>2022</td>\n",
       "      <td>W10010_0381/LH244</td>\n",
       "      <td>-999.0</td>\n",
       "      <td>-999.0</td>\n",
       "      <td>-999.0</td>\n",
       "      <td>133055</td>\n",
       "      <td>235</td>\n",
       "      <td>4875</td>\n",
       "      <td>10.831640</td>\n",
       "      <td>NaN</td>\n",
       "      <td>NaN</td>\n",
       "      <td>NaN</td>\n",
       "      <td>NaN</td>\n",
       "      <td>NaN</td>\n",
       "      <td>NaN</td>\n",
       "      <td>NaN</td>\n",
       "      <td>NaN</td>\n",
       "      <td>NaN</td>\n",
       "    </tr>\n",
       "    <tr>\n",
       "      <th>133056</th>\n",
       "      <td>WIH3_2022</td>\n",
       "      <td>2022</td>\n",
       "      <td>W10010_0452/LH244</td>\n",
       "      <td>-999.0</td>\n",
       "      <td>-999.0</td>\n",
       "      <td>-999.0</td>\n",
       "      <td>133056</td>\n",
       "      <td>235</td>\n",
       "      <td>4897</td>\n",
       "      <td>9.526524</td>\n",
       "      <td>NaN</td>\n",
       "      <td>NaN</td>\n",
       "      <td>NaN</td>\n",
       "      <td>NaN</td>\n",
       "      <td>NaN</td>\n",
       "      <td>NaN</td>\n",
       "      <td>NaN</td>\n",
       "      <td>NaN</td>\n",
       "      <td>NaN</td>\n",
       "    </tr>\n",
       "  </tbody>\n",
       "</table>\n",
       "<p>133057 rows × 19 columns</p>\n",
       "</div>"
      ],
      "text/plain": [
       "              Env  Year             Hybrid  Replicate  Block   Plot  Phno_Idx  \\\n",
       "0       DEH1_2014  2014        M0088/LH185        1.0    1.0    1.0         0   \n",
       "1       DEH1_2014  2014        M0143/LH185        1.0    1.0    2.0         1   \n",
       "2       DEH1_2014  2014        M0003/LH185        1.0    1.0    3.0         2   \n",
       "3       DEH1_2014  2014        M0035/LH185        1.0    1.0    4.0         3   \n",
       "4       DEH1_2014  2014        M0052/LH185        1.0    1.0    5.0         4   \n",
       "...           ...   ...                ...        ...    ...    ...       ...   \n",
       "133052  WIH3_2022  2022  W10010_0337/LH244     -999.0 -999.0 -999.0    133052   \n",
       "133053  WIH3_2022  2022  W10010_0346/LH244     -999.0 -999.0 -999.0    133053   \n",
       "133054  WIH3_2022  2022  W10010_0358/LH244     -999.0 -999.0 -999.0    133054   \n",
       "133055  WIH3_2022  2022  W10010_0381/LH244     -999.0 -999.0 -999.0    133055   \n",
       "133056  WIH3_2022  2022  W10010_0452/LH244     -999.0 -999.0 -999.0    133056   \n",
       "\n",
       "        Env_Idx  Geno_Idx  Yield_Mg_ha  Stand_Count_plants  Pollen_DAP_days  \\\n",
       "0             0         0     5.721725                56.0             63.0   \n",
       "1             0         1    11.338246                54.0             61.0   \n",
       "2             0         2     6.540810                60.0             63.0   \n",
       "3             0         3    10.366857                59.0             61.0   \n",
       "4             0         4    10.908814                58.0             63.0   \n",
       "...         ...       ...          ...                 ...              ...   \n",
       "133052      235      4871    11.975018                 NaN              NaN   \n",
       "133053      235      4872    12.971193                 NaN              NaN   \n",
       "133054      235      4873    13.499769                 NaN              NaN   \n",
       "133055      235      4875    10.831640                 NaN              NaN   \n",
       "133056      235      4897     9.526524                 NaN              NaN   \n",
       "\n",
       "        Silk_DAP_days  Plant_Height_cm  Ear_Height_cm  Root_Lodging_plants  \\\n",
       "0                67.0            213.0           79.0                  0.0   \n",
       "1                63.0            286.0          172.0                  0.0   \n",
       "2                65.0            239.0           92.0                  0.0   \n",
       "3                63.0            242.0          118.0                  0.0   \n",
       "4                65.0            211.0           92.0                  0.0   \n",
       "...               ...              ...            ...                  ...   \n",
       "133052            NaN              NaN            NaN                  NaN   \n",
       "133053            NaN              NaN            NaN                  NaN   \n",
       "133054            NaN              NaN            NaN                  NaN   \n",
       "133055            NaN              NaN            NaN                  NaN   \n",
       "133056            NaN              NaN            NaN                  NaN   \n",
       "\n",
       "        Stalk_Lodging_plants  Grain_Moisture   Twt_kg_m3  \n",
       "0                        0.0            20.8  706.664693  \n",
       "1                        0.0            25.8  693.792841  \n",
       "2                        4.0            20.8  698.941582  \n",
       "3                        0.0            23.7  711.813434  \n",
       "4                        0.0            19.4  743.993065  \n",
       "...                      ...             ...         ...  \n",
       "133052                   NaN             NaN         NaN  \n",
       "133053                   NaN             NaN         NaN  \n",
       "133054                   NaN             NaN         NaN  \n",
       "133055                   NaN             NaN         NaN  \n",
       "133056                   NaN             NaN         NaN  \n",
       "\n",
       "[133057 rows x 19 columns]"
      ]
     },
     "execution_count": null,
     "metadata": {},
     "output_type": "execute_result"
    }
   ],
   "source": [
    "# What would it look like if we heald out each of the tester lines from 19-21?\n",
    "\n",
    "phno"
   ]
  },
  {
   "cell_type": "code",
   "execution_count": null,
   "id": "4e2e7b9a",
   "metadata": {},
   "outputs": [
    {
     "data": {
      "text/html": [
       "<div>\n",
       "<style scoped>\n",
       "    .dataframe tbody tr th:only-of-type {\n",
       "        vertical-align: middle;\n",
       "    }\n",
       "\n",
       "    .dataframe tbody tr th {\n",
       "        vertical-align: top;\n",
       "    }\n",
       "\n",
       "    .dataframe thead th {\n",
       "        text-align: right;\n",
       "    }\n",
       "</style>\n",
       "<table border=\"1\" class=\"dataframe\">\n",
       "  <thead>\n",
       "    <tr style=\"text-align: right;\">\n",
       "      <th></th>\n",
       "      <th>Env</th>\n",
       "      <th>Year</th>\n",
       "      <th>Hybrid</th>\n",
       "      <th>Replicate</th>\n",
       "      <th>Block</th>\n",
       "      <th>Plot</th>\n",
       "      <th>Phno_Idx</th>\n",
       "      <th>Env_Idx</th>\n",
       "      <th>Geno_Idx</th>\n",
       "      <th>Yield_Mg_ha</th>\n",
       "      <th>...</th>\n",
       "      <th>Pollen_DAP_days</th>\n",
       "      <th>Silk_DAP_days</th>\n",
       "      <th>Plant_Height_cm</th>\n",
       "      <th>Ear_Height_cm</th>\n",
       "      <th>Root_Lodging_plants</th>\n",
       "      <th>Stalk_Lodging_plants</th>\n",
       "      <th>Grain_Moisture</th>\n",
       "      <th>Twt_kg_m3</th>\n",
       "      <th>F</th>\n",
       "      <th>M</th>\n",
       "    </tr>\n",
       "  </thead>\n",
       "  <tbody>\n",
       "    <tr>\n",
       "      <th>0</th>\n",
       "      <td>DEH1_2014</td>\n",
       "      <td>2014</td>\n",
       "      <td>M0088/LH185</td>\n",
       "      <td>1.0</td>\n",
       "      <td>1.0</td>\n",
       "      <td>1.0</td>\n",
       "      <td>0</td>\n",
       "      <td>0</td>\n",
       "      <td>0</td>\n",
       "      <td>5.721725</td>\n",
       "      <td>...</td>\n",
       "      <td>63.0</td>\n",
       "      <td>67.0</td>\n",
       "      <td>213.0</td>\n",
       "      <td>79.0</td>\n",
       "      <td>0.0</td>\n",
       "      <td>0.0</td>\n",
       "      <td>20.8</td>\n",
       "      <td>706.664693</td>\n",
       "      <td>M0088</td>\n",
       "      <td>LH185</td>\n",
       "    </tr>\n",
       "    <tr>\n",
       "      <th>1</th>\n",
       "      <td>DEH1_2014</td>\n",
       "      <td>2014</td>\n",
       "      <td>M0143/LH185</td>\n",
       "      <td>1.0</td>\n",
       "      <td>1.0</td>\n",
       "      <td>2.0</td>\n",
       "      <td>1</td>\n",
       "      <td>0</td>\n",
       "      <td>1</td>\n",
       "      <td>11.338246</td>\n",
       "      <td>...</td>\n",
       "      <td>61.0</td>\n",
       "      <td>63.0</td>\n",
       "      <td>286.0</td>\n",
       "      <td>172.0</td>\n",
       "      <td>0.0</td>\n",
       "      <td>0.0</td>\n",
       "      <td>25.8</td>\n",
       "      <td>693.792841</td>\n",
       "      <td>M0143</td>\n",
       "      <td>LH185</td>\n",
       "    </tr>\n",
       "    <tr>\n",
       "      <th>2</th>\n",
       "      <td>DEH1_2014</td>\n",
       "      <td>2014</td>\n",
       "      <td>M0003/LH185</td>\n",
       "      <td>1.0</td>\n",
       "      <td>1.0</td>\n",
       "      <td>3.0</td>\n",
       "      <td>2</td>\n",
       "      <td>0</td>\n",
       "      <td>2</td>\n",
       "      <td>6.540810</td>\n",
       "      <td>...</td>\n",
       "      <td>63.0</td>\n",
       "      <td>65.0</td>\n",
       "      <td>239.0</td>\n",
       "      <td>92.0</td>\n",
       "      <td>0.0</td>\n",
       "      <td>4.0</td>\n",
       "      <td>20.8</td>\n",
       "      <td>698.941582</td>\n",
       "      <td>M0003</td>\n",
       "      <td>LH185</td>\n",
       "    </tr>\n",
       "    <tr>\n",
       "      <th>3</th>\n",
       "      <td>DEH1_2014</td>\n",
       "      <td>2014</td>\n",
       "      <td>M0035/LH185</td>\n",
       "      <td>1.0</td>\n",
       "      <td>1.0</td>\n",
       "      <td>4.0</td>\n",
       "      <td>3</td>\n",
       "      <td>0</td>\n",
       "      <td>3</td>\n",
       "      <td>10.366857</td>\n",
       "      <td>...</td>\n",
       "      <td>61.0</td>\n",
       "      <td>63.0</td>\n",
       "      <td>242.0</td>\n",
       "      <td>118.0</td>\n",
       "      <td>0.0</td>\n",
       "      <td>0.0</td>\n",
       "      <td>23.7</td>\n",
       "      <td>711.813434</td>\n",
       "      <td>M0035</td>\n",
       "      <td>LH185</td>\n",
       "    </tr>\n",
       "    <tr>\n",
       "      <th>4</th>\n",
       "      <td>DEH1_2014</td>\n",
       "      <td>2014</td>\n",
       "      <td>M0052/LH185</td>\n",
       "      <td>1.0</td>\n",
       "      <td>1.0</td>\n",
       "      <td>5.0</td>\n",
       "      <td>4</td>\n",
       "      <td>0</td>\n",
       "      <td>4</td>\n",
       "      <td>10.908814</td>\n",
       "      <td>...</td>\n",
       "      <td>63.0</td>\n",
       "      <td>65.0</td>\n",
       "      <td>211.0</td>\n",
       "      <td>92.0</td>\n",
       "      <td>0.0</td>\n",
       "      <td>0.0</td>\n",
       "      <td>19.4</td>\n",
       "      <td>743.993065</td>\n",
       "      <td>M0052</td>\n",
       "      <td>LH185</td>\n",
       "    </tr>\n",
       "    <tr>\n",
       "      <th>...</th>\n",
       "      <td>...</td>\n",
       "      <td>...</td>\n",
       "      <td>...</td>\n",
       "      <td>...</td>\n",
       "      <td>...</td>\n",
       "      <td>...</td>\n",
       "      <td>...</td>\n",
       "      <td>...</td>\n",
       "      <td>...</td>\n",
       "      <td>...</td>\n",
       "      <td>...</td>\n",
       "      <td>...</td>\n",
       "      <td>...</td>\n",
       "      <td>...</td>\n",
       "      <td>...</td>\n",
       "      <td>...</td>\n",
       "      <td>...</td>\n",
       "      <td>...</td>\n",
       "      <td>...</td>\n",
       "      <td>...</td>\n",
       "      <td>...</td>\n",
       "    </tr>\n",
       "    <tr>\n",
       "      <th>133052</th>\n",
       "      <td>WIH3_2022</td>\n",
       "      <td>2022</td>\n",
       "      <td>W10010_0337/LH244</td>\n",
       "      <td>-999.0</td>\n",
       "      <td>-999.0</td>\n",
       "      <td>-999.0</td>\n",
       "      <td>133052</td>\n",
       "      <td>235</td>\n",
       "      <td>4871</td>\n",
       "      <td>11.975018</td>\n",
       "      <td>...</td>\n",
       "      <td>NaN</td>\n",
       "      <td>NaN</td>\n",
       "      <td>NaN</td>\n",
       "      <td>NaN</td>\n",
       "      <td>NaN</td>\n",
       "      <td>NaN</td>\n",
       "      <td>NaN</td>\n",
       "      <td>NaN</td>\n",
       "      <td>W10010_0337</td>\n",
       "      <td>LH244</td>\n",
       "    </tr>\n",
       "    <tr>\n",
       "      <th>133053</th>\n",
       "      <td>WIH3_2022</td>\n",
       "      <td>2022</td>\n",
       "      <td>W10010_0346/LH244</td>\n",
       "      <td>-999.0</td>\n",
       "      <td>-999.0</td>\n",
       "      <td>-999.0</td>\n",
       "      <td>133053</td>\n",
       "      <td>235</td>\n",
       "      <td>4872</td>\n",
       "      <td>12.971193</td>\n",
       "      <td>...</td>\n",
       "      <td>NaN</td>\n",
       "      <td>NaN</td>\n",
       "      <td>NaN</td>\n",
       "      <td>NaN</td>\n",
       "      <td>NaN</td>\n",
       "      <td>NaN</td>\n",
       "      <td>NaN</td>\n",
       "      <td>NaN</td>\n",
       "      <td>W10010_0346</td>\n",
       "      <td>LH244</td>\n",
       "    </tr>\n",
       "    <tr>\n",
       "      <th>133054</th>\n",
       "      <td>WIH3_2022</td>\n",
       "      <td>2022</td>\n",
       "      <td>W10010_0358/LH244</td>\n",
       "      <td>-999.0</td>\n",
       "      <td>-999.0</td>\n",
       "      <td>-999.0</td>\n",
       "      <td>133054</td>\n",
       "      <td>235</td>\n",
       "      <td>4873</td>\n",
       "      <td>13.499769</td>\n",
       "      <td>...</td>\n",
       "      <td>NaN</td>\n",
       "      <td>NaN</td>\n",
       "      <td>NaN</td>\n",
       "      <td>NaN</td>\n",
       "      <td>NaN</td>\n",
       "      <td>NaN</td>\n",
       "      <td>NaN</td>\n",
       "      <td>NaN</td>\n",
       "      <td>W10010_0358</td>\n",
       "      <td>LH244</td>\n",
       "    </tr>\n",
       "    <tr>\n",
       "      <th>133055</th>\n",
       "      <td>WIH3_2022</td>\n",
       "      <td>2022</td>\n",
       "      <td>W10010_0381/LH244</td>\n",
       "      <td>-999.0</td>\n",
       "      <td>-999.0</td>\n",
       "      <td>-999.0</td>\n",
       "      <td>133055</td>\n",
       "      <td>235</td>\n",
       "      <td>4875</td>\n",
       "      <td>10.831640</td>\n",
       "      <td>...</td>\n",
       "      <td>NaN</td>\n",
       "      <td>NaN</td>\n",
       "      <td>NaN</td>\n",
       "      <td>NaN</td>\n",
       "      <td>NaN</td>\n",
       "      <td>NaN</td>\n",
       "      <td>NaN</td>\n",
       "      <td>NaN</td>\n",
       "      <td>W10010_0381</td>\n",
       "      <td>LH244</td>\n",
       "    </tr>\n",
       "    <tr>\n",
       "      <th>133056</th>\n",
       "      <td>WIH3_2022</td>\n",
       "      <td>2022</td>\n",
       "      <td>W10010_0452/LH244</td>\n",
       "      <td>-999.0</td>\n",
       "      <td>-999.0</td>\n",
       "      <td>-999.0</td>\n",
       "      <td>133056</td>\n",
       "      <td>235</td>\n",
       "      <td>4897</td>\n",
       "      <td>9.526524</td>\n",
       "      <td>...</td>\n",
       "      <td>NaN</td>\n",
       "      <td>NaN</td>\n",
       "      <td>NaN</td>\n",
       "      <td>NaN</td>\n",
       "      <td>NaN</td>\n",
       "      <td>NaN</td>\n",
       "      <td>NaN</td>\n",
       "      <td>NaN</td>\n",
       "      <td>W10010_0452</td>\n",
       "      <td>LH244</td>\n",
       "    </tr>\n",
       "  </tbody>\n",
       "</table>\n",
       "<p>133057 rows × 21 columns</p>\n",
       "</div>"
      ],
      "text/plain": [
       "              Env  Year             Hybrid  Replicate  Block   Plot  Phno_Idx  \\\n",
       "0       DEH1_2014  2014        M0088/LH185        1.0    1.0    1.0         0   \n",
       "1       DEH1_2014  2014        M0143/LH185        1.0    1.0    2.0         1   \n",
       "2       DEH1_2014  2014        M0003/LH185        1.0    1.0    3.0         2   \n",
       "3       DEH1_2014  2014        M0035/LH185        1.0    1.0    4.0         3   \n",
       "4       DEH1_2014  2014        M0052/LH185        1.0    1.0    5.0         4   \n",
       "...           ...   ...                ...        ...    ...    ...       ...   \n",
       "133052  WIH3_2022  2022  W10010_0337/LH244     -999.0 -999.0 -999.0    133052   \n",
       "133053  WIH3_2022  2022  W10010_0346/LH244     -999.0 -999.0 -999.0    133053   \n",
       "133054  WIH3_2022  2022  W10010_0358/LH244     -999.0 -999.0 -999.0    133054   \n",
       "133055  WIH3_2022  2022  W10010_0381/LH244     -999.0 -999.0 -999.0    133055   \n",
       "133056  WIH3_2022  2022  W10010_0452/LH244     -999.0 -999.0 -999.0    133056   \n",
       "\n",
       "        Env_Idx  Geno_Idx  Yield_Mg_ha  ...  Pollen_DAP_days  Silk_DAP_days  \\\n",
       "0             0         0     5.721725  ...             63.0           67.0   \n",
       "1             0         1    11.338246  ...             61.0           63.0   \n",
       "2             0         2     6.540810  ...             63.0           65.0   \n",
       "3             0         3    10.366857  ...             61.0           63.0   \n",
       "4             0         4    10.908814  ...             63.0           65.0   \n",
       "...         ...       ...          ...  ...              ...            ...   \n",
       "133052      235      4871    11.975018  ...              NaN            NaN   \n",
       "133053      235      4872    12.971193  ...              NaN            NaN   \n",
       "133054      235      4873    13.499769  ...              NaN            NaN   \n",
       "133055      235      4875    10.831640  ...              NaN            NaN   \n",
       "133056      235      4897     9.526524  ...              NaN            NaN   \n",
       "\n",
       "        Plant_Height_cm  Ear_Height_cm  Root_Lodging_plants  \\\n",
       "0                 213.0           79.0                  0.0   \n",
       "1                 286.0          172.0                  0.0   \n",
       "2                 239.0           92.0                  0.0   \n",
       "3                 242.0          118.0                  0.0   \n",
       "4                 211.0           92.0                  0.0   \n",
       "...                 ...            ...                  ...   \n",
       "133052              NaN            NaN                  NaN   \n",
       "133053              NaN            NaN                  NaN   \n",
       "133054              NaN            NaN                  NaN   \n",
       "133055              NaN            NaN                  NaN   \n",
       "133056              NaN            NaN                  NaN   \n",
       "\n",
       "        Stalk_Lodging_plants  Grain_Moisture   Twt_kg_m3            F      M  \n",
       "0                        0.0            20.8  706.664693        M0088  LH185  \n",
       "1                        0.0            25.8  693.792841        M0143  LH185  \n",
       "2                        4.0            20.8  698.941582        M0003  LH185  \n",
       "3                        0.0            23.7  711.813434        M0035  LH185  \n",
       "4                        0.0            19.4  743.993065        M0052  LH185  \n",
       "...                      ...             ...         ...          ...    ...  \n",
       "133052                   NaN             NaN         NaN  W10010_0337  LH244  \n",
       "133053                   NaN             NaN         NaN  W10010_0346  LH244  \n",
       "133054                   NaN             NaN         NaN  W10010_0358  LH244  \n",
       "133055                   NaN             NaN         NaN  W10010_0381  LH244  \n",
       "133056                   NaN             NaN         NaN  W10010_0452  LH244  \n",
       "\n",
       "[133057 rows x 21 columns]"
      ]
     },
     "execution_count": null,
     "metadata": {},
     "output_type": "execute_result"
    }
   ],
   "source": [
    "phno[['F', 'M']] = phno['Hybrid'].str.split('/', n=1, expand=True)\n",
    "phno"
   ]
  },
  {
   "cell_type": "code",
   "execution_count": null,
   "id": "1e9db9dd",
   "metadata": {},
   "outputs": [],
   "source": [
    "parents_cols = list(phno.M)+list(phno.F)\n",
    "parents = pd.DataFrame({\n",
    "    'parent': list(set(parents_cols)),\n",
    "    'n':[len([ee for ee in parents_cols if ee == e]) for e in set(parents_cols)]\n",
    "})"
   ]
  },
  {
   "cell_type": "code",
   "execution_count": null,
   "id": "788c062e",
   "metadata": {},
   "outputs": [
    {
     "data": {
      "text/html": [
       "<div>\n",
       "<style scoped>\n",
       "    .dataframe tbody tr th:only-of-type {\n",
       "        vertical-align: middle;\n",
       "    }\n",
       "\n",
       "    .dataframe tbody tr th {\n",
       "        vertical-align: top;\n",
       "    }\n",
       "\n",
       "    .dataframe thead th {\n",
       "        text-align: right;\n",
       "    }\n",
       "</style>\n",
       "<table border=\"1\" class=\"dataframe\">\n",
       "  <thead>\n",
       "    <tr style=\"text-align: right;\">\n",
       "      <th></th>\n",
       "      <th>parent</th>\n",
       "      <th>n</th>\n",
       "    </tr>\n",
       "  </thead>\n",
       "  <tbody>\n",
       "    <tr>\n",
       "      <th>0</th>\n",
       "      <td>LH195</td>\n",
       "      <td>30351</td>\n",
       "    </tr>\n",
       "    <tr>\n",
       "      <th>1</th>\n",
       "      <td>PHZ51</td>\n",
       "      <td>18607</td>\n",
       "    </tr>\n",
       "    <tr>\n",
       "      <th>2</th>\n",
       "      <td>PHT69</td>\n",
       "      <td>12078</td>\n",
       "    </tr>\n",
       "    <tr>\n",
       "      <th>3</th>\n",
       "      <td>LH244</td>\n",
       "      <td>9855</td>\n",
       "    </tr>\n",
       "    <tr>\n",
       "      <th>4</th>\n",
       "      <td>PHP02</td>\n",
       "      <td>9650</td>\n",
       "    </tr>\n",
       "    <tr>\n",
       "      <th>...</th>\n",
       "      <td>...</td>\n",
       "      <td>...</td>\n",
       "    </tr>\n",
       "    <tr>\n",
       "      <th>2198</th>\n",
       "      <td>GEMN-0097_PHN46_0012</td>\n",
       "      <td>1</td>\n",
       "    </tr>\n",
       "    <tr>\n",
       "      <th>2199</th>\n",
       "      <td>GEMN-0225_PHK76_0025</td>\n",
       "      <td>1</td>\n",
       "    </tr>\n",
       "    <tr>\n",
       "      <th>2200</th>\n",
       "      <td>Z022E0082</td>\n",
       "      <td>1</td>\n",
       "    </tr>\n",
       "    <tr>\n",
       "      <th>2201</th>\n",
       "      <td>PHJ31</td>\n",
       "      <td>1</td>\n",
       "    </tr>\n",
       "    <tr>\n",
       "      <th>2202</th>\n",
       "      <td>MO44_LH145_0047</td>\n",
       "      <td>1</td>\n",
       "    </tr>\n",
       "  </tbody>\n",
       "</table>\n",
       "<p>2203 rows × 2 columns</p>\n",
       "</div>"
      ],
      "text/plain": [
       "                    parent      n\n",
       "0                    LH195  30351\n",
       "1                    PHZ51  18607\n",
       "2                    PHT69  12078\n",
       "3                    LH244   9855\n",
       "4                    PHP02   9650\n",
       "...                    ...    ...\n",
       "2198  GEMN-0097_PHN46_0012      1\n",
       "2199  GEMN-0225_PHK76_0025      1\n",
       "2200             Z022E0082      1\n",
       "2201                 PHJ31      1\n",
       "2202       MO44_LH145_0047      1\n",
       "\n",
       "[2203 rows x 2 columns]"
      ]
     },
     "execution_count": null,
     "metadata": {},
     "output_type": "execute_result"
    }
   ],
   "source": [
    "parents = parents.sort_values('n',    ascending=False).reset_index(drop=True)\n",
    "parents"
   ]
  },
  {
   "cell_type": "code",
   "execution_count": null,
   "id": "bcab19c3",
   "metadata": {},
   "outputs": [],
   "source": [
    "# parents.loc[parents.n > 1000 ]"
   ]
  },
  {
   "cell_type": "code",
   "execution_count": null,
   "id": "7994d6af",
   "metadata": {},
   "outputs": [],
   "source": [
    "e = 'LH195'\n",
    "\n",
    "out_list = []\n",
    "for e in list(set(parents.loc[parents.n > 1000, 'parent'])):\n",
    "    temp = phno.loc[((phno.F == e) | (phno.M == e)), ['Year', 'Hybrid']].groupby('Year').count().reset_index()\n",
    "    temp['Query'] = e\n",
    "    out_list += [temp]\n",
    "\n"
   ]
  },
  {
   "cell_type": "code",
   "execution_count": null,
   "id": "674daf71",
   "metadata": {},
   "outputs": [
    {
     "data": {
      "text/html": [
       "<div>\n",
       "<style scoped>\n",
       "    .dataframe tbody tr th:only-of-type {\n",
       "        vertical-align: middle;\n",
       "    }\n",
       "\n",
       "    .dataframe tbody tr th {\n",
       "        vertical-align: top;\n",
       "    }\n",
       "\n",
       "    .dataframe thead th {\n",
       "        text-align: right;\n",
       "    }\n",
       "</style>\n",
       "<table border=\"1\" class=\"dataframe\">\n",
       "  <thead>\n",
       "    <tr style=\"text-align: right;\">\n",
       "      <th>Year</th>\n",
       "      <th>Query</th>\n",
       "      <th>2014</th>\n",
       "      <th>2015</th>\n",
       "      <th>2016</th>\n",
       "      <th>2017</th>\n",
       "      <th>2018</th>\n",
       "      <th>2019</th>\n",
       "      <th>2020</th>\n",
       "      <th>2021</th>\n",
       "      <th>2022</th>\n",
       "    </tr>\n",
       "  </thead>\n",
       "  <tbody>\n",
       "    <tr>\n",
       "      <th>0</th>\n",
       "      <td>B14A</td>\n",
       "      <td>82.0</td>\n",
       "      <td>142.0</td>\n",
       "      <td>156.0</td>\n",
       "      <td>156.0</td>\n",
       "      <td>213.0</td>\n",
       "      <td>159.0</td>\n",
       "      <td>236.0</td>\n",
       "      <td>295.0</td>\n",
       "      <td>44.0</td>\n",
       "    </tr>\n",
       "    <tr>\n",
       "      <th>1</th>\n",
       "      <td>B37</td>\n",
       "      <td>156.0</td>\n",
       "      <td>150.0</td>\n",
       "      <td>154.0</td>\n",
       "      <td>60.0</td>\n",
       "      <td>205.0</td>\n",
       "      <td>261.0</td>\n",
       "      <td>234.0</td>\n",
       "      <td>305.0</td>\n",
       "      <td>45.0</td>\n",
       "    </tr>\n",
       "    <tr>\n",
       "      <th>2</th>\n",
       "      <td>B73</td>\n",
       "      <td>224.0</td>\n",
       "      <td>328.0</td>\n",
       "      <td>330.0</td>\n",
       "      <td>353.0</td>\n",
       "      <td>256.0</td>\n",
       "      <td>133.0</td>\n",
       "      <td>366.0</td>\n",
       "      <td>512.0</td>\n",
       "      <td>95.0</td>\n",
       "    </tr>\n",
       "    <tr>\n",
       "      <th>3</th>\n",
       "      <td>CG102</td>\n",
       "      <td>1108.0</td>\n",
       "      <td>180.0</td>\n",
       "      <td>81.0</td>\n",
       "      <td>32.0</td>\n",
       "      <td>NaN</td>\n",
       "      <td>NaN</td>\n",
       "      <td>NaN</td>\n",
       "      <td>NaN</td>\n",
       "      <td>NaN</td>\n",
       "    </tr>\n",
       "    <tr>\n",
       "      <th>4</th>\n",
       "      <td>DK3IIH6</td>\n",
       "      <td>NaN</td>\n",
       "      <td>NaN</td>\n",
       "      <td>3919.0</td>\n",
       "      <td>2653.0</td>\n",
       "      <td>12.0</td>\n",
       "      <td>NaN</td>\n",
       "      <td>NaN</td>\n",
       "      <td>NaN</td>\n",
       "      <td>23.0</td>\n",
       "    </tr>\n",
       "    <tr>\n",
       "      <th>5</th>\n",
       "      <td>F42</td>\n",
       "      <td>107.0</td>\n",
       "      <td>111.0</td>\n",
       "      <td>153.0</td>\n",
       "      <td>104.0</td>\n",
       "      <td>232.0</td>\n",
       "      <td>176.0</td>\n",
       "      <td>235.0</td>\n",
       "      <td>306.0</td>\n",
       "      <td>32.0</td>\n",
       "    </tr>\n",
       "    <tr>\n",
       "      <th>6</th>\n",
       "      <td>H95</td>\n",
       "      <td>154.0</td>\n",
       "      <td>155.0</td>\n",
       "      <td>203.0</td>\n",
       "      <td>139.0</td>\n",
       "      <td>204.0</td>\n",
       "      <td>210.0</td>\n",
       "      <td>234.0</td>\n",
       "      <td>301.0</td>\n",
       "      <td>45.0</td>\n",
       "    </tr>\n",
       "    <tr>\n",
       "      <th>7</th>\n",
       "      <td>LH185</td>\n",
       "      <td>2536.0</td>\n",
       "      <td>1031.0</td>\n",
       "      <td>447.0</td>\n",
       "      <td>561.0</td>\n",
       "      <td>10.0</td>\n",
       "      <td>NaN</td>\n",
       "      <td>NaN</td>\n",
       "      <td>NaN</td>\n",
       "      <td>19.0</td>\n",
       "    </tr>\n",
       "    <tr>\n",
       "      <th>8</th>\n",
       "      <td>LH195</td>\n",
       "      <td>1147.0</td>\n",
       "      <td>1423.0</td>\n",
       "      <td>2185.0</td>\n",
       "      <td>1536.0</td>\n",
       "      <td>11815.0</td>\n",
       "      <td>11447.0</td>\n",
       "      <td>275.0</td>\n",
       "      <td>424.0</td>\n",
       "      <td>99.0</td>\n",
       "    </tr>\n",
       "    <tr>\n",
       "      <th>9</th>\n",
       "      <td>LH198</td>\n",
       "      <td>3562.0</td>\n",
       "      <td>471.0</td>\n",
       "      <td>481.0</td>\n",
       "      <td>521.0</td>\n",
       "      <td>NaN</td>\n",
       "      <td>NaN</td>\n",
       "      <td>NaN</td>\n",
       "      <td>NaN</td>\n",
       "      <td>NaN</td>\n",
       "    </tr>\n",
       "    <tr>\n",
       "      <th>10</th>\n",
       "      <td>LH244</td>\n",
       "      <td>NaN</td>\n",
       "      <td>NaN</td>\n",
       "      <td>NaN</td>\n",
       "      <td>NaN</td>\n",
       "      <td>NaN</td>\n",
       "      <td>NaN</td>\n",
       "      <td>54.0</td>\n",
       "      <td>97.0</td>\n",
       "      <td>9704.0</td>\n",
       "    </tr>\n",
       "    <tr>\n",
       "      <th>11</th>\n",
       "      <td>LH82</td>\n",
       "      <td>203.0</td>\n",
       "      <td>2389.0</td>\n",
       "      <td>390.0</td>\n",
       "      <td>391.0</td>\n",
       "      <td>18.0</td>\n",
       "      <td>NaN</td>\n",
       "      <td>47.0</td>\n",
       "      <td>62.0</td>\n",
       "      <td>31.0</td>\n",
       "    </tr>\n",
       "    <tr>\n",
       "      <th>12</th>\n",
       "      <td>MO17</td>\n",
       "      <td>148.0</td>\n",
       "      <td>160.0</td>\n",
       "      <td>233.0</td>\n",
       "      <td>202.0</td>\n",
       "      <td>291.0</td>\n",
       "      <td>208.0</td>\n",
       "      <td>389.0</td>\n",
       "      <td>510.0</td>\n",
       "      <td>87.0</td>\n",
       "    </tr>\n",
       "    <tr>\n",
       "      <th>13</th>\n",
       "      <td>OH43</td>\n",
       "      <td>133.0</td>\n",
       "      <td>191.0</td>\n",
       "      <td>153.0</td>\n",
       "      <td>67.0</td>\n",
       "      <td>233.0</td>\n",
       "      <td>218.0</td>\n",
       "      <td>215.0</td>\n",
       "      <td>306.0</td>\n",
       "      <td>68.0</td>\n",
       "    </tr>\n",
       "    <tr>\n",
       "      <th>14</th>\n",
       "      <td>PB80</td>\n",
       "      <td>1603.0</td>\n",
       "      <td>245.0</td>\n",
       "      <td>52.0</td>\n",
       "      <td>58.0</td>\n",
       "      <td>NaN</td>\n",
       "      <td>NaN</td>\n",
       "      <td>35.0</td>\n",
       "      <td>34.0</td>\n",
       "      <td>NaN</td>\n",
       "    </tr>\n",
       "    <tr>\n",
       "      <th>15</th>\n",
       "      <td>PHB47</td>\n",
       "      <td>28.0</td>\n",
       "      <td>3268.0</td>\n",
       "      <td>1128.0</td>\n",
       "      <td>1158.0</td>\n",
       "      <td>32.0</td>\n",
       "      <td>NaN</td>\n",
       "      <td>119.0</td>\n",
       "      <td>189.0</td>\n",
       "      <td>85.0</td>\n",
       "    </tr>\n",
       "    <tr>\n",
       "      <th>16</th>\n",
       "      <td>PHK76</td>\n",
       "      <td>NaN</td>\n",
       "      <td>NaN</td>\n",
       "      <td>162.0</td>\n",
       "      <td>NaN</td>\n",
       "      <td>NaN</td>\n",
       "      <td>NaN</td>\n",
       "      <td>2623.0</td>\n",
       "      <td>4477.0</td>\n",
       "      <td>47.0</td>\n",
       "    </tr>\n",
       "    <tr>\n",
       "      <th>17</th>\n",
       "      <td>PHM49</td>\n",
       "      <td>179.0</td>\n",
       "      <td>243.0</td>\n",
       "      <td>187.0</td>\n",
       "      <td>144.0</td>\n",
       "      <td>151.0</td>\n",
       "      <td>102.0</td>\n",
       "      <td>123.0</td>\n",
       "      <td>202.0</td>\n",
       "      <td>34.0</td>\n",
       "    </tr>\n",
       "    <tr>\n",
       "      <th>18</th>\n",
       "      <td>PHN82</td>\n",
       "      <td>177.0</td>\n",
       "      <td>254.0</td>\n",
       "      <td>550.0</td>\n",
       "      <td>627.0</td>\n",
       "      <td>317.0</td>\n",
       "      <td>172.0</td>\n",
       "      <td>462.0</td>\n",
       "      <td>585.0</td>\n",
       "      <td>104.0</td>\n",
       "    </tr>\n",
       "    <tr>\n",
       "      <th>19</th>\n",
       "      <td>PHP02</td>\n",
       "      <td>NaN</td>\n",
       "      <td>50.0</td>\n",
       "      <td>57.0</td>\n",
       "      <td>123.0</td>\n",
       "      <td>NaN</td>\n",
       "      <td>NaN</td>\n",
       "      <td>4256.0</td>\n",
       "      <td>5141.0</td>\n",
       "      <td>23.0</td>\n",
       "    </tr>\n",
       "    <tr>\n",
       "      <th>20</th>\n",
       "      <td>PHT69</td>\n",
       "      <td>NaN</td>\n",
       "      <td>8.0</td>\n",
       "      <td>34.0</td>\n",
       "      <td>31.0</td>\n",
       "      <td>5358.0</td>\n",
       "      <td>6647.0</td>\n",
       "      <td>NaN</td>\n",
       "      <td>NaN</td>\n",
       "      <td>NaN</td>\n",
       "    </tr>\n",
       "    <tr>\n",
       "      <th>21</th>\n",
       "      <td>PHW52</td>\n",
       "      <td>163.0</td>\n",
       "      <td>216.0</td>\n",
       "      <td>791.0</td>\n",
       "      <td>803.0</td>\n",
       "      <td>145.0</td>\n",
       "      <td>103.0</td>\n",
       "      <td>155.0</td>\n",
       "      <td>201.0</td>\n",
       "      <td>40.0</td>\n",
       "    </tr>\n",
       "    <tr>\n",
       "      <th>22</th>\n",
       "      <td>PHZ51</td>\n",
       "      <td>4.0</td>\n",
       "      <td>3031.0</td>\n",
       "      <td>1415.0</td>\n",
       "      <td>1358.0</td>\n",
       "      <td>10.0</td>\n",
       "      <td>NaN</td>\n",
       "      <td>5714.0</td>\n",
       "      <td>6990.0</td>\n",
       "      <td>85.0</td>\n",
       "    </tr>\n",
       "    <tr>\n",
       "      <th>23</th>\n",
       "      <td>TX779</td>\n",
       "      <td>NaN</td>\n",
       "      <td>NaN</td>\n",
       "      <td>NaN</td>\n",
       "      <td>48.0</td>\n",
       "      <td>79.0</td>\n",
       "      <td>53.0</td>\n",
       "      <td>350.0</td>\n",
       "      <td>444.0</td>\n",
       "      <td>53.0</td>\n",
       "    </tr>\n",
       "  </tbody>\n",
       "</table>\n",
       "</div>"
      ],
      "text/plain": [
       "Year    Query    2014    2015    2016    2017     2018     2019    2020  \\\n",
       "0        B14A    82.0   142.0   156.0   156.0    213.0    159.0   236.0   \n",
       "1         B37   156.0   150.0   154.0    60.0    205.0    261.0   234.0   \n",
       "2         B73   224.0   328.0   330.0   353.0    256.0    133.0   366.0   \n",
       "3       CG102  1108.0   180.0    81.0    32.0      NaN      NaN     NaN   \n",
       "4     DK3IIH6     NaN     NaN  3919.0  2653.0     12.0      NaN     NaN   \n",
       "5         F42   107.0   111.0   153.0   104.0    232.0    176.0   235.0   \n",
       "6         H95   154.0   155.0   203.0   139.0    204.0    210.0   234.0   \n",
       "7       LH185  2536.0  1031.0   447.0   561.0     10.0      NaN     NaN   \n",
       "8       LH195  1147.0  1423.0  2185.0  1536.0  11815.0  11447.0   275.0   \n",
       "9       LH198  3562.0   471.0   481.0   521.0      NaN      NaN     NaN   \n",
       "10      LH244     NaN     NaN     NaN     NaN      NaN      NaN    54.0   \n",
       "11       LH82   203.0  2389.0   390.0   391.0     18.0      NaN    47.0   \n",
       "12       MO17   148.0   160.0   233.0   202.0    291.0    208.0   389.0   \n",
       "13       OH43   133.0   191.0   153.0    67.0    233.0    218.0   215.0   \n",
       "14       PB80  1603.0   245.0    52.0    58.0      NaN      NaN    35.0   \n",
       "15      PHB47    28.0  3268.0  1128.0  1158.0     32.0      NaN   119.0   \n",
       "16      PHK76     NaN     NaN   162.0     NaN      NaN      NaN  2623.0   \n",
       "17      PHM49   179.0   243.0   187.0   144.0    151.0    102.0   123.0   \n",
       "18      PHN82   177.0   254.0   550.0   627.0    317.0    172.0   462.0   \n",
       "19      PHP02     NaN    50.0    57.0   123.0      NaN      NaN  4256.0   \n",
       "20      PHT69     NaN     8.0    34.0    31.0   5358.0   6647.0     NaN   \n",
       "21      PHW52   163.0   216.0   791.0   803.0    145.0    103.0   155.0   \n",
       "22      PHZ51     4.0  3031.0  1415.0  1358.0     10.0      NaN  5714.0   \n",
       "23      TX779     NaN     NaN     NaN    48.0     79.0     53.0   350.0   \n",
       "\n",
       "Year    2021    2022  \n",
       "0      295.0    44.0  \n",
       "1      305.0    45.0  \n",
       "2      512.0    95.0  \n",
       "3        NaN     NaN  \n",
       "4        NaN    23.0  \n",
       "5      306.0    32.0  \n",
       "6      301.0    45.0  \n",
       "7        NaN    19.0  \n",
       "8      424.0    99.0  \n",
       "9        NaN     NaN  \n",
       "10      97.0  9704.0  \n",
       "11      62.0    31.0  \n",
       "12     510.0    87.0  \n",
       "13     306.0    68.0  \n",
       "14      34.0     NaN  \n",
       "15     189.0    85.0  \n",
       "16    4477.0    47.0  \n",
       "17     202.0    34.0  \n",
       "18     585.0   104.0  \n",
       "19    5141.0    23.0  \n",
       "20       NaN     NaN  \n",
       "21     201.0    40.0  \n",
       "22    6990.0    85.0  \n",
       "23     444.0    53.0  "
      ]
     },
     "execution_count": null,
     "metadata": {},
     "output_type": "execute_result"
    }
   ],
   "source": [
    "temp = pd.concat(out_list).pivot(index='Query', columns='Year', values='Hybrid').reset_index()\n",
    "temp"
   ]
  },
  {
   "cell_type": "code",
   "execution_count": null,
   "id": "b5821940",
   "metadata": {},
   "outputs": [],
   "source": [
    "temp.index = temp.Query"
   ]
  },
  {
   "cell_type": "code",
   "execution_count": null,
   "id": "1ba3a018",
   "metadata": {},
   "outputs": [
    {
     "data": {
      "application/vnd.plotly.v1+json": {
       "config": {
        "plotlyServerURL": "https://plot.ly"
       },
       "data": [
        {
         "coloraxis": "coloraxis",
         "hovertemplate": "Year: %{x}<br>Query: %{y}<br>color: %{z}<extra></extra>",
         "name": "0",
         "type": "heatmap",
         "x": [
          2014,
          2015,
          2016,
          2017,
          2018,
          2019,
          2020,
          2021,
          2022
         ],
         "xaxis": "x",
         "y": [
          "B14A",
          "B37",
          "B73",
          "CG102",
          "DK3IIH6",
          "F42",
          "H95",
          "LH185",
          "LH195",
          "LH198",
          "LH244",
          "LH82",
          "MO17",
          "OH43",
          "PB80",
          "PHB47",
          "PHK76",
          "PHM49",
          "PHN82",
          "PHP02",
          "PHT69",
          "PHW52",
          "PHZ51",
          "TX779"
         ],
         "yaxis": "y",
         "z": [
          [
           82,
           142,
           156,
           156,
           213,
           159,
           236,
           295,
           44
          ],
          [
           156,
           150,
           154,
           60,
           205,
           261,
           234,
           305,
           45
          ],
          [
           224,
           328,
           330,
           353,
           256,
           133,
           366,
           512,
           95
          ],
          [
           1108,
           180,
           81,
           32,
           null,
           null,
           null,
           null,
           null
          ],
          [
           null,
           null,
           3919,
           2653,
           12,
           null,
           null,
           null,
           23
          ],
          [
           107,
           111,
           153,
           104,
           232,
           176,
           235,
           306,
           32
          ],
          [
           154,
           155,
           203,
           139,
           204,
           210,
           234,
           301,
           45
          ],
          [
           2536,
           1031,
           447,
           561,
           10,
           null,
           null,
           null,
           19
          ],
          [
           1147,
           1423,
           2185,
           1536,
           11815,
           11447,
           275,
           424,
           99
          ],
          [
           3562,
           471,
           481,
           521,
           null,
           null,
           null,
           null,
           null
          ],
          [
           null,
           null,
           null,
           null,
           null,
           null,
           54,
           97,
           9704
          ],
          [
           203,
           2389,
           390,
           391,
           18,
           null,
           47,
           62,
           31
          ],
          [
           148,
           160,
           233,
           202,
           291,
           208,
           389,
           510,
           87
          ],
          [
           133,
           191,
           153,
           67,
           233,
           218,
           215,
           306,
           68
          ],
          [
           1603,
           245,
           52,
           58,
           null,
           null,
           35,
           34,
           null
          ],
          [
           28,
           3268,
           1128,
           1158,
           32,
           null,
           119,
           189,
           85
          ],
          [
           null,
           null,
           162,
           null,
           null,
           null,
           2623,
           4477,
           47
          ],
          [
           179,
           243,
           187,
           144,
           151,
           102,
           123,
           202,
           34
          ],
          [
           177,
           254,
           550,
           627,
           317,
           172,
           462,
           585,
           104
          ],
          [
           null,
           50,
           57,
           123,
           null,
           null,
           4256,
           5141,
           23
          ],
          [
           null,
           8,
           34,
           31,
           5358,
           6647,
           null,
           null,
           null
          ],
          [
           163,
           216,
           791,
           803,
           145,
           103,
           155,
           201,
           40
          ],
          [
           4,
           3031,
           1415,
           1358,
           10,
           null,
           5714,
           6990,
           85
          ],
          [
           null,
           null,
           null,
           48,
           79,
           53,
           350,
           444,
           53
          ]
         ]
        }
       ],
       "layout": {
        "coloraxis": {
         "colorscale": [
          [
           0,
           "#0d0887"
          ],
          [
           0.1111111111111111,
           "#46039f"
          ],
          [
           0.2222222222222222,
           "#7201a8"
          ],
          [
           0.3333333333333333,
           "#9c179e"
          ],
          [
           0.4444444444444444,
           "#bd3786"
          ],
          [
           0.5555555555555556,
           "#d8576b"
          ],
          [
           0.6666666666666666,
           "#ed7953"
          ],
          [
           0.7777777777777778,
           "#fb9f3a"
          ],
          [
           0.8888888888888888,
           "#fdca26"
          ],
          [
           1,
           "#f0f921"
          ]
         ]
        },
        "margin": {
         "t": 60
        },
        "template": {
         "data": {
          "bar": [
           {
            "error_x": {
             "color": "#2a3f5f"
            },
            "error_y": {
             "color": "#2a3f5f"
            },
            "marker": {
             "line": {
              "color": "#E5ECF6",
              "width": 0.5
             },
             "pattern": {
              "fillmode": "overlay",
              "size": 10,
              "solidity": 0.2
             }
            },
            "type": "bar"
           }
          ],
          "barpolar": [
           {
            "marker": {
             "line": {
              "color": "#E5ECF6",
              "width": 0.5
             },
             "pattern": {
              "fillmode": "overlay",
              "size": 10,
              "solidity": 0.2
             }
            },
            "type": "barpolar"
           }
          ],
          "carpet": [
           {
            "aaxis": {
             "endlinecolor": "#2a3f5f",
             "gridcolor": "white",
             "linecolor": "white",
             "minorgridcolor": "white",
             "startlinecolor": "#2a3f5f"
            },
            "baxis": {
             "endlinecolor": "#2a3f5f",
             "gridcolor": "white",
             "linecolor": "white",
             "minorgridcolor": "white",
             "startlinecolor": "#2a3f5f"
            },
            "type": "carpet"
           }
          ],
          "choropleth": [
           {
            "colorbar": {
             "outlinewidth": 0,
             "ticks": ""
            },
            "type": "choropleth"
           }
          ],
          "contour": [
           {
            "colorbar": {
             "outlinewidth": 0,
             "ticks": ""
            },
            "colorscale": [
             [
              0,
              "#0d0887"
             ],
             [
              0.1111111111111111,
              "#46039f"
             ],
             [
              0.2222222222222222,
              "#7201a8"
             ],
             [
              0.3333333333333333,
              "#9c179e"
             ],
             [
              0.4444444444444444,
              "#bd3786"
             ],
             [
              0.5555555555555556,
              "#d8576b"
             ],
             [
              0.6666666666666666,
              "#ed7953"
             ],
             [
              0.7777777777777778,
              "#fb9f3a"
             ],
             [
              0.8888888888888888,
              "#fdca26"
             ],
             [
              1,
              "#f0f921"
             ]
            ],
            "type": "contour"
           }
          ],
          "contourcarpet": [
           {
            "colorbar": {
             "outlinewidth": 0,
             "ticks": ""
            },
            "type": "contourcarpet"
           }
          ],
          "heatmap": [
           {
            "colorbar": {
             "outlinewidth": 0,
             "ticks": ""
            },
            "colorscale": [
             [
              0,
              "#0d0887"
             ],
             [
              0.1111111111111111,
              "#46039f"
             ],
             [
              0.2222222222222222,
              "#7201a8"
             ],
             [
              0.3333333333333333,
              "#9c179e"
             ],
             [
              0.4444444444444444,
              "#bd3786"
             ],
             [
              0.5555555555555556,
              "#d8576b"
             ],
             [
              0.6666666666666666,
              "#ed7953"
             ],
             [
              0.7777777777777778,
              "#fb9f3a"
             ],
             [
              0.8888888888888888,
              "#fdca26"
             ],
             [
              1,
              "#f0f921"
             ]
            ],
            "type": "heatmap"
           }
          ],
          "heatmapgl": [
           {
            "colorbar": {
             "outlinewidth": 0,
             "ticks": ""
            },
            "colorscale": [
             [
              0,
              "#0d0887"
             ],
             [
              0.1111111111111111,
              "#46039f"
             ],
             [
              0.2222222222222222,
              "#7201a8"
             ],
             [
              0.3333333333333333,
              "#9c179e"
             ],
             [
              0.4444444444444444,
              "#bd3786"
             ],
             [
              0.5555555555555556,
              "#d8576b"
             ],
             [
              0.6666666666666666,
              "#ed7953"
             ],
             [
              0.7777777777777778,
              "#fb9f3a"
             ],
             [
              0.8888888888888888,
              "#fdca26"
             ],
             [
              1,
              "#f0f921"
             ]
            ],
            "type": "heatmapgl"
           }
          ],
          "histogram": [
           {
            "marker": {
             "pattern": {
              "fillmode": "overlay",
              "size": 10,
              "solidity": 0.2
             }
            },
            "type": "histogram"
           }
          ],
          "histogram2d": [
           {
            "colorbar": {
             "outlinewidth": 0,
             "ticks": ""
            },
            "colorscale": [
             [
              0,
              "#0d0887"
             ],
             [
              0.1111111111111111,
              "#46039f"
             ],
             [
              0.2222222222222222,
              "#7201a8"
             ],
             [
              0.3333333333333333,
              "#9c179e"
             ],
             [
              0.4444444444444444,
              "#bd3786"
             ],
             [
              0.5555555555555556,
              "#d8576b"
             ],
             [
              0.6666666666666666,
              "#ed7953"
             ],
             [
              0.7777777777777778,
              "#fb9f3a"
             ],
             [
              0.8888888888888888,
              "#fdca26"
             ],
             [
              1,
              "#f0f921"
             ]
            ],
            "type": "histogram2d"
           }
          ],
          "histogram2dcontour": [
           {
            "colorbar": {
             "outlinewidth": 0,
             "ticks": ""
            },
            "colorscale": [
             [
              0,
              "#0d0887"
             ],
             [
              0.1111111111111111,
              "#46039f"
             ],
             [
              0.2222222222222222,
              "#7201a8"
             ],
             [
              0.3333333333333333,
              "#9c179e"
             ],
             [
              0.4444444444444444,
              "#bd3786"
             ],
             [
              0.5555555555555556,
              "#d8576b"
             ],
             [
              0.6666666666666666,
              "#ed7953"
             ],
             [
              0.7777777777777778,
              "#fb9f3a"
             ],
             [
              0.8888888888888888,
              "#fdca26"
             ],
             [
              1,
              "#f0f921"
             ]
            ],
            "type": "histogram2dcontour"
           }
          ],
          "mesh3d": [
           {
            "colorbar": {
             "outlinewidth": 0,
             "ticks": ""
            },
            "type": "mesh3d"
           }
          ],
          "parcoords": [
           {
            "line": {
             "colorbar": {
              "outlinewidth": 0,
              "ticks": ""
             }
            },
            "type": "parcoords"
           }
          ],
          "pie": [
           {
            "automargin": true,
            "type": "pie"
           }
          ],
          "scatter": [
           {
            "fillpattern": {
             "fillmode": "overlay",
             "size": 10,
             "solidity": 0.2
            },
            "type": "scatter"
           }
          ],
          "scatter3d": [
           {
            "line": {
             "colorbar": {
              "outlinewidth": 0,
              "ticks": ""
             }
            },
            "marker": {
             "colorbar": {
              "outlinewidth": 0,
              "ticks": ""
             }
            },
            "type": "scatter3d"
           }
          ],
          "scattercarpet": [
           {
            "marker": {
             "colorbar": {
              "outlinewidth": 0,
              "ticks": ""
             }
            },
            "type": "scattercarpet"
           }
          ],
          "scattergeo": [
           {
            "marker": {
             "colorbar": {
              "outlinewidth": 0,
              "ticks": ""
             }
            },
            "type": "scattergeo"
           }
          ],
          "scattergl": [
           {
            "marker": {
             "colorbar": {
              "outlinewidth": 0,
              "ticks": ""
             }
            },
            "type": "scattergl"
           }
          ],
          "scattermapbox": [
           {
            "marker": {
             "colorbar": {
              "outlinewidth": 0,
              "ticks": ""
             }
            },
            "type": "scattermapbox"
           }
          ],
          "scatterpolar": [
           {
            "marker": {
             "colorbar": {
              "outlinewidth": 0,
              "ticks": ""
             }
            },
            "type": "scatterpolar"
           }
          ],
          "scatterpolargl": [
           {
            "marker": {
             "colorbar": {
              "outlinewidth": 0,
              "ticks": ""
             }
            },
            "type": "scatterpolargl"
           }
          ],
          "scatterternary": [
           {
            "marker": {
             "colorbar": {
              "outlinewidth": 0,
              "ticks": ""
             }
            },
            "type": "scatterternary"
           }
          ],
          "surface": [
           {
            "colorbar": {
             "outlinewidth": 0,
             "ticks": ""
            },
            "colorscale": [
             [
              0,
              "#0d0887"
             ],
             [
              0.1111111111111111,
              "#46039f"
             ],
             [
              0.2222222222222222,
              "#7201a8"
             ],
             [
              0.3333333333333333,
              "#9c179e"
             ],
             [
              0.4444444444444444,
              "#bd3786"
             ],
             [
              0.5555555555555556,
              "#d8576b"
             ],
             [
              0.6666666666666666,
              "#ed7953"
             ],
             [
              0.7777777777777778,
              "#fb9f3a"
             ],
             [
              0.8888888888888888,
              "#fdca26"
             ],
             [
              1,
              "#f0f921"
             ]
            ],
            "type": "surface"
           }
          ],
          "table": [
           {
            "cells": {
             "fill": {
              "color": "#EBF0F8"
             },
             "line": {
              "color": "white"
             }
            },
            "header": {
             "fill": {
              "color": "#C8D4E3"
             },
             "line": {
              "color": "white"
             }
            },
            "type": "table"
           }
          ]
         },
         "layout": {
          "annotationdefaults": {
           "arrowcolor": "#2a3f5f",
           "arrowhead": 0,
           "arrowwidth": 1
          },
          "autotypenumbers": "strict",
          "coloraxis": {
           "colorbar": {
            "outlinewidth": 0,
            "ticks": ""
           }
          },
          "colorscale": {
           "diverging": [
            [
             0,
             "#8e0152"
            ],
            [
             0.1,
             "#c51b7d"
            ],
            [
             0.2,
             "#de77ae"
            ],
            [
             0.3,
             "#f1b6da"
            ],
            [
             0.4,
             "#fde0ef"
            ],
            [
             0.5,
             "#f7f7f7"
            ],
            [
             0.6,
             "#e6f5d0"
            ],
            [
             0.7,
             "#b8e186"
            ],
            [
             0.8,
             "#7fbc41"
            ],
            [
             0.9,
             "#4d9221"
            ],
            [
             1,
             "#276419"
            ]
           ],
           "sequential": [
            [
             0,
             "#0d0887"
            ],
            [
             0.1111111111111111,
             "#46039f"
            ],
            [
             0.2222222222222222,
             "#7201a8"
            ],
            [
             0.3333333333333333,
             "#9c179e"
            ],
            [
             0.4444444444444444,
             "#bd3786"
            ],
            [
             0.5555555555555556,
             "#d8576b"
            ],
            [
             0.6666666666666666,
             "#ed7953"
            ],
            [
             0.7777777777777778,
             "#fb9f3a"
            ],
            [
             0.8888888888888888,
             "#fdca26"
            ],
            [
             1,
             "#f0f921"
            ]
           ],
           "sequentialminus": [
            [
             0,
             "#0d0887"
            ],
            [
             0.1111111111111111,
             "#46039f"
            ],
            [
             0.2222222222222222,
             "#7201a8"
            ],
            [
             0.3333333333333333,
             "#9c179e"
            ],
            [
             0.4444444444444444,
             "#bd3786"
            ],
            [
             0.5555555555555556,
             "#d8576b"
            ],
            [
             0.6666666666666666,
             "#ed7953"
            ],
            [
             0.7777777777777778,
             "#fb9f3a"
            ],
            [
             0.8888888888888888,
             "#fdca26"
            ],
            [
             1,
             "#f0f921"
            ]
           ]
          },
          "colorway": [
           "#636efa",
           "#EF553B",
           "#00cc96",
           "#ab63fa",
           "#FFA15A",
           "#19d3f3",
           "#FF6692",
           "#B6E880",
           "#FF97FF",
           "#FECB52"
          ],
          "font": {
           "color": "#2a3f5f"
          },
          "geo": {
           "bgcolor": "white",
           "lakecolor": "white",
           "landcolor": "#E5ECF6",
           "showlakes": true,
           "showland": true,
           "subunitcolor": "white"
          },
          "hoverlabel": {
           "align": "left"
          },
          "hovermode": "closest",
          "mapbox": {
           "style": "light"
          },
          "paper_bgcolor": "white",
          "plot_bgcolor": "#E5ECF6",
          "polar": {
           "angularaxis": {
            "gridcolor": "white",
            "linecolor": "white",
            "ticks": ""
           },
           "bgcolor": "#E5ECF6",
           "radialaxis": {
            "gridcolor": "white",
            "linecolor": "white",
            "ticks": ""
           }
          },
          "scene": {
           "xaxis": {
            "backgroundcolor": "#E5ECF6",
            "gridcolor": "white",
            "gridwidth": 2,
            "linecolor": "white",
            "showbackground": true,
            "ticks": "",
            "zerolinecolor": "white"
           },
           "yaxis": {
            "backgroundcolor": "#E5ECF6",
            "gridcolor": "white",
            "gridwidth": 2,
            "linecolor": "white",
            "showbackground": true,
            "ticks": "",
            "zerolinecolor": "white"
           },
           "zaxis": {
            "backgroundcolor": "#E5ECF6",
            "gridcolor": "white",
            "gridwidth": 2,
            "linecolor": "white",
            "showbackground": true,
            "ticks": "",
            "zerolinecolor": "white"
           }
          },
          "shapedefaults": {
           "line": {
            "color": "#2a3f5f"
           }
          },
          "ternary": {
           "aaxis": {
            "gridcolor": "white",
            "linecolor": "white",
            "ticks": ""
           },
           "baxis": {
            "gridcolor": "white",
            "linecolor": "white",
            "ticks": ""
           },
           "bgcolor": "#E5ECF6",
           "caxis": {
            "gridcolor": "white",
            "linecolor": "white",
            "ticks": ""
           }
          },
          "title": {
           "x": 0.05
          },
          "xaxis": {
           "automargin": true,
           "gridcolor": "white",
           "linecolor": "white",
           "ticks": "",
           "title": {
            "standoff": 15
           },
           "zerolinecolor": "white",
           "zerolinewidth": 2
          },
          "yaxis": {
           "automargin": true,
           "gridcolor": "white",
           "linecolor": "white",
           "ticks": "",
           "title": {
            "standoff": 15
           },
           "zerolinecolor": "white",
           "zerolinewidth": 2
          }
         }
        },
        "xaxis": {
         "anchor": "y",
         "constrain": "domain",
         "domain": [
          0,
          1
         ],
         "scaleanchor": "y",
         "title": {
          "text": "Year"
         }
        },
        "yaxis": {
         "anchor": "x",
         "autorange": "reversed",
         "constrain": "domain",
         "domain": [
          0,
          1
         ],
         "title": {
          "text": "Query"
         }
        }
       }
      },
      "text/html": [
       "<div>                            <div id=\"2209c362-3401-4765-84db-484c420840a3\" class=\"plotly-graph-div\" style=\"height:525px; width:100%;\"></div>            <script type=\"text/javascript\">                require([\"plotly\"], function(Plotly) {                    window.PLOTLYENV=window.PLOTLYENV || {};                                    if (document.getElementById(\"2209c362-3401-4765-84db-484c420840a3\")) {                    Plotly.newPlot(                        \"2209c362-3401-4765-84db-484c420840a3\",                        [{\"coloraxis\":\"coloraxis\",\"name\":\"0\",\"x\":[2014,2015,2016,2017,2018,2019,2020,2021,2022],\"y\":[\"B14A\",\"B37\",\"B73\",\"CG102\",\"DK3IIH6\",\"F42\",\"H95\",\"LH185\",\"LH195\",\"LH198\",\"LH244\",\"LH82\",\"MO17\",\"OH43\",\"PB80\",\"PHB47\",\"PHK76\",\"PHM49\",\"PHN82\",\"PHP02\",\"PHT69\",\"PHW52\",\"PHZ51\",\"TX779\"],\"z\":[[82.0,142.0,156.0,156.0,213.0,159.0,236.0,295.0,44.0],[156.0,150.0,154.0,60.0,205.0,261.0,234.0,305.0,45.0],[224.0,328.0,330.0,353.0,256.0,133.0,366.0,512.0,95.0],[1108.0,180.0,81.0,32.0,null,null,null,null,null],[null,null,3919.0,2653.0,12.0,null,null,null,23.0],[107.0,111.0,153.0,104.0,232.0,176.0,235.0,306.0,32.0],[154.0,155.0,203.0,139.0,204.0,210.0,234.0,301.0,45.0],[2536.0,1031.0,447.0,561.0,10.0,null,null,null,19.0],[1147.0,1423.0,2185.0,1536.0,11815.0,11447.0,275.0,424.0,99.0],[3562.0,471.0,481.0,521.0,null,null,null,null,null],[null,null,null,null,null,null,54.0,97.0,9704.0],[203.0,2389.0,390.0,391.0,18.0,null,47.0,62.0,31.0],[148.0,160.0,233.0,202.0,291.0,208.0,389.0,510.0,87.0],[133.0,191.0,153.0,67.0,233.0,218.0,215.0,306.0,68.0],[1603.0,245.0,52.0,58.0,null,null,35.0,34.0,null],[28.0,3268.0,1128.0,1158.0,32.0,null,119.0,189.0,85.0],[null,null,162.0,null,null,null,2623.0,4477.0,47.0],[179.0,243.0,187.0,144.0,151.0,102.0,123.0,202.0,34.0],[177.0,254.0,550.0,627.0,317.0,172.0,462.0,585.0,104.0],[null,50.0,57.0,123.0,null,null,4256.0,5141.0,23.0],[null,8.0,34.0,31.0,5358.0,6647.0,null,null,null],[163.0,216.0,791.0,803.0,145.0,103.0,155.0,201.0,40.0],[4.0,3031.0,1415.0,1358.0,10.0,null,5714.0,6990.0,85.0],[null,null,null,48.0,79.0,53.0,350.0,444.0,53.0]],\"type\":\"heatmap\",\"xaxis\":\"x\",\"yaxis\":\"y\",\"hovertemplate\":\"Year: %{x}\\u003cbr\\u003eQuery: %{y}\\u003cbr\\u003ecolor: %{z}\\u003cextra\\u003e\\u003c\\u002fextra\\u003e\"}],                        {\"template\":{\"data\":{\"histogram2dcontour\":[{\"type\":\"histogram2dcontour\",\"colorbar\":{\"outlinewidth\":0,\"ticks\":\"\"},\"colorscale\":[[0.0,\"#0d0887\"],[0.1111111111111111,\"#46039f\"],[0.2222222222222222,\"#7201a8\"],[0.3333333333333333,\"#9c179e\"],[0.4444444444444444,\"#bd3786\"],[0.5555555555555556,\"#d8576b\"],[0.6666666666666666,\"#ed7953\"],[0.7777777777777778,\"#fb9f3a\"],[0.8888888888888888,\"#fdca26\"],[1.0,\"#f0f921\"]]}],\"choropleth\":[{\"type\":\"choropleth\",\"colorbar\":{\"outlinewidth\":0,\"ticks\":\"\"}}],\"histogram2d\":[{\"type\":\"histogram2d\",\"colorbar\":{\"outlinewidth\":0,\"ticks\":\"\"},\"colorscale\":[[0.0,\"#0d0887\"],[0.1111111111111111,\"#46039f\"],[0.2222222222222222,\"#7201a8\"],[0.3333333333333333,\"#9c179e\"],[0.4444444444444444,\"#bd3786\"],[0.5555555555555556,\"#d8576b\"],[0.6666666666666666,\"#ed7953\"],[0.7777777777777778,\"#fb9f3a\"],[0.8888888888888888,\"#fdca26\"],[1.0,\"#f0f921\"]]}],\"heatmap\":[{\"type\":\"heatmap\",\"colorbar\":{\"outlinewidth\":0,\"ticks\":\"\"},\"colorscale\":[[0.0,\"#0d0887\"],[0.1111111111111111,\"#46039f\"],[0.2222222222222222,\"#7201a8\"],[0.3333333333333333,\"#9c179e\"],[0.4444444444444444,\"#bd3786\"],[0.5555555555555556,\"#d8576b\"],[0.6666666666666666,\"#ed7953\"],[0.7777777777777778,\"#fb9f3a\"],[0.8888888888888888,\"#fdca26\"],[1.0,\"#f0f921\"]]}],\"heatmapgl\":[{\"type\":\"heatmapgl\",\"colorbar\":{\"outlinewidth\":0,\"ticks\":\"\"},\"colorscale\":[[0.0,\"#0d0887\"],[0.1111111111111111,\"#46039f\"],[0.2222222222222222,\"#7201a8\"],[0.3333333333333333,\"#9c179e\"],[0.4444444444444444,\"#bd3786\"],[0.5555555555555556,\"#d8576b\"],[0.6666666666666666,\"#ed7953\"],[0.7777777777777778,\"#fb9f3a\"],[0.8888888888888888,\"#fdca26\"],[1.0,\"#f0f921\"]]}],\"contourcarpet\":[{\"type\":\"contourcarpet\",\"colorbar\":{\"outlinewidth\":0,\"ticks\":\"\"}}],\"contour\":[{\"type\":\"contour\",\"colorbar\":{\"outlinewidth\":0,\"ticks\":\"\"},\"colorscale\":[[0.0,\"#0d0887\"],[0.1111111111111111,\"#46039f\"],[0.2222222222222222,\"#7201a8\"],[0.3333333333333333,\"#9c179e\"],[0.4444444444444444,\"#bd3786\"],[0.5555555555555556,\"#d8576b\"],[0.6666666666666666,\"#ed7953\"],[0.7777777777777778,\"#fb9f3a\"],[0.8888888888888888,\"#fdca26\"],[1.0,\"#f0f921\"]]}],\"surface\":[{\"type\":\"surface\",\"colorbar\":{\"outlinewidth\":0,\"ticks\":\"\"},\"colorscale\":[[0.0,\"#0d0887\"],[0.1111111111111111,\"#46039f\"],[0.2222222222222222,\"#7201a8\"],[0.3333333333333333,\"#9c179e\"],[0.4444444444444444,\"#bd3786\"],[0.5555555555555556,\"#d8576b\"],[0.6666666666666666,\"#ed7953\"],[0.7777777777777778,\"#fb9f3a\"],[0.8888888888888888,\"#fdca26\"],[1.0,\"#f0f921\"]]}],\"mesh3d\":[{\"type\":\"mesh3d\",\"colorbar\":{\"outlinewidth\":0,\"ticks\":\"\"}}],\"scatter\":[{\"fillpattern\":{\"fillmode\":\"overlay\",\"size\":10,\"solidity\":0.2},\"type\":\"scatter\"}],\"parcoords\":[{\"type\":\"parcoords\",\"line\":{\"colorbar\":{\"outlinewidth\":0,\"ticks\":\"\"}}}],\"scatterpolargl\":[{\"type\":\"scatterpolargl\",\"marker\":{\"colorbar\":{\"outlinewidth\":0,\"ticks\":\"\"}}}],\"bar\":[{\"error_x\":{\"color\":\"#2a3f5f\"},\"error_y\":{\"color\":\"#2a3f5f\"},\"marker\":{\"line\":{\"color\":\"#E5ECF6\",\"width\":0.5},\"pattern\":{\"fillmode\":\"overlay\",\"size\":10,\"solidity\":0.2}},\"type\":\"bar\"}],\"scattergeo\":[{\"type\":\"scattergeo\",\"marker\":{\"colorbar\":{\"outlinewidth\":0,\"ticks\":\"\"}}}],\"scatterpolar\":[{\"type\":\"scatterpolar\",\"marker\":{\"colorbar\":{\"outlinewidth\":0,\"ticks\":\"\"}}}],\"histogram\":[{\"marker\":{\"pattern\":{\"fillmode\":\"overlay\",\"size\":10,\"solidity\":0.2}},\"type\":\"histogram\"}],\"scattergl\":[{\"type\":\"scattergl\",\"marker\":{\"colorbar\":{\"outlinewidth\":0,\"ticks\":\"\"}}}],\"scatter3d\":[{\"type\":\"scatter3d\",\"line\":{\"colorbar\":{\"outlinewidth\":0,\"ticks\":\"\"}},\"marker\":{\"colorbar\":{\"outlinewidth\":0,\"ticks\":\"\"}}}],\"scattermapbox\":[{\"type\":\"scattermapbox\",\"marker\":{\"colorbar\":{\"outlinewidth\":0,\"ticks\":\"\"}}}],\"scatterternary\":[{\"type\":\"scatterternary\",\"marker\":{\"colorbar\":{\"outlinewidth\":0,\"ticks\":\"\"}}}],\"scattercarpet\":[{\"type\":\"scattercarpet\",\"marker\":{\"colorbar\":{\"outlinewidth\":0,\"ticks\":\"\"}}}],\"carpet\":[{\"aaxis\":{\"endlinecolor\":\"#2a3f5f\",\"gridcolor\":\"white\",\"linecolor\":\"white\",\"minorgridcolor\":\"white\",\"startlinecolor\":\"#2a3f5f\"},\"baxis\":{\"endlinecolor\":\"#2a3f5f\",\"gridcolor\":\"white\",\"linecolor\":\"white\",\"minorgridcolor\":\"white\",\"startlinecolor\":\"#2a3f5f\"},\"type\":\"carpet\"}],\"table\":[{\"cells\":{\"fill\":{\"color\":\"#EBF0F8\"},\"line\":{\"color\":\"white\"}},\"header\":{\"fill\":{\"color\":\"#C8D4E3\"},\"line\":{\"color\":\"white\"}},\"type\":\"table\"}],\"barpolar\":[{\"marker\":{\"line\":{\"color\":\"#E5ECF6\",\"width\":0.5},\"pattern\":{\"fillmode\":\"overlay\",\"size\":10,\"solidity\":0.2}},\"type\":\"barpolar\"}],\"pie\":[{\"automargin\":true,\"type\":\"pie\"}]},\"layout\":{\"autotypenumbers\":\"strict\",\"colorway\":[\"#636efa\",\"#EF553B\",\"#00cc96\",\"#ab63fa\",\"#FFA15A\",\"#19d3f3\",\"#FF6692\",\"#B6E880\",\"#FF97FF\",\"#FECB52\"],\"font\":{\"color\":\"#2a3f5f\"},\"hovermode\":\"closest\",\"hoverlabel\":{\"align\":\"left\"},\"paper_bgcolor\":\"white\",\"plot_bgcolor\":\"#E5ECF6\",\"polar\":{\"bgcolor\":\"#E5ECF6\",\"angularaxis\":{\"gridcolor\":\"white\",\"linecolor\":\"white\",\"ticks\":\"\"},\"radialaxis\":{\"gridcolor\":\"white\",\"linecolor\":\"white\",\"ticks\":\"\"}},\"ternary\":{\"bgcolor\":\"#E5ECF6\",\"aaxis\":{\"gridcolor\":\"white\",\"linecolor\":\"white\",\"ticks\":\"\"},\"baxis\":{\"gridcolor\":\"white\",\"linecolor\":\"white\",\"ticks\":\"\"},\"caxis\":{\"gridcolor\":\"white\",\"linecolor\":\"white\",\"ticks\":\"\"}},\"coloraxis\":{\"colorbar\":{\"outlinewidth\":0,\"ticks\":\"\"}},\"colorscale\":{\"sequential\":[[0.0,\"#0d0887\"],[0.1111111111111111,\"#46039f\"],[0.2222222222222222,\"#7201a8\"],[0.3333333333333333,\"#9c179e\"],[0.4444444444444444,\"#bd3786\"],[0.5555555555555556,\"#d8576b\"],[0.6666666666666666,\"#ed7953\"],[0.7777777777777778,\"#fb9f3a\"],[0.8888888888888888,\"#fdca26\"],[1.0,\"#f0f921\"]],\"sequentialminus\":[[0.0,\"#0d0887\"],[0.1111111111111111,\"#46039f\"],[0.2222222222222222,\"#7201a8\"],[0.3333333333333333,\"#9c179e\"],[0.4444444444444444,\"#bd3786\"],[0.5555555555555556,\"#d8576b\"],[0.6666666666666666,\"#ed7953\"],[0.7777777777777778,\"#fb9f3a\"],[0.8888888888888888,\"#fdca26\"],[1.0,\"#f0f921\"]],\"diverging\":[[0,\"#8e0152\"],[0.1,\"#c51b7d\"],[0.2,\"#de77ae\"],[0.3,\"#f1b6da\"],[0.4,\"#fde0ef\"],[0.5,\"#f7f7f7\"],[0.6,\"#e6f5d0\"],[0.7,\"#b8e186\"],[0.8,\"#7fbc41\"],[0.9,\"#4d9221\"],[1,\"#276419\"]]},\"xaxis\":{\"gridcolor\":\"white\",\"linecolor\":\"white\",\"ticks\":\"\",\"title\":{\"standoff\":15},\"zerolinecolor\":\"white\",\"automargin\":true,\"zerolinewidth\":2},\"yaxis\":{\"gridcolor\":\"white\",\"linecolor\":\"white\",\"ticks\":\"\",\"title\":{\"standoff\":15},\"zerolinecolor\":\"white\",\"automargin\":true,\"zerolinewidth\":2},\"scene\":{\"xaxis\":{\"backgroundcolor\":\"#E5ECF6\",\"gridcolor\":\"white\",\"linecolor\":\"white\",\"showbackground\":true,\"ticks\":\"\",\"zerolinecolor\":\"white\",\"gridwidth\":2},\"yaxis\":{\"backgroundcolor\":\"#E5ECF6\",\"gridcolor\":\"white\",\"linecolor\":\"white\",\"showbackground\":true,\"ticks\":\"\",\"zerolinecolor\":\"white\",\"gridwidth\":2},\"zaxis\":{\"backgroundcolor\":\"#E5ECF6\",\"gridcolor\":\"white\",\"linecolor\":\"white\",\"showbackground\":true,\"ticks\":\"\",\"zerolinecolor\":\"white\",\"gridwidth\":2}},\"shapedefaults\":{\"line\":{\"color\":\"#2a3f5f\"}},\"annotationdefaults\":{\"arrowcolor\":\"#2a3f5f\",\"arrowhead\":0,\"arrowwidth\":1},\"geo\":{\"bgcolor\":\"white\",\"landcolor\":\"#E5ECF6\",\"subunitcolor\":\"white\",\"showland\":true,\"showlakes\":true,\"lakecolor\":\"white\"},\"title\":{\"x\":0.05},\"mapbox\":{\"style\":\"light\"}}},\"xaxis\":{\"anchor\":\"y\",\"domain\":[0.0,1.0],\"scaleanchor\":\"y\",\"constrain\":\"domain\",\"title\":{\"text\":\"Year\"}},\"yaxis\":{\"anchor\":\"x\",\"domain\":[0.0,1.0],\"autorange\":\"reversed\",\"constrain\":\"domain\",\"title\":{\"text\":\"Query\"}},\"coloraxis\":{\"colorscale\":[[0.0,\"#0d0887\"],[0.1111111111111111,\"#46039f\"],[0.2222222222222222,\"#7201a8\"],[0.3333333333333333,\"#9c179e\"],[0.4444444444444444,\"#bd3786\"],[0.5555555555555556,\"#d8576b\"],[0.6666666666666666,\"#ed7953\"],[0.7777777777777778,\"#fb9f3a\"],[0.8888888888888888,\"#fdca26\"],[1.0,\"#f0f921\"]]},\"margin\":{\"t\":60}},                        {\"responsive\": true}                    ).then(function(){\n",
       "                            \n",
       "var gd = document.getElementById('2209c362-3401-4765-84db-484c420840a3');\n",
       "var x = new MutationObserver(function (mutations, observer) {{\n",
       "        var display = window.getComputedStyle(gd).display;\n",
       "        if (!display || display === 'none') {{\n",
       "            console.log([gd, 'removed!']);\n",
       "            Plotly.purge(gd);\n",
       "            observer.disconnect();\n",
       "        }}\n",
       "}});\n",
       "\n",
       "// Listen for the removal of the full notebook cells\n",
       "var notebookContainer = gd.closest('#notebook-container');\n",
       "if (notebookContainer) {{\n",
       "    x.observe(notebookContainer, {childList: true});\n",
       "}}\n",
       "\n",
       "// Listen for the clearing of the current output cell\n",
       "var outputEl = gd.closest('.output');\n",
       "if (outputEl) {{\n",
       "    x.observe(outputEl, {childList: true});\n",
       "}}\n",
       "\n",
       "                        })                };                });            </script>        </div>"
      ]
     },
     "metadata": {},
     "output_type": "display_data"
    }
   ],
   "source": [
    "px.imshow(temp.drop('Query', axis=1),)"
   ]
  },
  {
   "cell_type": "code",
   "execution_count": null,
   "id": "37364c42",
   "metadata": {},
   "outputs": [
    {
     "data": {
      "application/vnd.plotly.v1+json": {
       "config": {
        "plotlyServerURL": "https://plot.ly"
       },
       "data": [
        {
         "coloraxis": "coloraxis",
         "hovertemplate": "Year: %{x}<br>Query: %{y}<br>color: %{z}<extra></extra>",
         "name": "0",
         "type": "heatmap",
         "x": [
          2014,
          2015,
          2016,
          2017,
          2018,
          2019,
          2020,
          2021,
          2022
         ],
         "xaxis": "x",
         "y": [
          "B14A",
          "B37",
          "B73",
          "CG102",
          "DK3IIH6",
          "F42",
          "H95",
          "LH185",
          "LH195",
          "LH198",
          "LH244",
          "LH82",
          "MO17",
          "OH43",
          "PB80",
          "PHB47",
          "PHK76",
          "PHM49",
          "PHN82",
          "PHP02",
          "PHT69",
          "PHW52",
          "PHZ51",
          "TX779"
         ],
         "yaxis": "y",
         "z": [
          [
           1.9138138523837167,
           2.1522883443830563,
           2.1931245983544616,
           2.1931245983544616,
           2.3283796034387376,
           2.2013971243204513,
           2.3729120029701067,
           2.469822015978163,
           1.6434526764861874
          ],
          [
           2.1931245983544616,
           2.1760912590556813,
           2.187520720836463,
           1.7781512503836436,
           2.311753861055754,
           2.416640507338281,
           2.369215857410143,
           2.484299839346786,
           1.6532125137753437
          ],
          [
           2.3502480183341627,
           2.515873843711679,
           2.5185139398778875,
           2.5477747053878224,
           2.4082399653118496,
           2.123851640967086,
           2.5634810853944106,
           2.709269960975831,
           1.9777236052888478
          ],
          [
           3.044539760392411,
           2.255272505103306,
           1.9084850188786497,
           1.505149978319906,
           null,
           null,
           null,
           null,
           null
          ],
          [
           null,
           null,
           3.5931752634781025,
           3.423737249982329,
           1.0791812460476249,
           null,
           null,
           null,
           1.3617278360175928
          ],
          [
           2.0293837776852097,
           2.0453229787866576,
           2.184691430817599,
           2.0170333392987803,
           2.3654879848909,
           2.24551266781415,
           2.3710678622717363,
           2.48572142648158,
           1.505149978319906
          ],
          [
           2.187520720836463,
           2.1903316981702914,
           2.307496037913213,
           2.143014800254095,
           2.3096301674258988,
           2.322219294733919,
           2.369215857410143,
           2.478566495593843,
           1.6532125137753437
          ],
          [
           3.404149249209695,
           3.0132586652835167,
           2.6503075231319366,
           2.748962861256161,
           1,
           null,
           null,
           null,
           1.2787536009528289
          ],
          [
           3.0595634179012676,
           3.153204900084284,
           3.3394514413064407,
           3.186391215695493,
           4.072433725968388,
           4.05869168281923,
           2.439332693830263,
           2.6273658565927325,
           1.99563519459755
          ],
          [
           3.551693915127225,
           2.673020907128896,
           2.682145076373832,
           2.7168377232995247,
           null,
           null,
           null,
           null,
           null
          ],
          [
           null,
           null,
           null,
           null,
           null,
           null,
           1.7323937598229686,
           1.9867717342662448,
           3.9869507878585164
          ],
          [
           2.307496037913213,
           3.378216149749878,
           2.591064607026499,
           2.5921767573958667,
           1.255272505103306,
           null,
           1.6720978579357175,
           1.792391689498254,
           1.4913616938342726
          ],
          [
           2.1702617153949575,
           2.204119982655925,
           2.367355921026019,
           2.305351369446624,
           2.4638929889859074,
           2.3180633349627615,
           2.5899496013257077,
           2.7075701760979363,
           1.9395192526186185
          ],
          [
           2.123851640967086,
           2.2810333672477277,
           2.184691430817599,
           1.8260748027008264,
           2.367355921026019,
           2.3384564936046046,
           2.3324384599156054,
           2.48572142648158,
           1.8325089127062364
          ],
          [
           3.204933522354145,
           2.3891660843645326,
           1.7160033436347992,
           1.7634279935629373,
           null,
           null,
           1.5440680443502757,
           1.5314789170422551,
           null
          ],
          [
           1.4471580313422192,
           3.514282047860378,
           3.0523090996473234,
           3.0637085593914173,
           1.505149978319906,
           null,
           2.075546961392531,
           2.2764618041732443,
           1.9294189257142929
          ],
          [
           null,
           null,
           2.2095150145426308,
           null,
           null,
           null,
           3.4187982905903533,
           3.6509870943834453,
           1.6720978579357175
          ],
          [
           2.2528530309798933,
           2.385606273598312,
           2.271841606536499,
           2.1583624920952498,
           2.1789769472931693,
           2.0086001717619175,
           2.089905111439398,
           2.305351369446624,
           1.5314789170422551
          ],
          [
           2.2479732663618064,
           2.404833716619938,
           2.7403626894942437,
           2.7972675408307164,
           2.5010592622177517,
           2.2355284469075487,
           2.6646419755561257,
           2.7671558660821804,
           2.0170333392987803
          ],
          [
           null,
           1.6989700043360187,
           1.7558748556724915,
           2.089905111439398,
           null,
           null,
           3.6290016192869916,
           3.711047603867034,
           1.3617278360175928
          ],
          [
           null,
           0.9030899869919435,
           1.5314789170422551,
           1.4913616938342726,
           3.7290027092721902,
           3.822625678774141,
           null,
           null,
           null
          ],
          [
           2.2121876044039577,
           2.3344537511509307,
           2.8981764834976764,
           2.904715545278681,
           2.161368002234975,
           2.012837224705172,
           2.1903316981702914,
           2.303196057420489,
           1.6020599913279625
          ],
          [
           0.6020599913279624,
           3.4815859363676225,
           3.150756439860309,
           3.132899769944483,
           1,
           null,
           3.756940236046724,
           3.8444771757456815,
           1.9294189257142929
          ],
          [
           null,
           null,
           null,
           1.6812412373755872,
           1.8976270912904414,
           1.7242758696007892,
           2.5440680443502757,
           2.6473829701146196,
           1.7242758696007892
          ]
         ]
        }
       ],
       "layout": {
        "coloraxis": {
         "colorscale": [
          [
           0,
           "#0d0887"
          ],
          [
           0.1111111111111111,
           "#46039f"
          ],
          [
           0.2222222222222222,
           "#7201a8"
          ],
          [
           0.3333333333333333,
           "#9c179e"
          ],
          [
           0.4444444444444444,
           "#bd3786"
          ],
          [
           0.5555555555555556,
           "#d8576b"
          ],
          [
           0.6666666666666666,
           "#ed7953"
          ],
          [
           0.7777777777777778,
           "#fb9f3a"
          ],
          [
           0.8888888888888888,
           "#fdca26"
          ],
          [
           1,
           "#f0f921"
          ]
         ]
        },
        "margin": {
         "t": 60
        },
        "template": {
         "data": {
          "bar": [
           {
            "error_x": {
             "color": "#2a3f5f"
            },
            "error_y": {
             "color": "#2a3f5f"
            },
            "marker": {
             "line": {
              "color": "#E5ECF6",
              "width": 0.5
             },
             "pattern": {
              "fillmode": "overlay",
              "size": 10,
              "solidity": 0.2
             }
            },
            "type": "bar"
           }
          ],
          "barpolar": [
           {
            "marker": {
             "line": {
              "color": "#E5ECF6",
              "width": 0.5
             },
             "pattern": {
              "fillmode": "overlay",
              "size": 10,
              "solidity": 0.2
             }
            },
            "type": "barpolar"
           }
          ],
          "carpet": [
           {
            "aaxis": {
             "endlinecolor": "#2a3f5f",
             "gridcolor": "white",
             "linecolor": "white",
             "minorgridcolor": "white",
             "startlinecolor": "#2a3f5f"
            },
            "baxis": {
             "endlinecolor": "#2a3f5f",
             "gridcolor": "white",
             "linecolor": "white",
             "minorgridcolor": "white",
             "startlinecolor": "#2a3f5f"
            },
            "type": "carpet"
           }
          ],
          "choropleth": [
           {
            "colorbar": {
             "outlinewidth": 0,
             "ticks": ""
            },
            "type": "choropleth"
           }
          ],
          "contour": [
           {
            "colorbar": {
             "outlinewidth": 0,
             "ticks": ""
            },
            "colorscale": [
             [
              0,
              "#0d0887"
             ],
             [
              0.1111111111111111,
              "#46039f"
             ],
             [
              0.2222222222222222,
              "#7201a8"
             ],
             [
              0.3333333333333333,
              "#9c179e"
             ],
             [
              0.4444444444444444,
              "#bd3786"
             ],
             [
              0.5555555555555556,
              "#d8576b"
             ],
             [
              0.6666666666666666,
              "#ed7953"
             ],
             [
              0.7777777777777778,
              "#fb9f3a"
             ],
             [
              0.8888888888888888,
              "#fdca26"
             ],
             [
              1,
              "#f0f921"
             ]
            ],
            "type": "contour"
           }
          ],
          "contourcarpet": [
           {
            "colorbar": {
             "outlinewidth": 0,
             "ticks": ""
            },
            "type": "contourcarpet"
           }
          ],
          "heatmap": [
           {
            "colorbar": {
             "outlinewidth": 0,
             "ticks": ""
            },
            "colorscale": [
             [
              0,
              "#0d0887"
             ],
             [
              0.1111111111111111,
              "#46039f"
             ],
             [
              0.2222222222222222,
              "#7201a8"
             ],
             [
              0.3333333333333333,
              "#9c179e"
             ],
             [
              0.4444444444444444,
              "#bd3786"
             ],
             [
              0.5555555555555556,
              "#d8576b"
             ],
             [
              0.6666666666666666,
              "#ed7953"
             ],
             [
              0.7777777777777778,
              "#fb9f3a"
             ],
             [
              0.8888888888888888,
              "#fdca26"
             ],
             [
              1,
              "#f0f921"
             ]
            ],
            "type": "heatmap"
           }
          ],
          "heatmapgl": [
           {
            "colorbar": {
             "outlinewidth": 0,
             "ticks": ""
            },
            "colorscale": [
             [
              0,
              "#0d0887"
             ],
             [
              0.1111111111111111,
              "#46039f"
             ],
             [
              0.2222222222222222,
              "#7201a8"
             ],
             [
              0.3333333333333333,
              "#9c179e"
             ],
             [
              0.4444444444444444,
              "#bd3786"
             ],
             [
              0.5555555555555556,
              "#d8576b"
             ],
             [
              0.6666666666666666,
              "#ed7953"
             ],
             [
              0.7777777777777778,
              "#fb9f3a"
             ],
             [
              0.8888888888888888,
              "#fdca26"
             ],
             [
              1,
              "#f0f921"
             ]
            ],
            "type": "heatmapgl"
           }
          ],
          "histogram": [
           {
            "marker": {
             "pattern": {
              "fillmode": "overlay",
              "size": 10,
              "solidity": 0.2
             }
            },
            "type": "histogram"
           }
          ],
          "histogram2d": [
           {
            "colorbar": {
             "outlinewidth": 0,
             "ticks": ""
            },
            "colorscale": [
             [
              0,
              "#0d0887"
             ],
             [
              0.1111111111111111,
              "#46039f"
             ],
             [
              0.2222222222222222,
              "#7201a8"
             ],
             [
              0.3333333333333333,
              "#9c179e"
             ],
             [
              0.4444444444444444,
              "#bd3786"
             ],
             [
              0.5555555555555556,
              "#d8576b"
             ],
             [
              0.6666666666666666,
              "#ed7953"
             ],
             [
              0.7777777777777778,
              "#fb9f3a"
             ],
             [
              0.8888888888888888,
              "#fdca26"
             ],
             [
              1,
              "#f0f921"
             ]
            ],
            "type": "histogram2d"
           }
          ],
          "histogram2dcontour": [
           {
            "colorbar": {
             "outlinewidth": 0,
             "ticks": ""
            },
            "colorscale": [
             [
              0,
              "#0d0887"
             ],
             [
              0.1111111111111111,
              "#46039f"
             ],
             [
              0.2222222222222222,
              "#7201a8"
             ],
             [
              0.3333333333333333,
              "#9c179e"
             ],
             [
              0.4444444444444444,
              "#bd3786"
             ],
             [
              0.5555555555555556,
              "#d8576b"
             ],
             [
              0.6666666666666666,
              "#ed7953"
             ],
             [
              0.7777777777777778,
              "#fb9f3a"
             ],
             [
              0.8888888888888888,
              "#fdca26"
             ],
             [
              1,
              "#f0f921"
             ]
            ],
            "type": "histogram2dcontour"
           }
          ],
          "mesh3d": [
           {
            "colorbar": {
             "outlinewidth": 0,
             "ticks": ""
            },
            "type": "mesh3d"
           }
          ],
          "parcoords": [
           {
            "line": {
             "colorbar": {
              "outlinewidth": 0,
              "ticks": ""
             }
            },
            "type": "parcoords"
           }
          ],
          "pie": [
           {
            "automargin": true,
            "type": "pie"
           }
          ],
          "scatter": [
           {
            "fillpattern": {
             "fillmode": "overlay",
             "size": 10,
             "solidity": 0.2
            },
            "type": "scatter"
           }
          ],
          "scatter3d": [
           {
            "line": {
             "colorbar": {
              "outlinewidth": 0,
              "ticks": ""
             }
            },
            "marker": {
             "colorbar": {
              "outlinewidth": 0,
              "ticks": ""
             }
            },
            "type": "scatter3d"
           }
          ],
          "scattercarpet": [
           {
            "marker": {
             "colorbar": {
              "outlinewidth": 0,
              "ticks": ""
             }
            },
            "type": "scattercarpet"
           }
          ],
          "scattergeo": [
           {
            "marker": {
             "colorbar": {
              "outlinewidth": 0,
              "ticks": ""
             }
            },
            "type": "scattergeo"
           }
          ],
          "scattergl": [
           {
            "marker": {
             "colorbar": {
              "outlinewidth": 0,
              "ticks": ""
             }
            },
            "type": "scattergl"
           }
          ],
          "scattermapbox": [
           {
            "marker": {
             "colorbar": {
              "outlinewidth": 0,
              "ticks": ""
             }
            },
            "type": "scattermapbox"
           }
          ],
          "scatterpolar": [
           {
            "marker": {
             "colorbar": {
              "outlinewidth": 0,
              "ticks": ""
             }
            },
            "type": "scatterpolar"
           }
          ],
          "scatterpolargl": [
           {
            "marker": {
             "colorbar": {
              "outlinewidth": 0,
              "ticks": ""
             }
            },
            "type": "scatterpolargl"
           }
          ],
          "scatterternary": [
           {
            "marker": {
             "colorbar": {
              "outlinewidth": 0,
              "ticks": ""
             }
            },
            "type": "scatterternary"
           }
          ],
          "surface": [
           {
            "colorbar": {
             "outlinewidth": 0,
             "ticks": ""
            },
            "colorscale": [
             [
              0,
              "#0d0887"
             ],
             [
              0.1111111111111111,
              "#46039f"
             ],
             [
              0.2222222222222222,
              "#7201a8"
             ],
             [
              0.3333333333333333,
              "#9c179e"
             ],
             [
              0.4444444444444444,
              "#bd3786"
             ],
             [
              0.5555555555555556,
              "#d8576b"
             ],
             [
              0.6666666666666666,
              "#ed7953"
             ],
             [
              0.7777777777777778,
              "#fb9f3a"
             ],
             [
              0.8888888888888888,
              "#fdca26"
             ],
             [
              1,
              "#f0f921"
             ]
            ],
            "type": "surface"
           }
          ],
          "table": [
           {
            "cells": {
             "fill": {
              "color": "#EBF0F8"
             },
             "line": {
              "color": "white"
             }
            },
            "header": {
             "fill": {
              "color": "#C8D4E3"
             },
             "line": {
              "color": "white"
             }
            },
            "type": "table"
           }
          ]
         },
         "layout": {
          "annotationdefaults": {
           "arrowcolor": "#2a3f5f",
           "arrowhead": 0,
           "arrowwidth": 1
          },
          "autotypenumbers": "strict",
          "coloraxis": {
           "colorbar": {
            "outlinewidth": 0,
            "ticks": ""
           }
          },
          "colorscale": {
           "diverging": [
            [
             0,
             "#8e0152"
            ],
            [
             0.1,
             "#c51b7d"
            ],
            [
             0.2,
             "#de77ae"
            ],
            [
             0.3,
             "#f1b6da"
            ],
            [
             0.4,
             "#fde0ef"
            ],
            [
             0.5,
             "#f7f7f7"
            ],
            [
             0.6,
             "#e6f5d0"
            ],
            [
             0.7,
             "#b8e186"
            ],
            [
             0.8,
             "#7fbc41"
            ],
            [
             0.9,
             "#4d9221"
            ],
            [
             1,
             "#276419"
            ]
           ],
           "sequential": [
            [
             0,
             "#0d0887"
            ],
            [
             0.1111111111111111,
             "#46039f"
            ],
            [
             0.2222222222222222,
             "#7201a8"
            ],
            [
             0.3333333333333333,
             "#9c179e"
            ],
            [
             0.4444444444444444,
             "#bd3786"
            ],
            [
             0.5555555555555556,
             "#d8576b"
            ],
            [
             0.6666666666666666,
             "#ed7953"
            ],
            [
             0.7777777777777778,
             "#fb9f3a"
            ],
            [
             0.8888888888888888,
             "#fdca26"
            ],
            [
             1,
             "#f0f921"
            ]
           ],
           "sequentialminus": [
            [
             0,
             "#0d0887"
            ],
            [
             0.1111111111111111,
             "#46039f"
            ],
            [
             0.2222222222222222,
             "#7201a8"
            ],
            [
             0.3333333333333333,
             "#9c179e"
            ],
            [
             0.4444444444444444,
             "#bd3786"
            ],
            [
             0.5555555555555556,
             "#d8576b"
            ],
            [
             0.6666666666666666,
             "#ed7953"
            ],
            [
             0.7777777777777778,
             "#fb9f3a"
            ],
            [
             0.8888888888888888,
             "#fdca26"
            ],
            [
             1,
             "#f0f921"
            ]
           ]
          },
          "colorway": [
           "#636efa",
           "#EF553B",
           "#00cc96",
           "#ab63fa",
           "#FFA15A",
           "#19d3f3",
           "#FF6692",
           "#B6E880",
           "#FF97FF",
           "#FECB52"
          ],
          "font": {
           "color": "#2a3f5f"
          },
          "geo": {
           "bgcolor": "white",
           "lakecolor": "white",
           "landcolor": "#E5ECF6",
           "showlakes": true,
           "showland": true,
           "subunitcolor": "white"
          },
          "hoverlabel": {
           "align": "left"
          },
          "hovermode": "closest",
          "mapbox": {
           "style": "light"
          },
          "paper_bgcolor": "white",
          "plot_bgcolor": "#E5ECF6",
          "polar": {
           "angularaxis": {
            "gridcolor": "white",
            "linecolor": "white",
            "ticks": ""
           },
           "bgcolor": "#E5ECF6",
           "radialaxis": {
            "gridcolor": "white",
            "linecolor": "white",
            "ticks": ""
           }
          },
          "scene": {
           "xaxis": {
            "backgroundcolor": "#E5ECF6",
            "gridcolor": "white",
            "gridwidth": 2,
            "linecolor": "white",
            "showbackground": true,
            "ticks": "",
            "zerolinecolor": "white"
           },
           "yaxis": {
            "backgroundcolor": "#E5ECF6",
            "gridcolor": "white",
            "gridwidth": 2,
            "linecolor": "white",
            "showbackground": true,
            "ticks": "",
            "zerolinecolor": "white"
           },
           "zaxis": {
            "backgroundcolor": "#E5ECF6",
            "gridcolor": "white",
            "gridwidth": 2,
            "linecolor": "white",
            "showbackground": true,
            "ticks": "",
            "zerolinecolor": "white"
           }
          },
          "shapedefaults": {
           "line": {
            "color": "#2a3f5f"
           }
          },
          "ternary": {
           "aaxis": {
            "gridcolor": "white",
            "linecolor": "white",
            "ticks": ""
           },
           "baxis": {
            "gridcolor": "white",
            "linecolor": "white",
            "ticks": ""
           },
           "bgcolor": "#E5ECF6",
           "caxis": {
            "gridcolor": "white",
            "linecolor": "white",
            "ticks": ""
           }
          },
          "title": {
           "x": 0.05
          },
          "xaxis": {
           "automargin": true,
           "gridcolor": "white",
           "linecolor": "white",
           "ticks": "",
           "title": {
            "standoff": 15
           },
           "zerolinecolor": "white",
           "zerolinewidth": 2
          },
          "yaxis": {
           "automargin": true,
           "gridcolor": "white",
           "linecolor": "white",
           "ticks": "",
           "title": {
            "standoff": 15
           },
           "zerolinecolor": "white",
           "zerolinewidth": 2
          }
         }
        },
        "xaxis": {
         "anchor": "y",
         "constrain": "domain",
         "domain": [
          0,
          1
         ],
         "scaleanchor": "y",
         "title": {
          "text": "Year"
         }
        },
        "yaxis": {
         "anchor": "x",
         "autorange": "reversed",
         "constrain": "domain",
         "domain": [
          0,
          1
         ],
         "title": {
          "text": "Query"
         }
        }
       }
      },
      "text/html": [
       "<div>                            <div id=\"ee0b5963-3a81-494a-ac64-6b56e488cee5\" class=\"plotly-graph-div\" style=\"height:525px; width:100%;\"></div>            <script type=\"text/javascript\">                require([\"plotly\"], function(Plotly) {                    window.PLOTLYENV=window.PLOTLYENV || {};                                    if (document.getElementById(\"ee0b5963-3a81-494a-ac64-6b56e488cee5\")) {                    Plotly.newPlot(                        \"ee0b5963-3a81-494a-ac64-6b56e488cee5\",                        [{\"coloraxis\":\"coloraxis\",\"name\":\"0\",\"x\":[2014,2015,2016,2017,2018,2019,2020,2021,2022],\"y\":[\"B14A\",\"B37\",\"B73\",\"CG102\",\"DK3IIH6\",\"F42\",\"H95\",\"LH185\",\"LH195\",\"LH198\",\"LH244\",\"LH82\",\"MO17\",\"OH43\",\"PB80\",\"PHB47\",\"PHK76\",\"PHM49\",\"PHN82\",\"PHP02\",\"PHT69\",\"PHW52\",\"PHZ51\",\"TX779\"],\"z\":[[1.9138138523837167,2.1522883443830563,2.1931245983544616,2.1931245983544616,2.3283796034387376,2.2013971243204513,2.3729120029701067,2.469822015978163,1.6434526764861874],[2.1931245983544616,2.1760912590556813,2.187520720836463,1.7781512503836436,2.311753861055754,2.416640507338281,2.369215857410143,2.484299839346786,1.6532125137753437],[2.3502480183341627,2.515873843711679,2.5185139398778875,2.5477747053878224,2.4082399653118496,2.123851640967086,2.5634810853944106,2.709269960975831,1.9777236052888478],[3.044539760392411,2.255272505103306,1.9084850188786497,1.505149978319906,null,null,null,null,null],[null,null,3.5931752634781025,3.423737249982329,1.0791812460476249,null,null,null,1.3617278360175928],[2.0293837776852097,2.0453229787866576,2.184691430817599,2.0170333392987803,2.3654879848909,2.24551266781415,2.3710678622717363,2.48572142648158,1.505149978319906],[2.187520720836463,2.1903316981702914,2.307496037913213,2.143014800254095,2.3096301674258988,2.322219294733919,2.369215857410143,2.478566495593843,1.6532125137753437],[3.404149249209695,3.0132586652835167,2.6503075231319366,2.748962861256161,1.0,null,null,null,1.2787536009528289],[3.0595634179012676,3.153204900084284,3.3394514413064407,3.186391215695493,4.072433725968388,4.05869168281923,2.439332693830263,2.6273658565927325,1.99563519459755],[3.551693915127225,2.673020907128896,2.682145076373832,2.7168377232995247,null,null,null,null,null],[null,null,null,null,null,null,1.7323937598229686,1.9867717342662448,3.9869507878585164],[2.307496037913213,3.378216149749878,2.591064607026499,2.5921767573958667,1.255272505103306,null,1.6720978579357175,1.792391689498254,1.4913616938342726],[2.1702617153949575,2.204119982655925,2.367355921026019,2.305351369446624,2.4638929889859074,2.3180633349627615,2.5899496013257077,2.7075701760979363,1.9395192526186185],[2.123851640967086,2.2810333672477277,2.184691430817599,1.8260748027008264,2.367355921026019,2.3384564936046046,2.3324384599156054,2.48572142648158,1.8325089127062364],[3.204933522354145,2.3891660843645326,1.7160033436347992,1.7634279935629373,null,null,1.5440680443502757,1.5314789170422551,null],[1.4471580313422192,3.514282047860378,3.0523090996473234,3.0637085593914173,1.505149978319906,null,2.075546961392531,2.2764618041732443,1.9294189257142929],[null,null,2.2095150145426308,null,null,null,3.4187982905903533,3.6509870943834453,1.6720978579357175],[2.2528530309798933,2.385606273598312,2.271841606536499,2.1583624920952498,2.1789769472931693,2.0086001717619175,2.089905111439398,2.305351369446624,1.5314789170422551],[2.2479732663618064,2.404833716619938,2.7403626894942437,2.7972675408307164,2.5010592622177517,2.2355284469075487,2.6646419755561257,2.7671558660821804,2.0170333392987803],[null,1.6989700043360187,1.7558748556724915,2.089905111439398,null,null,3.6290016192869916,3.711047603867034,1.3617278360175928],[null,0.9030899869919435,1.5314789170422551,1.4913616938342726,3.7290027092721902,3.822625678774141,null,null,null],[2.2121876044039577,2.3344537511509307,2.8981764834976764,2.904715545278681,2.161368002234975,2.012837224705172,2.1903316981702914,2.303196057420489,1.6020599913279625],[0.6020599913279624,3.4815859363676225,3.150756439860309,3.132899769944483,1.0,null,3.756940236046724,3.8444771757456815,1.9294189257142929],[null,null,null,1.6812412373755872,1.8976270912904414,1.7242758696007892,2.5440680443502757,2.6473829701146196,1.7242758696007892]],\"type\":\"heatmap\",\"xaxis\":\"x\",\"yaxis\":\"y\",\"hovertemplate\":\"Year: %{x}\\u003cbr\\u003eQuery: %{y}\\u003cbr\\u003ecolor: %{z}\\u003cextra\\u003e\\u003c\\u002fextra\\u003e\"}],                        {\"template\":{\"data\":{\"histogram2dcontour\":[{\"type\":\"histogram2dcontour\",\"colorbar\":{\"outlinewidth\":0,\"ticks\":\"\"},\"colorscale\":[[0.0,\"#0d0887\"],[0.1111111111111111,\"#46039f\"],[0.2222222222222222,\"#7201a8\"],[0.3333333333333333,\"#9c179e\"],[0.4444444444444444,\"#bd3786\"],[0.5555555555555556,\"#d8576b\"],[0.6666666666666666,\"#ed7953\"],[0.7777777777777778,\"#fb9f3a\"],[0.8888888888888888,\"#fdca26\"],[1.0,\"#f0f921\"]]}],\"choropleth\":[{\"type\":\"choropleth\",\"colorbar\":{\"outlinewidth\":0,\"ticks\":\"\"}}],\"histogram2d\":[{\"type\":\"histogram2d\",\"colorbar\":{\"outlinewidth\":0,\"ticks\":\"\"},\"colorscale\":[[0.0,\"#0d0887\"],[0.1111111111111111,\"#46039f\"],[0.2222222222222222,\"#7201a8\"],[0.3333333333333333,\"#9c179e\"],[0.4444444444444444,\"#bd3786\"],[0.5555555555555556,\"#d8576b\"],[0.6666666666666666,\"#ed7953\"],[0.7777777777777778,\"#fb9f3a\"],[0.8888888888888888,\"#fdca26\"],[1.0,\"#f0f921\"]]}],\"heatmap\":[{\"type\":\"heatmap\",\"colorbar\":{\"outlinewidth\":0,\"ticks\":\"\"},\"colorscale\":[[0.0,\"#0d0887\"],[0.1111111111111111,\"#46039f\"],[0.2222222222222222,\"#7201a8\"],[0.3333333333333333,\"#9c179e\"],[0.4444444444444444,\"#bd3786\"],[0.5555555555555556,\"#d8576b\"],[0.6666666666666666,\"#ed7953\"],[0.7777777777777778,\"#fb9f3a\"],[0.8888888888888888,\"#fdca26\"],[1.0,\"#f0f921\"]]}],\"heatmapgl\":[{\"type\":\"heatmapgl\",\"colorbar\":{\"outlinewidth\":0,\"ticks\":\"\"},\"colorscale\":[[0.0,\"#0d0887\"],[0.1111111111111111,\"#46039f\"],[0.2222222222222222,\"#7201a8\"],[0.3333333333333333,\"#9c179e\"],[0.4444444444444444,\"#bd3786\"],[0.5555555555555556,\"#d8576b\"],[0.6666666666666666,\"#ed7953\"],[0.7777777777777778,\"#fb9f3a\"],[0.8888888888888888,\"#fdca26\"],[1.0,\"#f0f921\"]]}],\"contourcarpet\":[{\"type\":\"contourcarpet\",\"colorbar\":{\"outlinewidth\":0,\"ticks\":\"\"}}],\"contour\":[{\"type\":\"contour\",\"colorbar\":{\"outlinewidth\":0,\"ticks\":\"\"},\"colorscale\":[[0.0,\"#0d0887\"],[0.1111111111111111,\"#46039f\"],[0.2222222222222222,\"#7201a8\"],[0.3333333333333333,\"#9c179e\"],[0.4444444444444444,\"#bd3786\"],[0.5555555555555556,\"#d8576b\"],[0.6666666666666666,\"#ed7953\"],[0.7777777777777778,\"#fb9f3a\"],[0.8888888888888888,\"#fdca26\"],[1.0,\"#f0f921\"]]}],\"surface\":[{\"type\":\"surface\",\"colorbar\":{\"outlinewidth\":0,\"ticks\":\"\"},\"colorscale\":[[0.0,\"#0d0887\"],[0.1111111111111111,\"#46039f\"],[0.2222222222222222,\"#7201a8\"],[0.3333333333333333,\"#9c179e\"],[0.4444444444444444,\"#bd3786\"],[0.5555555555555556,\"#d8576b\"],[0.6666666666666666,\"#ed7953\"],[0.7777777777777778,\"#fb9f3a\"],[0.8888888888888888,\"#fdca26\"],[1.0,\"#f0f921\"]]}],\"mesh3d\":[{\"type\":\"mesh3d\",\"colorbar\":{\"outlinewidth\":0,\"ticks\":\"\"}}],\"scatter\":[{\"fillpattern\":{\"fillmode\":\"overlay\",\"size\":10,\"solidity\":0.2},\"type\":\"scatter\"}],\"parcoords\":[{\"type\":\"parcoords\",\"line\":{\"colorbar\":{\"outlinewidth\":0,\"ticks\":\"\"}}}],\"scatterpolargl\":[{\"type\":\"scatterpolargl\",\"marker\":{\"colorbar\":{\"outlinewidth\":0,\"ticks\":\"\"}}}],\"bar\":[{\"error_x\":{\"color\":\"#2a3f5f\"},\"error_y\":{\"color\":\"#2a3f5f\"},\"marker\":{\"line\":{\"color\":\"#E5ECF6\",\"width\":0.5},\"pattern\":{\"fillmode\":\"overlay\",\"size\":10,\"solidity\":0.2}},\"type\":\"bar\"}],\"scattergeo\":[{\"type\":\"scattergeo\",\"marker\":{\"colorbar\":{\"outlinewidth\":0,\"ticks\":\"\"}}}],\"scatterpolar\":[{\"type\":\"scatterpolar\",\"marker\":{\"colorbar\":{\"outlinewidth\":0,\"ticks\":\"\"}}}],\"histogram\":[{\"marker\":{\"pattern\":{\"fillmode\":\"overlay\",\"size\":10,\"solidity\":0.2}},\"type\":\"histogram\"}],\"scattergl\":[{\"type\":\"scattergl\",\"marker\":{\"colorbar\":{\"outlinewidth\":0,\"ticks\":\"\"}}}],\"scatter3d\":[{\"type\":\"scatter3d\",\"line\":{\"colorbar\":{\"outlinewidth\":0,\"ticks\":\"\"}},\"marker\":{\"colorbar\":{\"outlinewidth\":0,\"ticks\":\"\"}}}],\"scattermapbox\":[{\"type\":\"scattermapbox\",\"marker\":{\"colorbar\":{\"outlinewidth\":0,\"ticks\":\"\"}}}],\"scatterternary\":[{\"type\":\"scatterternary\",\"marker\":{\"colorbar\":{\"outlinewidth\":0,\"ticks\":\"\"}}}],\"scattercarpet\":[{\"type\":\"scattercarpet\",\"marker\":{\"colorbar\":{\"outlinewidth\":0,\"ticks\":\"\"}}}],\"carpet\":[{\"aaxis\":{\"endlinecolor\":\"#2a3f5f\",\"gridcolor\":\"white\",\"linecolor\":\"white\",\"minorgridcolor\":\"white\",\"startlinecolor\":\"#2a3f5f\"},\"baxis\":{\"endlinecolor\":\"#2a3f5f\",\"gridcolor\":\"white\",\"linecolor\":\"white\",\"minorgridcolor\":\"white\",\"startlinecolor\":\"#2a3f5f\"},\"type\":\"carpet\"}],\"table\":[{\"cells\":{\"fill\":{\"color\":\"#EBF0F8\"},\"line\":{\"color\":\"white\"}},\"header\":{\"fill\":{\"color\":\"#C8D4E3\"},\"line\":{\"color\":\"white\"}},\"type\":\"table\"}],\"barpolar\":[{\"marker\":{\"line\":{\"color\":\"#E5ECF6\",\"width\":0.5},\"pattern\":{\"fillmode\":\"overlay\",\"size\":10,\"solidity\":0.2}},\"type\":\"barpolar\"}],\"pie\":[{\"automargin\":true,\"type\":\"pie\"}]},\"layout\":{\"autotypenumbers\":\"strict\",\"colorway\":[\"#636efa\",\"#EF553B\",\"#00cc96\",\"#ab63fa\",\"#FFA15A\",\"#19d3f3\",\"#FF6692\",\"#B6E880\",\"#FF97FF\",\"#FECB52\"],\"font\":{\"color\":\"#2a3f5f\"},\"hovermode\":\"closest\",\"hoverlabel\":{\"align\":\"left\"},\"paper_bgcolor\":\"white\",\"plot_bgcolor\":\"#E5ECF6\",\"polar\":{\"bgcolor\":\"#E5ECF6\",\"angularaxis\":{\"gridcolor\":\"white\",\"linecolor\":\"white\",\"ticks\":\"\"},\"radialaxis\":{\"gridcolor\":\"white\",\"linecolor\":\"white\",\"ticks\":\"\"}},\"ternary\":{\"bgcolor\":\"#E5ECF6\",\"aaxis\":{\"gridcolor\":\"white\",\"linecolor\":\"white\",\"ticks\":\"\"},\"baxis\":{\"gridcolor\":\"white\",\"linecolor\":\"white\",\"ticks\":\"\"},\"caxis\":{\"gridcolor\":\"white\",\"linecolor\":\"white\",\"ticks\":\"\"}},\"coloraxis\":{\"colorbar\":{\"outlinewidth\":0,\"ticks\":\"\"}},\"colorscale\":{\"sequential\":[[0.0,\"#0d0887\"],[0.1111111111111111,\"#46039f\"],[0.2222222222222222,\"#7201a8\"],[0.3333333333333333,\"#9c179e\"],[0.4444444444444444,\"#bd3786\"],[0.5555555555555556,\"#d8576b\"],[0.6666666666666666,\"#ed7953\"],[0.7777777777777778,\"#fb9f3a\"],[0.8888888888888888,\"#fdca26\"],[1.0,\"#f0f921\"]],\"sequentialminus\":[[0.0,\"#0d0887\"],[0.1111111111111111,\"#46039f\"],[0.2222222222222222,\"#7201a8\"],[0.3333333333333333,\"#9c179e\"],[0.4444444444444444,\"#bd3786\"],[0.5555555555555556,\"#d8576b\"],[0.6666666666666666,\"#ed7953\"],[0.7777777777777778,\"#fb9f3a\"],[0.8888888888888888,\"#fdca26\"],[1.0,\"#f0f921\"]],\"diverging\":[[0,\"#8e0152\"],[0.1,\"#c51b7d\"],[0.2,\"#de77ae\"],[0.3,\"#f1b6da\"],[0.4,\"#fde0ef\"],[0.5,\"#f7f7f7\"],[0.6,\"#e6f5d0\"],[0.7,\"#b8e186\"],[0.8,\"#7fbc41\"],[0.9,\"#4d9221\"],[1,\"#276419\"]]},\"xaxis\":{\"gridcolor\":\"white\",\"linecolor\":\"white\",\"ticks\":\"\",\"title\":{\"standoff\":15},\"zerolinecolor\":\"white\",\"automargin\":true,\"zerolinewidth\":2},\"yaxis\":{\"gridcolor\":\"white\",\"linecolor\":\"white\",\"ticks\":\"\",\"title\":{\"standoff\":15},\"zerolinecolor\":\"white\",\"automargin\":true,\"zerolinewidth\":2},\"scene\":{\"xaxis\":{\"backgroundcolor\":\"#E5ECF6\",\"gridcolor\":\"white\",\"linecolor\":\"white\",\"showbackground\":true,\"ticks\":\"\",\"zerolinecolor\":\"white\",\"gridwidth\":2},\"yaxis\":{\"backgroundcolor\":\"#E5ECF6\",\"gridcolor\":\"white\",\"linecolor\":\"white\",\"showbackground\":true,\"ticks\":\"\",\"zerolinecolor\":\"white\",\"gridwidth\":2},\"zaxis\":{\"backgroundcolor\":\"#E5ECF6\",\"gridcolor\":\"white\",\"linecolor\":\"white\",\"showbackground\":true,\"ticks\":\"\",\"zerolinecolor\":\"white\",\"gridwidth\":2}},\"shapedefaults\":{\"line\":{\"color\":\"#2a3f5f\"}},\"annotationdefaults\":{\"arrowcolor\":\"#2a3f5f\",\"arrowhead\":0,\"arrowwidth\":1},\"geo\":{\"bgcolor\":\"white\",\"landcolor\":\"#E5ECF6\",\"subunitcolor\":\"white\",\"showland\":true,\"showlakes\":true,\"lakecolor\":\"white\"},\"title\":{\"x\":0.05},\"mapbox\":{\"style\":\"light\"}}},\"xaxis\":{\"anchor\":\"y\",\"domain\":[0.0,1.0],\"scaleanchor\":\"y\",\"constrain\":\"domain\",\"title\":{\"text\":\"Year\"}},\"yaxis\":{\"anchor\":\"x\",\"domain\":[0.0,1.0],\"autorange\":\"reversed\",\"constrain\":\"domain\",\"title\":{\"text\":\"Query\"}},\"coloraxis\":{\"colorscale\":[[0.0,\"#0d0887\"],[0.1111111111111111,\"#46039f\"],[0.2222222222222222,\"#7201a8\"],[0.3333333333333333,\"#9c179e\"],[0.4444444444444444,\"#bd3786\"],[0.5555555555555556,\"#d8576b\"],[0.6666666666666666,\"#ed7953\"],[0.7777777777777778,\"#fb9f3a\"],[0.8888888888888888,\"#fdca26\"],[1.0,\"#f0f921\"]]},\"margin\":{\"t\":60}},                        {\"responsive\": true}                    ).then(function(){\n",
       "                            \n",
       "var gd = document.getElementById('ee0b5963-3a81-494a-ac64-6b56e488cee5');\n",
       "var x = new MutationObserver(function (mutations, observer) {{\n",
       "        var display = window.getComputedStyle(gd).display;\n",
       "        if (!display || display === 'none') {{\n",
       "            console.log([gd, 'removed!']);\n",
       "            Plotly.purge(gd);\n",
       "            observer.disconnect();\n",
       "        }}\n",
       "}});\n",
       "\n",
       "// Listen for the removal of the full notebook cells\n",
       "var notebookContainer = gd.closest('#notebook-container');\n",
       "if (notebookContainer) {{\n",
       "    x.observe(notebookContainer, {childList: true});\n",
       "}}\n",
       "\n",
       "// Listen for the clearing of the current output cell\n",
       "var outputEl = gd.closest('.output');\n",
       "if (outputEl) {{\n",
       "    x.observe(outputEl, {childList: true});\n",
       "}}\n",
       "\n",
       "                        })                };                });            </script>        </div>"
      ]
     },
     "metadata": {},
     "output_type": "display_data"
    }
   ],
   "source": [
    "for e in [e for e in list(temp) if e not in ['Query', 'Year']]:\n",
    "    temp[e] = np.log10(temp[e])\n",
    "px.imshow(temp.drop('Query', axis=1),)"
   ]
  },
  {
   "cell_type": "code",
   "execution_count": null,
   "id": "9532243d",
   "metadata": {},
   "outputs": [],
   "source": [
    "# parents.loc[((parents.n> 300) &\n",
    "#              (parents.n<400000))\n",
    "#             ]\n",
    "\n",
    "# # 0\tLH195\t30351\n",
    "# # 1\tPHZ51\t18607\n",
    "# # 2\tPHT69\t12078\n",
    "# 3\tLH244\t9855\n",
    "# # 4\tPHP02\t9650\n",
    "# # 5\tPHK76\t7309\n",
    "# 6\tDK3IIH6\t6607\n",
    "# 7\tPHB47\t6007\n",
    "# 8\tLH198\t5035\n",
    "# 9\tLH185\t4604\n",
    "# 10\tLH82\t3531\n",
    "# 11\tPHN82\t3248"
   ]
  },
  {
   "cell_type": "code",
   "execution_count": null,
   "id": "c1ef94f1",
   "metadata": {},
   "outputs": [],
   "source": [
    "# test info\n",
    "\n",
    "def phno_mask_parents(\n",
    "        tParents = ['LH195', 'PHZ51']\n",
    "        ):\n",
    "    mask_list_train = []\n",
    "    mask_list_test  = []\n",
    "\n",
    "    for i in range(len(tParents)):\n",
    "        mask = ((phno.loc[:, 'F'] == tParents[i]) | (phno.loc[:, 'M'] == tParents[i]))\n",
    "        mask_list_train += [~mask]\n",
    "        mask_list_test  += [mask]\n",
    "\n",
    "    # logical or: may be in any of the allowed masks\n",
    "    mask_test_geno = pd.concat(mask_list_test, axis=1).sum(axis=1) > 0\n",
    "\n",
    "    # logical and: must not be in any of the test masks\n",
    "    mask_train_geno = pd.concat(mask_list_train, axis=1).prod(axis=1) > 0\n",
    "\n",
    "    return({\n",
    "        'test':mask_test_geno,\n",
    "        'train':mask_train_geno\n",
    "        })\n",
    "\n"
   ]
  },
  {
   "cell_type": "code",
   "execution_count": null,
   "id": "5181e50a",
   "metadata": {},
   "outputs": [],
   "source": [
    "\n",
    "# describe resulting set\n",
    "def phno_mask_count(\n",
    "        masks = phno_mask_parents(tParents = ['LH195', 'PHZ51'])\n",
    "        ):\n",
    "    temp = phno.loc[masks['train'], ['Year', 'Env']].groupby('Year').count().reset_index().rename(columns={'Env':'Train'}).merge(\n",
    "        phno.loc[masks['test'],  ['Year', 'Env']].groupby('Year').count().reset_index().rename(columns={'Env':'Test'}), how = 'outer'\n",
    "        )\n",
    "\n",
    "    temp = pd.concat([\n",
    "        temp,\n",
    "        pd.DataFrame({\n",
    "            'Year': '',\n",
    "            'Train':temp.Train.sum(),\n",
    "            'Test':temp.Test.sum()\n",
    "            }, index = [9999])\n",
    "            ])\n",
    "\n",
    "    return temp\n"
   ]
  },
  {
   "cell_type": "code",
   "execution_count": null,
   "id": "4df19d89",
   "metadata": {},
   "outputs": [
    {
     "data": {
      "text/html": [
       "<div>\n",
       "<style scoped>\n",
       "    .dataframe tbody tr th:only-of-type {\n",
       "        vertical-align: middle;\n",
       "    }\n",
       "\n",
       "    .dataframe tbody tr th {\n",
       "        vertical-align: top;\n",
       "    }\n",
       "\n",
       "    .dataframe thead th {\n",
       "        text-align: right;\n",
       "    }\n",
       "</style>\n",
       "<table border=\"1\" class=\"dataframe\">\n",
       "  <thead>\n",
       "    <tr style=\"text-align: right;\">\n",
       "      <th></th>\n",
       "      <th>Year</th>\n",
       "      <th>Train</th>\n",
       "      <th>Test</th>\n",
       "    </tr>\n",
       "  </thead>\n",
       "  <tbody>\n",
       "    <tr>\n",
       "      <th>0</th>\n",
       "      <td>2014</td>\n",
       "      <td>10426</td>\n",
       "      <td>1151</td>\n",
       "    </tr>\n",
       "    <tr>\n",
       "      <th>1</th>\n",
       "      <td>2015</td>\n",
       "      <td>8858</td>\n",
       "      <td>4352</td>\n",
       "    </tr>\n",
       "    <tr>\n",
       "      <th>2</th>\n",
       "      <td>2016</td>\n",
       "      <td>10214</td>\n",
       "      <td>3546</td>\n",
       "    </tr>\n",
       "    <tr>\n",
       "      <th>3</th>\n",
       "      <td>2017</td>\n",
       "      <td>9311</td>\n",
       "      <td>2810</td>\n",
       "    </tr>\n",
       "    <tr>\n",
       "      <th>4</th>\n",
       "      <td>2018</td>\n",
       "      <td>6916</td>\n",
       "      <td>11825</td>\n",
       "    </tr>\n",
       "    <tr>\n",
       "      <th>5</th>\n",
       "      <td>2019</td>\n",
       "      <td>7746</td>\n",
       "      <td>11447</td>\n",
       "    </tr>\n",
       "    <tr>\n",
       "      <th>6</th>\n",
       "      <td>2020</td>\n",
       "      <td>8729</td>\n",
       "      <td>5975</td>\n",
       "    </tr>\n",
       "    <tr>\n",
       "      <th>7</th>\n",
       "      <td>2021</td>\n",
       "      <td>12072</td>\n",
       "      <td>7389</td>\n",
       "    </tr>\n",
       "    <tr>\n",
       "      <th>8</th>\n",
       "      <td>2022</td>\n",
       "      <td>10129</td>\n",
       "      <td>161</td>\n",
       "    </tr>\n",
       "    <tr>\n",
       "      <th>9999</th>\n",
       "      <td></td>\n",
       "      <td>84401</td>\n",
       "      <td>48656</td>\n",
       "    </tr>\n",
       "  </tbody>\n",
       "</table>\n",
       "</div>"
      ],
      "text/plain": [
       "      Year  Train   Test\n",
       "0     2014  10426   1151\n",
       "1     2015   8858   4352\n",
       "2     2016  10214   3546\n",
       "3     2017   9311   2810\n",
       "4     2018   6916  11825\n",
       "5     2019   7746  11447\n",
       "6     2020   8729   5975\n",
       "7     2021  12072   7389\n",
       "8     2022  10129    161\n",
       "9999        84401  48656"
      ]
     },
     "execution_count": null,
     "metadata": {},
     "output_type": "execute_result"
    }
   ],
   "source": [
    "phno_mask_count(\n",
    "        masks = phno_mask_parents(tParents = ['LH195', 'PHZ51'])\n",
    "        )"
   ]
  },
  {
   "cell_type": "code",
   "execution_count": null,
   "id": "fec0b659",
   "metadata": {},
   "outputs": [],
   "source": [
    "rng = np.random.default_rng(8679)\n",
    "\n"
   ]
  },
  {
   "cell_type": "code",
   "execution_count": null,
   "id": "537471e0",
   "metadata": {},
   "outputs": [
    {
     "data": {
      "text/html": [
       "<div>\n",
       "<style scoped>\n",
       "    .dataframe tbody tr th:only-of-type {\n",
       "        vertical-align: middle;\n",
       "    }\n",
       "\n",
       "    .dataframe tbody tr th {\n",
       "        vertical-align: top;\n",
       "    }\n",
       "\n",
       "    .dataframe thead th {\n",
       "        text-align: right;\n",
       "    }\n",
       "</style>\n",
       "<table border=\"1\" class=\"dataframe\">\n",
       "  <thead>\n",
       "    <tr style=\"text-align: right;\">\n",
       "      <th></th>\n",
       "      <th>Year</th>\n",
       "      <th>Train</th>\n",
       "      <th>Test</th>\n",
       "    </tr>\n",
       "  </thead>\n",
       "  <tbody>\n",
       "    <tr>\n",
       "      <th>0</th>\n",
       "      <td>2014</td>\n",
       "      <td>11573</td>\n",
       "      <td>4.0</td>\n",
       "    </tr>\n",
       "    <tr>\n",
       "      <th>1</th>\n",
       "      <td>2015</td>\n",
       "      <td>10179</td>\n",
       "      <td>3031.0</td>\n",
       "    </tr>\n",
       "    <tr>\n",
       "      <th>2</th>\n",
       "      <td>2016</td>\n",
       "      <td>12345</td>\n",
       "      <td>1415.0</td>\n",
       "    </tr>\n",
       "    <tr>\n",
       "      <th>3</th>\n",
       "      <td>2017</td>\n",
       "      <td>10763</td>\n",
       "      <td>1358.0</td>\n",
       "    </tr>\n",
       "    <tr>\n",
       "      <th>4</th>\n",
       "      <td>2018</td>\n",
       "      <td>18731</td>\n",
       "      <td>10.0</td>\n",
       "    </tr>\n",
       "    <tr>\n",
       "      <th>5</th>\n",
       "      <td>2019</td>\n",
       "      <td>19193</td>\n",
       "      <td>NaN</td>\n",
       "    </tr>\n",
       "    <tr>\n",
       "      <th>6</th>\n",
       "      <td>2020</td>\n",
       "      <td>8990</td>\n",
       "      <td>5714.0</td>\n",
       "    </tr>\n",
       "    <tr>\n",
       "      <th>7</th>\n",
       "      <td>2021</td>\n",
       "      <td>12471</td>\n",
       "      <td>6990.0</td>\n",
       "    </tr>\n",
       "    <tr>\n",
       "      <th>8</th>\n",
       "      <td>2022</td>\n",
       "      <td>10205</td>\n",
       "      <td>85.0</td>\n",
       "    </tr>\n",
       "    <tr>\n",
       "      <th>9999</th>\n",
       "      <td></td>\n",
       "      <td>114450</td>\n",
       "      <td>18607.0</td>\n",
       "    </tr>\n",
       "  </tbody>\n",
       "</table>\n",
       "</div>"
      ],
      "text/plain": [
       "      Year   Train     Test\n",
       "0     2014   11573      4.0\n",
       "1     2015   10179   3031.0\n",
       "2     2016   12345   1415.0\n",
       "3     2017   10763   1358.0\n",
       "4     2018   18731     10.0\n",
       "5     2019   19193      NaN\n",
       "6     2020    8990   5714.0\n",
       "7     2021   12471   6990.0\n",
       "8     2022   10205     85.0\n",
       "9999        114450  18607.0"
      ]
     },
     "execution_count": null,
     "metadata": {},
     "output_type": "execute_result"
    }
   ],
   "source": [
    "parent_1k = list(parents.loc[parents.n > 1000, 'parent'])\n",
    "\n",
    "phno_mask_count(\n",
    "        masks = phno_mask_parents(tParents = list(rng.choice(parent_1k, 1)))\n",
    "        )\n",
    "\n"
   ]
  },
  {
   "cell_type": "code",
   "execution_count": null,
   "id": "1d10f7c0",
   "metadata": {},
   "outputs": [],
   "source": [
    "\n",
    "temp_list = []\n",
    "for e in parent_1k:\n",
    "    temp = phno_mask_count(masks = phno_mask_parents(tParents = [e]))\n",
    "    temp['Parent'] = e\n",
    "    temp_list += [temp]\n",
    "\n"
   ]
  },
  {
   "cell_type": "code",
   "execution_count": null,
   "id": "560302b5",
   "metadata": {},
   "outputs": [],
   "source": [
    "# restrict to entries with at least x observations in the year that they have the most observations\n",
    "temp = pd.concat(\n",
    "    [temp.loc[(temp.Test == (temp.loc[temp.index < 9999,  'Test'].max()) ), ]\n",
    "     for temp in temp_list])\n",
    "\n",
    "temp = temp.sort_values('Test', ascending=False).reset_index(drop = True)"
   ]
  },
  {
   "cell_type": "code",
   "execution_count": null,
   "id": "0f6c5dc3",
   "metadata": {},
   "outputs": [
    {
     "data": {
      "text/html": [
       "<div>\n",
       "<style scoped>\n",
       "    .dataframe tbody tr th:only-of-type {\n",
       "        vertical-align: middle;\n",
       "    }\n",
       "\n",
       "    .dataframe tbody tr th {\n",
       "        vertical-align: top;\n",
       "    }\n",
       "\n",
       "    .dataframe thead th {\n",
       "        text-align: right;\n",
       "    }\n",
       "</style>\n",
       "<table border=\"1\" class=\"dataframe\">\n",
       "  <thead>\n",
       "    <tr style=\"text-align: right;\">\n",
       "      <th></th>\n",
       "      <th>Year</th>\n",
       "      <th>Train</th>\n",
       "      <th>Test</th>\n",
       "      <th>Parent</th>\n",
       "      <th>Known</th>\n",
       "    </tr>\n",
       "  </thead>\n",
       "  <tbody>\n",
       "    <tr>\n",
       "      <th>0</th>\n",
       "      <td>2014</td>\n",
       "      <td>10469</td>\n",
       "      <td>1108.0</td>\n",
       "      <td>CG102</td>\n",
       "      <td></td>\n",
       "    </tr>\n",
       "    <tr>\n",
       "      <th>1</th>\n",
       "      <td>2014</td>\n",
       "      <td>9974</td>\n",
       "      <td>1603.0</td>\n",
       "      <td>PB80</td>\n",
       "      <td></td>\n",
       "    </tr>\n",
       "    <tr>\n",
       "      <th>2</th>\n",
       "      <td>2014</td>\n",
       "      <td>9041</td>\n",
       "      <td>2536.0</td>\n",
       "      <td>LH185</td>\n",
       "      <td></td>\n",
       "    </tr>\n",
       "    <tr>\n",
       "      <th>3</th>\n",
       "      <td>2014</td>\n",
       "      <td>8015</td>\n",
       "      <td>3562.0</td>\n",
       "      <td>LH198</td>\n",
       "      <td></td>\n",
       "    </tr>\n",
       "    <tr>\n",
       "      <th>4</th>\n",
       "      <td>2015</td>\n",
       "      <td>10821</td>\n",
       "      <td>2389.0</td>\n",
       "      <td>LH82</td>\n",
       "      <td></td>\n",
       "    </tr>\n",
       "    <tr>\n",
       "      <th>5</th>\n",
       "      <td>2015</td>\n",
       "      <td>9942</td>\n",
       "      <td>3268.0</td>\n",
       "      <td>PHB47</td>\n",
       "      <td></td>\n",
       "    </tr>\n",
       "    <tr>\n",
       "      <th>6</th>\n",
       "      <td>2016</td>\n",
       "      <td>9841</td>\n",
       "      <td>3919.0</td>\n",
       "      <td>DK3IIH6</td>\n",
       "      <td></td>\n",
       "    </tr>\n",
       "    <tr>\n",
       "      <th>7</th>\n",
       "      <td>2017</td>\n",
       "      <td>11494</td>\n",
       "      <td>627.0</td>\n",
       "      <td>PHN82</td>\n",
       "      <td></td>\n",
       "    </tr>\n",
       "    <tr>\n",
       "      <th>8</th>\n",
       "      <td>2017</td>\n",
       "      <td>11318</td>\n",
       "      <td>803.0</td>\n",
       "      <td>PHW52</td>\n",
       "      <td></td>\n",
       "    </tr>\n",
       "    <tr>\n",
       "      <th>9</th>\n",
       "      <td>2018</td>\n",
       "      <td>6926</td>\n",
       "      <td>11815.0</td>\n",
       "      <td>LH195</td>\n",
       "      <td>Y</td>\n",
       "    </tr>\n",
       "    <tr>\n",
       "      <th>10</th>\n",
       "      <td>2019</td>\n",
       "      <td>12546</td>\n",
       "      <td>6647.0</td>\n",
       "      <td>PHT69</td>\n",
       "      <td>Y</td>\n",
       "    </tr>\n",
       "    <tr>\n",
       "      <th>11</th>\n",
       "      <td>2021</td>\n",
       "      <td>14984</td>\n",
       "      <td>4477.0</td>\n",
       "      <td>PHK76</td>\n",
       "      <td>Y</td>\n",
       "    </tr>\n",
       "    <tr>\n",
       "      <th>12</th>\n",
       "      <td>2021</td>\n",
       "      <td>14320</td>\n",
       "      <td>5141.0</td>\n",
       "      <td>PHP02</td>\n",
       "      <td>Y</td>\n",
       "    </tr>\n",
       "    <tr>\n",
       "      <th>13</th>\n",
       "      <td>2021</td>\n",
       "      <td>12471</td>\n",
       "      <td>6990.0</td>\n",
       "      <td>PHZ51</td>\n",
       "      <td>Y</td>\n",
       "    </tr>\n",
       "    <tr>\n",
       "      <th>14</th>\n",
       "      <td>2022</td>\n",
       "      <td>586</td>\n",
       "      <td>9704.0</td>\n",
       "      <td>LH244</td>\n",
       "      <td></td>\n",
       "    </tr>\n",
       "  </tbody>\n",
       "</table>\n",
       "</div>"
      ],
      "text/plain": [
       "    Year  Train     Test   Parent Known\n",
       "0   2014  10469   1108.0    CG102      \n",
       "1   2014   9974   1603.0     PB80      \n",
       "2   2014   9041   2536.0    LH185      \n",
       "3   2014   8015   3562.0    LH198      \n",
       "4   2015  10821   2389.0     LH82      \n",
       "5   2015   9942   3268.0    PHB47      \n",
       "6   2016   9841   3919.0  DK3IIH6      \n",
       "7   2017  11494    627.0    PHN82      \n",
       "8   2017  11318    803.0    PHW52      \n",
       "9   2018   6926  11815.0    LH195     Y\n",
       "10  2019  12546   6647.0    PHT69     Y\n",
       "11  2021  14984   4477.0    PHK76     Y\n",
       "12  2021  14320   5141.0    PHP02     Y\n",
       "13  2021  12471   6990.0    PHZ51     Y\n",
       "14  2022    586   9704.0    LH244      "
      ]
     },
     "execution_count": null,
     "metadata": {},
     "output_type": "execute_result"
    }
   ],
   "source": [
    "# flag documented testers\n",
    "temp['Known'] = ['Y' if e in [# 20-21 Testers\n",
    "    'PHZ51',\n",
    "    'PHP02',\n",
    "    'PHK76',\n",
    "    # 18-19\n",
    "    'PHT69',\n",
    "    'LH195',\n",
    "    ] else '' for e in list(temp.Parent)]\n",
    "\n",
    "temp = temp.loc[temp.Test > 600, ].sort_values(['Year', 'Test']).reset_index(drop = True)\n",
    "temp"
   ]
  },
  {
   "cell_type": "code",
   "execution_count": null,
   "id": "6218d6f2",
   "metadata": {},
   "outputs": [
    {
     "data": {
      "text/html": [
       "<div>\n",
       "<style scoped>\n",
       "    .dataframe tbody tr th:only-of-type {\n",
       "        vertical-align: middle;\n",
       "    }\n",
       "\n",
       "    .dataframe tbody tr th {\n",
       "        vertical-align: top;\n",
       "    }\n",
       "\n",
       "    .dataframe thead th {\n",
       "        text-align: right;\n",
       "    }\n",
       "</style>\n",
       "<table border=\"1\" class=\"dataframe\">\n",
       "  <thead>\n",
       "    <tr style=\"text-align: right;\">\n",
       "      <th></th>\n",
       "      <th>Year</th>\n",
       "      <th>Train</th>\n",
       "      <th>Test</th>\n",
       "      <th>Parent</th>\n",
       "    </tr>\n",
       "  </thead>\n",
       "  <tbody>\n",
       "    <tr>\n",
       "      <th>9999</th>\n",
       "      <td></td>\n",
       "      <td>131656</td>\n",
       "      <td>1401.0</td>\n",
       "      <td>CG102</td>\n",
       "    </tr>\n",
       "    <tr>\n",
       "      <th>9999</th>\n",
       "      <td></td>\n",
       "      <td>131030</td>\n",
       "      <td>2027.0</td>\n",
       "      <td>PB80</td>\n",
       "    </tr>\n",
       "    <tr>\n",
       "      <th>9999</th>\n",
       "      <td></td>\n",
       "      <td>128453</td>\n",
       "      <td>4604.0</td>\n",
       "      <td>LH185</td>\n",
       "    </tr>\n",
       "    <tr>\n",
       "      <th>9999</th>\n",
       "      <td></td>\n",
       "      <td>128022</td>\n",
       "      <td>5035.0</td>\n",
       "      <td>LH198</td>\n",
       "    </tr>\n",
       "    <tr>\n",
       "      <th>9999</th>\n",
       "      <td></td>\n",
       "      <td>129526</td>\n",
       "      <td>3531.0</td>\n",
       "      <td>LH82</td>\n",
       "    </tr>\n",
       "    <tr>\n",
       "      <th>9999</th>\n",
       "      <td></td>\n",
       "      <td>127050</td>\n",
       "      <td>6007.0</td>\n",
       "      <td>PHB47</td>\n",
       "    </tr>\n",
       "    <tr>\n",
       "      <th>9999</th>\n",
       "      <td></td>\n",
       "      <td>126450</td>\n",
       "      <td>6607.0</td>\n",
       "      <td>DK3IIH6</td>\n",
       "    </tr>\n",
       "    <tr>\n",
       "      <th>9999</th>\n",
       "      <td></td>\n",
       "      <td>129809</td>\n",
       "      <td>3248.0</td>\n",
       "      <td>PHN82</td>\n",
       "    </tr>\n",
       "    <tr>\n",
       "      <th>9999</th>\n",
       "      <td></td>\n",
       "      <td>130440</td>\n",
       "      <td>2617.0</td>\n",
       "      <td>PHW52</td>\n",
       "    </tr>\n",
       "    <tr>\n",
       "      <th>9999</th>\n",
       "      <td></td>\n",
       "      <td>102706</td>\n",
       "      <td>30351.0</td>\n",
       "      <td>LH195</td>\n",
       "    </tr>\n",
       "    <tr>\n",
       "      <th>9999</th>\n",
       "      <td></td>\n",
       "      <td>120979</td>\n",
       "      <td>12078.0</td>\n",
       "      <td>PHT69</td>\n",
       "    </tr>\n",
       "    <tr>\n",
       "      <th>9999</th>\n",
       "      <td></td>\n",
       "      <td>125748</td>\n",
       "      <td>7309.0</td>\n",
       "      <td>PHK76</td>\n",
       "    </tr>\n",
       "    <tr>\n",
       "      <th>9999</th>\n",
       "      <td></td>\n",
       "      <td>123407</td>\n",
       "      <td>9650.0</td>\n",
       "      <td>PHP02</td>\n",
       "    </tr>\n",
       "    <tr>\n",
       "      <th>9999</th>\n",
       "      <td></td>\n",
       "      <td>114450</td>\n",
       "      <td>18607.0</td>\n",
       "      <td>PHZ51</td>\n",
       "    </tr>\n",
       "    <tr>\n",
       "      <th>9999</th>\n",
       "      <td></td>\n",
       "      <td>123202</td>\n",
       "      <td>9855.0</td>\n",
       "      <td>LH244</td>\n",
       "    </tr>\n",
       "  </tbody>\n",
       "</table>\n",
       "</div>"
      ],
      "text/plain": [
       "     Year   Train     Test   Parent\n",
       "9999       131656   1401.0    CG102\n",
       "9999       131030   2027.0     PB80\n",
       "9999       128453   4604.0    LH185\n",
       "9999       128022   5035.0    LH198\n",
       "9999       129526   3531.0     LH82\n",
       "9999       127050   6007.0    PHB47\n",
       "9999       126450   6607.0  DK3IIH6\n",
       "9999       129809   3248.0    PHN82\n",
       "9999       130440   2617.0    PHW52\n",
       "9999       102706  30351.0    LH195\n",
       "9999       120979  12078.0    PHT69\n",
       "9999       125748   7309.0    PHK76\n",
       "9999       123407   9650.0    PHP02\n",
       "9999       114450  18607.0    PHZ51\n",
       "9999       123202   9855.0    LH244"
      ]
     },
     "execution_count": null,
     "metadata": {},
     "output_type": "execute_result"
    }
   ],
   "source": [
    "pd.concat(\n",
    "    [[ee for ee in temp_list if ee.Parent[0] == e][0] for e in list(temp.Parent)],\n",
    "    axis = 0).loc[9999, ]"
   ]
  },
  {
   "cell_type": "code",
   "execution_count": null,
   "id": "1f5e41a5",
   "metadata": {},
   "outputs": [],
   "source": [
    "out_list = []\n",
    "for i in list(temp.Parent):\n",
    "    for j in list(temp.Parent):\n",
    "        out = phno_mask_count(masks = phno_mask_parents(tParents = [i, j]))\n",
    "\n",
    "        if j != 'CG102':\n",
    "            out['i'] = i\n",
    "            out['j'] = j\n",
    "            out_list += [out.loc[9999, ]]"
   ]
  },
  {
   "cell_type": "code",
   "execution_count": null,
   "id": "34cc98f4",
   "metadata": {},
   "outputs": [],
   "source": [
    "l = list(temp.Parent)\n",
    "\n",
    "out1 = np.zeros((len(l), len(l)) )\n",
    "out2 = np.zeros((len(l), len(l)) )\n",
    "\n",
    "for i in range(len(l)):\n",
    "    for j in range(len(l)):\n",
    "        x = phno_mask_count(masks = phno_mask_parents(tParents = [l[i], l[j]]))\n",
    "        out1[i, j] = x.loc[9999, 'Train'].astype(int)\n",
    "        out2[i, j] = x.loc[9999, 'Test'].astype(int)"
   ]
  },
  {
   "cell_type": "code",
   "execution_count": null,
   "id": "d30b09cd",
   "metadata": {},
   "outputs": [
    {
     "data": {
      "application/vnd.plotly.v1+json": {
       "config": {
        "plotlyServerURL": "https://plot.ly"
       },
       "data": [
        {
         "coloraxis": "coloraxis",
         "hovertemplate": "x: %{x}<br>y: %{y}<br>color: %{z}<extra></extra>",
         "name": "0",
         "type": "heatmap",
         "x": [
          "CG102",
          "PB80",
          "LH185",
          "LH198",
          "LH82",
          "PHB47",
          "DK3IIH6",
          "PHN82",
          "PHW52",
          "LH195",
          "PHT69",
          "PHK76",
          "PHP02",
          "PHZ51",
          "LH244"
         ],
         "xaxis": "x",
         "y": [
          "CG102",
          "PB80",
          "LH185",
          "LH198",
          "LH82",
          "PHB47",
          "DK3IIH6",
          "PHN82",
          "PHW52",
          "LH195",
          "PHT69",
          "PHK76",
          "PHP02",
          "PHZ51",
          "LH244"
         ],
         "yaxis": "y",
         "z": [
          [
           131656,
           129641,
           127052,
           126621,
           128198,
           125649,
           125113,
           128408,
           129039,
           101305,
           119578,
           124347,
           122006,
           113062,
           121801
          ],
          [
           129641,
           131030,
           126449,
           126003,
           127519,
           125040,
           124423,
           127782,
           128413,
           100679,
           118952,
           123721,
           121380,
           112612,
           121175
          ],
          [
           127052,
           126449,
           128453,
           123482,
           124922,
           122559,
           121846,
           125205,
           125933,
           98241,
           116375,
           121144,
           118803,
           109846,
           118617
          ],
          [
           126621,
           126003,
           123482,
           128022,
           124591,
           122015,
           121479,
           124834,
           125405,
           97685,
           115944,
           120740,
           118372,
           109617,
           118167
          ],
          [
           128198,
           127519,
           124922,
           124591,
           129526,
           123645,
           122919,
           126293,
           126966,
           99367,
           117452,
           122217,
           119876,
           110924,
           119694
          ],
          [
           125649,
           125040,
           122559,
           122015,
           123645,
           127050,
           120547,
           124127,
           124433,
           96764,
           114972,
           119815,
           117548,
           108800,
           117218
          ],
          [
           125113,
           124423,
           121846,
           121479,
           122919,
           120547,
           126450,
           123202,
           123833,
           96144,
           114437,
           119141,
           116800,
           107843,
           116618
          ],
          [
           128408,
           127782,
           125205,
           124834,
           126293,
           124127,
           123202,
           129809,
           127803,
           99600,
           117731,
           122500,
           120159,
           111217,
           119999
          ],
          [
           129039,
           128413,
           125933,
           125405,
           126966,
           124433,
           123833,
           127803,
           130440,
           100089,
           118362,
           123159,
           120790,
           111926,
           120585
          ],
          [
           101305,
           100679,
           98241,
           97685,
           99367,
           96764,
           96144,
           99600,
           100089,
           102706,
           90628,
           95470,
           93060,
           84401,
           92851
          ],
          [
           119578,
           118952,
           116375,
           115944,
           117452,
           114972,
           114437,
           117731,
           118362,
           90628,
           120979,
           113670,
           111329,
           102376,
           111124
          ],
          [
           124347,
           123721,
           121144,
           120740,
           122217,
           119815,
           119141,
           122500,
           123159,
           95470,
           113670,
           125748,
           116098,
           107141,
           115955
          ],
          [
           122006,
           121380,
           118803,
           118372,
           119876,
           117548,
           116800,
           120159,
           120790,
           93060,
           111329,
           116098,
           123407,
           104800,
           113575
          ],
          [
           113062,
           112612,
           109846,
           109617,
           110924,
           108800,
           107843,
           111217,
           111926,
           84401,
           102376,
           107141,
           104800,
           114450,
           104656
          ],
          [
           121801,
           121175,
           118617,
           118167,
           119694,
           117218,
           116618,
           119999,
           120585,
           92851,
           111124,
           115955,
           113575,
           104656,
           123202
          ]
         ]
        }
       ],
       "layout": {
        "coloraxis": {
         "colorscale": [
          [
           0,
           "#0d0887"
          ],
          [
           0.1111111111111111,
           "#46039f"
          ],
          [
           0.2222222222222222,
           "#7201a8"
          ],
          [
           0.3333333333333333,
           "#9c179e"
          ],
          [
           0.4444444444444444,
           "#bd3786"
          ],
          [
           0.5555555555555556,
           "#d8576b"
          ],
          [
           0.6666666666666666,
           "#ed7953"
          ],
          [
           0.7777777777777778,
           "#fb9f3a"
          ],
          [
           0.8888888888888888,
           "#fdca26"
          ],
          [
           1,
           "#f0f921"
          ]
         ]
        },
        "margin": {
         "t": 60
        },
        "template": {
         "data": {
          "bar": [
           {
            "error_x": {
             "color": "#2a3f5f"
            },
            "error_y": {
             "color": "#2a3f5f"
            },
            "marker": {
             "line": {
              "color": "#E5ECF6",
              "width": 0.5
             },
             "pattern": {
              "fillmode": "overlay",
              "size": 10,
              "solidity": 0.2
             }
            },
            "type": "bar"
           }
          ],
          "barpolar": [
           {
            "marker": {
             "line": {
              "color": "#E5ECF6",
              "width": 0.5
             },
             "pattern": {
              "fillmode": "overlay",
              "size": 10,
              "solidity": 0.2
             }
            },
            "type": "barpolar"
           }
          ],
          "carpet": [
           {
            "aaxis": {
             "endlinecolor": "#2a3f5f",
             "gridcolor": "white",
             "linecolor": "white",
             "minorgridcolor": "white",
             "startlinecolor": "#2a3f5f"
            },
            "baxis": {
             "endlinecolor": "#2a3f5f",
             "gridcolor": "white",
             "linecolor": "white",
             "minorgridcolor": "white",
             "startlinecolor": "#2a3f5f"
            },
            "type": "carpet"
           }
          ],
          "choropleth": [
           {
            "colorbar": {
             "outlinewidth": 0,
             "ticks": ""
            },
            "type": "choropleth"
           }
          ],
          "contour": [
           {
            "colorbar": {
             "outlinewidth": 0,
             "ticks": ""
            },
            "colorscale": [
             [
              0,
              "#0d0887"
             ],
             [
              0.1111111111111111,
              "#46039f"
             ],
             [
              0.2222222222222222,
              "#7201a8"
             ],
             [
              0.3333333333333333,
              "#9c179e"
             ],
             [
              0.4444444444444444,
              "#bd3786"
             ],
             [
              0.5555555555555556,
              "#d8576b"
             ],
             [
              0.6666666666666666,
              "#ed7953"
             ],
             [
              0.7777777777777778,
              "#fb9f3a"
             ],
             [
              0.8888888888888888,
              "#fdca26"
             ],
             [
              1,
              "#f0f921"
             ]
            ],
            "type": "contour"
           }
          ],
          "contourcarpet": [
           {
            "colorbar": {
             "outlinewidth": 0,
             "ticks": ""
            },
            "type": "contourcarpet"
           }
          ],
          "heatmap": [
           {
            "colorbar": {
             "outlinewidth": 0,
             "ticks": ""
            },
            "colorscale": [
             [
              0,
              "#0d0887"
             ],
             [
              0.1111111111111111,
              "#46039f"
             ],
             [
              0.2222222222222222,
              "#7201a8"
             ],
             [
              0.3333333333333333,
              "#9c179e"
             ],
             [
              0.4444444444444444,
              "#bd3786"
             ],
             [
              0.5555555555555556,
              "#d8576b"
             ],
             [
              0.6666666666666666,
              "#ed7953"
             ],
             [
              0.7777777777777778,
              "#fb9f3a"
             ],
             [
              0.8888888888888888,
              "#fdca26"
             ],
             [
              1,
              "#f0f921"
             ]
            ],
            "type": "heatmap"
           }
          ],
          "heatmapgl": [
           {
            "colorbar": {
             "outlinewidth": 0,
             "ticks": ""
            },
            "colorscale": [
             [
              0,
              "#0d0887"
             ],
             [
              0.1111111111111111,
              "#46039f"
             ],
             [
              0.2222222222222222,
              "#7201a8"
             ],
             [
              0.3333333333333333,
              "#9c179e"
             ],
             [
              0.4444444444444444,
              "#bd3786"
             ],
             [
              0.5555555555555556,
              "#d8576b"
             ],
             [
              0.6666666666666666,
              "#ed7953"
             ],
             [
              0.7777777777777778,
              "#fb9f3a"
             ],
             [
              0.8888888888888888,
              "#fdca26"
             ],
             [
              1,
              "#f0f921"
             ]
            ],
            "type": "heatmapgl"
           }
          ],
          "histogram": [
           {
            "marker": {
             "pattern": {
              "fillmode": "overlay",
              "size": 10,
              "solidity": 0.2
             }
            },
            "type": "histogram"
           }
          ],
          "histogram2d": [
           {
            "colorbar": {
             "outlinewidth": 0,
             "ticks": ""
            },
            "colorscale": [
             [
              0,
              "#0d0887"
             ],
             [
              0.1111111111111111,
              "#46039f"
             ],
             [
              0.2222222222222222,
              "#7201a8"
             ],
             [
              0.3333333333333333,
              "#9c179e"
             ],
             [
              0.4444444444444444,
              "#bd3786"
             ],
             [
              0.5555555555555556,
              "#d8576b"
             ],
             [
              0.6666666666666666,
              "#ed7953"
             ],
             [
              0.7777777777777778,
              "#fb9f3a"
             ],
             [
              0.8888888888888888,
              "#fdca26"
             ],
             [
              1,
              "#f0f921"
             ]
            ],
            "type": "histogram2d"
           }
          ],
          "histogram2dcontour": [
           {
            "colorbar": {
             "outlinewidth": 0,
             "ticks": ""
            },
            "colorscale": [
             [
              0,
              "#0d0887"
             ],
             [
              0.1111111111111111,
              "#46039f"
             ],
             [
              0.2222222222222222,
              "#7201a8"
             ],
             [
              0.3333333333333333,
              "#9c179e"
             ],
             [
              0.4444444444444444,
              "#bd3786"
             ],
             [
              0.5555555555555556,
              "#d8576b"
             ],
             [
              0.6666666666666666,
              "#ed7953"
             ],
             [
              0.7777777777777778,
              "#fb9f3a"
             ],
             [
              0.8888888888888888,
              "#fdca26"
             ],
             [
              1,
              "#f0f921"
             ]
            ],
            "type": "histogram2dcontour"
           }
          ],
          "mesh3d": [
           {
            "colorbar": {
             "outlinewidth": 0,
             "ticks": ""
            },
            "type": "mesh3d"
           }
          ],
          "parcoords": [
           {
            "line": {
             "colorbar": {
              "outlinewidth": 0,
              "ticks": ""
             }
            },
            "type": "parcoords"
           }
          ],
          "pie": [
           {
            "automargin": true,
            "type": "pie"
           }
          ],
          "scatter": [
           {
            "fillpattern": {
             "fillmode": "overlay",
             "size": 10,
             "solidity": 0.2
            },
            "type": "scatter"
           }
          ],
          "scatter3d": [
           {
            "line": {
             "colorbar": {
              "outlinewidth": 0,
              "ticks": ""
             }
            },
            "marker": {
             "colorbar": {
              "outlinewidth": 0,
              "ticks": ""
             }
            },
            "type": "scatter3d"
           }
          ],
          "scattercarpet": [
           {
            "marker": {
             "colorbar": {
              "outlinewidth": 0,
              "ticks": ""
             }
            },
            "type": "scattercarpet"
           }
          ],
          "scattergeo": [
           {
            "marker": {
             "colorbar": {
              "outlinewidth": 0,
              "ticks": ""
             }
            },
            "type": "scattergeo"
           }
          ],
          "scattergl": [
           {
            "marker": {
             "colorbar": {
              "outlinewidth": 0,
              "ticks": ""
             }
            },
            "type": "scattergl"
           }
          ],
          "scattermapbox": [
           {
            "marker": {
             "colorbar": {
              "outlinewidth": 0,
              "ticks": ""
             }
            },
            "type": "scattermapbox"
           }
          ],
          "scatterpolar": [
           {
            "marker": {
             "colorbar": {
              "outlinewidth": 0,
              "ticks": ""
             }
            },
            "type": "scatterpolar"
           }
          ],
          "scatterpolargl": [
           {
            "marker": {
             "colorbar": {
              "outlinewidth": 0,
              "ticks": ""
             }
            },
            "type": "scatterpolargl"
           }
          ],
          "scatterternary": [
           {
            "marker": {
             "colorbar": {
              "outlinewidth": 0,
              "ticks": ""
             }
            },
            "type": "scatterternary"
           }
          ],
          "surface": [
           {
            "colorbar": {
             "outlinewidth": 0,
             "ticks": ""
            },
            "colorscale": [
             [
              0,
              "#0d0887"
             ],
             [
              0.1111111111111111,
              "#46039f"
             ],
             [
              0.2222222222222222,
              "#7201a8"
             ],
             [
              0.3333333333333333,
              "#9c179e"
             ],
             [
              0.4444444444444444,
              "#bd3786"
             ],
             [
              0.5555555555555556,
              "#d8576b"
             ],
             [
              0.6666666666666666,
              "#ed7953"
             ],
             [
              0.7777777777777778,
              "#fb9f3a"
             ],
             [
              0.8888888888888888,
              "#fdca26"
             ],
             [
              1,
              "#f0f921"
             ]
            ],
            "type": "surface"
           }
          ],
          "table": [
           {
            "cells": {
             "fill": {
              "color": "#EBF0F8"
             },
             "line": {
              "color": "white"
             }
            },
            "header": {
             "fill": {
              "color": "#C8D4E3"
             },
             "line": {
              "color": "white"
             }
            },
            "type": "table"
           }
          ]
         },
         "layout": {
          "annotationdefaults": {
           "arrowcolor": "#2a3f5f",
           "arrowhead": 0,
           "arrowwidth": 1
          },
          "autotypenumbers": "strict",
          "coloraxis": {
           "colorbar": {
            "outlinewidth": 0,
            "ticks": ""
           }
          },
          "colorscale": {
           "diverging": [
            [
             0,
             "#8e0152"
            ],
            [
             0.1,
             "#c51b7d"
            ],
            [
             0.2,
             "#de77ae"
            ],
            [
             0.3,
             "#f1b6da"
            ],
            [
             0.4,
             "#fde0ef"
            ],
            [
             0.5,
             "#f7f7f7"
            ],
            [
             0.6,
             "#e6f5d0"
            ],
            [
             0.7,
             "#b8e186"
            ],
            [
             0.8,
             "#7fbc41"
            ],
            [
             0.9,
             "#4d9221"
            ],
            [
             1,
             "#276419"
            ]
           ],
           "sequential": [
            [
             0,
             "#0d0887"
            ],
            [
             0.1111111111111111,
             "#46039f"
            ],
            [
             0.2222222222222222,
             "#7201a8"
            ],
            [
             0.3333333333333333,
             "#9c179e"
            ],
            [
             0.4444444444444444,
             "#bd3786"
            ],
            [
             0.5555555555555556,
             "#d8576b"
            ],
            [
             0.6666666666666666,
             "#ed7953"
            ],
            [
             0.7777777777777778,
             "#fb9f3a"
            ],
            [
             0.8888888888888888,
             "#fdca26"
            ],
            [
             1,
             "#f0f921"
            ]
           ],
           "sequentialminus": [
            [
             0,
             "#0d0887"
            ],
            [
             0.1111111111111111,
             "#46039f"
            ],
            [
             0.2222222222222222,
             "#7201a8"
            ],
            [
             0.3333333333333333,
             "#9c179e"
            ],
            [
             0.4444444444444444,
             "#bd3786"
            ],
            [
             0.5555555555555556,
             "#d8576b"
            ],
            [
             0.6666666666666666,
             "#ed7953"
            ],
            [
             0.7777777777777778,
             "#fb9f3a"
            ],
            [
             0.8888888888888888,
             "#fdca26"
            ],
            [
             1,
             "#f0f921"
            ]
           ]
          },
          "colorway": [
           "#636efa",
           "#EF553B",
           "#00cc96",
           "#ab63fa",
           "#FFA15A",
           "#19d3f3",
           "#FF6692",
           "#B6E880",
           "#FF97FF",
           "#FECB52"
          ],
          "font": {
           "color": "#2a3f5f"
          },
          "geo": {
           "bgcolor": "white",
           "lakecolor": "white",
           "landcolor": "#E5ECF6",
           "showlakes": true,
           "showland": true,
           "subunitcolor": "white"
          },
          "hoverlabel": {
           "align": "left"
          },
          "hovermode": "closest",
          "mapbox": {
           "style": "light"
          },
          "paper_bgcolor": "white",
          "plot_bgcolor": "#E5ECF6",
          "polar": {
           "angularaxis": {
            "gridcolor": "white",
            "linecolor": "white",
            "ticks": ""
           },
           "bgcolor": "#E5ECF6",
           "radialaxis": {
            "gridcolor": "white",
            "linecolor": "white",
            "ticks": ""
           }
          },
          "scene": {
           "xaxis": {
            "backgroundcolor": "#E5ECF6",
            "gridcolor": "white",
            "gridwidth": 2,
            "linecolor": "white",
            "showbackground": true,
            "ticks": "",
            "zerolinecolor": "white"
           },
           "yaxis": {
            "backgroundcolor": "#E5ECF6",
            "gridcolor": "white",
            "gridwidth": 2,
            "linecolor": "white",
            "showbackground": true,
            "ticks": "",
            "zerolinecolor": "white"
           },
           "zaxis": {
            "backgroundcolor": "#E5ECF6",
            "gridcolor": "white",
            "gridwidth": 2,
            "linecolor": "white",
            "showbackground": true,
            "ticks": "",
            "zerolinecolor": "white"
           }
          },
          "shapedefaults": {
           "line": {
            "color": "#2a3f5f"
           }
          },
          "ternary": {
           "aaxis": {
            "gridcolor": "white",
            "linecolor": "white",
            "ticks": ""
           },
           "baxis": {
            "gridcolor": "white",
            "linecolor": "white",
            "ticks": ""
           },
           "bgcolor": "#E5ECF6",
           "caxis": {
            "gridcolor": "white",
            "linecolor": "white",
            "ticks": ""
           }
          },
          "title": {
           "x": 0.05
          },
          "xaxis": {
           "automargin": true,
           "gridcolor": "white",
           "linecolor": "white",
           "ticks": "",
           "title": {
            "standoff": 15
           },
           "zerolinecolor": "white",
           "zerolinewidth": 2
          },
          "yaxis": {
           "automargin": true,
           "gridcolor": "white",
           "linecolor": "white",
           "ticks": "",
           "title": {
            "standoff": 15
           },
           "zerolinecolor": "white",
           "zerolinewidth": 2
          }
         }
        },
        "xaxis": {
         "anchor": "y",
         "constrain": "domain",
         "domain": [
          0,
          1
         ],
         "scaleanchor": "y"
        },
        "yaxis": {
         "anchor": "x",
         "autorange": "reversed",
         "constrain": "domain",
         "domain": [
          0,
          1
         ]
        }
       }
      },
      "text/html": [
       "<div>                            <div id=\"416d6336-f0e2-45b8-bf1c-11964434a8c0\" class=\"plotly-graph-div\" style=\"height:525px; width:100%;\"></div>            <script type=\"text/javascript\">                require([\"plotly\"], function(Plotly) {                    window.PLOTLYENV=window.PLOTLYENV || {};                                    if (document.getElementById(\"416d6336-f0e2-45b8-bf1c-11964434a8c0\")) {                    Plotly.newPlot(                        \"416d6336-f0e2-45b8-bf1c-11964434a8c0\",                        [{\"coloraxis\":\"coloraxis\",\"name\":\"0\",\"x\":[\"CG102\",\"PB80\",\"LH185\",\"LH198\",\"LH82\",\"PHB47\",\"DK3IIH6\",\"PHN82\",\"PHW52\",\"LH195\",\"PHT69\",\"PHK76\",\"PHP02\",\"PHZ51\",\"LH244\"],\"y\":[\"CG102\",\"PB80\",\"LH185\",\"LH198\",\"LH82\",\"PHB47\",\"DK3IIH6\",\"PHN82\",\"PHW52\",\"LH195\",\"PHT69\",\"PHK76\",\"PHP02\",\"PHZ51\",\"LH244\"],\"z\":[[131656.0,129641.0,127052.0,126621.0,128198.0,125649.0,125113.0,128408.0,129039.0,101305.0,119578.0,124347.0,122006.0,113062.0,121801.0],[129641.0,131030.0,126449.0,126003.0,127519.0,125040.0,124423.0,127782.0,128413.0,100679.0,118952.0,123721.0,121380.0,112612.0,121175.0],[127052.0,126449.0,128453.0,123482.0,124922.0,122559.0,121846.0,125205.0,125933.0,98241.0,116375.0,121144.0,118803.0,109846.0,118617.0],[126621.0,126003.0,123482.0,128022.0,124591.0,122015.0,121479.0,124834.0,125405.0,97685.0,115944.0,120740.0,118372.0,109617.0,118167.0],[128198.0,127519.0,124922.0,124591.0,129526.0,123645.0,122919.0,126293.0,126966.0,99367.0,117452.0,122217.0,119876.0,110924.0,119694.0],[125649.0,125040.0,122559.0,122015.0,123645.0,127050.0,120547.0,124127.0,124433.0,96764.0,114972.0,119815.0,117548.0,108800.0,117218.0],[125113.0,124423.0,121846.0,121479.0,122919.0,120547.0,126450.0,123202.0,123833.0,96144.0,114437.0,119141.0,116800.0,107843.0,116618.0],[128408.0,127782.0,125205.0,124834.0,126293.0,124127.0,123202.0,129809.0,127803.0,99600.0,117731.0,122500.0,120159.0,111217.0,119999.0],[129039.0,128413.0,125933.0,125405.0,126966.0,124433.0,123833.0,127803.0,130440.0,100089.0,118362.0,123159.0,120790.0,111926.0,120585.0],[101305.0,100679.0,98241.0,97685.0,99367.0,96764.0,96144.0,99600.0,100089.0,102706.0,90628.0,95470.0,93060.0,84401.0,92851.0],[119578.0,118952.0,116375.0,115944.0,117452.0,114972.0,114437.0,117731.0,118362.0,90628.0,120979.0,113670.0,111329.0,102376.0,111124.0],[124347.0,123721.0,121144.0,120740.0,122217.0,119815.0,119141.0,122500.0,123159.0,95470.0,113670.0,125748.0,116098.0,107141.0,115955.0],[122006.0,121380.0,118803.0,118372.0,119876.0,117548.0,116800.0,120159.0,120790.0,93060.0,111329.0,116098.0,123407.0,104800.0,113575.0],[113062.0,112612.0,109846.0,109617.0,110924.0,108800.0,107843.0,111217.0,111926.0,84401.0,102376.0,107141.0,104800.0,114450.0,104656.0],[121801.0,121175.0,118617.0,118167.0,119694.0,117218.0,116618.0,119999.0,120585.0,92851.0,111124.0,115955.0,113575.0,104656.0,123202.0]],\"type\":\"heatmap\",\"xaxis\":\"x\",\"yaxis\":\"y\",\"hovertemplate\":\"x: %{x}\\u003cbr\\u003ey: %{y}\\u003cbr\\u003ecolor: %{z}\\u003cextra\\u003e\\u003c\\u002fextra\\u003e\"}],                        {\"template\":{\"data\":{\"histogram2dcontour\":[{\"type\":\"histogram2dcontour\",\"colorbar\":{\"outlinewidth\":0,\"ticks\":\"\"},\"colorscale\":[[0.0,\"#0d0887\"],[0.1111111111111111,\"#46039f\"],[0.2222222222222222,\"#7201a8\"],[0.3333333333333333,\"#9c179e\"],[0.4444444444444444,\"#bd3786\"],[0.5555555555555556,\"#d8576b\"],[0.6666666666666666,\"#ed7953\"],[0.7777777777777778,\"#fb9f3a\"],[0.8888888888888888,\"#fdca26\"],[1.0,\"#f0f921\"]]}],\"choropleth\":[{\"type\":\"choropleth\",\"colorbar\":{\"outlinewidth\":0,\"ticks\":\"\"}}],\"histogram2d\":[{\"type\":\"histogram2d\",\"colorbar\":{\"outlinewidth\":0,\"ticks\":\"\"},\"colorscale\":[[0.0,\"#0d0887\"],[0.1111111111111111,\"#46039f\"],[0.2222222222222222,\"#7201a8\"],[0.3333333333333333,\"#9c179e\"],[0.4444444444444444,\"#bd3786\"],[0.5555555555555556,\"#d8576b\"],[0.6666666666666666,\"#ed7953\"],[0.7777777777777778,\"#fb9f3a\"],[0.8888888888888888,\"#fdca26\"],[1.0,\"#f0f921\"]]}],\"heatmap\":[{\"type\":\"heatmap\",\"colorbar\":{\"outlinewidth\":0,\"ticks\":\"\"},\"colorscale\":[[0.0,\"#0d0887\"],[0.1111111111111111,\"#46039f\"],[0.2222222222222222,\"#7201a8\"],[0.3333333333333333,\"#9c179e\"],[0.4444444444444444,\"#bd3786\"],[0.5555555555555556,\"#d8576b\"],[0.6666666666666666,\"#ed7953\"],[0.7777777777777778,\"#fb9f3a\"],[0.8888888888888888,\"#fdca26\"],[1.0,\"#f0f921\"]]}],\"heatmapgl\":[{\"type\":\"heatmapgl\",\"colorbar\":{\"outlinewidth\":0,\"ticks\":\"\"},\"colorscale\":[[0.0,\"#0d0887\"],[0.1111111111111111,\"#46039f\"],[0.2222222222222222,\"#7201a8\"],[0.3333333333333333,\"#9c179e\"],[0.4444444444444444,\"#bd3786\"],[0.5555555555555556,\"#d8576b\"],[0.6666666666666666,\"#ed7953\"],[0.7777777777777778,\"#fb9f3a\"],[0.8888888888888888,\"#fdca26\"],[1.0,\"#f0f921\"]]}],\"contourcarpet\":[{\"type\":\"contourcarpet\",\"colorbar\":{\"outlinewidth\":0,\"ticks\":\"\"}}],\"contour\":[{\"type\":\"contour\",\"colorbar\":{\"outlinewidth\":0,\"ticks\":\"\"},\"colorscale\":[[0.0,\"#0d0887\"],[0.1111111111111111,\"#46039f\"],[0.2222222222222222,\"#7201a8\"],[0.3333333333333333,\"#9c179e\"],[0.4444444444444444,\"#bd3786\"],[0.5555555555555556,\"#d8576b\"],[0.6666666666666666,\"#ed7953\"],[0.7777777777777778,\"#fb9f3a\"],[0.8888888888888888,\"#fdca26\"],[1.0,\"#f0f921\"]]}],\"surface\":[{\"type\":\"surface\",\"colorbar\":{\"outlinewidth\":0,\"ticks\":\"\"},\"colorscale\":[[0.0,\"#0d0887\"],[0.1111111111111111,\"#46039f\"],[0.2222222222222222,\"#7201a8\"],[0.3333333333333333,\"#9c179e\"],[0.4444444444444444,\"#bd3786\"],[0.5555555555555556,\"#d8576b\"],[0.6666666666666666,\"#ed7953\"],[0.7777777777777778,\"#fb9f3a\"],[0.8888888888888888,\"#fdca26\"],[1.0,\"#f0f921\"]]}],\"mesh3d\":[{\"type\":\"mesh3d\",\"colorbar\":{\"outlinewidth\":0,\"ticks\":\"\"}}],\"scatter\":[{\"fillpattern\":{\"fillmode\":\"overlay\",\"size\":10,\"solidity\":0.2},\"type\":\"scatter\"}],\"parcoords\":[{\"type\":\"parcoords\",\"line\":{\"colorbar\":{\"outlinewidth\":0,\"ticks\":\"\"}}}],\"scatterpolargl\":[{\"type\":\"scatterpolargl\",\"marker\":{\"colorbar\":{\"outlinewidth\":0,\"ticks\":\"\"}}}],\"bar\":[{\"error_x\":{\"color\":\"#2a3f5f\"},\"error_y\":{\"color\":\"#2a3f5f\"},\"marker\":{\"line\":{\"color\":\"#E5ECF6\",\"width\":0.5},\"pattern\":{\"fillmode\":\"overlay\",\"size\":10,\"solidity\":0.2}},\"type\":\"bar\"}],\"scattergeo\":[{\"type\":\"scattergeo\",\"marker\":{\"colorbar\":{\"outlinewidth\":0,\"ticks\":\"\"}}}],\"scatterpolar\":[{\"type\":\"scatterpolar\",\"marker\":{\"colorbar\":{\"outlinewidth\":0,\"ticks\":\"\"}}}],\"histogram\":[{\"marker\":{\"pattern\":{\"fillmode\":\"overlay\",\"size\":10,\"solidity\":0.2}},\"type\":\"histogram\"}],\"scattergl\":[{\"type\":\"scattergl\",\"marker\":{\"colorbar\":{\"outlinewidth\":0,\"ticks\":\"\"}}}],\"scatter3d\":[{\"type\":\"scatter3d\",\"line\":{\"colorbar\":{\"outlinewidth\":0,\"ticks\":\"\"}},\"marker\":{\"colorbar\":{\"outlinewidth\":0,\"ticks\":\"\"}}}],\"scattermapbox\":[{\"type\":\"scattermapbox\",\"marker\":{\"colorbar\":{\"outlinewidth\":0,\"ticks\":\"\"}}}],\"scatterternary\":[{\"type\":\"scatterternary\",\"marker\":{\"colorbar\":{\"outlinewidth\":0,\"ticks\":\"\"}}}],\"scattercarpet\":[{\"type\":\"scattercarpet\",\"marker\":{\"colorbar\":{\"outlinewidth\":0,\"ticks\":\"\"}}}],\"carpet\":[{\"aaxis\":{\"endlinecolor\":\"#2a3f5f\",\"gridcolor\":\"white\",\"linecolor\":\"white\",\"minorgridcolor\":\"white\",\"startlinecolor\":\"#2a3f5f\"},\"baxis\":{\"endlinecolor\":\"#2a3f5f\",\"gridcolor\":\"white\",\"linecolor\":\"white\",\"minorgridcolor\":\"white\",\"startlinecolor\":\"#2a3f5f\"},\"type\":\"carpet\"}],\"table\":[{\"cells\":{\"fill\":{\"color\":\"#EBF0F8\"},\"line\":{\"color\":\"white\"}},\"header\":{\"fill\":{\"color\":\"#C8D4E3\"},\"line\":{\"color\":\"white\"}},\"type\":\"table\"}],\"barpolar\":[{\"marker\":{\"line\":{\"color\":\"#E5ECF6\",\"width\":0.5},\"pattern\":{\"fillmode\":\"overlay\",\"size\":10,\"solidity\":0.2}},\"type\":\"barpolar\"}],\"pie\":[{\"automargin\":true,\"type\":\"pie\"}]},\"layout\":{\"autotypenumbers\":\"strict\",\"colorway\":[\"#636efa\",\"#EF553B\",\"#00cc96\",\"#ab63fa\",\"#FFA15A\",\"#19d3f3\",\"#FF6692\",\"#B6E880\",\"#FF97FF\",\"#FECB52\"],\"font\":{\"color\":\"#2a3f5f\"},\"hovermode\":\"closest\",\"hoverlabel\":{\"align\":\"left\"},\"paper_bgcolor\":\"white\",\"plot_bgcolor\":\"#E5ECF6\",\"polar\":{\"bgcolor\":\"#E5ECF6\",\"angularaxis\":{\"gridcolor\":\"white\",\"linecolor\":\"white\",\"ticks\":\"\"},\"radialaxis\":{\"gridcolor\":\"white\",\"linecolor\":\"white\",\"ticks\":\"\"}},\"ternary\":{\"bgcolor\":\"#E5ECF6\",\"aaxis\":{\"gridcolor\":\"white\",\"linecolor\":\"white\",\"ticks\":\"\"},\"baxis\":{\"gridcolor\":\"white\",\"linecolor\":\"white\",\"ticks\":\"\"},\"caxis\":{\"gridcolor\":\"white\",\"linecolor\":\"white\",\"ticks\":\"\"}},\"coloraxis\":{\"colorbar\":{\"outlinewidth\":0,\"ticks\":\"\"}},\"colorscale\":{\"sequential\":[[0.0,\"#0d0887\"],[0.1111111111111111,\"#46039f\"],[0.2222222222222222,\"#7201a8\"],[0.3333333333333333,\"#9c179e\"],[0.4444444444444444,\"#bd3786\"],[0.5555555555555556,\"#d8576b\"],[0.6666666666666666,\"#ed7953\"],[0.7777777777777778,\"#fb9f3a\"],[0.8888888888888888,\"#fdca26\"],[1.0,\"#f0f921\"]],\"sequentialminus\":[[0.0,\"#0d0887\"],[0.1111111111111111,\"#46039f\"],[0.2222222222222222,\"#7201a8\"],[0.3333333333333333,\"#9c179e\"],[0.4444444444444444,\"#bd3786\"],[0.5555555555555556,\"#d8576b\"],[0.6666666666666666,\"#ed7953\"],[0.7777777777777778,\"#fb9f3a\"],[0.8888888888888888,\"#fdca26\"],[1.0,\"#f0f921\"]],\"diverging\":[[0,\"#8e0152\"],[0.1,\"#c51b7d\"],[0.2,\"#de77ae\"],[0.3,\"#f1b6da\"],[0.4,\"#fde0ef\"],[0.5,\"#f7f7f7\"],[0.6,\"#e6f5d0\"],[0.7,\"#b8e186\"],[0.8,\"#7fbc41\"],[0.9,\"#4d9221\"],[1,\"#276419\"]]},\"xaxis\":{\"gridcolor\":\"white\",\"linecolor\":\"white\",\"ticks\":\"\",\"title\":{\"standoff\":15},\"zerolinecolor\":\"white\",\"automargin\":true,\"zerolinewidth\":2},\"yaxis\":{\"gridcolor\":\"white\",\"linecolor\":\"white\",\"ticks\":\"\",\"title\":{\"standoff\":15},\"zerolinecolor\":\"white\",\"automargin\":true,\"zerolinewidth\":2},\"scene\":{\"xaxis\":{\"backgroundcolor\":\"#E5ECF6\",\"gridcolor\":\"white\",\"linecolor\":\"white\",\"showbackground\":true,\"ticks\":\"\",\"zerolinecolor\":\"white\",\"gridwidth\":2},\"yaxis\":{\"backgroundcolor\":\"#E5ECF6\",\"gridcolor\":\"white\",\"linecolor\":\"white\",\"showbackground\":true,\"ticks\":\"\",\"zerolinecolor\":\"white\",\"gridwidth\":2},\"zaxis\":{\"backgroundcolor\":\"#E5ECF6\",\"gridcolor\":\"white\",\"linecolor\":\"white\",\"showbackground\":true,\"ticks\":\"\",\"zerolinecolor\":\"white\",\"gridwidth\":2}},\"shapedefaults\":{\"line\":{\"color\":\"#2a3f5f\"}},\"annotationdefaults\":{\"arrowcolor\":\"#2a3f5f\",\"arrowhead\":0,\"arrowwidth\":1},\"geo\":{\"bgcolor\":\"white\",\"landcolor\":\"#E5ECF6\",\"subunitcolor\":\"white\",\"showland\":true,\"showlakes\":true,\"lakecolor\":\"white\"},\"title\":{\"x\":0.05},\"mapbox\":{\"style\":\"light\"}}},\"xaxis\":{\"anchor\":\"y\",\"domain\":[0.0,1.0],\"scaleanchor\":\"y\",\"constrain\":\"domain\"},\"yaxis\":{\"anchor\":\"x\",\"domain\":[0.0,1.0],\"autorange\":\"reversed\",\"constrain\":\"domain\"},\"coloraxis\":{\"colorscale\":[[0.0,\"#0d0887\"],[0.1111111111111111,\"#46039f\"],[0.2222222222222222,\"#7201a8\"],[0.3333333333333333,\"#9c179e\"],[0.4444444444444444,\"#bd3786\"],[0.5555555555555556,\"#d8576b\"],[0.6666666666666666,\"#ed7953\"],[0.7777777777777778,\"#fb9f3a\"],[0.8888888888888888,\"#fdca26\"],[1.0,\"#f0f921\"]]},\"margin\":{\"t\":60}},                        {\"responsive\": true}                    ).then(function(){\n",
       "                            \n",
       "var gd = document.getElementById('416d6336-f0e2-45b8-bf1c-11964434a8c0');\n",
       "var x = new MutationObserver(function (mutations, observer) {{\n",
       "        var display = window.getComputedStyle(gd).display;\n",
       "        if (!display || display === 'none') {{\n",
       "            console.log([gd, 'removed!']);\n",
       "            Plotly.purge(gd);\n",
       "            observer.disconnect();\n",
       "        }}\n",
       "}});\n",
       "\n",
       "// Listen for the removal of the full notebook cells\n",
       "var notebookContainer = gd.closest('#notebook-container');\n",
       "if (notebookContainer) {{\n",
       "    x.observe(notebookContainer, {childList: true});\n",
       "}}\n",
       "\n",
       "// Listen for the clearing of the current output cell\n",
       "var outputEl = gd.closest('.output');\n",
       "if (outputEl) {{\n",
       "    x.observe(outputEl, {childList: true});\n",
       "}}\n",
       "\n",
       "                        })                };                });            </script>        </div>"
      ]
     },
     "metadata": {},
     "output_type": "display_data"
    }
   ],
   "source": [
    "px.imshow(pd.DataFrame(out1, columns=l, index=l))"
   ]
  },
  {
   "cell_type": "code",
   "execution_count": null,
   "id": "28626ee4",
   "metadata": {},
   "outputs": [
    {
     "data": {
      "application/vnd.plotly.v1+json": {
       "config": {
        "plotlyServerURL": "https://plot.ly"
       },
       "data": [
        {
         "coloraxis": "coloraxis",
         "hovertemplate": "x: %{x}<br>y: %{y}<br>color: %{z}<extra></extra>",
         "name": "0",
         "type": "heatmap",
         "x": [
          "CG102",
          "PB80",
          "LH185",
          "LH198",
          "LH82",
          "PHB47",
          "DK3IIH6",
          "PHN82",
          "PHW52",
          "LH195",
          "PHT69",
          "PHK76",
          "PHP02",
          "PHZ51",
          "LH244"
         ],
         "xaxis": "x",
         "y": [
          "CG102",
          "PB80",
          "LH185",
          "LH198",
          "LH82",
          "PHB47",
          "DK3IIH6",
          "PHN82",
          "PHW52",
          "LH195",
          "PHT69",
          "PHK76",
          "PHP02",
          "PHZ51",
          "LH244"
         ],
         "yaxis": "y",
         "z": [
          [
           1401,
           3416,
           6005,
           6436,
           4859,
           7408,
           7944,
           4649,
           4018,
           31752,
           13479,
           8710,
           11051,
           19995,
           11256
          ],
          [
           3416,
           2027,
           6608,
           7054,
           5538,
           8017,
           8634,
           5275,
           4644,
           32378,
           14105,
           9336,
           11677,
           20445,
           11882
          ],
          [
           6005,
           6608,
           4604,
           9575,
           8135,
           10498,
           11211,
           7852,
           7124,
           34816,
           16682,
           11913,
           14254,
           23211,
           14440
          ],
          [
           6436,
           7054,
           9575,
           5035,
           8466,
           11042,
           11578,
           8223,
           7652,
           35372,
           17113,
           12317,
           14685,
           23440,
           14890
          ],
          [
           4859,
           5538,
           8135,
           8466,
           3531,
           9412,
           10138,
           6764,
           6091,
           33690,
           15605,
           10840,
           13181,
           22133,
           13363
          ],
          [
           7408,
           8017,
           10498,
           11042,
           9412,
           6007,
           12510,
           8930,
           8624,
           36293,
           18085,
           13242,
           15509,
           24257,
           15839
          ],
          [
           7944,
           8634,
           11211,
           11578,
           10138,
           12510,
           6607,
           9855,
           9224,
           36913,
           18620,
           13916,
           16257,
           25214,
           16439
          ],
          [
           4649,
           5275,
           7852,
           8223,
           6764,
           8930,
           9855,
           3248,
           5254,
           33457,
           15326,
           10557,
           12898,
           21840,
           13058
          ],
          [
           4018,
           4644,
           7124,
           7652,
           6091,
           8624,
           9224,
           5254,
           2617,
           32968,
           14695,
           9898,
           12267,
           21131,
           12472
          ],
          [
           31752,
           32378,
           34816,
           35372,
           33690,
           36293,
           36913,
           33457,
           32968,
           30351,
           42429,
           37587,
           39997,
           48656,
           40206
          ],
          [
           13479,
           14105,
           16682,
           17113,
           15605,
           18085,
           18620,
           15326,
           14695,
           42429,
           12078,
           19387,
           21728,
           30681,
           21933
          ],
          [
           8710,
           9336,
           11913,
           12317,
           10840,
           13242,
           13916,
           10557,
           9898,
           37587,
           19387,
           7309,
           16959,
           25916,
           17102
          ],
          [
           11051,
           11677,
           14254,
           14685,
           13181,
           15509,
           16257,
           12898,
           12267,
           39997,
           21728,
           16959,
           9650,
           28257,
           19482
          ],
          [
           19995,
           20445,
           23211,
           23440,
           22133,
           24257,
           25214,
           21840,
           21131,
           48656,
           30681,
           25916,
           28257,
           18607,
           28401
          ],
          [
           11256,
           11882,
           14440,
           14890,
           13363,
           15839,
           16439,
           13058,
           12472,
           40206,
           21933,
           17102,
           19482,
           28401,
           9855
          ]
         ]
        }
       ],
       "layout": {
        "coloraxis": {
         "colorscale": [
          [
           0,
           "#0d0887"
          ],
          [
           0.1111111111111111,
           "#46039f"
          ],
          [
           0.2222222222222222,
           "#7201a8"
          ],
          [
           0.3333333333333333,
           "#9c179e"
          ],
          [
           0.4444444444444444,
           "#bd3786"
          ],
          [
           0.5555555555555556,
           "#d8576b"
          ],
          [
           0.6666666666666666,
           "#ed7953"
          ],
          [
           0.7777777777777778,
           "#fb9f3a"
          ],
          [
           0.8888888888888888,
           "#fdca26"
          ],
          [
           1,
           "#f0f921"
          ]
         ]
        },
        "margin": {
         "t": 60
        },
        "template": {
         "data": {
          "bar": [
           {
            "error_x": {
             "color": "#2a3f5f"
            },
            "error_y": {
             "color": "#2a3f5f"
            },
            "marker": {
             "line": {
              "color": "#E5ECF6",
              "width": 0.5
             },
             "pattern": {
              "fillmode": "overlay",
              "size": 10,
              "solidity": 0.2
             }
            },
            "type": "bar"
           }
          ],
          "barpolar": [
           {
            "marker": {
             "line": {
              "color": "#E5ECF6",
              "width": 0.5
             },
             "pattern": {
              "fillmode": "overlay",
              "size": 10,
              "solidity": 0.2
             }
            },
            "type": "barpolar"
           }
          ],
          "carpet": [
           {
            "aaxis": {
             "endlinecolor": "#2a3f5f",
             "gridcolor": "white",
             "linecolor": "white",
             "minorgridcolor": "white",
             "startlinecolor": "#2a3f5f"
            },
            "baxis": {
             "endlinecolor": "#2a3f5f",
             "gridcolor": "white",
             "linecolor": "white",
             "minorgridcolor": "white",
             "startlinecolor": "#2a3f5f"
            },
            "type": "carpet"
           }
          ],
          "choropleth": [
           {
            "colorbar": {
             "outlinewidth": 0,
             "ticks": ""
            },
            "type": "choropleth"
           }
          ],
          "contour": [
           {
            "colorbar": {
             "outlinewidth": 0,
             "ticks": ""
            },
            "colorscale": [
             [
              0,
              "#0d0887"
             ],
             [
              0.1111111111111111,
              "#46039f"
             ],
             [
              0.2222222222222222,
              "#7201a8"
             ],
             [
              0.3333333333333333,
              "#9c179e"
             ],
             [
              0.4444444444444444,
              "#bd3786"
             ],
             [
              0.5555555555555556,
              "#d8576b"
             ],
             [
              0.6666666666666666,
              "#ed7953"
             ],
             [
              0.7777777777777778,
              "#fb9f3a"
             ],
             [
              0.8888888888888888,
              "#fdca26"
             ],
             [
              1,
              "#f0f921"
             ]
            ],
            "type": "contour"
           }
          ],
          "contourcarpet": [
           {
            "colorbar": {
             "outlinewidth": 0,
             "ticks": ""
            },
            "type": "contourcarpet"
           }
          ],
          "heatmap": [
           {
            "colorbar": {
             "outlinewidth": 0,
             "ticks": ""
            },
            "colorscale": [
             [
              0,
              "#0d0887"
             ],
             [
              0.1111111111111111,
              "#46039f"
             ],
             [
              0.2222222222222222,
              "#7201a8"
             ],
             [
              0.3333333333333333,
              "#9c179e"
             ],
             [
              0.4444444444444444,
              "#bd3786"
             ],
             [
              0.5555555555555556,
              "#d8576b"
             ],
             [
              0.6666666666666666,
              "#ed7953"
             ],
             [
              0.7777777777777778,
              "#fb9f3a"
             ],
             [
              0.8888888888888888,
              "#fdca26"
             ],
             [
              1,
              "#f0f921"
             ]
            ],
            "type": "heatmap"
           }
          ],
          "heatmapgl": [
           {
            "colorbar": {
             "outlinewidth": 0,
             "ticks": ""
            },
            "colorscale": [
             [
              0,
              "#0d0887"
             ],
             [
              0.1111111111111111,
              "#46039f"
             ],
             [
              0.2222222222222222,
              "#7201a8"
             ],
             [
              0.3333333333333333,
              "#9c179e"
             ],
             [
              0.4444444444444444,
              "#bd3786"
             ],
             [
              0.5555555555555556,
              "#d8576b"
             ],
             [
              0.6666666666666666,
              "#ed7953"
             ],
             [
              0.7777777777777778,
              "#fb9f3a"
             ],
             [
              0.8888888888888888,
              "#fdca26"
             ],
             [
              1,
              "#f0f921"
             ]
            ],
            "type": "heatmapgl"
           }
          ],
          "histogram": [
           {
            "marker": {
             "pattern": {
              "fillmode": "overlay",
              "size": 10,
              "solidity": 0.2
             }
            },
            "type": "histogram"
           }
          ],
          "histogram2d": [
           {
            "colorbar": {
             "outlinewidth": 0,
             "ticks": ""
            },
            "colorscale": [
             [
              0,
              "#0d0887"
             ],
             [
              0.1111111111111111,
              "#46039f"
             ],
             [
              0.2222222222222222,
              "#7201a8"
             ],
             [
              0.3333333333333333,
              "#9c179e"
             ],
             [
              0.4444444444444444,
              "#bd3786"
             ],
             [
              0.5555555555555556,
              "#d8576b"
             ],
             [
              0.6666666666666666,
              "#ed7953"
             ],
             [
              0.7777777777777778,
              "#fb9f3a"
             ],
             [
              0.8888888888888888,
              "#fdca26"
             ],
             [
              1,
              "#f0f921"
             ]
            ],
            "type": "histogram2d"
           }
          ],
          "histogram2dcontour": [
           {
            "colorbar": {
             "outlinewidth": 0,
             "ticks": ""
            },
            "colorscale": [
             [
              0,
              "#0d0887"
             ],
             [
              0.1111111111111111,
              "#46039f"
             ],
             [
              0.2222222222222222,
              "#7201a8"
             ],
             [
              0.3333333333333333,
              "#9c179e"
             ],
             [
              0.4444444444444444,
              "#bd3786"
             ],
             [
              0.5555555555555556,
              "#d8576b"
             ],
             [
              0.6666666666666666,
              "#ed7953"
             ],
             [
              0.7777777777777778,
              "#fb9f3a"
             ],
             [
              0.8888888888888888,
              "#fdca26"
             ],
             [
              1,
              "#f0f921"
             ]
            ],
            "type": "histogram2dcontour"
           }
          ],
          "mesh3d": [
           {
            "colorbar": {
             "outlinewidth": 0,
             "ticks": ""
            },
            "type": "mesh3d"
           }
          ],
          "parcoords": [
           {
            "line": {
             "colorbar": {
              "outlinewidth": 0,
              "ticks": ""
             }
            },
            "type": "parcoords"
           }
          ],
          "pie": [
           {
            "automargin": true,
            "type": "pie"
           }
          ],
          "scatter": [
           {
            "fillpattern": {
             "fillmode": "overlay",
             "size": 10,
             "solidity": 0.2
            },
            "type": "scatter"
           }
          ],
          "scatter3d": [
           {
            "line": {
             "colorbar": {
              "outlinewidth": 0,
              "ticks": ""
             }
            },
            "marker": {
             "colorbar": {
              "outlinewidth": 0,
              "ticks": ""
             }
            },
            "type": "scatter3d"
           }
          ],
          "scattercarpet": [
           {
            "marker": {
             "colorbar": {
              "outlinewidth": 0,
              "ticks": ""
             }
            },
            "type": "scattercarpet"
           }
          ],
          "scattergeo": [
           {
            "marker": {
             "colorbar": {
              "outlinewidth": 0,
              "ticks": ""
             }
            },
            "type": "scattergeo"
           }
          ],
          "scattergl": [
           {
            "marker": {
             "colorbar": {
              "outlinewidth": 0,
              "ticks": ""
             }
            },
            "type": "scattergl"
           }
          ],
          "scattermapbox": [
           {
            "marker": {
             "colorbar": {
              "outlinewidth": 0,
              "ticks": ""
             }
            },
            "type": "scattermapbox"
           }
          ],
          "scatterpolar": [
           {
            "marker": {
             "colorbar": {
              "outlinewidth": 0,
              "ticks": ""
             }
            },
            "type": "scatterpolar"
           }
          ],
          "scatterpolargl": [
           {
            "marker": {
             "colorbar": {
              "outlinewidth": 0,
              "ticks": ""
             }
            },
            "type": "scatterpolargl"
           }
          ],
          "scatterternary": [
           {
            "marker": {
             "colorbar": {
              "outlinewidth": 0,
              "ticks": ""
             }
            },
            "type": "scatterternary"
           }
          ],
          "surface": [
           {
            "colorbar": {
             "outlinewidth": 0,
             "ticks": ""
            },
            "colorscale": [
             [
              0,
              "#0d0887"
             ],
             [
              0.1111111111111111,
              "#46039f"
             ],
             [
              0.2222222222222222,
              "#7201a8"
             ],
             [
              0.3333333333333333,
              "#9c179e"
             ],
             [
              0.4444444444444444,
              "#bd3786"
             ],
             [
              0.5555555555555556,
              "#d8576b"
             ],
             [
              0.6666666666666666,
              "#ed7953"
             ],
             [
              0.7777777777777778,
              "#fb9f3a"
             ],
             [
              0.8888888888888888,
              "#fdca26"
             ],
             [
              1,
              "#f0f921"
             ]
            ],
            "type": "surface"
           }
          ],
          "table": [
           {
            "cells": {
             "fill": {
              "color": "#EBF0F8"
             },
             "line": {
              "color": "white"
             }
            },
            "header": {
             "fill": {
              "color": "#C8D4E3"
             },
             "line": {
              "color": "white"
             }
            },
            "type": "table"
           }
          ]
         },
         "layout": {
          "annotationdefaults": {
           "arrowcolor": "#2a3f5f",
           "arrowhead": 0,
           "arrowwidth": 1
          },
          "autotypenumbers": "strict",
          "coloraxis": {
           "colorbar": {
            "outlinewidth": 0,
            "ticks": ""
           }
          },
          "colorscale": {
           "diverging": [
            [
             0,
             "#8e0152"
            ],
            [
             0.1,
             "#c51b7d"
            ],
            [
             0.2,
             "#de77ae"
            ],
            [
             0.3,
             "#f1b6da"
            ],
            [
             0.4,
             "#fde0ef"
            ],
            [
             0.5,
             "#f7f7f7"
            ],
            [
             0.6,
             "#e6f5d0"
            ],
            [
             0.7,
             "#b8e186"
            ],
            [
             0.8,
             "#7fbc41"
            ],
            [
             0.9,
             "#4d9221"
            ],
            [
             1,
             "#276419"
            ]
           ],
           "sequential": [
            [
             0,
             "#0d0887"
            ],
            [
             0.1111111111111111,
             "#46039f"
            ],
            [
             0.2222222222222222,
             "#7201a8"
            ],
            [
             0.3333333333333333,
             "#9c179e"
            ],
            [
             0.4444444444444444,
             "#bd3786"
            ],
            [
             0.5555555555555556,
             "#d8576b"
            ],
            [
             0.6666666666666666,
             "#ed7953"
            ],
            [
             0.7777777777777778,
             "#fb9f3a"
            ],
            [
             0.8888888888888888,
             "#fdca26"
            ],
            [
             1,
             "#f0f921"
            ]
           ],
           "sequentialminus": [
            [
             0,
             "#0d0887"
            ],
            [
             0.1111111111111111,
             "#46039f"
            ],
            [
             0.2222222222222222,
             "#7201a8"
            ],
            [
             0.3333333333333333,
             "#9c179e"
            ],
            [
             0.4444444444444444,
             "#bd3786"
            ],
            [
             0.5555555555555556,
             "#d8576b"
            ],
            [
             0.6666666666666666,
             "#ed7953"
            ],
            [
             0.7777777777777778,
             "#fb9f3a"
            ],
            [
             0.8888888888888888,
             "#fdca26"
            ],
            [
             1,
             "#f0f921"
            ]
           ]
          },
          "colorway": [
           "#636efa",
           "#EF553B",
           "#00cc96",
           "#ab63fa",
           "#FFA15A",
           "#19d3f3",
           "#FF6692",
           "#B6E880",
           "#FF97FF",
           "#FECB52"
          ],
          "font": {
           "color": "#2a3f5f"
          },
          "geo": {
           "bgcolor": "white",
           "lakecolor": "white",
           "landcolor": "#E5ECF6",
           "showlakes": true,
           "showland": true,
           "subunitcolor": "white"
          },
          "hoverlabel": {
           "align": "left"
          },
          "hovermode": "closest",
          "mapbox": {
           "style": "light"
          },
          "paper_bgcolor": "white",
          "plot_bgcolor": "#E5ECF6",
          "polar": {
           "angularaxis": {
            "gridcolor": "white",
            "linecolor": "white",
            "ticks": ""
           },
           "bgcolor": "#E5ECF6",
           "radialaxis": {
            "gridcolor": "white",
            "linecolor": "white",
            "ticks": ""
           }
          },
          "scene": {
           "xaxis": {
            "backgroundcolor": "#E5ECF6",
            "gridcolor": "white",
            "gridwidth": 2,
            "linecolor": "white",
            "showbackground": true,
            "ticks": "",
            "zerolinecolor": "white"
           },
           "yaxis": {
            "backgroundcolor": "#E5ECF6",
            "gridcolor": "white",
            "gridwidth": 2,
            "linecolor": "white",
            "showbackground": true,
            "ticks": "",
            "zerolinecolor": "white"
           },
           "zaxis": {
            "backgroundcolor": "#E5ECF6",
            "gridcolor": "white",
            "gridwidth": 2,
            "linecolor": "white",
            "showbackground": true,
            "ticks": "",
            "zerolinecolor": "white"
           }
          },
          "shapedefaults": {
           "line": {
            "color": "#2a3f5f"
           }
          },
          "ternary": {
           "aaxis": {
            "gridcolor": "white",
            "linecolor": "white",
            "ticks": ""
           },
           "baxis": {
            "gridcolor": "white",
            "linecolor": "white",
            "ticks": ""
           },
           "bgcolor": "#E5ECF6",
           "caxis": {
            "gridcolor": "white",
            "linecolor": "white",
            "ticks": ""
           }
          },
          "title": {
           "x": 0.05
          },
          "xaxis": {
           "automargin": true,
           "gridcolor": "white",
           "linecolor": "white",
           "ticks": "",
           "title": {
            "standoff": 15
           },
           "zerolinecolor": "white",
           "zerolinewidth": 2
          },
          "yaxis": {
           "automargin": true,
           "gridcolor": "white",
           "linecolor": "white",
           "ticks": "",
           "title": {
            "standoff": 15
           },
           "zerolinecolor": "white",
           "zerolinewidth": 2
          }
         }
        },
        "xaxis": {
         "anchor": "y",
         "constrain": "domain",
         "domain": [
          0,
          1
         ],
         "scaleanchor": "y"
        },
        "yaxis": {
         "anchor": "x",
         "autorange": "reversed",
         "constrain": "domain",
         "domain": [
          0,
          1
         ]
        }
       }
      },
      "text/html": [
       "<div>                            <div id=\"f191bd86-012b-4135-a493-864b30299868\" class=\"plotly-graph-div\" style=\"height:525px; width:100%;\"></div>            <script type=\"text/javascript\">                require([\"plotly\"], function(Plotly) {                    window.PLOTLYENV=window.PLOTLYENV || {};                                    if (document.getElementById(\"f191bd86-012b-4135-a493-864b30299868\")) {                    Plotly.newPlot(                        \"f191bd86-012b-4135-a493-864b30299868\",                        [{\"coloraxis\":\"coloraxis\",\"name\":\"0\",\"x\":[\"CG102\",\"PB80\",\"LH185\",\"LH198\",\"LH82\",\"PHB47\",\"DK3IIH6\",\"PHN82\",\"PHW52\",\"LH195\",\"PHT69\",\"PHK76\",\"PHP02\",\"PHZ51\",\"LH244\"],\"y\":[\"CG102\",\"PB80\",\"LH185\",\"LH198\",\"LH82\",\"PHB47\",\"DK3IIH6\",\"PHN82\",\"PHW52\",\"LH195\",\"PHT69\",\"PHK76\",\"PHP02\",\"PHZ51\",\"LH244\"],\"z\":[[1401.0,3416.0,6005.0,6436.0,4859.0,7408.0,7944.0,4649.0,4018.0,31752.0,13479.0,8710.0,11051.0,19995.0,11256.0],[3416.0,2027.0,6608.0,7054.0,5538.0,8017.0,8634.0,5275.0,4644.0,32378.0,14105.0,9336.0,11677.0,20445.0,11882.0],[6005.0,6608.0,4604.0,9575.0,8135.0,10498.0,11211.0,7852.0,7124.0,34816.0,16682.0,11913.0,14254.0,23211.0,14440.0],[6436.0,7054.0,9575.0,5035.0,8466.0,11042.0,11578.0,8223.0,7652.0,35372.0,17113.0,12317.0,14685.0,23440.0,14890.0],[4859.0,5538.0,8135.0,8466.0,3531.0,9412.0,10138.0,6764.0,6091.0,33690.0,15605.0,10840.0,13181.0,22133.0,13363.0],[7408.0,8017.0,10498.0,11042.0,9412.0,6007.0,12510.0,8930.0,8624.0,36293.0,18085.0,13242.0,15509.0,24257.0,15839.0],[7944.0,8634.0,11211.0,11578.0,10138.0,12510.0,6607.0,9855.0,9224.0,36913.0,18620.0,13916.0,16257.0,25214.0,16439.0],[4649.0,5275.0,7852.0,8223.0,6764.0,8930.0,9855.0,3248.0,5254.0,33457.0,15326.0,10557.0,12898.0,21840.0,13058.0],[4018.0,4644.0,7124.0,7652.0,6091.0,8624.0,9224.0,5254.0,2617.0,32968.0,14695.0,9898.0,12267.0,21131.0,12472.0],[31752.0,32378.0,34816.0,35372.0,33690.0,36293.0,36913.0,33457.0,32968.0,30351.0,42429.0,37587.0,39997.0,48656.0,40206.0],[13479.0,14105.0,16682.0,17113.0,15605.0,18085.0,18620.0,15326.0,14695.0,42429.0,12078.0,19387.0,21728.0,30681.0,21933.0],[8710.0,9336.0,11913.0,12317.0,10840.0,13242.0,13916.0,10557.0,9898.0,37587.0,19387.0,7309.0,16959.0,25916.0,17102.0],[11051.0,11677.0,14254.0,14685.0,13181.0,15509.0,16257.0,12898.0,12267.0,39997.0,21728.0,16959.0,9650.0,28257.0,19482.0],[19995.0,20445.0,23211.0,23440.0,22133.0,24257.0,25214.0,21840.0,21131.0,48656.0,30681.0,25916.0,28257.0,18607.0,28401.0],[11256.0,11882.0,14440.0,14890.0,13363.0,15839.0,16439.0,13058.0,12472.0,40206.0,21933.0,17102.0,19482.0,28401.0,9855.0]],\"type\":\"heatmap\",\"xaxis\":\"x\",\"yaxis\":\"y\",\"hovertemplate\":\"x: %{x}\\u003cbr\\u003ey: %{y}\\u003cbr\\u003ecolor: %{z}\\u003cextra\\u003e\\u003c\\u002fextra\\u003e\"}],                        {\"template\":{\"data\":{\"histogram2dcontour\":[{\"type\":\"histogram2dcontour\",\"colorbar\":{\"outlinewidth\":0,\"ticks\":\"\"},\"colorscale\":[[0.0,\"#0d0887\"],[0.1111111111111111,\"#46039f\"],[0.2222222222222222,\"#7201a8\"],[0.3333333333333333,\"#9c179e\"],[0.4444444444444444,\"#bd3786\"],[0.5555555555555556,\"#d8576b\"],[0.6666666666666666,\"#ed7953\"],[0.7777777777777778,\"#fb9f3a\"],[0.8888888888888888,\"#fdca26\"],[1.0,\"#f0f921\"]]}],\"choropleth\":[{\"type\":\"choropleth\",\"colorbar\":{\"outlinewidth\":0,\"ticks\":\"\"}}],\"histogram2d\":[{\"type\":\"histogram2d\",\"colorbar\":{\"outlinewidth\":0,\"ticks\":\"\"},\"colorscale\":[[0.0,\"#0d0887\"],[0.1111111111111111,\"#46039f\"],[0.2222222222222222,\"#7201a8\"],[0.3333333333333333,\"#9c179e\"],[0.4444444444444444,\"#bd3786\"],[0.5555555555555556,\"#d8576b\"],[0.6666666666666666,\"#ed7953\"],[0.7777777777777778,\"#fb9f3a\"],[0.8888888888888888,\"#fdca26\"],[1.0,\"#f0f921\"]]}],\"heatmap\":[{\"type\":\"heatmap\",\"colorbar\":{\"outlinewidth\":0,\"ticks\":\"\"},\"colorscale\":[[0.0,\"#0d0887\"],[0.1111111111111111,\"#46039f\"],[0.2222222222222222,\"#7201a8\"],[0.3333333333333333,\"#9c179e\"],[0.4444444444444444,\"#bd3786\"],[0.5555555555555556,\"#d8576b\"],[0.6666666666666666,\"#ed7953\"],[0.7777777777777778,\"#fb9f3a\"],[0.8888888888888888,\"#fdca26\"],[1.0,\"#f0f921\"]]}],\"heatmapgl\":[{\"type\":\"heatmapgl\",\"colorbar\":{\"outlinewidth\":0,\"ticks\":\"\"},\"colorscale\":[[0.0,\"#0d0887\"],[0.1111111111111111,\"#46039f\"],[0.2222222222222222,\"#7201a8\"],[0.3333333333333333,\"#9c179e\"],[0.4444444444444444,\"#bd3786\"],[0.5555555555555556,\"#d8576b\"],[0.6666666666666666,\"#ed7953\"],[0.7777777777777778,\"#fb9f3a\"],[0.8888888888888888,\"#fdca26\"],[1.0,\"#f0f921\"]]}],\"contourcarpet\":[{\"type\":\"contourcarpet\",\"colorbar\":{\"outlinewidth\":0,\"ticks\":\"\"}}],\"contour\":[{\"type\":\"contour\",\"colorbar\":{\"outlinewidth\":0,\"ticks\":\"\"},\"colorscale\":[[0.0,\"#0d0887\"],[0.1111111111111111,\"#46039f\"],[0.2222222222222222,\"#7201a8\"],[0.3333333333333333,\"#9c179e\"],[0.4444444444444444,\"#bd3786\"],[0.5555555555555556,\"#d8576b\"],[0.6666666666666666,\"#ed7953\"],[0.7777777777777778,\"#fb9f3a\"],[0.8888888888888888,\"#fdca26\"],[1.0,\"#f0f921\"]]}],\"surface\":[{\"type\":\"surface\",\"colorbar\":{\"outlinewidth\":0,\"ticks\":\"\"},\"colorscale\":[[0.0,\"#0d0887\"],[0.1111111111111111,\"#46039f\"],[0.2222222222222222,\"#7201a8\"],[0.3333333333333333,\"#9c179e\"],[0.4444444444444444,\"#bd3786\"],[0.5555555555555556,\"#d8576b\"],[0.6666666666666666,\"#ed7953\"],[0.7777777777777778,\"#fb9f3a\"],[0.8888888888888888,\"#fdca26\"],[1.0,\"#f0f921\"]]}],\"mesh3d\":[{\"type\":\"mesh3d\",\"colorbar\":{\"outlinewidth\":0,\"ticks\":\"\"}}],\"scatter\":[{\"fillpattern\":{\"fillmode\":\"overlay\",\"size\":10,\"solidity\":0.2},\"type\":\"scatter\"}],\"parcoords\":[{\"type\":\"parcoords\",\"line\":{\"colorbar\":{\"outlinewidth\":0,\"ticks\":\"\"}}}],\"scatterpolargl\":[{\"type\":\"scatterpolargl\",\"marker\":{\"colorbar\":{\"outlinewidth\":0,\"ticks\":\"\"}}}],\"bar\":[{\"error_x\":{\"color\":\"#2a3f5f\"},\"error_y\":{\"color\":\"#2a3f5f\"},\"marker\":{\"line\":{\"color\":\"#E5ECF6\",\"width\":0.5},\"pattern\":{\"fillmode\":\"overlay\",\"size\":10,\"solidity\":0.2}},\"type\":\"bar\"}],\"scattergeo\":[{\"type\":\"scattergeo\",\"marker\":{\"colorbar\":{\"outlinewidth\":0,\"ticks\":\"\"}}}],\"scatterpolar\":[{\"type\":\"scatterpolar\",\"marker\":{\"colorbar\":{\"outlinewidth\":0,\"ticks\":\"\"}}}],\"histogram\":[{\"marker\":{\"pattern\":{\"fillmode\":\"overlay\",\"size\":10,\"solidity\":0.2}},\"type\":\"histogram\"}],\"scattergl\":[{\"type\":\"scattergl\",\"marker\":{\"colorbar\":{\"outlinewidth\":0,\"ticks\":\"\"}}}],\"scatter3d\":[{\"type\":\"scatter3d\",\"line\":{\"colorbar\":{\"outlinewidth\":0,\"ticks\":\"\"}},\"marker\":{\"colorbar\":{\"outlinewidth\":0,\"ticks\":\"\"}}}],\"scattermapbox\":[{\"type\":\"scattermapbox\",\"marker\":{\"colorbar\":{\"outlinewidth\":0,\"ticks\":\"\"}}}],\"scatterternary\":[{\"type\":\"scatterternary\",\"marker\":{\"colorbar\":{\"outlinewidth\":0,\"ticks\":\"\"}}}],\"scattercarpet\":[{\"type\":\"scattercarpet\",\"marker\":{\"colorbar\":{\"outlinewidth\":0,\"ticks\":\"\"}}}],\"carpet\":[{\"aaxis\":{\"endlinecolor\":\"#2a3f5f\",\"gridcolor\":\"white\",\"linecolor\":\"white\",\"minorgridcolor\":\"white\",\"startlinecolor\":\"#2a3f5f\"},\"baxis\":{\"endlinecolor\":\"#2a3f5f\",\"gridcolor\":\"white\",\"linecolor\":\"white\",\"minorgridcolor\":\"white\",\"startlinecolor\":\"#2a3f5f\"},\"type\":\"carpet\"}],\"table\":[{\"cells\":{\"fill\":{\"color\":\"#EBF0F8\"},\"line\":{\"color\":\"white\"}},\"header\":{\"fill\":{\"color\":\"#C8D4E3\"},\"line\":{\"color\":\"white\"}},\"type\":\"table\"}],\"barpolar\":[{\"marker\":{\"line\":{\"color\":\"#E5ECF6\",\"width\":0.5},\"pattern\":{\"fillmode\":\"overlay\",\"size\":10,\"solidity\":0.2}},\"type\":\"barpolar\"}],\"pie\":[{\"automargin\":true,\"type\":\"pie\"}]},\"layout\":{\"autotypenumbers\":\"strict\",\"colorway\":[\"#636efa\",\"#EF553B\",\"#00cc96\",\"#ab63fa\",\"#FFA15A\",\"#19d3f3\",\"#FF6692\",\"#B6E880\",\"#FF97FF\",\"#FECB52\"],\"font\":{\"color\":\"#2a3f5f\"},\"hovermode\":\"closest\",\"hoverlabel\":{\"align\":\"left\"},\"paper_bgcolor\":\"white\",\"plot_bgcolor\":\"#E5ECF6\",\"polar\":{\"bgcolor\":\"#E5ECF6\",\"angularaxis\":{\"gridcolor\":\"white\",\"linecolor\":\"white\",\"ticks\":\"\"},\"radialaxis\":{\"gridcolor\":\"white\",\"linecolor\":\"white\",\"ticks\":\"\"}},\"ternary\":{\"bgcolor\":\"#E5ECF6\",\"aaxis\":{\"gridcolor\":\"white\",\"linecolor\":\"white\",\"ticks\":\"\"},\"baxis\":{\"gridcolor\":\"white\",\"linecolor\":\"white\",\"ticks\":\"\"},\"caxis\":{\"gridcolor\":\"white\",\"linecolor\":\"white\",\"ticks\":\"\"}},\"coloraxis\":{\"colorbar\":{\"outlinewidth\":0,\"ticks\":\"\"}},\"colorscale\":{\"sequential\":[[0.0,\"#0d0887\"],[0.1111111111111111,\"#46039f\"],[0.2222222222222222,\"#7201a8\"],[0.3333333333333333,\"#9c179e\"],[0.4444444444444444,\"#bd3786\"],[0.5555555555555556,\"#d8576b\"],[0.6666666666666666,\"#ed7953\"],[0.7777777777777778,\"#fb9f3a\"],[0.8888888888888888,\"#fdca26\"],[1.0,\"#f0f921\"]],\"sequentialminus\":[[0.0,\"#0d0887\"],[0.1111111111111111,\"#46039f\"],[0.2222222222222222,\"#7201a8\"],[0.3333333333333333,\"#9c179e\"],[0.4444444444444444,\"#bd3786\"],[0.5555555555555556,\"#d8576b\"],[0.6666666666666666,\"#ed7953\"],[0.7777777777777778,\"#fb9f3a\"],[0.8888888888888888,\"#fdca26\"],[1.0,\"#f0f921\"]],\"diverging\":[[0,\"#8e0152\"],[0.1,\"#c51b7d\"],[0.2,\"#de77ae\"],[0.3,\"#f1b6da\"],[0.4,\"#fde0ef\"],[0.5,\"#f7f7f7\"],[0.6,\"#e6f5d0\"],[0.7,\"#b8e186\"],[0.8,\"#7fbc41\"],[0.9,\"#4d9221\"],[1,\"#276419\"]]},\"xaxis\":{\"gridcolor\":\"white\",\"linecolor\":\"white\",\"ticks\":\"\",\"title\":{\"standoff\":15},\"zerolinecolor\":\"white\",\"automargin\":true,\"zerolinewidth\":2},\"yaxis\":{\"gridcolor\":\"white\",\"linecolor\":\"white\",\"ticks\":\"\",\"title\":{\"standoff\":15},\"zerolinecolor\":\"white\",\"automargin\":true,\"zerolinewidth\":2},\"scene\":{\"xaxis\":{\"backgroundcolor\":\"#E5ECF6\",\"gridcolor\":\"white\",\"linecolor\":\"white\",\"showbackground\":true,\"ticks\":\"\",\"zerolinecolor\":\"white\",\"gridwidth\":2},\"yaxis\":{\"backgroundcolor\":\"#E5ECF6\",\"gridcolor\":\"white\",\"linecolor\":\"white\",\"showbackground\":true,\"ticks\":\"\",\"zerolinecolor\":\"white\",\"gridwidth\":2},\"zaxis\":{\"backgroundcolor\":\"#E5ECF6\",\"gridcolor\":\"white\",\"linecolor\":\"white\",\"showbackground\":true,\"ticks\":\"\",\"zerolinecolor\":\"white\",\"gridwidth\":2}},\"shapedefaults\":{\"line\":{\"color\":\"#2a3f5f\"}},\"annotationdefaults\":{\"arrowcolor\":\"#2a3f5f\",\"arrowhead\":0,\"arrowwidth\":1},\"geo\":{\"bgcolor\":\"white\",\"landcolor\":\"#E5ECF6\",\"subunitcolor\":\"white\",\"showland\":true,\"showlakes\":true,\"lakecolor\":\"white\"},\"title\":{\"x\":0.05},\"mapbox\":{\"style\":\"light\"}}},\"xaxis\":{\"anchor\":\"y\",\"domain\":[0.0,1.0],\"scaleanchor\":\"y\",\"constrain\":\"domain\"},\"yaxis\":{\"anchor\":\"x\",\"domain\":[0.0,1.0],\"autorange\":\"reversed\",\"constrain\":\"domain\"},\"coloraxis\":{\"colorscale\":[[0.0,\"#0d0887\"],[0.1111111111111111,\"#46039f\"],[0.2222222222222222,\"#7201a8\"],[0.3333333333333333,\"#9c179e\"],[0.4444444444444444,\"#bd3786\"],[0.5555555555555556,\"#d8576b\"],[0.6666666666666666,\"#ed7953\"],[0.7777777777777778,\"#fb9f3a\"],[0.8888888888888888,\"#fdca26\"],[1.0,\"#f0f921\"]]},\"margin\":{\"t\":60}},                        {\"responsive\": true}                    ).then(function(){\n",
       "                            \n",
       "var gd = document.getElementById('f191bd86-012b-4135-a493-864b30299868');\n",
       "var x = new MutationObserver(function (mutations, observer) {{\n",
       "        var display = window.getComputedStyle(gd).display;\n",
       "        if (!display || display === 'none') {{\n",
       "            console.log([gd, 'removed!']);\n",
       "            Plotly.purge(gd);\n",
       "            observer.disconnect();\n",
       "        }}\n",
       "}});\n",
       "\n",
       "// Listen for the removal of the full notebook cells\n",
       "var notebookContainer = gd.closest('#notebook-container');\n",
       "if (notebookContainer) {{\n",
       "    x.observe(notebookContainer, {childList: true});\n",
       "}}\n",
       "\n",
       "// Listen for the clearing of the current output cell\n",
       "var outputEl = gd.closest('.output');\n",
       "if (outputEl) {{\n",
       "    x.observe(outputEl, {childList: true});\n",
       "}}\n",
       "\n",
       "                        })                };                });            </script>        </div>"
      ]
     },
     "metadata": {},
     "output_type": "display_data"
    }
   ],
   "source": [
    "px.imshow(pd.DataFrame(out2, columns=l, index=l))"
   ]
  },
  {
   "cell_type": "code",
   "execution_count": null,
   "id": "eb917280",
   "metadata": {},
   "outputs": [],
   "source": [
    "\n"
   ]
  },
  {
   "cell_type": "code",
   "execution_count": null,
   "id": "cedbfd37",
   "metadata": {},
   "outputs": [],
   "source": []
  },
  {
   "cell_type": "code",
   "execution_count": null,
   "id": "18c393eb",
   "metadata": {},
   "outputs": [],
   "source": [
    "\n"
   ]
  },
  {
   "cell_type": "code",
   "execution_count": null,
   "id": "dc3382a5",
   "metadata": {},
   "outputs": [
    {
     "data": {
      "text/html": [
       "<div>\n",
       "<style scoped>\n",
       "    .dataframe tbody tr th:only-of-type {\n",
       "        vertical-align: middle;\n",
       "    }\n",
       "\n",
       "    .dataframe tbody tr th {\n",
       "        vertical-align: top;\n",
       "    }\n",
       "\n",
       "    .dataframe thead th {\n",
       "        text-align: right;\n",
       "    }\n",
       "</style>\n",
       "<table border=\"1\" class=\"dataframe\">\n",
       "  <thead>\n",
       "    <tr style=\"text-align: right;\">\n",
       "      <th></th>\n",
       "      <th>Year</th>\n",
       "      <th>Train</th>\n",
       "      <th>Test</th>\n",
       "    </tr>\n",
       "  </thead>\n",
       "  <tbody>\n",
       "    <tr>\n",
       "      <th>0</th>\n",
       "      <td>2014</td>\n",
       "      <td>11577</td>\n",
       "      <td>NaN</td>\n",
       "    </tr>\n",
       "    <tr>\n",
       "      <th>1</th>\n",
       "      <td>2015</td>\n",
       "      <td>13210</td>\n",
       "      <td>NaN</td>\n",
       "    </tr>\n",
       "    <tr>\n",
       "      <th>2</th>\n",
       "      <td>2016</td>\n",
       "      <td>13760</td>\n",
       "      <td>NaN</td>\n",
       "    </tr>\n",
       "    <tr>\n",
       "      <th>3</th>\n",
       "      <td>2017</td>\n",
       "      <td>12073</td>\n",
       "      <td>48.0</td>\n",
       "    </tr>\n",
       "    <tr>\n",
       "      <th>4</th>\n",
       "      <td>2018</td>\n",
       "      <td>18662</td>\n",
       "      <td>79.0</td>\n",
       "    </tr>\n",
       "    <tr>\n",
       "      <th>5</th>\n",
       "      <td>2019</td>\n",
       "      <td>19140</td>\n",
       "      <td>53.0</td>\n",
       "    </tr>\n",
       "    <tr>\n",
       "      <th>6</th>\n",
       "      <td>2020</td>\n",
       "      <td>14354</td>\n",
       "      <td>350.0</td>\n",
       "    </tr>\n",
       "    <tr>\n",
       "      <th>7</th>\n",
       "      <td>2021</td>\n",
       "      <td>19017</td>\n",
       "      <td>444.0</td>\n",
       "    </tr>\n",
       "    <tr>\n",
       "      <th>8</th>\n",
       "      <td>2022</td>\n",
       "      <td>10237</td>\n",
       "      <td>53.0</td>\n",
       "    </tr>\n",
       "    <tr>\n",
       "      <th>9999</th>\n",
       "      <td></td>\n",
       "      <td>132030</td>\n",
       "      <td>1027.0</td>\n",
       "    </tr>\n",
       "  </tbody>\n",
       "</table>\n",
       "</div>"
      ],
      "text/plain": [
       "      Year   Train    Test\n",
       "0     2014   11577     NaN\n",
       "1     2015   13210     NaN\n",
       "2     2016   13760     NaN\n",
       "3     2017   12073    48.0\n",
       "4     2018   18662    79.0\n",
       "5     2019   19140    53.0\n",
       "6     2020   14354   350.0\n",
       "7     2021   19017   444.0\n",
       "8     2022   10237    53.0\n",
       "9999        132030  1027.0"
      ]
     },
     "execution_count": null,
     "metadata": {},
     "output_type": "execute_result"
    }
   ],
   "source": [
    "phno_mask_count(masks = phno_mask_parents(tParents = [e]))"
   ]
  },
  {
   "cell_type": "code",
   "execution_count": null,
   "id": "0be026b7",
   "metadata": {},
   "outputs": [
    {
     "data": {
      "application/vnd.plotly.v1+json": {
       "config": {
        "plotlyServerURL": "https://plot.ly"
       },
       "data": [
        {
         "alignmentgroup": "True",
         "bingroup": "x",
         "hovertemplate": "variable=Test<br>value=%{x}<br>count=%{y}<extra></extra>",
         "legendgroup": "Test",
         "marker": {
          "color": "#636efa",
          "pattern": {
           "shape": ""
          }
         },
         "name": "Test",
         "nbinsx": 100,
         "offsetgroup": "Test",
         "orientation": "v",
         "showlegend": true,
         "type": "histogram",
         "x": [
          1108,
          1603,
          2536,
          3562,
          2389,
          3268,
          3919,
          627,
          803,
          11815,
          6647,
          4477,
          5141,
          6990,
          9704
         ],
         "xaxis": "x",
         "yaxis": "y"
        }
       ],
       "layout": {
        "barmode": "relative",
        "legend": {
         "title": {
          "text": "variable"
         },
         "tracegroupgap": 0
        },
        "margin": {
         "t": 60
        },
        "template": {
         "data": {
          "bar": [
           {
            "error_x": {
             "color": "#2a3f5f"
            },
            "error_y": {
             "color": "#2a3f5f"
            },
            "marker": {
             "line": {
              "color": "#E5ECF6",
              "width": 0.5
             },
             "pattern": {
              "fillmode": "overlay",
              "size": 10,
              "solidity": 0.2
             }
            },
            "type": "bar"
           }
          ],
          "barpolar": [
           {
            "marker": {
             "line": {
              "color": "#E5ECF6",
              "width": 0.5
             },
             "pattern": {
              "fillmode": "overlay",
              "size": 10,
              "solidity": 0.2
             }
            },
            "type": "barpolar"
           }
          ],
          "carpet": [
           {
            "aaxis": {
             "endlinecolor": "#2a3f5f",
             "gridcolor": "white",
             "linecolor": "white",
             "minorgridcolor": "white",
             "startlinecolor": "#2a3f5f"
            },
            "baxis": {
             "endlinecolor": "#2a3f5f",
             "gridcolor": "white",
             "linecolor": "white",
             "minorgridcolor": "white",
             "startlinecolor": "#2a3f5f"
            },
            "type": "carpet"
           }
          ],
          "choropleth": [
           {
            "colorbar": {
             "outlinewidth": 0,
             "ticks": ""
            },
            "type": "choropleth"
           }
          ],
          "contour": [
           {
            "colorbar": {
             "outlinewidth": 0,
             "ticks": ""
            },
            "colorscale": [
             [
              0,
              "#0d0887"
             ],
             [
              0.1111111111111111,
              "#46039f"
             ],
             [
              0.2222222222222222,
              "#7201a8"
             ],
             [
              0.3333333333333333,
              "#9c179e"
             ],
             [
              0.4444444444444444,
              "#bd3786"
             ],
             [
              0.5555555555555556,
              "#d8576b"
             ],
             [
              0.6666666666666666,
              "#ed7953"
             ],
             [
              0.7777777777777778,
              "#fb9f3a"
             ],
             [
              0.8888888888888888,
              "#fdca26"
             ],
             [
              1,
              "#f0f921"
             ]
            ],
            "type": "contour"
           }
          ],
          "contourcarpet": [
           {
            "colorbar": {
             "outlinewidth": 0,
             "ticks": ""
            },
            "type": "contourcarpet"
           }
          ],
          "heatmap": [
           {
            "colorbar": {
             "outlinewidth": 0,
             "ticks": ""
            },
            "colorscale": [
             [
              0,
              "#0d0887"
             ],
             [
              0.1111111111111111,
              "#46039f"
             ],
             [
              0.2222222222222222,
              "#7201a8"
             ],
             [
              0.3333333333333333,
              "#9c179e"
             ],
             [
              0.4444444444444444,
              "#bd3786"
             ],
             [
              0.5555555555555556,
              "#d8576b"
             ],
             [
              0.6666666666666666,
              "#ed7953"
             ],
             [
              0.7777777777777778,
              "#fb9f3a"
             ],
             [
              0.8888888888888888,
              "#fdca26"
             ],
             [
              1,
              "#f0f921"
             ]
            ],
            "type": "heatmap"
           }
          ],
          "heatmapgl": [
           {
            "colorbar": {
             "outlinewidth": 0,
             "ticks": ""
            },
            "colorscale": [
             [
              0,
              "#0d0887"
             ],
             [
              0.1111111111111111,
              "#46039f"
             ],
             [
              0.2222222222222222,
              "#7201a8"
             ],
             [
              0.3333333333333333,
              "#9c179e"
             ],
             [
              0.4444444444444444,
              "#bd3786"
             ],
             [
              0.5555555555555556,
              "#d8576b"
             ],
             [
              0.6666666666666666,
              "#ed7953"
             ],
             [
              0.7777777777777778,
              "#fb9f3a"
             ],
             [
              0.8888888888888888,
              "#fdca26"
             ],
             [
              1,
              "#f0f921"
             ]
            ],
            "type": "heatmapgl"
           }
          ],
          "histogram": [
           {
            "marker": {
             "pattern": {
              "fillmode": "overlay",
              "size": 10,
              "solidity": 0.2
             }
            },
            "type": "histogram"
           }
          ],
          "histogram2d": [
           {
            "colorbar": {
             "outlinewidth": 0,
             "ticks": ""
            },
            "colorscale": [
             [
              0,
              "#0d0887"
             ],
             [
              0.1111111111111111,
              "#46039f"
             ],
             [
              0.2222222222222222,
              "#7201a8"
             ],
             [
              0.3333333333333333,
              "#9c179e"
             ],
             [
              0.4444444444444444,
              "#bd3786"
             ],
             [
              0.5555555555555556,
              "#d8576b"
             ],
             [
              0.6666666666666666,
              "#ed7953"
             ],
             [
              0.7777777777777778,
              "#fb9f3a"
             ],
             [
              0.8888888888888888,
              "#fdca26"
             ],
             [
              1,
              "#f0f921"
             ]
            ],
            "type": "histogram2d"
           }
          ],
          "histogram2dcontour": [
           {
            "colorbar": {
             "outlinewidth": 0,
             "ticks": ""
            },
            "colorscale": [
             [
              0,
              "#0d0887"
             ],
             [
              0.1111111111111111,
              "#46039f"
             ],
             [
              0.2222222222222222,
              "#7201a8"
             ],
             [
              0.3333333333333333,
              "#9c179e"
             ],
             [
              0.4444444444444444,
              "#bd3786"
             ],
             [
              0.5555555555555556,
              "#d8576b"
             ],
             [
              0.6666666666666666,
              "#ed7953"
             ],
             [
              0.7777777777777778,
              "#fb9f3a"
             ],
             [
              0.8888888888888888,
              "#fdca26"
             ],
             [
              1,
              "#f0f921"
             ]
            ],
            "type": "histogram2dcontour"
           }
          ],
          "mesh3d": [
           {
            "colorbar": {
             "outlinewidth": 0,
             "ticks": ""
            },
            "type": "mesh3d"
           }
          ],
          "parcoords": [
           {
            "line": {
             "colorbar": {
              "outlinewidth": 0,
              "ticks": ""
             }
            },
            "type": "parcoords"
           }
          ],
          "pie": [
           {
            "automargin": true,
            "type": "pie"
           }
          ],
          "scatter": [
           {
            "fillpattern": {
             "fillmode": "overlay",
             "size": 10,
             "solidity": 0.2
            },
            "type": "scatter"
           }
          ],
          "scatter3d": [
           {
            "line": {
             "colorbar": {
              "outlinewidth": 0,
              "ticks": ""
             }
            },
            "marker": {
             "colorbar": {
              "outlinewidth": 0,
              "ticks": ""
             }
            },
            "type": "scatter3d"
           }
          ],
          "scattercarpet": [
           {
            "marker": {
             "colorbar": {
              "outlinewidth": 0,
              "ticks": ""
             }
            },
            "type": "scattercarpet"
           }
          ],
          "scattergeo": [
           {
            "marker": {
             "colorbar": {
              "outlinewidth": 0,
              "ticks": ""
             }
            },
            "type": "scattergeo"
           }
          ],
          "scattergl": [
           {
            "marker": {
             "colorbar": {
              "outlinewidth": 0,
              "ticks": ""
             }
            },
            "type": "scattergl"
           }
          ],
          "scattermapbox": [
           {
            "marker": {
             "colorbar": {
              "outlinewidth": 0,
              "ticks": ""
             }
            },
            "type": "scattermapbox"
           }
          ],
          "scatterpolar": [
           {
            "marker": {
             "colorbar": {
              "outlinewidth": 0,
              "ticks": ""
             }
            },
            "type": "scatterpolar"
           }
          ],
          "scatterpolargl": [
           {
            "marker": {
             "colorbar": {
              "outlinewidth": 0,
              "ticks": ""
             }
            },
            "type": "scatterpolargl"
           }
          ],
          "scatterternary": [
           {
            "marker": {
             "colorbar": {
              "outlinewidth": 0,
              "ticks": ""
             }
            },
            "type": "scatterternary"
           }
          ],
          "surface": [
           {
            "colorbar": {
             "outlinewidth": 0,
             "ticks": ""
            },
            "colorscale": [
             [
              0,
              "#0d0887"
             ],
             [
              0.1111111111111111,
              "#46039f"
             ],
             [
              0.2222222222222222,
              "#7201a8"
             ],
             [
              0.3333333333333333,
              "#9c179e"
             ],
             [
              0.4444444444444444,
              "#bd3786"
             ],
             [
              0.5555555555555556,
              "#d8576b"
             ],
             [
              0.6666666666666666,
              "#ed7953"
             ],
             [
              0.7777777777777778,
              "#fb9f3a"
             ],
             [
              0.8888888888888888,
              "#fdca26"
             ],
             [
              1,
              "#f0f921"
             ]
            ],
            "type": "surface"
           }
          ],
          "table": [
           {
            "cells": {
             "fill": {
              "color": "#EBF0F8"
             },
             "line": {
              "color": "white"
             }
            },
            "header": {
             "fill": {
              "color": "#C8D4E3"
             },
             "line": {
              "color": "white"
             }
            },
            "type": "table"
           }
          ]
         },
         "layout": {
          "annotationdefaults": {
           "arrowcolor": "#2a3f5f",
           "arrowhead": 0,
           "arrowwidth": 1
          },
          "autotypenumbers": "strict",
          "coloraxis": {
           "colorbar": {
            "outlinewidth": 0,
            "ticks": ""
           }
          },
          "colorscale": {
           "diverging": [
            [
             0,
             "#8e0152"
            ],
            [
             0.1,
             "#c51b7d"
            ],
            [
             0.2,
             "#de77ae"
            ],
            [
             0.3,
             "#f1b6da"
            ],
            [
             0.4,
             "#fde0ef"
            ],
            [
             0.5,
             "#f7f7f7"
            ],
            [
             0.6,
             "#e6f5d0"
            ],
            [
             0.7,
             "#b8e186"
            ],
            [
             0.8,
             "#7fbc41"
            ],
            [
             0.9,
             "#4d9221"
            ],
            [
             1,
             "#276419"
            ]
           ],
           "sequential": [
            [
             0,
             "#0d0887"
            ],
            [
             0.1111111111111111,
             "#46039f"
            ],
            [
             0.2222222222222222,
             "#7201a8"
            ],
            [
             0.3333333333333333,
             "#9c179e"
            ],
            [
             0.4444444444444444,
             "#bd3786"
            ],
            [
             0.5555555555555556,
             "#d8576b"
            ],
            [
             0.6666666666666666,
             "#ed7953"
            ],
            [
             0.7777777777777778,
             "#fb9f3a"
            ],
            [
             0.8888888888888888,
             "#fdca26"
            ],
            [
             1,
             "#f0f921"
            ]
           ],
           "sequentialminus": [
            [
             0,
             "#0d0887"
            ],
            [
             0.1111111111111111,
             "#46039f"
            ],
            [
             0.2222222222222222,
             "#7201a8"
            ],
            [
             0.3333333333333333,
             "#9c179e"
            ],
            [
             0.4444444444444444,
             "#bd3786"
            ],
            [
             0.5555555555555556,
             "#d8576b"
            ],
            [
             0.6666666666666666,
             "#ed7953"
            ],
            [
             0.7777777777777778,
             "#fb9f3a"
            ],
            [
             0.8888888888888888,
             "#fdca26"
            ],
            [
             1,
             "#f0f921"
            ]
           ]
          },
          "colorway": [
           "#636efa",
           "#EF553B",
           "#00cc96",
           "#ab63fa",
           "#FFA15A",
           "#19d3f3",
           "#FF6692",
           "#B6E880",
           "#FF97FF",
           "#FECB52"
          ],
          "font": {
           "color": "#2a3f5f"
          },
          "geo": {
           "bgcolor": "white",
           "lakecolor": "white",
           "landcolor": "#E5ECF6",
           "showlakes": true,
           "showland": true,
           "subunitcolor": "white"
          },
          "hoverlabel": {
           "align": "left"
          },
          "hovermode": "closest",
          "mapbox": {
           "style": "light"
          },
          "paper_bgcolor": "white",
          "plot_bgcolor": "#E5ECF6",
          "polar": {
           "angularaxis": {
            "gridcolor": "white",
            "linecolor": "white",
            "ticks": ""
           },
           "bgcolor": "#E5ECF6",
           "radialaxis": {
            "gridcolor": "white",
            "linecolor": "white",
            "ticks": ""
           }
          },
          "scene": {
           "xaxis": {
            "backgroundcolor": "#E5ECF6",
            "gridcolor": "white",
            "gridwidth": 2,
            "linecolor": "white",
            "showbackground": true,
            "ticks": "",
            "zerolinecolor": "white"
           },
           "yaxis": {
            "backgroundcolor": "#E5ECF6",
            "gridcolor": "white",
            "gridwidth": 2,
            "linecolor": "white",
            "showbackground": true,
            "ticks": "",
            "zerolinecolor": "white"
           },
           "zaxis": {
            "backgroundcolor": "#E5ECF6",
            "gridcolor": "white",
            "gridwidth": 2,
            "linecolor": "white",
            "showbackground": true,
            "ticks": "",
            "zerolinecolor": "white"
           }
          },
          "shapedefaults": {
           "line": {
            "color": "#2a3f5f"
           }
          },
          "ternary": {
           "aaxis": {
            "gridcolor": "white",
            "linecolor": "white",
            "ticks": ""
           },
           "baxis": {
            "gridcolor": "white",
            "linecolor": "white",
            "ticks": ""
           },
           "bgcolor": "#E5ECF6",
           "caxis": {
            "gridcolor": "white",
            "linecolor": "white",
            "ticks": ""
           }
          },
          "title": {
           "x": 0.05
          },
          "xaxis": {
           "automargin": true,
           "gridcolor": "white",
           "linecolor": "white",
           "ticks": "",
           "title": {
            "standoff": 15
           },
           "zerolinecolor": "white",
           "zerolinewidth": 2
          },
          "yaxis": {
           "automargin": true,
           "gridcolor": "white",
           "linecolor": "white",
           "ticks": "",
           "title": {
            "standoff": 15
           },
           "zerolinecolor": "white",
           "zerolinewidth": 2
          }
         }
        },
        "xaxis": {
         "anchor": "y",
         "domain": [
          0,
          1
         ],
         "title": {
          "text": "value"
         }
        },
        "yaxis": {
         "anchor": "x",
         "domain": [
          0,
          1
         ],
         "title": {
          "text": "count"
         }
        }
       }
      },
      "text/html": [
       "<div>                            <div id=\"653bcfeb-7114-43c9-930d-acf0c106c454\" class=\"plotly-graph-div\" style=\"height:525px; width:100%;\"></div>            <script type=\"text/javascript\">                require([\"plotly\"], function(Plotly) {                    window.PLOTLYENV=window.PLOTLYENV || {};                                    if (document.getElementById(\"653bcfeb-7114-43c9-930d-acf0c106c454\")) {                    Plotly.newPlot(                        \"653bcfeb-7114-43c9-930d-acf0c106c454\",                        [{\"alignmentgroup\":\"True\",\"bingroup\":\"x\",\"hovertemplate\":\"variable=Test\\u003cbr\\u003evalue=%{x}\\u003cbr\\u003ecount=%{y}\\u003cextra\\u003e\\u003c\\u002fextra\\u003e\",\"legendgroup\":\"Test\",\"marker\":{\"color\":\"#636efa\",\"pattern\":{\"shape\":\"\"}},\"name\":\"Test\",\"nbinsx\":100,\"offsetgroup\":\"Test\",\"orientation\":\"v\",\"showlegend\":true,\"x\":[1108.0,1603.0,2536.0,3562.0,2389.0,3268.0,3919.0,627.0,803.0,11815.0,6647.0,4477.0,5141.0,6990.0,9704.0],\"xaxis\":\"x\",\"yaxis\":\"y\",\"type\":\"histogram\"}],                        {\"template\":{\"data\":{\"histogram2dcontour\":[{\"type\":\"histogram2dcontour\",\"colorbar\":{\"outlinewidth\":0,\"ticks\":\"\"},\"colorscale\":[[0.0,\"#0d0887\"],[0.1111111111111111,\"#46039f\"],[0.2222222222222222,\"#7201a8\"],[0.3333333333333333,\"#9c179e\"],[0.4444444444444444,\"#bd3786\"],[0.5555555555555556,\"#d8576b\"],[0.6666666666666666,\"#ed7953\"],[0.7777777777777778,\"#fb9f3a\"],[0.8888888888888888,\"#fdca26\"],[1.0,\"#f0f921\"]]}],\"choropleth\":[{\"type\":\"choropleth\",\"colorbar\":{\"outlinewidth\":0,\"ticks\":\"\"}}],\"histogram2d\":[{\"type\":\"histogram2d\",\"colorbar\":{\"outlinewidth\":0,\"ticks\":\"\"},\"colorscale\":[[0.0,\"#0d0887\"],[0.1111111111111111,\"#46039f\"],[0.2222222222222222,\"#7201a8\"],[0.3333333333333333,\"#9c179e\"],[0.4444444444444444,\"#bd3786\"],[0.5555555555555556,\"#d8576b\"],[0.6666666666666666,\"#ed7953\"],[0.7777777777777778,\"#fb9f3a\"],[0.8888888888888888,\"#fdca26\"],[1.0,\"#f0f921\"]]}],\"heatmap\":[{\"type\":\"heatmap\",\"colorbar\":{\"outlinewidth\":0,\"ticks\":\"\"},\"colorscale\":[[0.0,\"#0d0887\"],[0.1111111111111111,\"#46039f\"],[0.2222222222222222,\"#7201a8\"],[0.3333333333333333,\"#9c179e\"],[0.4444444444444444,\"#bd3786\"],[0.5555555555555556,\"#d8576b\"],[0.6666666666666666,\"#ed7953\"],[0.7777777777777778,\"#fb9f3a\"],[0.8888888888888888,\"#fdca26\"],[1.0,\"#f0f921\"]]}],\"heatmapgl\":[{\"type\":\"heatmapgl\",\"colorbar\":{\"outlinewidth\":0,\"ticks\":\"\"},\"colorscale\":[[0.0,\"#0d0887\"],[0.1111111111111111,\"#46039f\"],[0.2222222222222222,\"#7201a8\"],[0.3333333333333333,\"#9c179e\"],[0.4444444444444444,\"#bd3786\"],[0.5555555555555556,\"#d8576b\"],[0.6666666666666666,\"#ed7953\"],[0.7777777777777778,\"#fb9f3a\"],[0.8888888888888888,\"#fdca26\"],[1.0,\"#f0f921\"]]}],\"contourcarpet\":[{\"type\":\"contourcarpet\",\"colorbar\":{\"outlinewidth\":0,\"ticks\":\"\"}}],\"contour\":[{\"type\":\"contour\",\"colorbar\":{\"outlinewidth\":0,\"ticks\":\"\"},\"colorscale\":[[0.0,\"#0d0887\"],[0.1111111111111111,\"#46039f\"],[0.2222222222222222,\"#7201a8\"],[0.3333333333333333,\"#9c179e\"],[0.4444444444444444,\"#bd3786\"],[0.5555555555555556,\"#d8576b\"],[0.6666666666666666,\"#ed7953\"],[0.7777777777777778,\"#fb9f3a\"],[0.8888888888888888,\"#fdca26\"],[1.0,\"#f0f921\"]]}],\"surface\":[{\"type\":\"surface\",\"colorbar\":{\"outlinewidth\":0,\"ticks\":\"\"},\"colorscale\":[[0.0,\"#0d0887\"],[0.1111111111111111,\"#46039f\"],[0.2222222222222222,\"#7201a8\"],[0.3333333333333333,\"#9c179e\"],[0.4444444444444444,\"#bd3786\"],[0.5555555555555556,\"#d8576b\"],[0.6666666666666666,\"#ed7953\"],[0.7777777777777778,\"#fb9f3a\"],[0.8888888888888888,\"#fdca26\"],[1.0,\"#f0f921\"]]}],\"mesh3d\":[{\"type\":\"mesh3d\",\"colorbar\":{\"outlinewidth\":0,\"ticks\":\"\"}}],\"scatter\":[{\"fillpattern\":{\"fillmode\":\"overlay\",\"size\":10,\"solidity\":0.2},\"type\":\"scatter\"}],\"parcoords\":[{\"type\":\"parcoords\",\"line\":{\"colorbar\":{\"outlinewidth\":0,\"ticks\":\"\"}}}],\"scatterpolargl\":[{\"type\":\"scatterpolargl\",\"marker\":{\"colorbar\":{\"outlinewidth\":0,\"ticks\":\"\"}}}],\"bar\":[{\"error_x\":{\"color\":\"#2a3f5f\"},\"error_y\":{\"color\":\"#2a3f5f\"},\"marker\":{\"line\":{\"color\":\"#E5ECF6\",\"width\":0.5},\"pattern\":{\"fillmode\":\"overlay\",\"size\":10,\"solidity\":0.2}},\"type\":\"bar\"}],\"scattergeo\":[{\"type\":\"scattergeo\",\"marker\":{\"colorbar\":{\"outlinewidth\":0,\"ticks\":\"\"}}}],\"scatterpolar\":[{\"type\":\"scatterpolar\",\"marker\":{\"colorbar\":{\"outlinewidth\":0,\"ticks\":\"\"}}}],\"histogram\":[{\"marker\":{\"pattern\":{\"fillmode\":\"overlay\",\"size\":10,\"solidity\":0.2}},\"type\":\"histogram\"}],\"scattergl\":[{\"type\":\"scattergl\",\"marker\":{\"colorbar\":{\"outlinewidth\":0,\"ticks\":\"\"}}}],\"scatter3d\":[{\"type\":\"scatter3d\",\"line\":{\"colorbar\":{\"outlinewidth\":0,\"ticks\":\"\"}},\"marker\":{\"colorbar\":{\"outlinewidth\":0,\"ticks\":\"\"}}}],\"scattermapbox\":[{\"type\":\"scattermapbox\",\"marker\":{\"colorbar\":{\"outlinewidth\":0,\"ticks\":\"\"}}}],\"scatterternary\":[{\"type\":\"scatterternary\",\"marker\":{\"colorbar\":{\"outlinewidth\":0,\"ticks\":\"\"}}}],\"scattercarpet\":[{\"type\":\"scattercarpet\",\"marker\":{\"colorbar\":{\"outlinewidth\":0,\"ticks\":\"\"}}}],\"carpet\":[{\"aaxis\":{\"endlinecolor\":\"#2a3f5f\",\"gridcolor\":\"white\",\"linecolor\":\"white\",\"minorgridcolor\":\"white\",\"startlinecolor\":\"#2a3f5f\"},\"baxis\":{\"endlinecolor\":\"#2a3f5f\",\"gridcolor\":\"white\",\"linecolor\":\"white\",\"minorgridcolor\":\"white\",\"startlinecolor\":\"#2a3f5f\"},\"type\":\"carpet\"}],\"table\":[{\"cells\":{\"fill\":{\"color\":\"#EBF0F8\"},\"line\":{\"color\":\"white\"}},\"header\":{\"fill\":{\"color\":\"#C8D4E3\"},\"line\":{\"color\":\"white\"}},\"type\":\"table\"}],\"barpolar\":[{\"marker\":{\"line\":{\"color\":\"#E5ECF6\",\"width\":0.5},\"pattern\":{\"fillmode\":\"overlay\",\"size\":10,\"solidity\":0.2}},\"type\":\"barpolar\"}],\"pie\":[{\"automargin\":true,\"type\":\"pie\"}]},\"layout\":{\"autotypenumbers\":\"strict\",\"colorway\":[\"#636efa\",\"#EF553B\",\"#00cc96\",\"#ab63fa\",\"#FFA15A\",\"#19d3f3\",\"#FF6692\",\"#B6E880\",\"#FF97FF\",\"#FECB52\"],\"font\":{\"color\":\"#2a3f5f\"},\"hovermode\":\"closest\",\"hoverlabel\":{\"align\":\"left\"},\"paper_bgcolor\":\"white\",\"plot_bgcolor\":\"#E5ECF6\",\"polar\":{\"bgcolor\":\"#E5ECF6\",\"angularaxis\":{\"gridcolor\":\"white\",\"linecolor\":\"white\",\"ticks\":\"\"},\"radialaxis\":{\"gridcolor\":\"white\",\"linecolor\":\"white\",\"ticks\":\"\"}},\"ternary\":{\"bgcolor\":\"#E5ECF6\",\"aaxis\":{\"gridcolor\":\"white\",\"linecolor\":\"white\",\"ticks\":\"\"},\"baxis\":{\"gridcolor\":\"white\",\"linecolor\":\"white\",\"ticks\":\"\"},\"caxis\":{\"gridcolor\":\"white\",\"linecolor\":\"white\",\"ticks\":\"\"}},\"coloraxis\":{\"colorbar\":{\"outlinewidth\":0,\"ticks\":\"\"}},\"colorscale\":{\"sequential\":[[0.0,\"#0d0887\"],[0.1111111111111111,\"#46039f\"],[0.2222222222222222,\"#7201a8\"],[0.3333333333333333,\"#9c179e\"],[0.4444444444444444,\"#bd3786\"],[0.5555555555555556,\"#d8576b\"],[0.6666666666666666,\"#ed7953\"],[0.7777777777777778,\"#fb9f3a\"],[0.8888888888888888,\"#fdca26\"],[1.0,\"#f0f921\"]],\"sequentialminus\":[[0.0,\"#0d0887\"],[0.1111111111111111,\"#46039f\"],[0.2222222222222222,\"#7201a8\"],[0.3333333333333333,\"#9c179e\"],[0.4444444444444444,\"#bd3786\"],[0.5555555555555556,\"#d8576b\"],[0.6666666666666666,\"#ed7953\"],[0.7777777777777778,\"#fb9f3a\"],[0.8888888888888888,\"#fdca26\"],[1.0,\"#f0f921\"]],\"diverging\":[[0,\"#8e0152\"],[0.1,\"#c51b7d\"],[0.2,\"#de77ae\"],[0.3,\"#f1b6da\"],[0.4,\"#fde0ef\"],[0.5,\"#f7f7f7\"],[0.6,\"#e6f5d0\"],[0.7,\"#b8e186\"],[0.8,\"#7fbc41\"],[0.9,\"#4d9221\"],[1,\"#276419\"]]},\"xaxis\":{\"gridcolor\":\"white\",\"linecolor\":\"white\",\"ticks\":\"\",\"title\":{\"standoff\":15},\"zerolinecolor\":\"white\",\"automargin\":true,\"zerolinewidth\":2},\"yaxis\":{\"gridcolor\":\"white\",\"linecolor\":\"white\",\"ticks\":\"\",\"title\":{\"standoff\":15},\"zerolinecolor\":\"white\",\"automargin\":true,\"zerolinewidth\":2},\"scene\":{\"xaxis\":{\"backgroundcolor\":\"#E5ECF6\",\"gridcolor\":\"white\",\"linecolor\":\"white\",\"showbackground\":true,\"ticks\":\"\",\"zerolinecolor\":\"white\",\"gridwidth\":2},\"yaxis\":{\"backgroundcolor\":\"#E5ECF6\",\"gridcolor\":\"white\",\"linecolor\":\"white\",\"showbackground\":true,\"ticks\":\"\",\"zerolinecolor\":\"white\",\"gridwidth\":2},\"zaxis\":{\"backgroundcolor\":\"#E5ECF6\",\"gridcolor\":\"white\",\"linecolor\":\"white\",\"showbackground\":true,\"ticks\":\"\",\"zerolinecolor\":\"white\",\"gridwidth\":2}},\"shapedefaults\":{\"line\":{\"color\":\"#2a3f5f\"}},\"annotationdefaults\":{\"arrowcolor\":\"#2a3f5f\",\"arrowhead\":0,\"arrowwidth\":1},\"geo\":{\"bgcolor\":\"white\",\"landcolor\":\"#E5ECF6\",\"subunitcolor\":\"white\",\"showland\":true,\"showlakes\":true,\"lakecolor\":\"white\"},\"title\":{\"x\":0.05},\"mapbox\":{\"style\":\"light\"}}},\"xaxis\":{\"anchor\":\"y\",\"domain\":[0.0,1.0],\"title\":{\"text\":\"value\"}},\"yaxis\":{\"anchor\":\"x\",\"domain\":[0.0,1.0],\"title\":{\"text\":\"count\"}},\"legend\":{\"title\":{\"text\":\"variable\"},\"tracegroupgap\":0},\"margin\":{\"t\":60},\"barmode\":\"relative\"},                        {\"responsive\": true}                    ).then(function(){\n",
       "                            \n",
       "var gd = document.getElementById('653bcfeb-7114-43c9-930d-acf0c106c454');\n",
       "var x = new MutationObserver(function (mutations, observer) {{\n",
       "        var display = window.getComputedStyle(gd).display;\n",
       "        if (!display || display === 'none') {{\n",
       "            console.log([gd, 'removed!']);\n",
       "            Plotly.purge(gd);\n",
       "            observer.disconnect();\n",
       "        }}\n",
       "}});\n",
       "\n",
       "// Listen for the removal of the full notebook cells\n",
       "var notebookContainer = gd.closest('#notebook-container');\n",
       "if (notebookContainer) {{\n",
       "    x.observe(notebookContainer, {childList: true});\n",
       "}}\n",
       "\n",
       "// Listen for the clearing of the current output cell\n",
       "var outputEl = gd.closest('.output');\n",
       "if (outputEl) {{\n",
       "    x.observe(outputEl, {childList: true});\n",
       "}}\n",
       "\n",
       "                        })                };                });            </script>        </div>"
      ]
     },
     "metadata": {},
     "output_type": "display_data"
    }
   ],
   "source": [
    "px.histogram(temp.Test, nbins=100)"
   ]
  },
  {
   "cell_type": "code",
   "execution_count": null,
   "id": "e225bf21",
   "metadata": {},
   "outputs": [
    {
     "data": {
      "text/html": [
       "<div>\n",
       "<style scoped>\n",
       "    .dataframe tbody tr th:only-of-type {\n",
       "        vertical-align: middle;\n",
       "    }\n",
       "\n",
       "    .dataframe tbody tr th {\n",
       "        vertical-align: top;\n",
       "    }\n",
       "\n",
       "    .dataframe thead th {\n",
       "        text-align: right;\n",
       "    }\n",
       "</style>\n",
       "<table border=\"1\" class=\"dataframe\">\n",
       "  <thead>\n",
       "    <tr style=\"text-align: right;\">\n",
       "      <th></th>\n",
       "      <th>index</th>\n",
       "      <th>Year</th>\n",
       "      <th>Train</th>\n",
       "      <th>Test</th>\n",
       "      <th>Parent</th>\n",
       "    </tr>\n",
       "  </thead>\n",
       "  <tbody>\n",
       "    <tr>\n",
       "      <th>150</th>\n",
       "      <td>0</td>\n",
       "      <td>2014</td>\n",
       "      <td>9974</td>\n",
       "      <td>1603.0</td>\n",
       "      <td>PB80</td>\n",
       "    </tr>\n",
       "    <tr>\n",
       "      <th>151</th>\n",
       "      <td>1</td>\n",
       "      <td>2015</td>\n",
       "      <td>12965</td>\n",
       "      <td>245.0</td>\n",
       "      <td>PB80</td>\n",
       "    </tr>\n",
       "    <tr>\n",
       "      <th>152</th>\n",
       "      <td>2</td>\n",
       "      <td>2016</td>\n",
       "      <td>13708</td>\n",
       "      <td>52.0</td>\n",
       "      <td>PB80</td>\n",
       "    </tr>\n",
       "    <tr>\n",
       "      <th>153</th>\n",
       "      <td>3</td>\n",
       "      <td>2017</td>\n",
       "      <td>12063</td>\n",
       "      <td>58.0</td>\n",
       "      <td>PB80</td>\n",
       "    </tr>\n",
       "    <tr>\n",
       "      <th>154</th>\n",
       "      <td>4</td>\n",
       "      <td>2018</td>\n",
       "      <td>18741</td>\n",
       "      <td>NaN</td>\n",
       "      <td>PB80</td>\n",
       "    </tr>\n",
       "    <tr>\n",
       "      <th>155</th>\n",
       "      <td>5</td>\n",
       "      <td>2019</td>\n",
       "      <td>19193</td>\n",
       "      <td>NaN</td>\n",
       "      <td>PB80</td>\n",
       "    </tr>\n",
       "    <tr>\n",
       "      <th>156</th>\n",
       "      <td>6</td>\n",
       "      <td>2020</td>\n",
       "      <td>14669</td>\n",
       "      <td>35.0</td>\n",
       "      <td>PB80</td>\n",
       "    </tr>\n",
       "    <tr>\n",
       "      <th>157</th>\n",
       "      <td>7</td>\n",
       "      <td>2021</td>\n",
       "      <td>19427</td>\n",
       "      <td>34.0</td>\n",
       "      <td>PB80</td>\n",
       "    </tr>\n",
       "    <tr>\n",
       "      <th>158</th>\n",
       "      <td>8</td>\n",
       "      <td>2022</td>\n",
       "      <td>10290</td>\n",
       "      <td>NaN</td>\n",
       "      <td>PB80</td>\n",
       "    </tr>\n",
       "    <tr>\n",
       "      <th>159</th>\n",
       "      <td>9999</td>\n",
       "      <td></td>\n",
       "      <td>131030</td>\n",
       "      <td>2027.0</td>\n",
       "      <td>PB80</td>\n",
       "    </tr>\n",
       "    <tr>\n",
       "      <th>160</th>\n",
       "      <td>0</td>\n",
       "      <td>2014</td>\n",
       "      <td>11423</td>\n",
       "      <td>154.0</td>\n",
       "      <td>H95</td>\n",
       "    </tr>\n",
       "    <tr>\n",
       "      <th>161</th>\n",
       "      <td>1</td>\n",
       "      <td>2015</td>\n",
       "      <td>13055</td>\n",
       "      <td>155.0</td>\n",
       "      <td>H95</td>\n",
       "    </tr>\n",
       "    <tr>\n",
       "      <th>162</th>\n",
       "      <td>2</td>\n",
       "      <td>2016</td>\n",
       "      <td>13557</td>\n",
       "      <td>203.0</td>\n",
       "      <td>H95</td>\n",
       "    </tr>\n",
       "    <tr>\n",
       "      <th>163</th>\n",
       "      <td>3</td>\n",
       "      <td>2017</td>\n",
       "      <td>11982</td>\n",
       "      <td>139.0</td>\n",
       "      <td>H95</td>\n",
       "    </tr>\n",
       "    <tr>\n",
       "      <th>164</th>\n",
       "      <td>4</td>\n",
       "      <td>2018</td>\n",
       "      <td>18537</td>\n",
       "      <td>204.0</td>\n",
       "      <td>H95</td>\n",
       "    </tr>\n",
       "    <tr>\n",
       "      <th>165</th>\n",
       "      <td>5</td>\n",
       "      <td>2019</td>\n",
       "      <td>18983</td>\n",
       "      <td>210.0</td>\n",
       "      <td>H95</td>\n",
       "    </tr>\n",
       "    <tr>\n",
       "      <th>166</th>\n",
       "      <td>6</td>\n",
       "      <td>2020</td>\n",
       "      <td>14470</td>\n",
       "      <td>234.0</td>\n",
       "      <td>H95</td>\n",
       "    </tr>\n",
       "    <tr>\n",
       "      <th>167</th>\n",
       "      <td>7</td>\n",
       "      <td>2021</td>\n",
       "      <td>19160</td>\n",
       "      <td>301.0</td>\n",
       "      <td>H95</td>\n",
       "    </tr>\n",
       "    <tr>\n",
       "      <th>168</th>\n",
       "      <td>8</td>\n",
       "      <td>2022</td>\n",
       "      <td>10245</td>\n",
       "      <td>45.0</td>\n",
       "      <td>H95</td>\n",
       "    </tr>\n",
       "    <tr>\n",
       "      <th>169</th>\n",
       "      <td>9999</td>\n",
       "      <td></td>\n",
       "      <td>131412</td>\n",
       "      <td>1645.0</td>\n",
       "      <td>H95</td>\n",
       "    </tr>\n",
       "    <tr>\n",
       "      <th>170</th>\n",
       "      <td>0</td>\n",
       "      <td>2014</td>\n",
       "      <td>11444</td>\n",
       "      <td>133.0</td>\n",
       "      <td>OH43</td>\n",
       "    </tr>\n",
       "    <tr>\n",
       "      <th>171</th>\n",
       "      <td>1</td>\n",
       "      <td>2015</td>\n",
       "      <td>13019</td>\n",
       "      <td>191.0</td>\n",
       "      <td>OH43</td>\n",
       "    </tr>\n",
       "    <tr>\n",
       "      <th>172</th>\n",
       "      <td>2</td>\n",
       "      <td>2016</td>\n",
       "      <td>13607</td>\n",
       "      <td>153.0</td>\n",
       "      <td>OH43</td>\n",
       "    </tr>\n",
       "    <tr>\n",
       "      <th>173</th>\n",
       "      <td>3</td>\n",
       "      <td>2017</td>\n",
       "      <td>12054</td>\n",
       "      <td>67.0</td>\n",
       "      <td>OH43</td>\n",
       "    </tr>\n",
       "    <tr>\n",
       "      <th>174</th>\n",
       "      <td>4</td>\n",
       "      <td>2018</td>\n",
       "      <td>18508</td>\n",
       "      <td>233.0</td>\n",
       "      <td>OH43</td>\n",
       "    </tr>\n",
       "    <tr>\n",
       "      <th>175</th>\n",
       "      <td>5</td>\n",
       "      <td>2019</td>\n",
       "      <td>18975</td>\n",
       "      <td>218.0</td>\n",
       "      <td>OH43</td>\n",
       "    </tr>\n",
       "    <tr>\n",
       "      <th>176</th>\n",
       "      <td>6</td>\n",
       "      <td>2020</td>\n",
       "      <td>14489</td>\n",
       "      <td>215.0</td>\n",
       "      <td>OH43</td>\n",
       "    </tr>\n",
       "    <tr>\n",
       "      <th>177</th>\n",
       "      <td>7</td>\n",
       "      <td>2021</td>\n",
       "      <td>19155</td>\n",
       "      <td>306.0</td>\n",
       "      <td>OH43</td>\n",
       "    </tr>\n",
       "    <tr>\n",
       "      <th>178</th>\n",
       "      <td>8</td>\n",
       "      <td>2022</td>\n",
       "      <td>10222</td>\n",
       "      <td>68.0</td>\n",
       "      <td>OH43</td>\n",
       "    </tr>\n",
       "    <tr>\n",
       "      <th>179</th>\n",
       "      <td>9999</td>\n",
       "      <td></td>\n",
       "      <td>131473</td>\n",
       "      <td>1584.0</td>\n",
       "      <td>OH43</td>\n",
       "    </tr>\n",
       "    <tr>\n",
       "      <th>180</th>\n",
       "      <td>0</td>\n",
       "      <td>2014</td>\n",
       "      <td>11421</td>\n",
       "      <td>156.0</td>\n",
       "      <td>B37</td>\n",
       "    </tr>\n",
       "    <tr>\n",
       "      <th>181</th>\n",
       "      <td>1</td>\n",
       "      <td>2015</td>\n",
       "      <td>13060</td>\n",
       "      <td>150.0</td>\n",
       "      <td>B37</td>\n",
       "    </tr>\n",
       "    <tr>\n",
       "      <th>182</th>\n",
       "      <td>2</td>\n",
       "      <td>2016</td>\n",
       "      <td>13606</td>\n",
       "      <td>154.0</td>\n",
       "      <td>B37</td>\n",
       "    </tr>\n",
       "    <tr>\n",
       "      <th>183</th>\n",
       "      <td>3</td>\n",
       "      <td>2017</td>\n",
       "      <td>12061</td>\n",
       "      <td>60.0</td>\n",
       "      <td>B37</td>\n",
       "    </tr>\n",
       "    <tr>\n",
       "      <th>184</th>\n",
       "      <td>4</td>\n",
       "      <td>2018</td>\n",
       "      <td>18536</td>\n",
       "      <td>205.0</td>\n",
       "      <td>B37</td>\n",
       "    </tr>\n",
       "    <tr>\n",
       "      <th>185</th>\n",
       "      <td>5</td>\n",
       "      <td>2019</td>\n",
       "      <td>18932</td>\n",
       "      <td>261.0</td>\n",
       "      <td>B37</td>\n",
       "    </tr>\n",
       "    <tr>\n",
       "      <th>186</th>\n",
       "      <td>6</td>\n",
       "      <td>2020</td>\n",
       "      <td>14470</td>\n",
       "      <td>234.0</td>\n",
       "      <td>B37</td>\n",
       "    </tr>\n",
       "    <tr>\n",
       "      <th>187</th>\n",
       "      <td>7</td>\n",
       "      <td>2021</td>\n",
       "      <td>19156</td>\n",
       "      <td>305.0</td>\n",
       "      <td>B37</td>\n",
       "    </tr>\n",
       "    <tr>\n",
       "      <th>188</th>\n",
       "      <td>8</td>\n",
       "      <td>2022</td>\n",
       "      <td>10245</td>\n",
       "      <td>45.0</td>\n",
       "      <td>B37</td>\n",
       "    </tr>\n",
       "    <tr>\n",
       "      <th>189</th>\n",
       "      <td>9999</td>\n",
       "      <td></td>\n",
       "      <td>131487</td>\n",
       "      <td>1570.0</td>\n",
       "      <td>B37</td>\n",
       "    </tr>\n",
       "    <tr>\n",
       "      <th>190</th>\n",
       "      <td>0</td>\n",
       "      <td>2014</td>\n",
       "      <td>11495</td>\n",
       "      <td>82.0</td>\n",
       "      <td>B14A</td>\n",
       "    </tr>\n",
       "    <tr>\n",
       "      <th>191</th>\n",
       "      <td>1</td>\n",
       "      <td>2015</td>\n",
       "      <td>13068</td>\n",
       "      <td>142.0</td>\n",
       "      <td>B14A</td>\n",
       "    </tr>\n",
       "    <tr>\n",
       "      <th>192</th>\n",
       "      <td>2</td>\n",
       "      <td>2016</td>\n",
       "      <td>13604</td>\n",
       "      <td>156.0</td>\n",
       "      <td>B14A</td>\n",
       "    </tr>\n",
       "    <tr>\n",
       "      <th>193</th>\n",
       "      <td>3</td>\n",
       "      <td>2017</td>\n",
       "      <td>11965</td>\n",
       "      <td>156.0</td>\n",
       "      <td>B14A</td>\n",
       "    </tr>\n",
       "    <tr>\n",
       "      <th>194</th>\n",
       "      <td>4</td>\n",
       "      <td>2018</td>\n",
       "      <td>18528</td>\n",
       "      <td>213.0</td>\n",
       "      <td>B14A</td>\n",
       "    </tr>\n",
       "    <tr>\n",
       "      <th>195</th>\n",
       "      <td>5</td>\n",
       "      <td>2019</td>\n",
       "      <td>19034</td>\n",
       "      <td>159.0</td>\n",
       "      <td>B14A</td>\n",
       "    </tr>\n",
       "    <tr>\n",
       "      <th>196</th>\n",
       "      <td>6</td>\n",
       "      <td>2020</td>\n",
       "      <td>14468</td>\n",
       "      <td>236.0</td>\n",
       "      <td>B14A</td>\n",
       "    </tr>\n",
       "    <tr>\n",
       "      <th>197</th>\n",
       "      <td>7</td>\n",
       "      <td>2021</td>\n",
       "      <td>19166</td>\n",
       "      <td>295.0</td>\n",
       "      <td>B14A</td>\n",
       "    </tr>\n",
       "    <tr>\n",
       "      <th>198</th>\n",
       "      <td>8</td>\n",
       "      <td>2022</td>\n",
       "      <td>10246</td>\n",
       "      <td>44.0</td>\n",
       "      <td>B14A</td>\n",
       "    </tr>\n",
       "    <tr>\n",
       "      <th>199</th>\n",
       "      <td>9999</td>\n",
       "      <td></td>\n",
       "      <td>131574</td>\n",
       "      <td>1483.0</td>\n",
       "      <td>B14A</td>\n",
       "    </tr>\n",
       "    <tr>\n",
       "      <th>200</th>\n",
       "      <td>0</td>\n",
       "      <td>2014</td>\n",
       "      <td>11470</td>\n",
       "      <td>107.0</td>\n",
       "      <td>F42</td>\n",
       "    </tr>\n",
       "  </tbody>\n",
       "</table>\n",
       "</div>"
      ],
      "text/plain": [
       "     index  Year   Train    Test Parent\n",
       "150      0  2014    9974  1603.0   PB80\n",
       "151      1  2015   12965   245.0   PB80\n",
       "152      2  2016   13708    52.0   PB80\n",
       "153      3  2017   12063    58.0   PB80\n",
       "154      4  2018   18741     NaN   PB80\n",
       "155      5  2019   19193     NaN   PB80\n",
       "156      6  2020   14669    35.0   PB80\n",
       "157      7  2021   19427    34.0   PB80\n",
       "158      8  2022   10290     NaN   PB80\n",
       "159   9999        131030  2027.0   PB80\n",
       "160      0  2014   11423   154.0    H95\n",
       "161      1  2015   13055   155.0    H95\n",
       "162      2  2016   13557   203.0    H95\n",
       "163      3  2017   11982   139.0    H95\n",
       "164      4  2018   18537   204.0    H95\n",
       "165      5  2019   18983   210.0    H95\n",
       "166      6  2020   14470   234.0    H95\n",
       "167      7  2021   19160   301.0    H95\n",
       "168      8  2022   10245    45.0    H95\n",
       "169   9999        131412  1645.0    H95\n",
       "170      0  2014   11444   133.0   OH43\n",
       "171      1  2015   13019   191.0   OH43\n",
       "172      2  2016   13607   153.0   OH43\n",
       "173      3  2017   12054    67.0   OH43\n",
       "174      4  2018   18508   233.0   OH43\n",
       "175      5  2019   18975   218.0   OH43\n",
       "176      6  2020   14489   215.0   OH43\n",
       "177      7  2021   19155   306.0   OH43\n",
       "178      8  2022   10222    68.0   OH43\n",
       "179   9999        131473  1584.0   OH43\n",
       "180      0  2014   11421   156.0    B37\n",
       "181      1  2015   13060   150.0    B37\n",
       "182      2  2016   13606   154.0    B37\n",
       "183      3  2017   12061    60.0    B37\n",
       "184      4  2018   18536   205.0    B37\n",
       "185      5  2019   18932   261.0    B37\n",
       "186      6  2020   14470   234.0    B37\n",
       "187      7  2021   19156   305.0    B37\n",
       "188      8  2022   10245    45.0    B37\n",
       "189   9999        131487  1570.0    B37\n",
       "190      0  2014   11495    82.0   B14A\n",
       "191      1  2015   13068   142.0   B14A\n",
       "192      2  2016   13604   156.0   B14A\n",
       "193      3  2017   11965   156.0   B14A\n",
       "194      4  2018   18528   213.0   B14A\n",
       "195      5  2019   19034   159.0   B14A\n",
       "196      6  2020   14468   236.0   B14A\n",
       "197      7  2021   19166   295.0   B14A\n",
       "198      8  2022   10246    44.0   B14A\n",
       "199   9999        131574  1483.0   B14A\n",
       "200      0  2014   11470   107.0    F42"
      ]
     },
     "execution_count": null,
     "metadata": {},
     "output_type": "execute_result"
    }
   ],
   "source": [
    "pd.concat(temp_list).reset_index().loc[150:200, ]"
   ]
  },
  {
   "cell_type": "code",
   "execution_count": null,
   "id": "3b400f88",
   "metadata": {},
   "outputs": [
    {
     "data": {
      "text/html": [
       "<div>\n",
       "<style scoped>\n",
       "    .dataframe tbody tr th:only-of-type {\n",
       "        vertical-align: middle;\n",
       "    }\n",
       "\n",
       "    .dataframe tbody tr th {\n",
       "        vertical-align: top;\n",
       "    }\n",
       "\n",
       "    .dataframe thead th {\n",
       "        text-align: right;\n",
       "    }\n",
       "</style>\n",
       "<table border=\"1\" class=\"dataframe\">\n",
       "  <thead>\n",
       "    <tr style=\"text-align: right;\">\n",
       "      <th></th>\n",
       "      <th>Env</th>\n",
       "      <th>Year</th>\n",
       "      <th>Hybrid</th>\n",
       "      <th>Replicate</th>\n",
       "      <th>Block</th>\n",
       "      <th>Plot</th>\n",
       "      <th>Phno_Idx</th>\n",
       "      <th>Env_Idx</th>\n",
       "      <th>Geno_Idx</th>\n",
       "      <th>Yield_Mg_ha</th>\n",
       "      <th>...</th>\n",
       "      <th>Pollen_DAP_days</th>\n",
       "      <th>Silk_DAP_days</th>\n",
       "      <th>Plant_Height_cm</th>\n",
       "      <th>Ear_Height_cm</th>\n",
       "      <th>Root_Lodging_plants</th>\n",
       "      <th>Stalk_Lodging_plants</th>\n",
       "      <th>Grain_Moisture</th>\n",
       "      <th>Twt_kg_m3</th>\n",
       "      <th>F</th>\n",
       "      <th>M</th>\n",
       "    </tr>\n",
       "  </thead>\n",
       "  <tbody>\n",
       "    <tr>\n",
       "      <th>0</th>\n",
       "      <td>DEH1_2014</td>\n",
       "      <td>2014</td>\n",
       "      <td>M0088/LH185</td>\n",
       "      <td>1.0</td>\n",
       "      <td>1.0</td>\n",
       "      <td>1.0</td>\n",
       "      <td>0</td>\n",
       "      <td>0</td>\n",
       "      <td>0</td>\n",
       "      <td>5.721725</td>\n",
       "      <td>...</td>\n",
       "      <td>63.0</td>\n",
       "      <td>67.0</td>\n",
       "      <td>213.0</td>\n",
       "      <td>79.0</td>\n",
       "      <td>0.0</td>\n",
       "      <td>0.0</td>\n",
       "      <td>20.8</td>\n",
       "      <td>706.664693</td>\n",
       "      <td>M0088</td>\n",
       "      <td>LH185</td>\n",
       "    </tr>\n",
       "    <tr>\n",
       "      <th>1</th>\n",
       "      <td>DEH1_2014</td>\n",
       "      <td>2014</td>\n",
       "      <td>M0143/LH185</td>\n",
       "      <td>1.0</td>\n",
       "      <td>1.0</td>\n",
       "      <td>2.0</td>\n",
       "      <td>1</td>\n",
       "      <td>0</td>\n",
       "      <td>1</td>\n",
       "      <td>11.338246</td>\n",
       "      <td>...</td>\n",
       "      <td>61.0</td>\n",
       "      <td>63.0</td>\n",
       "      <td>286.0</td>\n",
       "      <td>172.0</td>\n",
       "      <td>0.0</td>\n",
       "      <td>0.0</td>\n",
       "      <td>25.8</td>\n",
       "      <td>693.792841</td>\n",
       "      <td>M0143</td>\n",
       "      <td>LH185</td>\n",
       "    </tr>\n",
       "    <tr>\n",
       "      <th>2</th>\n",
       "      <td>DEH1_2014</td>\n",
       "      <td>2014</td>\n",
       "      <td>M0003/LH185</td>\n",
       "      <td>1.0</td>\n",
       "      <td>1.0</td>\n",
       "      <td>3.0</td>\n",
       "      <td>2</td>\n",
       "      <td>0</td>\n",
       "      <td>2</td>\n",
       "      <td>6.540810</td>\n",
       "      <td>...</td>\n",
       "      <td>63.0</td>\n",
       "      <td>65.0</td>\n",
       "      <td>239.0</td>\n",
       "      <td>92.0</td>\n",
       "      <td>0.0</td>\n",
       "      <td>4.0</td>\n",
       "      <td>20.8</td>\n",
       "      <td>698.941582</td>\n",
       "      <td>M0003</td>\n",
       "      <td>LH185</td>\n",
       "    </tr>\n",
       "    <tr>\n",
       "      <th>3</th>\n",
       "      <td>DEH1_2014</td>\n",
       "      <td>2014</td>\n",
       "      <td>M0035/LH185</td>\n",
       "      <td>1.0</td>\n",
       "      <td>1.0</td>\n",
       "      <td>4.0</td>\n",
       "      <td>3</td>\n",
       "      <td>0</td>\n",
       "      <td>3</td>\n",
       "      <td>10.366857</td>\n",
       "      <td>...</td>\n",
       "      <td>61.0</td>\n",
       "      <td>63.0</td>\n",
       "      <td>242.0</td>\n",
       "      <td>118.0</td>\n",
       "      <td>0.0</td>\n",
       "      <td>0.0</td>\n",
       "      <td>23.7</td>\n",
       "      <td>711.813434</td>\n",
       "      <td>M0035</td>\n",
       "      <td>LH185</td>\n",
       "    </tr>\n",
       "    <tr>\n",
       "      <th>4</th>\n",
       "      <td>DEH1_2014</td>\n",
       "      <td>2014</td>\n",
       "      <td>M0052/LH185</td>\n",
       "      <td>1.0</td>\n",
       "      <td>1.0</td>\n",
       "      <td>5.0</td>\n",
       "      <td>4</td>\n",
       "      <td>0</td>\n",
       "      <td>4</td>\n",
       "      <td>10.908814</td>\n",
       "      <td>...</td>\n",
       "      <td>63.0</td>\n",
       "      <td>65.0</td>\n",
       "      <td>211.0</td>\n",
       "      <td>92.0</td>\n",
       "      <td>0.0</td>\n",
       "      <td>0.0</td>\n",
       "      <td>19.4</td>\n",
       "      <td>743.993065</td>\n",
       "      <td>M0052</td>\n",
       "      <td>LH185</td>\n",
       "    </tr>\n",
       "    <tr>\n",
       "      <th>...</th>\n",
       "      <td>...</td>\n",
       "      <td>...</td>\n",
       "      <td>...</td>\n",
       "      <td>...</td>\n",
       "      <td>...</td>\n",
       "      <td>...</td>\n",
       "      <td>...</td>\n",
       "      <td>...</td>\n",
       "      <td>...</td>\n",
       "      <td>...</td>\n",
       "      <td>...</td>\n",
       "      <td>...</td>\n",
       "      <td>...</td>\n",
       "      <td>...</td>\n",
       "      <td>...</td>\n",
       "      <td>...</td>\n",
       "      <td>...</td>\n",
       "      <td>...</td>\n",
       "      <td>...</td>\n",
       "      <td>...</td>\n",
       "      <td>...</td>\n",
       "    </tr>\n",
       "    <tr>\n",
       "      <th>133052</th>\n",
       "      <td>WIH3_2022</td>\n",
       "      <td>2022</td>\n",
       "      <td>W10010_0337/LH244</td>\n",
       "      <td>-999.0</td>\n",
       "      <td>-999.0</td>\n",
       "      <td>-999.0</td>\n",
       "      <td>133052</td>\n",
       "      <td>235</td>\n",
       "      <td>4871</td>\n",
       "      <td>11.975018</td>\n",
       "      <td>...</td>\n",
       "      <td>NaN</td>\n",
       "      <td>NaN</td>\n",
       "      <td>NaN</td>\n",
       "      <td>NaN</td>\n",
       "      <td>NaN</td>\n",
       "      <td>NaN</td>\n",
       "      <td>NaN</td>\n",
       "      <td>NaN</td>\n",
       "      <td>W10010_0337</td>\n",
       "      <td>LH244</td>\n",
       "    </tr>\n",
       "    <tr>\n",
       "      <th>133053</th>\n",
       "      <td>WIH3_2022</td>\n",
       "      <td>2022</td>\n",
       "      <td>W10010_0346/LH244</td>\n",
       "      <td>-999.0</td>\n",
       "      <td>-999.0</td>\n",
       "      <td>-999.0</td>\n",
       "      <td>133053</td>\n",
       "      <td>235</td>\n",
       "      <td>4872</td>\n",
       "      <td>12.971193</td>\n",
       "      <td>...</td>\n",
       "      <td>NaN</td>\n",
       "      <td>NaN</td>\n",
       "      <td>NaN</td>\n",
       "      <td>NaN</td>\n",
       "      <td>NaN</td>\n",
       "      <td>NaN</td>\n",
       "      <td>NaN</td>\n",
       "      <td>NaN</td>\n",
       "      <td>W10010_0346</td>\n",
       "      <td>LH244</td>\n",
       "    </tr>\n",
       "    <tr>\n",
       "      <th>133054</th>\n",
       "      <td>WIH3_2022</td>\n",
       "      <td>2022</td>\n",
       "      <td>W10010_0358/LH244</td>\n",
       "      <td>-999.0</td>\n",
       "      <td>-999.0</td>\n",
       "      <td>-999.0</td>\n",
       "      <td>133054</td>\n",
       "      <td>235</td>\n",
       "      <td>4873</td>\n",
       "      <td>13.499769</td>\n",
       "      <td>...</td>\n",
       "      <td>NaN</td>\n",
       "      <td>NaN</td>\n",
       "      <td>NaN</td>\n",
       "      <td>NaN</td>\n",
       "      <td>NaN</td>\n",
       "      <td>NaN</td>\n",
       "      <td>NaN</td>\n",
       "      <td>NaN</td>\n",
       "      <td>W10010_0358</td>\n",
       "      <td>LH244</td>\n",
       "    </tr>\n",
       "    <tr>\n",
       "      <th>133055</th>\n",
       "      <td>WIH3_2022</td>\n",
       "      <td>2022</td>\n",
       "      <td>W10010_0381/LH244</td>\n",
       "      <td>-999.0</td>\n",
       "      <td>-999.0</td>\n",
       "      <td>-999.0</td>\n",
       "      <td>133055</td>\n",
       "      <td>235</td>\n",
       "      <td>4875</td>\n",
       "      <td>10.831640</td>\n",
       "      <td>...</td>\n",
       "      <td>NaN</td>\n",
       "      <td>NaN</td>\n",
       "      <td>NaN</td>\n",
       "      <td>NaN</td>\n",
       "      <td>NaN</td>\n",
       "      <td>NaN</td>\n",
       "      <td>NaN</td>\n",
       "      <td>NaN</td>\n",
       "      <td>W10010_0381</td>\n",
       "      <td>LH244</td>\n",
       "    </tr>\n",
       "    <tr>\n",
       "      <th>133056</th>\n",
       "      <td>WIH3_2022</td>\n",
       "      <td>2022</td>\n",
       "      <td>W10010_0452/LH244</td>\n",
       "      <td>-999.0</td>\n",
       "      <td>-999.0</td>\n",
       "      <td>-999.0</td>\n",
       "      <td>133056</td>\n",
       "      <td>235</td>\n",
       "      <td>4897</td>\n",
       "      <td>9.526524</td>\n",
       "      <td>...</td>\n",
       "      <td>NaN</td>\n",
       "      <td>NaN</td>\n",
       "      <td>NaN</td>\n",
       "      <td>NaN</td>\n",
       "      <td>NaN</td>\n",
       "      <td>NaN</td>\n",
       "      <td>NaN</td>\n",
       "      <td>NaN</td>\n",
       "      <td>W10010_0452</td>\n",
       "      <td>LH244</td>\n",
       "    </tr>\n",
       "  </tbody>\n",
       "</table>\n",
       "<p>133057 rows × 21 columns</p>\n",
       "</div>"
      ],
      "text/plain": [
       "              Env  Year             Hybrid  Replicate  Block   Plot  Phno_Idx  \\\n",
       "0       DEH1_2014  2014        M0088/LH185        1.0    1.0    1.0         0   \n",
       "1       DEH1_2014  2014        M0143/LH185        1.0    1.0    2.0         1   \n",
       "2       DEH1_2014  2014        M0003/LH185        1.0    1.0    3.0         2   \n",
       "3       DEH1_2014  2014        M0035/LH185        1.0    1.0    4.0         3   \n",
       "4       DEH1_2014  2014        M0052/LH185        1.0    1.0    5.0         4   \n",
       "...           ...   ...                ...        ...    ...    ...       ...   \n",
       "133052  WIH3_2022  2022  W10010_0337/LH244     -999.0 -999.0 -999.0    133052   \n",
       "133053  WIH3_2022  2022  W10010_0346/LH244     -999.0 -999.0 -999.0    133053   \n",
       "133054  WIH3_2022  2022  W10010_0358/LH244     -999.0 -999.0 -999.0    133054   \n",
       "133055  WIH3_2022  2022  W10010_0381/LH244     -999.0 -999.0 -999.0    133055   \n",
       "133056  WIH3_2022  2022  W10010_0452/LH244     -999.0 -999.0 -999.0    133056   \n",
       "\n",
       "        Env_Idx  Geno_Idx  Yield_Mg_ha  ...  Pollen_DAP_days  Silk_DAP_days  \\\n",
       "0             0         0     5.721725  ...             63.0           67.0   \n",
       "1             0         1    11.338246  ...             61.0           63.0   \n",
       "2             0         2     6.540810  ...             63.0           65.0   \n",
       "3             0         3    10.366857  ...             61.0           63.0   \n",
       "4             0         4    10.908814  ...             63.0           65.0   \n",
       "...         ...       ...          ...  ...              ...            ...   \n",
       "133052      235      4871    11.975018  ...              NaN            NaN   \n",
       "133053      235      4872    12.971193  ...              NaN            NaN   \n",
       "133054      235      4873    13.499769  ...              NaN            NaN   \n",
       "133055      235      4875    10.831640  ...              NaN            NaN   \n",
       "133056      235      4897     9.526524  ...              NaN            NaN   \n",
       "\n",
       "        Plant_Height_cm  Ear_Height_cm  Root_Lodging_plants  \\\n",
       "0                 213.0           79.0                  0.0   \n",
       "1                 286.0          172.0                  0.0   \n",
       "2                 239.0           92.0                  0.0   \n",
       "3                 242.0          118.0                  0.0   \n",
       "4                 211.0           92.0                  0.0   \n",
       "...                 ...            ...                  ...   \n",
       "133052              NaN            NaN                  NaN   \n",
       "133053              NaN            NaN                  NaN   \n",
       "133054              NaN            NaN                  NaN   \n",
       "133055              NaN            NaN                  NaN   \n",
       "133056              NaN            NaN                  NaN   \n",
       "\n",
       "        Stalk_Lodging_plants  Grain_Moisture   Twt_kg_m3            F      M  \n",
       "0                        0.0            20.8  706.664693        M0088  LH185  \n",
       "1                        0.0            25.8  693.792841        M0143  LH185  \n",
       "2                        4.0            20.8  698.941582        M0003  LH185  \n",
       "3                        0.0            23.7  711.813434        M0035  LH185  \n",
       "4                        0.0            19.4  743.993065        M0052  LH185  \n",
       "...                      ...             ...         ...          ...    ...  \n",
       "133052                   NaN             NaN         NaN  W10010_0337  LH244  \n",
       "133053                   NaN             NaN         NaN  W10010_0346  LH244  \n",
       "133054                   NaN             NaN         NaN  W10010_0358  LH244  \n",
       "133055                   NaN             NaN         NaN  W10010_0381  LH244  \n",
       "133056                   NaN             NaN         NaN  W10010_0452  LH244  \n",
       "\n",
       "[133057 rows x 21 columns]"
      ]
     },
     "execution_count": null,
     "metadata": {},
     "output_type": "execute_result"
    }
   ],
   "source": [
    "phno"
   ]
  },
  {
   "cell_type": "code",
   "execution_count": null,
   "id": "709241eb",
   "metadata": {},
   "outputs": [
    {
     "data": {
      "text/html": [
       "<div>\n",
       "<style scoped>\n",
       "    .dataframe tbody tr th:only-of-type {\n",
       "        vertical-align: middle;\n",
       "    }\n",
       "\n",
       "    .dataframe tbody tr th {\n",
       "        vertical-align: top;\n",
       "    }\n",
       "\n",
       "    .dataframe thead th {\n",
       "        text-align: right;\n",
       "    }\n",
       "</style>\n",
       "<table border=\"1\" class=\"dataframe\">\n",
       "  <thead>\n",
       "    <tr style=\"text-align: right;\">\n",
       "      <th></th>\n",
       "      <th>parent</th>\n",
       "      <th>n</th>\n",
       "    </tr>\n",
       "  </thead>\n",
       "  <tbody>\n",
       "    <tr>\n",
       "      <th>0</th>\n",
       "      <td>LH195</td>\n",
       "      <td>30351</td>\n",
       "    </tr>\n",
       "    <tr>\n",
       "      <th>1</th>\n",
       "      <td>PHZ51</td>\n",
       "      <td>18607</td>\n",
       "    </tr>\n",
       "    <tr>\n",
       "      <th>2</th>\n",
       "      <td>PHT69</td>\n",
       "      <td>12078</td>\n",
       "    </tr>\n",
       "    <tr>\n",
       "      <th>3</th>\n",
       "      <td>LH244</td>\n",
       "      <td>9855</td>\n",
       "    </tr>\n",
       "    <tr>\n",
       "      <th>4</th>\n",
       "      <td>PHP02</td>\n",
       "      <td>9650</td>\n",
       "    </tr>\n",
       "    <tr>\n",
       "      <th>...</th>\n",
       "      <td>...</td>\n",
       "      <td>...</td>\n",
       "    </tr>\n",
       "    <tr>\n",
       "      <th>2198</th>\n",
       "      <td>GEMN-0097_PHN46_0012</td>\n",
       "      <td>1</td>\n",
       "    </tr>\n",
       "    <tr>\n",
       "      <th>2199</th>\n",
       "      <td>GEMN-0225_PHK76_0025</td>\n",
       "      <td>1</td>\n",
       "    </tr>\n",
       "    <tr>\n",
       "      <th>2200</th>\n",
       "      <td>Z022E0082</td>\n",
       "      <td>1</td>\n",
       "    </tr>\n",
       "    <tr>\n",
       "      <th>2201</th>\n",
       "      <td>PHJ31</td>\n",
       "      <td>1</td>\n",
       "    </tr>\n",
       "    <tr>\n",
       "      <th>2202</th>\n",
       "      <td>MO44_LH145_0047</td>\n",
       "      <td>1</td>\n",
       "    </tr>\n",
       "  </tbody>\n",
       "</table>\n",
       "<p>2203 rows × 2 columns</p>\n",
       "</div>"
      ],
      "text/plain": [
       "                    parent      n\n",
       "0                    LH195  30351\n",
       "1                    PHZ51  18607\n",
       "2                    PHT69  12078\n",
       "3                    LH244   9855\n",
       "4                    PHP02   9650\n",
       "...                    ...    ...\n",
       "2198  GEMN-0097_PHN46_0012      1\n",
       "2199  GEMN-0225_PHK76_0025      1\n",
       "2200             Z022E0082      1\n",
       "2201                 PHJ31      1\n",
       "2202       MO44_LH145_0047      1\n",
       "\n",
       "[2203 rows x 2 columns]"
      ]
     },
     "execution_count": null,
     "metadata": {},
     "output_type": "execute_result"
    }
   ],
   "source": [
    "parents"
   ]
  }
 ],
 "metadata": {
  "kernelspec": {
   "display_name": "python3",
   "language": "python",
   "name": "python3"
  }
 },
 "nbformat": 4,
 "nbformat_minor": 5
}
